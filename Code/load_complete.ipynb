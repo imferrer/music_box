{
 "cells": [
  {
   "cell_type": "code",
   "execution_count": null,
   "id": "5ea25f89-61fe-46d0-9108-9a90fb567346",
   "metadata": {},
   "outputs": [],
   "source": []
  },
  {
   "cell_type": "markdown",
   "id": "3c6c9e78-3726-4617-9282-e33f18a3693d",
   "metadata": {},
   "source": [
    "#### Loading audio files"
   ]
  },
  {
   "cell_type": "code",
   "execution_count": 1,
   "id": "d4b522c4-adf8-4d33-ae0e-7abeb747ae82",
   "metadata": {},
   "outputs": [],
   "source": [
    "# loading data from 3 folders\n",
    "# training: 5841 audio files\n",
    "# validation: 3494 audio files\n",
    "# test: 12236 audio files\n",
    "# loading data: from '.wav' audio file to audio array (65536,) float32\n",
    "# collecting the audio arrays into 3 list the length of the number of audio files"
   ]
  },
  {
   "cell_type": "code",
   "execution_count": 17,
   "id": "66496151-3e70-485d-87f0-f36753f91fad",
   "metadata": {},
   "outputs": [],
   "source": [
    "filename_pre = \"Medley-solos-DB\""
   ]
  },
  {
   "cell_type": "code",
   "execution_count": 140,
   "id": "cb2da1b7-6c15-4944-8d1e-4522334d0998",
   "metadata": {
    "tags": []
   },
   "outputs": [],
   "source": [
    "folderpath = \"../../../../../../documents/data/audio/medley/training/\"\n",
    "array_t_train=[]\n",
    "for i in range(len(df_train)):\n",
    "    filepath = folderpath+filename_pre+'_'+df_train['subset'][i]+'-'+str(df_train['instrument_id'][i])+'_'+df_train['uuid4'][i]+'.wav'\n",
    "    #array_1, sr = librosa.load(filepath)\n",
    "    array_t_train.append(array_1)"
   ]
  },
  {
   "cell_type": "code",
   "execution_count": 141,
   "id": "1d64af47-0335-4264-be28-0f213e6991d4",
   "metadata": {
    "tags": []
   },
   "outputs": [],
   "source": [
    "folderpath = \"../../../../../../documents/data/audio/medley/validation/\"\n",
    "array_t_val=[]\n",
    "for i in range(len(df_val)):\n",
    "    filepath = folderpath+filename_pre+'_'+df_val['subset'][i]+'-'+str(df_val['instrument_id'][i])+'_'+df_val['uuid4'][i]+'.wav'\n",
    "    #array_1, sr = librosa.load(filepath)\n",
    "    array_t_val.append(array_1)"
   ]
  },
  {
   "cell_type": "code",
   "execution_count": 142,
   "id": "aec5ad9f-23f7-4131-9fd9-03ed2c9ff208",
   "metadata": {
    "tags": []
   },
   "outputs": [],
   "source": [
    "folderpath = \"../../../../../../documents/data/audio/medley/test/\"\n",
    "array_t_test=[]\n",
    "for i in range(len(df_test)):\n",
    "    filepath = folderpath+filename_pre+'_'+df_test['subset'][i]+'-'+str(df_test['instrument_id'][i])+'_'+df_test['uuid4'][i]+'.wav'\n",
    "    #array_1, sr = librosa.load(filepath)\n",
    "    array_t_test.append(array_1)"
   ]
  },
  {
   "cell_type": "code",
   "execution_count": 143,
   "id": "f26bad46-1677-457e-a7ad-8c27c369c2c1",
   "metadata": {},
   "outputs": [],
   "source": [
    "# proof that the array lists are correct and save them as csv"
   ]
  },
  {
   "cell_type": "code",
   "execution_count": 156,
   "id": "03158de3-56c2-4fe4-8b5d-da833d849a43",
   "metadata": {},
   "outputs": [
    {
     "data": {
      "text/plain": [
       "5841"
      ]
     },
     "execution_count": 156,
     "metadata": {},
     "output_type": "execute_result"
    }
   ],
   "source": [
    "len(array_t_train)"
   ]
  },
  {
   "cell_type": "code",
   "execution_count": 157,
   "id": "aca53e3a-bcc0-43d3-aee4-13f0975db453",
   "metadata": {},
   "outputs": [
    {
     "data": {
      "text/plain": [
       "3494"
      ]
     },
     "execution_count": 157,
     "metadata": {},
     "output_type": "execute_result"
    }
   ],
   "source": [
    "len(array_t_val)"
   ]
  },
  {
   "cell_type": "code",
   "execution_count": 158,
   "id": "f232101f-26d5-4cdb-bfcc-15426fd7ac46",
   "metadata": {},
   "outputs": [
    {
     "data": {
      "text/plain": [
       "12236"
      ]
     },
     "execution_count": 158,
     "metadata": {},
     "output_type": "execute_result"
    }
   ],
   "source": [
    "len(array_t_test)"
   ]
  }
 ],
 "metadata": {
  "kernelspec": {
   "display_name": "tensorflow_env",
   "language": "python",
   "name": "tensorflow_env"
  },
  "language_info": {
   "codemirror_mode": {
    "name": "ipython",
    "version": 3
   },
   "file_extension": ".py",
   "mimetype": "text/x-python",
   "name": "python",
   "nbconvert_exporter": "python",
   "pygments_lexer": "ipython3",
   "version": "3.6.13"
  }
 },
 "nbformat": 4,
 "nbformat_minor": 5
}
