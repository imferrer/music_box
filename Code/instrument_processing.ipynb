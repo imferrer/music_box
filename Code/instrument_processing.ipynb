{
 "cells": [
  {
   "cell_type": "code",
   "execution_count": 6,
   "id": "656386bb-6a78-4ca5-8d7c-d1e656cd89cc",
   "metadata": {},
   "outputs": [],
   "source": [
    "import os\n",
    "import librosa\n",
    "import librosa.display\n",
    "import IPython.display as ipd\n",
    "\n",
    "import pandas as pd\n",
    "import numpy as np\n",
    "import matplotlib.pyplot as plt"
   ]
  },
  {
   "cell_type": "markdown",
   "id": "bb86f635-5fc8-419b-93f6-6aea4c36e26a",
   "metadata": {},
   "source": [
    "#### The Medley Instruments Data Set"
   ]
  },
  {
   "cell_type": "code",
   "execution_count": 3,
   "id": "9fdc84f0-8a2b-4ee1-b750-7157e5e98027",
   "metadata": {},
   "outputs": [],
   "source": [
    "df = pd.read_csv('~/documents/data/audio/medley/csv/Medley-solos-DB_metadata.csv')"
   ]
  },
  {
   "cell_type": "code",
   "execution_count": 4,
   "id": "092df964-70fe-4949-8a1e-732912cb7e1b",
   "metadata": {},
   "outputs": [
    {
     "data": {
      "text/html": [
       "<div>\n",
       "<style scoped>\n",
       "    .dataframe tbody tr th:only-of-type {\n",
       "        vertical-align: middle;\n",
       "    }\n",
       "\n",
       "    .dataframe tbody tr th {\n",
       "        vertical-align: top;\n",
       "    }\n",
       "\n",
       "    .dataframe thead th {\n",
       "        text-align: right;\n",
       "    }\n",
       "</style>\n",
       "<table border=\"1\" class=\"dataframe\">\n",
       "  <thead>\n",
       "    <tr style=\"text-align: right;\">\n",
       "      <th></th>\n",
       "      <th>subset</th>\n",
       "      <th>instrument</th>\n",
       "      <th>instrument_id</th>\n",
       "      <th>song_id</th>\n",
       "      <th>uuid4</th>\n",
       "    </tr>\n",
       "  </thead>\n",
       "  <tbody>\n",
       "    <tr>\n",
       "      <th>0</th>\n",
       "      <td>test</td>\n",
       "      <td>clarinet</td>\n",
       "      <td>0</td>\n",
       "      <td>0</td>\n",
       "      <td>0e4371ac-1c6a-51ab-fdb7-f8abd5fbf1a3</td>\n",
       "    </tr>\n",
       "    <tr>\n",
       "      <th>1</th>\n",
       "      <td>test</td>\n",
       "      <td>clarinet</td>\n",
       "      <td>0</td>\n",
       "      <td>0</td>\n",
       "      <td>33383119-fd64-59c1-f596-d1a23e8a0eff</td>\n",
       "    </tr>\n",
       "    <tr>\n",
       "      <th>2</th>\n",
       "      <td>test</td>\n",
       "      <td>clarinet</td>\n",
       "      <td>0</td>\n",
       "      <td>0</td>\n",
       "      <td>b2b7a288-e169-5642-fced-b509c06b11fc</td>\n",
       "    </tr>\n",
       "    <tr>\n",
       "      <th>3</th>\n",
       "      <td>test</td>\n",
       "      <td>clarinet</td>\n",
       "      <td>0</td>\n",
       "      <td>0</td>\n",
       "      <td>151b6ee4-313a-58d9-fbcb-bab73e0d426b</td>\n",
       "    </tr>\n",
       "    <tr>\n",
       "      <th>4</th>\n",
       "      <td>test</td>\n",
       "      <td>clarinet</td>\n",
       "      <td>0</td>\n",
       "      <td>0</td>\n",
       "      <td>b43999d1-9b5e-557f-f9bc-1b3759659858</td>\n",
       "    </tr>\n",
       "    <tr>\n",
       "      <th>...</th>\n",
       "      <td>...</td>\n",
       "      <td>...</td>\n",
       "      <td>...</td>\n",
       "      <td>...</td>\n",
       "      <td>...</td>\n",
       "    </tr>\n",
       "    <tr>\n",
       "      <th>21566</th>\n",
       "      <td>validation</td>\n",
       "      <td>violin</td>\n",
       "      <td>7</td>\n",
       "      <td>226</td>\n",
       "      <td>fe4e8e98-6e0f-5a31-f446-99c10e0ac485</td>\n",
       "    </tr>\n",
       "    <tr>\n",
       "      <th>21567</th>\n",
       "      <td>validation</td>\n",
       "      <td>violin</td>\n",
       "      <td>7</td>\n",
       "      <td>226</td>\n",
       "      <td>aa606c78-9ee5-507f-f7e9-67c3530faf0f</td>\n",
       "    </tr>\n",
       "    <tr>\n",
       "      <th>21568</th>\n",
       "      <td>validation</td>\n",
       "      <td>violin</td>\n",
       "      <td>7</td>\n",
       "      <td>226</td>\n",
       "      <td>05e15c0a-d530-5f3e-fa82-58c55fa44993</td>\n",
       "    </tr>\n",
       "    <tr>\n",
       "      <th>21569</th>\n",
       "      <td>validation</td>\n",
       "      <td>violin</td>\n",
       "      <td>7</td>\n",
       "      <td>226</td>\n",
       "      <td>2dd485de-471d-5d8b-fe92-ef957dac021c</td>\n",
       "    </tr>\n",
       "    <tr>\n",
       "      <th>21570</th>\n",
       "      <td>validation</td>\n",
       "      <td>violin</td>\n",
       "      <td>7</td>\n",
       "      <td>226</td>\n",
       "      <td>c407e2c7-5612-5f30-f7ac-4ae3f0aea125</td>\n",
       "    </tr>\n",
       "  </tbody>\n",
       "</table>\n",
       "<p>21571 rows × 5 columns</p>\n",
       "</div>"
      ],
      "text/plain": [
       "           subset instrument  instrument_id  song_id  \\\n",
       "0            test   clarinet              0        0   \n",
       "1            test   clarinet              0        0   \n",
       "2            test   clarinet              0        0   \n",
       "3            test   clarinet              0        0   \n",
       "4            test   clarinet              0        0   \n",
       "...           ...        ...            ...      ...   \n",
       "21566  validation     violin              7      226   \n",
       "21567  validation     violin              7      226   \n",
       "21568  validation     violin              7      226   \n",
       "21569  validation     violin              7      226   \n",
       "21570  validation     violin              7      226   \n",
       "\n",
       "                                      uuid4  \n",
       "0      0e4371ac-1c6a-51ab-fdb7-f8abd5fbf1a3  \n",
       "1      33383119-fd64-59c1-f596-d1a23e8a0eff  \n",
       "2      b2b7a288-e169-5642-fced-b509c06b11fc  \n",
       "3      151b6ee4-313a-58d9-fbcb-bab73e0d426b  \n",
       "4      b43999d1-9b5e-557f-f9bc-1b3759659858  \n",
       "...                                     ...  \n",
       "21566  fe4e8e98-6e0f-5a31-f446-99c10e0ac485  \n",
       "21567  aa606c78-9ee5-507f-f7e9-67c3530faf0f  \n",
       "21568  05e15c0a-d530-5f3e-fa82-58c55fa44993  \n",
       "21569  2dd485de-471d-5d8b-fe92-ef957dac021c  \n",
       "21570  c407e2c7-5612-5f30-f7ac-4ae3f0aea125  \n",
       "\n",
       "[21571 rows x 5 columns]"
      ]
     },
     "execution_count": 4,
     "metadata": {},
     "output_type": "execute_result"
    }
   ],
   "source": [
    "df"
   ]
  },
  {
   "cell_type": "code",
   "execution_count": 5,
   "id": "bac4496c-b439-4cfe-a367-57c40a21d03a",
   "metadata": {},
   "outputs": [
    {
     "data": {
      "text/plain": [
       "subset               3\n",
       "instrument           8\n",
       "instrument_id        8\n",
       "song_id            227\n",
       "uuid4            21571\n",
       "dtype: int64"
      ]
     },
     "execution_count": 5,
     "metadata": {},
     "output_type": "execute_result"
    }
   ],
   "source": [
    "df.nunique()"
   ]
  },
  {
   "cell_type": "code",
   "execution_count": 6,
   "id": "0ddbd1a9-6059-4165-8831-c29f2f68ce7a",
   "metadata": {},
   "outputs": [
    {
     "data": {
      "text/plain": [
       "array(['clarinet', 'distorted electric guitar', 'female singer', 'flute',\n",
       "       'piano', 'tenor saxophone', 'trumpet', 'violin'], dtype=object)"
      ]
     },
     "execution_count": 6,
     "metadata": {},
     "output_type": "execute_result"
    }
   ],
   "source": [
    "df['instrument'].unique()"
   ]
  },
  {
   "cell_type": "code",
   "execution_count": 7,
   "id": "1505e676-d26c-4023-8511-901c283d02f7",
   "metadata": {},
   "outputs": [
    {
     "data": {
      "text/html": [
       "<div>\n",
       "<style scoped>\n",
       "    .dataframe tbody tr th:only-of-type {\n",
       "        vertical-align: middle;\n",
       "    }\n",
       "\n",
       "    .dataframe tbody tr th {\n",
       "        vertical-align: top;\n",
       "    }\n",
       "\n",
       "    .dataframe thead th {\n",
       "        text-align: right;\n",
       "    }\n",
       "</style>\n",
       "<table border=\"1\" class=\"dataframe\">\n",
       "  <thead>\n",
       "    <tr style=\"text-align: right;\">\n",
       "      <th></th>\n",
       "      <th>subset</th>\n",
       "      <th>instrument_id</th>\n",
       "      <th>song_id</th>\n",
       "      <th>uuid4</th>\n",
       "    </tr>\n",
       "    <tr>\n",
       "      <th>instrument</th>\n",
       "      <th></th>\n",
       "      <th></th>\n",
       "      <th></th>\n",
       "      <th></th>\n",
       "    </tr>\n",
       "  </thead>\n",
       "  <tbody>\n",
       "    <tr>\n",
       "      <th>clarinet</th>\n",
       "      <td>1311</td>\n",
       "      <td>1311</td>\n",
       "      <td>1311</td>\n",
       "      <td>1311</td>\n",
       "    </tr>\n",
       "    <tr>\n",
       "      <th>distorted electric guitar</th>\n",
       "      <td>1854</td>\n",
       "      <td>1854</td>\n",
       "      <td>1854</td>\n",
       "      <td>1854</td>\n",
       "    </tr>\n",
       "    <tr>\n",
       "      <th>female singer</th>\n",
       "      <td>1744</td>\n",
       "      <td>1744</td>\n",
       "      <td>1744</td>\n",
       "      <td>1744</td>\n",
       "    </tr>\n",
       "    <tr>\n",
       "      <th>flute</th>\n",
       "      <td>3555</td>\n",
       "      <td>3555</td>\n",
       "      <td>3555</td>\n",
       "      <td>3555</td>\n",
       "    </tr>\n",
       "    <tr>\n",
       "      <th>piano</th>\n",
       "      <td>6032</td>\n",
       "      <td>6032</td>\n",
       "      <td>6032</td>\n",
       "      <td>6032</td>\n",
       "    </tr>\n",
       "    <tr>\n",
       "      <th>tenor saxophone</th>\n",
       "      <td>477</td>\n",
       "      <td>477</td>\n",
       "      <td>477</td>\n",
       "      <td>477</td>\n",
       "    </tr>\n",
       "    <tr>\n",
       "      <th>trumpet</th>\n",
       "      <td>627</td>\n",
       "      <td>627</td>\n",
       "      <td>627</td>\n",
       "      <td>627</td>\n",
       "    </tr>\n",
       "    <tr>\n",
       "      <th>violin</th>\n",
       "      <td>5971</td>\n",
       "      <td>5971</td>\n",
       "      <td>5971</td>\n",
       "      <td>5971</td>\n",
       "    </tr>\n",
       "  </tbody>\n",
       "</table>\n",
       "</div>"
      ],
      "text/plain": [
       "                           subset  instrument_id  song_id  uuid4\n",
       "instrument                                                      \n",
       "clarinet                     1311           1311     1311   1311\n",
       "distorted electric guitar    1854           1854     1854   1854\n",
       "female singer                1744           1744     1744   1744\n",
       "flute                        3555           3555     3555   3555\n",
       "piano                        6032           6032     6032   6032\n",
       "tenor saxophone               477            477      477    477\n",
       "trumpet                       627            627      627    627\n",
       "violin                       5971           5971     5971   5971"
      ]
     },
     "execution_count": 7,
     "metadata": {},
     "output_type": "execute_result"
    }
   ],
   "source": [
    "df.groupby(['instrument']).count()"
   ]
  },
  {
   "cell_type": "code",
   "execution_count": 8,
   "id": "cd68a0f8-9395-4cd2-9e4e-3f1178a4705f",
   "metadata": {},
   "outputs": [
    {
     "data": {
      "text/plain": [
       "subset           21571\n",
       "instrument_id    21571\n",
       "song_id          21571\n",
       "uuid4            21571\n",
       "dtype: int64"
      ]
     },
     "execution_count": 8,
     "metadata": {},
     "output_type": "execute_result"
    }
   ],
   "source": [
    "df.groupby(['instrument']).count().sum()"
   ]
  },
  {
   "cell_type": "code",
   "execution_count": 9,
   "id": "eea9864f-0201-4d2c-ad7f-bf60a0607b2e",
   "metadata": {},
   "outputs": [
    {
     "data": {
      "text/plain": [
       "array(['test', 'training', 'validation'], dtype=object)"
      ]
     },
     "execution_count": 9,
     "metadata": {},
     "output_type": "execute_result"
    }
   ],
   "source": [
    "df['subset'].unique()"
   ]
  },
  {
   "cell_type": "code",
   "execution_count": 10,
   "id": "f822091f-451b-4fa5-aaa7-3bfa9d8d1dbd",
   "metadata": {},
   "outputs": [
    {
     "data": {
      "text/html": [
       "<div>\n",
       "<style scoped>\n",
       "    .dataframe tbody tr th:only-of-type {\n",
       "        vertical-align: middle;\n",
       "    }\n",
       "\n",
       "    .dataframe tbody tr th {\n",
       "        vertical-align: top;\n",
       "    }\n",
       "\n",
       "    .dataframe thead th {\n",
       "        text-align: right;\n",
       "    }\n",
       "</style>\n",
       "<table border=\"1\" class=\"dataframe\">\n",
       "  <thead>\n",
       "    <tr style=\"text-align: right;\">\n",
       "      <th></th>\n",
       "      <th>instrument</th>\n",
       "      <th>instrument_id</th>\n",
       "      <th>song_id</th>\n",
       "      <th>uuid4</th>\n",
       "    </tr>\n",
       "    <tr>\n",
       "      <th>subset</th>\n",
       "      <th></th>\n",
       "      <th></th>\n",
       "      <th></th>\n",
       "      <th></th>\n",
       "    </tr>\n",
       "  </thead>\n",
       "  <tbody>\n",
       "    <tr>\n",
       "      <th>test</th>\n",
       "      <td>12236</td>\n",
       "      <td>12236</td>\n",
       "      <td>12236</td>\n",
       "      <td>12236</td>\n",
       "    </tr>\n",
       "    <tr>\n",
       "      <th>training</th>\n",
       "      <td>5841</td>\n",
       "      <td>5841</td>\n",
       "      <td>5841</td>\n",
       "      <td>5841</td>\n",
       "    </tr>\n",
       "    <tr>\n",
       "      <th>validation</th>\n",
       "      <td>3494</td>\n",
       "      <td>3494</td>\n",
       "      <td>3494</td>\n",
       "      <td>3494</td>\n",
       "    </tr>\n",
       "  </tbody>\n",
       "</table>\n",
       "</div>"
      ],
      "text/plain": [
       "            instrument  instrument_id  song_id  uuid4\n",
       "subset                                               \n",
       "test             12236          12236    12236  12236\n",
       "training          5841           5841     5841   5841\n",
       "validation        3494           3494     3494   3494"
      ]
     },
     "execution_count": 10,
     "metadata": {},
     "output_type": "execute_result"
    }
   ],
   "source": [
    "df.groupby(['subset']).count()"
   ]
  },
  {
   "cell_type": "markdown",
   "id": "81263b11-11d8-4416-a4a8-b406fa883826",
   "metadata": {},
   "source": [
    "Splitting Dataframe into Train, Validation and Test Dataframes"
   ]
  },
  {
   "cell_type": "markdown",
   "id": "c49cec7c-b25f-4fd9-bb3b-60f602afb4ae",
   "metadata": {},
   "source": [
    "Saving once:"
   ]
  },
  {
   "cell_type": "code",
   "execution_count": 151,
   "id": "ea428817-bc20-4852-b937-15e5f488ce26",
   "metadata": {},
   "outputs": [
    {
     "data": {
      "text/html": [
       "<div>\n",
       "<style scoped>\n",
       "    .dataframe tbody tr th:only-of-type {\n",
       "        vertical-align: middle;\n",
       "    }\n",
       "\n",
       "    .dataframe tbody tr th {\n",
       "        vertical-align: top;\n",
       "    }\n",
       "\n",
       "    .dataframe thead th {\n",
       "        text-align: right;\n",
       "    }\n",
       "</style>\n",
       "<table border=\"1\" class=\"dataframe\">\n",
       "  <thead>\n",
       "    <tr style=\"text-align: right;\">\n",
       "      <th></th>\n",
       "      <th>subset</th>\n",
       "      <th>instrument</th>\n",
       "      <th>instrument_id</th>\n",
       "      <th>song_id</th>\n",
       "      <th>uuid4</th>\n",
       "    </tr>\n",
       "  </thead>\n",
       "  <tbody>\n",
       "    <tr>\n",
       "      <th>12236</th>\n",
       "      <td>training</td>\n",
       "      <td>clarinet</td>\n",
       "      <td>0</td>\n",
       "      <td>139</td>\n",
       "      <td>163fd2b1-8e98-515a-f501-4742cc6d066f</td>\n",
       "    </tr>\n",
       "    <tr>\n",
       "      <th>12237</th>\n",
       "      <td>training</td>\n",
       "      <td>clarinet</td>\n",
       "      <td>0</td>\n",
       "      <td>139</td>\n",
       "      <td>36dcb8eb-da46-5d01-fa9d-0f715c389379</td>\n",
       "    </tr>\n",
       "    <tr>\n",
       "      <th>12238</th>\n",
       "      <td>training</td>\n",
       "      <td>clarinet</td>\n",
       "      <td>0</td>\n",
       "      <td>139</td>\n",
       "      <td>9f6d4046-3662-5433-fc44-98c80a428fd8</td>\n",
       "    </tr>\n",
       "    <tr>\n",
       "      <th>12239</th>\n",
       "      <td>training</td>\n",
       "      <td>clarinet</td>\n",
       "      <td>0</td>\n",
       "      <td>139</td>\n",
       "      <td>5ef6a0ee-a092-5d49-f64e-a3454e9ab237</td>\n",
       "    </tr>\n",
       "    <tr>\n",
       "      <th>12240</th>\n",
       "      <td>training</td>\n",
       "      <td>clarinet</td>\n",
       "      <td>0</td>\n",
       "      <td>139</td>\n",
       "      <td>2048e98b-77b2-5b7d-fe6a-780f399e69fe</td>\n",
       "    </tr>\n",
       "    <tr>\n",
       "      <th>...</th>\n",
       "      <td>...</td>\n",
       "      <td>...</td>\n",
       "      <td>...</td>\n",
       "      <td>...</td>\n",
       "      <td>...</td>\n",
       "    </tr>\n",
       "    <tr>\n",
       "      <th>18072</th>\n",
       "      <td>training</td>\n",
       "      <td>violin</td>\n",
       "      <td>7</td>\n",
       "      <td>199</td>\n",
       "      <td>284c120e-0986-5220-ff20-a139682268a8</td>\n",
       "    </tr>\n",
       "    <tr>\n",
       "      <th>18073</th>\n",
       "      <td>training</td>\n",
       "      <td>violin</td>\n",
       "      <td>7</td>\n",
       "      <td>199</td>\n",
       "      <td>ac044390-8932-5ce7-f3d8-a1a0997f3be5</td>\n",
       "    </tr>\n",
       "    <tr>\n",
       "      <th>18074</th>\n",
       "      <td>training</td>\n",
       "      <td>violin</td>\n",
       "      <td>7</td>\n",
       "      <td>199</td>\n",
       "      <td>acfb1f64-e4ed-5422-fbc3-64366eac2fee</td>\n",
       "    </tr>\n",
       "    <tr>\n",
       "      <th>18075</th>\n",
       "      <td>training</td>\n",
       "      <td>violin</td>\n",
       "      <td>7</td>\n",
       "      <td>199</td>\n",
       "      <td>af6de7e1-bfee-545b-f114-00d2df94ad84</td>\n",
       "    </tr>\n",
       "    <tr>\n",
       "      <th>18076</th>\n",
       "      <td>training</td>\n",
       "      <td>violin</td>\n",
       "      <td>7</td>\n",
       "      <td>199</td>\n",
       "      <td>56be4377-bdf4-5589-f5cd-e6c15d2dc255</td>\n",
       "    </tr>\n",
       "  </tbody>\n",
       "</table>\n",
       "<p>5841 rows × 5 columns</p>\n",
       "</div>"
      ],
      "text/plain": [
       "         subset instrument  instrument_id  song_id  \\\n",
       "12236  training   clarinet              0      139   \n",
       "12237  training   clarinet              0      139   \n",
       "12238  training   clarinet              0      139   \n",
       "12239  training   clarinet              0      139   \n",
       "12240  training   clarinet              0      139   \n",
       "...         ...        ...            ...      ...   \n",
       "18072  training     violin              7      199   \n",
       "18073  training     violin              7      199   \n",
       "18074  training     violin              7      199   \n",
       "18075  training     violin              7      199   \n",
       "18076  training     violin              7      199   \n",
       "\n",
       "                                      uuid4  \n",
       "12236  163fd2b1-8e98-515a-f501-4742cc6d066f  \n",
       "12237  36dcb8eb-da46-5d01-fa9d-0f715c389379  \n",
       "12238  9f6d4046-3662-5433-fc44-98c80a428fd8  \n",
       "12239  5ef6a0ee-a092-5d49-f64e-a3454e9ab237  \n",
       "12240  2048e98b-77b2-5b7d-fe6a-780f399e69fe  \n",
       "...                                     ...  \n",
       "18072  284c120e-0986-5220-ff20-a139682268a8  \n",
       "18073  ac044390-8932-5ce7-f3d8-a1a0997f3be5  \n",
       "18074  acfb1f64-e4ed-5422-fbc3-64366eac2fee  \n",
       "18075  af6de7e1-bfee-545b-f114-00d2df94ad84  \n",
       "18076  56be4377-bdf4-5589-f5cd-e6c15d2dc255  \n",
       "\n",
       "[5841 rows x 5 columns]"
      ]
     },
     "execution_count": 151,
     "metadata": {},
     "output_type": "execute_result"
    }
   ],
   "source": [
    "df.loc[df['subset']=='training']"
   ]
  },
  {
   "cell_type": "markdown",
   "id": "71c1f8cd-5093-4838-bd4a-e1acc384ee2a",
   "metadata": {},
   "source": [
    "##### Split Dataframe into train, validation and test dataframes and save"
   ]
  },
  {
   "cell_type": "code",
   "execution_count": null,
   "id": "ef0e6a5b-2fed-4962-960f-416c1583363d",
   "metadata": {},
   "outputs": [],
   "source": [
    "# Data separated into three folders /training, /validation and /test.\n",
    "# Dataframe also split into 3 dataframes df_train, df_val, def_test"
   ]
  },
  {
   "cell_type": "code",
   "execution_count": 76,
   "id": "6bb482a2-f5dd-4102-9255-df05ff20a875",
   "metadata": {},
   "outputs": [],
   "source": [
    "df.loc[df['subset']=='test'].to_csv('~/documents/data/audio/medley/csv/Medley-solos-DB_metadata_test.csv')"
   ]
  },
  {
   "cell_type": "code",
   "execution_count": 77,
   "id": "b3618674-137d-425e-b54c-3d1674e1c82a",
   "metadata": {},
   "outputs": [],
   "source": [
    "df.loc[df['subset']=='training'].to_csv('~/documents/data/audio/medley/csv/Medley-solos-DB_metadata_training.csv')"
   ]
  },
  {
   "cell_type": "code",
   "execution_count": 78,
   "id": "d3344acf-c6d4-4980-ba46-86c604c5ea64",
   "metadata": {},
   "outputs": [],
   "source": [
    "df.loc[df['subset']=='validation'].to_csv('~/documents/data/audio/medley/csv/Medley-solos-DB_metadata_validation.csv')"
   ]
  },
  {
   "cell_type": "markdown",
   "id": "2f14a7c8-1be5-4c68-95ae-e88026cad4ec",
   "metadata": {},
   "source": [
    "##### Read train, validation and test dataframes"
   ]
  },
  {
   "cell_type": "code",
   "execution_count": 7,
   "id": "83a90431-f31b-41cb-8e1f-219f06981784",
   "metadata": {},
   "outputs": [],
   "source": [
    "df_train = pd.read_csv('~/documents/data/audio/medley/csv/Medley-solos-DB_metadata_training.csv',index_col=0)"
   ]
  },
  {
   "cell_type": "code",
   "execution_count": 8,
   "id": "63967197-f616-4f80-bebf-3238579539c4",
   "metadata": {},
   "outputs": [],
   "source": [
    "df_val = pd.read_csv('~/documents/data/audio/medley/csv/Medley-solos-DB_metadata_validation.csv',index_col=0)"
   ]
  },
  {
   "cell_type": "code",
   "execution_count": 9,
   "id": "48f62587-ddf6-44d5-b951-b578e1e043ee",
   "metadata": {},
   "outputs": [],
   "source": [
    "df_test = pd.read_csv('~/documents/data/audio/medley/csv/Medley-solos-DB_metadata_test.csv',index_col=0)"
   ]
  },
  {
   "cell_type": "code",
   "execution_count": 10,
   "id": "cd3e1a1d-0bc8-43be-9a5a-a80431465747",
   "metadata": {},
   "outputs": [
    {
     "data": {
      "text/html": [
       "<div>\n",
       "<style scoped>\n",
       "    .dataframe tbody tr th:only-of-type {\n",
       "        vertical-align: middle;\n",
       "    }\n",
       "\n",
       "    .dataframe tbody tr th {\n",
       "        vertical-align: top;\n",
       "    }\n",
       "\n",
       "    .dataframe thead th {\n",
       "        text-align: right;\n",
       "    }\n",
       "</style>\n",
       "<table border=\"1\" class=\"dataframe\">\n",
       "  <thead>\n",
       "    <tr style=\"text-align: right;\">\n",
       "      <th></th>\n",
       "      <th>subset</th>\n",
       "      <th>instrument</th>\n",
       "      <th>instrument_id</th>\n",
       "      <th>song_id</th>\n",
       "      <th>uuid4</th>\n",
       "    </tr>\n",
       "  </thead>\n",
       "  <tbody>\n",
       "    <tr>\n",
       "      <th>12236</th>\n",
       "      <td>training</td>\n",
       "      <td>clarinet</td>\n",
       "      <td>0</td>\n",
       "      <td>139</td>\n",
       "      <td>163fd2b1-8e98-515a-f501-4742cc6d066f</td>\n",
       "    </tr>\n",
       "    <tr>\n",
       "      <th>12237</th>\n",
       "      <td>training</td>\n",
       "      <td>clarinet</td>\n",
       "      <td>0</td>\n",
       "      <td>139</td>\n",
       "      <td>36dcb8eb-da46-5d01-fa9d-0f715c389379</td>\n",
       "    </tr>\n",
       "    <tr>\n",
       "      <th>12238</th>\n",
       "      <td>training</td>\n",
       "      <td>clarinet</td>\n",
       "      <td>0</td>\n",
       "      <td>139</td>\n",
       "      <td>9f6d4046-3662-5433-fc44-98c80a428fd8</td>\n",
       "    </tr>\n",
       "    <tr>\n",
       "      <th>12239</th>\n",
       "      <td>training</td>\n",
       "      <td>clarinet</td>\n",
       "      <td>0</td>\n",
       "      <td>139</td>\n",
       "      <td>5ef6a0ee-a092-5d49-f64e-a3454e9ab237</td>\n",
       "    </tr>\n",
       "    <tr>\n",
       "      <th>12240</th>\n",
       "      <td>training</td>\n",
       "      <td>clarinet</td>\n",
       "      <td>0</td>\n",
       "      <td>139</td>\n",
       "      <td>2048e98b-77b2-5b7d-fe6a-780f399e69fe</td>\n",
       "    </tr>\n",
       "    <tr>\n",
       "      <th>...</th>\n",
       "      <td>...</td>\n",
       "      <td>...</td>\n",
       "      <td>...</td>\n",
       "      <td>...</td>\n",
       "      <td>...</td>\n",
       "    </tr>\n",
       "    <tr>\n",
       "      <th>18072</th>\n",
       "      <td>training</td>\n",
       "      <td>violin</td>\n",
       "      <td>7</td>\n",
       "      <td>199</td>\n",
       "      <td>284c120e-0986-5220-ff20-a139682268a8</td>\n",
       "    </tr>\n",
       "    <tr>\n",
       "      <th>18073</th>\n",
       "      <td>training</td>\n",
       "      <td>violin</td>\n",
       "      <td>7</td>\n",
       "      <td>199</td>\n",
       "      <td>ac044390-8932-5ce7-f3d8-a1a0997f3be5</td>\n",
       "    </tr>\n",
       "    <tr>\n",
       "      <th>18074</th>\n",
       "      <td>training</td>\n",
       "      <td>violin</td>\n",
       "      <td>7</td>\n",
       "      <td>199</td>\n",
       "      <td>acfb1f64-e4ed-5422-fbc3-64366eac2fee</td>\n",
       "    </tr>\n",
       "    <tr>\n",
       "      <th>18075</th>\n",
       "      <td>training</td>\n",
       "      <td>violin</td>\n",
       "      <td>7</td>\n",
       "      <td>199</td>\n",
       "      <td>af6de7e1-bfee-545b-f114-00d2df94ad84</td>\n",
       "    </tr>\n",
       "    <tr>\n",
       "      <th>18076</th>\n",
       "      <td>training</td>\n",
       "      <td>violin</td>\n",
       "      <td>7</td>\n",
       "      <td>199</td>\n",
       "      <td>56be4377-bdf4-5589-f5cd-e6c15d2dc255</td>\n",
       "    </tr>\n",
       "  </tbody>\n",
       "</table>\n",
       "<p>5841 rows × 5 columns</p>\n",
       "</div>"
      ],
      "text/plain": [
       "         subset instrument  instrument_id  song_id  \\\n",
       "12236  training   clarinet              0      139   \n",
       "12237  training   clarinet              0      139   \n",
       "12238  training   clarinet              0      139   \n",
       "12239  training   clarinet              0      139   \n",
       "12240  training   clarinet              0      139   \n",
       "...         ...        ...            ...      ...   \n",
       "18072  training     violin              7      199   \n",
       "18073  training     violin              7      199   \n",
       "18074  training     violin              7      199   \n",
       "18075  training     violin              7      199   \n",
       "18076  training     violin              7      199   \n",
       "\n",
       "                                      uuid4  \n",
       "12236  163fd2b1-8e98-515a-f501-4742cc6d066f  \n",
       "12237  36dcb8eb-da46-5d01-fa9d-0f715c389379  \n",
       "12238  9f6d4046-3662-5433-fc44-98c80a428fd8  \n",
       "12239  5ef6a0ee-a092-5d49-f64e-a3454e9ab237  \n",
       "12240  2048e98b-77b2-5b7d-fe6a-780f399e69fe  \n",
       "...                                     ...  \n",
       "18072  284c120e-0986-5220-ff20-a139682268a8  \n",
       "18073  ac044390-8932-5ce7-f3d8-a1a0997f3be5  \n",
       "18074  acfb1f64-e4ed-5422-fbc3-64366eac2fee  \n",
       "18075  af6de7e1-bfee-545b-f114-00d2df94ad84  \n",
       "18076  56be4377-bdf4-5589-f5cd-e6c15d2dc255  \n",
       "\n",
       "[5841 rows x 5 columns]"
      ]
     },
     "execution_count": 10,
     "metadata": {},
     "output_type": "execute_result"
    }
   ],
   "source": [
    "df_train"
   ]
  },
  {
   "cell_type": "code",
   "execution_count": 141,
   "id": "fe4f8492-3ce7-4fef-a578-d971894f42f8",
   "metadata": {},
   "outputs": [
    {
     "data": {
      "text/plain": [
       "'distorted electric guitar'"
      ]
     },
     "execution_count": 141,
     "metadata": {},
     "output_type": "execute_result"
    }
   ],
   "source": [
    "df_train['instrument'][500]"
   ]
  },
  {
   "cell_type": "markdown",
   "id": "adddb4ab-a76e-4f31-a755-c8f0197a9fe9",
   "metadata": {},
   "source": [
    "#### First approach: model for two instruments"
   ]
  },
  {
   "cell_type": "code",
   "execution_count": null,
   "id": "5d50ea03-bb83-4a2c-a1fd-4760aaf17ac1",
   "metadata": {},
   "outputs": [],
   "source": [
    "# processing approach:\n",
    "# define dataframe_subset_instrument\n",
    "# load into librosa .wav to audio array (n,)\n",
    "# save arrays with numpy"
   ]
  },
  {
   "cell_type": "code",
   "execution_count": 18,
   "id": "d4c53347-9e8c-43d8-9fbc-e3ad7626d284",
   "metadata": {},
   "outputs": [],
   "source": [
    "# working with the Train Set: 404 elements for each instrument"
   ]
  },
  {
   "cell_type": "code",
   "execution_count": 19,
   "id": "ba3bc51d-fea9-4020-b96d-1722fd12bf91",
   "metadata": {},
   "outputs": [],
   "source": [
    "# begin with two instruments"
   ]
  },
  {
   "cell_type": "code",
   "execution_count": 147,
   "id": "d68f4112-884f-44c2-a0b8-3e7bbcf8f503",
   "metadata": {},
   "outputs": [
    {
     "data": {
      "text/html": [
       "<div>\n",
       "<style scoped>\n",
       "    .dataframe tbody tr th:only-of-type {\n",
       "        vertical-align: middle;\n",
       "    }\n",
       "\n",
       "    .dataframe tbody tr th {\n",
       "        vertical-align: top;\n",
       "    }\n",
       "\n",
       "    .dataframe thead th {\n",
       "        text-align: right;\n",
       "    }\n",
       "</style>\n",
       "<table border=\"1\" class=\"dataframe\">\n",
       "  <thead>\n",
       "    <tr style=\"text-align: right;\">\n",
       "      <th></th>\n",
       "      <th>pos</th>\n",
       "      <th>subset</th>\n",
       "      <th>instrument</th>\n",
       "      <th>instrument_id</th>\n",
       "      <th>song_id</th>\n",
       "      <th>uuid4</th>\n",
       "    </tr>\n",
       "  </thead>\n",
       "  <tbody>\n",
       "    <tr>\n",
       "      <th>0</th>\n",
       "      <td>12236</td>\n",
       "      <td>training</td>\n",
       "      <td>clarinet</td>\n",
       "      <td>0</td>\n",
       "      <td>139</td>\n",
       "      <td>163fd2b1-8e98-515a-f501-4742cc6d066f</td>\n",
       "    </tr>\n",
       "    <tr>\n",
       "      <th>1</th>\n",
       "      <td>12237</td>\n",
       "      <td>training</td>\n",
       "      <td>clarinet</td>\n",
       "      <td>0</td>\n",
       "      <td>139</td>\n",
       "      <td>36dcb8eb-da46-5d01-fa9d-0f715c389379</td>\n",
       "    </tr>\n",
       "    <tr>\n",
       "      <th>2</th>\n",
       "      <td>12238</td>\n",
       "      <td>training</td>\n",
       "      <td>clarinet</td>\n",
       "      <td>0</td>\n",
       "      <td>139</td>\n",
       "      <td>9f6d4046-3662-5433-fc44-98c80a428fd8</td>\n",
       "    </tr>\n",
       "    <tr>\n",
       "      <th>3</th>\n",
       "      <td>12239</td>\n",
       "      <td>training</td>\n",
       "      <td>clarinet</td>\n",
       "      <td>0</td>\n",
       "      <td>139</td>\n",
       "      <td>5ef6a0ee-a092-5d49-f64e-a3454e9ab237</td>\n",
       "    </tr>\n",
       "    <tr>\n",
       "      <th>4</th>\n",
       "      <td>12240</td>\n",
       "      <td>training</td>\n",
       "      <td>clarinet</td>\n",
       "      <td>0</td>\n",
       "      <td>139</td>\n",
       "      <td>2048e98b-77b2-5b7d-fe6a-780f399e69fe</td>\n",
       "    </tr>\n",
       "    <tr>\n",
       "      <th>...</th>\n",
       "      <td>...</td>\n",
       "      <td>...</td>\n",
       "      <td>...</td>\n",
       "      <td>...</td>\n",
       "      <td>...</td>\n",
       "      <td>...</td>\n",
       "    </tr>\n",
       "    <tr>\n",
       "      <th>5836</th>\n",
       "      <td>18072</td>\n",
       "      <td>training</td>\n",
       "      <td>violin</td>\n",
       "      <td>7</td>\n",
       "      <td>199</td>\n",
       "      <td>284c120e-0986-5220-ff20-a139682268a8</td>\n",
       "    </tr>\n",
       "    <tr>\n",
       "      <th>5837</th>\n",
       "      <td>18073</td>\n",
       "      <td>training</td>\n",
       "      <td>violin</td>\n",
       "      <td>7</td>\n",
       "      <td>199</td>\n",
       "      <td>ac044390-8932-5ce7-f3d8-a1a0997f3be5</td>\n",
       "    </tr>\n",
       "    <tr>\n",
       "      <th>5838</th>\n",
       "      <td>18074</td>\n",
       "      <td>training</td>\n",
       "      <td>violin</td>\n",
       "      <td>7</td>\n",
       "      <td>199</td>\n",
       "      <td>acfb1f64-e4ed-5422-fbc3-64366eac2fee</td>\n",
       "    </tr>\n",
       "    <tr>\n",
       "      <th>5839</th>\n",
       "      <td>18075</td>\n",
       "      <td>training</td>\n",
       "      <td>violin</td>\n",
       "      <td>7</td>\n",
       "      <td>199</td>\n",
       "      <td>af6de7e1-bfee-545b-f114-00d2df94ad84</td>\n",
       "    </tr>\n",
       "    <tr>\n",
       "      <th>5840</th>\n",
       "      <td>18076</td>\n",
       "      <td>training</td>\n",
       "      <td>violin</td>\n",
       "      <td>7</td>\n",
       "      <td>199</td>\n",
       "      <td>56be4377-bdf4-5589-f5cd-e6c15d2dc255</td>\n",
       "    </tr>\n",
       "  </tbody>\n",
       "</table>\n",
       "<p>5841 rows × 6 columns</p>\n",
       "</div>"
      ],
      "text/plain": [
       "        pos    subset instrument  instrument_id  song_id  \\\n",
       "0     12236  training   clarinet              0      139   \n",
       "1     12237  training   clarinet              0      139   \n",
       "2     12238  training   clarinet              0      139   \n",
       "3     12239  training   clarinet              0      139   \n",
       "4     12240  training   clarinet              0      139   \n",
       "...     ...       ...        ...            ...      ...   \n",
       "5836  18072  training     violin              7      199   \n",
       "5837  18073  training     violin              7      199   \n",
       "5838  18074  training     violin              7      199   \n",
       "5839  18075  training     violin              7      199   \n",
       "5840  18076  training     violin              7      199   \n",
       "\n",
       "                                     uuid4  \n",
       "0     163fd2b1-8e98-515a-f501-4742cc6d066f  \n",
       "1     36dcb8eb-da46-5d01-fa9d-0f715c389379  \n",
       "2     9f6d4046-3662-5433-fc44-98c80a428fd8  \n",
       "3     5ef6a0ee-a092-5d49-f64e-a3454e9ab237  \n",
       "4     2048e98b-77b2-5b7d-fe6a-780f399e69fe  \n",
       "...                                    ...  \n",
       "5836  284c120e-0986-5220-ff20-a139682268a8  \n",
       "5837  ac044390-8932-5ce7-f3d8-a1a0997f3be5  \n",
       "5838  acfb1f64-e4ed-5422-fbc3-64366eac2fee  \n",
       "5839  af6de7e1-bfee-545b-f114-00d2df94ad84  \n",
       "5840  56be4377-bdf4-5589-f5cd-e6c15d2dc255  \n",
       "\n",
       "[5841 rows x 6 columns]"
      ]
     },
     "execution_count": 147,
     "metadata": {},
     "output_type": "execute_result"
    }
   ],
   "source": [
    "df_train"
   ]
  },
  {
   "cell_type": "code",
   "execution_count": 161,
   "id": "a57a3457-6b18-48f8-9ed3-0ba780e8672c",
   "metadata": {},
   "outputs": [],
   "source": [
    "instruments = df_train['instrument'].unique()"
   ]
  },
  {
   "cell_type": "code",
   "execution_count": 111,
   "id": "8eb8d247-0d9b-4509-9c07-8d139e2b9088",
   "metadata": {},
   "outputs": [
    {
     "data": {
      "text/html": [
       "<div>\n",
       "<style scoped>\n",
       "    .dataframe tbody tr th:only-of-type {\n",
       "        vertical-align: middle;\n",
       "    }\n",
       "\n",
       "    .dataframe tbody tr th {\n",
       "        vertical-align: top;\n",
       "    }\n",
       "\n",
       "    .dataframe thead th {\n",
       "        text-align: right;\n",
       "    }\n",
       "</style>\n",
       "<table border=\"1\" class=\"dataframe\">\n",
       "  <thead>\n",
       "    <tr style=\"text-align: right;\">\n",
       "      <th></th>\n",
       "      <th>pos</th>\n",
       "      <th>subset</th>\n",
       "      <th>instrument_id</th>\n",
       "      <th>song_id</th>\n",
       "      <th>uuid4</th>\n",
       "    </tr>\n",
       "    <tr>\n",
       "      <th>instrument</th>\n",
       "      <th></th>\n",
       "      <th></th>\n",
       "      <th></th>\n",
       "      <th></th>\n",
       "      <th></th>\n",
       "    </tr>\n",
       "  </thead>\n",
       "  <tbody>\n",
       "    <tr>\n",
       "      <th>clarinet</th>\n",
       "      <td>251</td>\n",
       "      <td>251</td>\n",
       "      <td>251</td>\n",
       "      <td>251</td>\n",
       "      <td>251</td>\n",
       "    </tr>\n",
       "    <tr>\n",
       "      <th>distorted electric guitar</th>\n",
       "      <td>404</td>\n",
       "      <td>404</td>\n",
       "      <td>404</td>\n",
       "      <td>404</td>\n",
       "      <td>404</td>\n",
       "    </tr>\n",
       "    <tr>\n",
       "      <th>female singer</th>\n",
       "      <td>318</td>\n",
       "      <td>318</td>\n",
       "      <td>318</td>\n",
       "      <td>318</td>\n",
       "      <td>318</td>\n",
       "    </tr>\n",
       "    <tr>\n",
       "      <th>flute</th>\n",
       "      <td>155</td>\n",
       "      <td>155</td>\n",
       "      <td>155</td>\n",
       "      <td>155</td>\n",
       "      <td>155</td>\n",
       "    </tr>\n",
       "    <tr>\n",
       "      <th>piano</th>\n",
       "      <td>2401</td>\n",
       "      <td>2401</td>\n",
       "      <td>2401</td>\n",
       "      <td>2401</td>\n",
       "      <td>2401</td>\n",
       "    </tr>\n",
       "    <tr>\n",
       "      <th>tenor saxophone</th>\n",
       "      <td>123</td>\n",
       "      <td>123</td>\n",
       "      <td>123</td>\n",
       "      <td>123</td>\n",
       "      <td>123</td>\n",
       "    </tr>\n",
       "    <tr>\n",
       "      <th>trumpet</th>\n",
       "      <td>149</td>\n",
       "      <td>149</td>\n",
       "      <td>149</td>\n",
       "      <td>149</td>\n",
       "      <td>149</td>\n",
       "    </tr>\n",
       "    <tr>\n",
       "      <th>violin</th>\n",
       "      <td>2040</td>\n",
       "      <td>2040</td>\n",
       "      <td>2040</td>\n",
       "      <td>2040</td>\n",
       "      <td>2040</td>\n",
       "    </tr>\n",
       "  </tbody>\n",
       "</table>\n",
       "</div>"
      ],
      "text/plain": [
       "                            pos  subset  instrument_id  song_id  uuid4\n",
       "instrument                                                            \n",
       "clarinet                    251     251            251      251    251\n",
       "distorted electric guitar   404     404            404      404    404\n",
       "female singer               318     318            318      318    318\n",
       "flute                       155     155            155      155    155\n",
       "piano                      2401    2401           2401     2401   2401\n",
       "tenor saxophone             123     123            123      123    123\n",
       "trumpet                     149     149            149      149    149\n",
       "violin                     2040    2040           2040     2040   2040"
      ]
     },
     "execution_count": 111,
     "metadata": {},
     "output_type": "execute_result"
    }
   ],
   "source": [
    "df_train.groupby(['instrument']).count()"
   ]
  },
  {
   "cell_type": "code",
   "execution_count": 15,
   "id": "1dc65237-97f4-461a-8aef-e7cbbf3181c1",
   "metadata": {},
   "outputs": [],
   "source": [
    "df_train_clarinet = df_train.loc[df_train['instrument_id']==0]"
   ]
  },
  {
   "cell_type": "code",
   "execution_count": 16,
   "id": "97e7c8f1-4c56-4e20-b443-fc89f3622e8f",
   "metadata": {},
   "outputs": [],
   "source": [
    "df_train_clarinet = df_train_clarinet.set_index('subset').reset_index()"
   ]
  },
  {
   "cell_type": "code",
   "execution_count": 10,
   "id": "36c44513-fc28-40fa-a1de-a0a3fd279e8f",
   "metadata": {},
   "outputs": [],
   "source": [
    "df_train_guitar = df_train.loc[df_train['instrument_id']==1]"
   ]
  },
  {
   "cell_type": "code",
   "execution_count": 21,
   "id": "70f1b118-dd39-4413-975a-84d52af1909f",
   "metadata": {},
   "outputs": [],
   "source": [
    "df_train_guitar = df_train_guitar.set_index('subset').reset_index()"
   ]
  },
  {
   "cell_type": "code",
   "execution_count": 11,
   "id": "99c54963-8107-4d23-89c5-746daa502f55",
   "metadata": {},
   "outputs": [],
   "source": [
    "df_train_singer = df_train.loc[df_train['instrument_id']==2]"
   ]
  },
  {
   "cell_type": "code",
   "execution_count": 22,
   "id": "74c5a15d-9c2a-4865-9eb2-62ec3cebc3da",
   "metadata": {},
   "outputs": [],
   "source": [
    "df_train_singer = df_train_singer.set_index('subset').reset_index()"
   ]
  },
  {
   "cell_type": "code",
   "execution_count": 27,
   "id": "5a4f5c42-1c75-43be-b85c-42821d0aab99",
   "metadata": {},
   "outputs": [
    {
     "data": {
      "text/html": [
       "<div>\n",
       "<style scoped>\n",
       "    .dataframe tbody tr th:only-of-type {\n",
       "        vertical-align: middle;\n",
       "    }\n",
       "\n",
       "    .dataframe tbody tr th {\n",
       "        vertical-align: top;\n",
       "    }\n",
       "\n",
       "    .dataframe thead th {\n",
       "        text-align: right;\n",
       "    }\n",
       "</style>\n",
       "<table border=\"1\" class=\"dataframe\">\n",
       "  <thead>\n",
       "    <tr style=\"text-align: right;\">\n",
       "      <th></th>\n",
       "      <th>subset</th>\n",
       "      <th>instrument</th>\n",
       "      <th>instrument_id</th>\n",
       "      <th>song_id</th>\n",
       "      <th>uuid4</th>\n",
       "    </tr>\n",
       "  </thead>\n",
       "  <tbody>\n",
       "    <tr>\n",
       "      <th>0</th>\n",
       "      <td>training</td>\n",
       "      <td>female singer</td>\n",
       "      <td>2</td>\n",
       "      <td>154</td>\n",
       "      <td>5fe4c1de-b6da-5b50-f4d6-ed9925fc0931</td>\n",
       "    </tr>\n",
       "    <tr>\n",
       "      <th>1</th>\n",
       "      <td>training</td>\n",
       "      <td>female singer</td>\n",
       "      <td>2</td>\n",
       "      <td>154</td>\n",
       "      <td>69cbbcff-834b-55c0-f7fe-4d809ebe34e3</td>\n",
       "    </tr>\n",
       "    <tr>\n",
       "      <th>2</th>\n",
       "      <td>training</td>\n",
       "      <td>female singer</td>\n",
       "      <td>2</td>\n",
       "      <td>154</td>\n",
       "      <td>94072b83-a4ae-57a9-f196-a74af1e5f3b0</td>\n",
       "    </tr>\n",
       "  </tbody>\n",
       "</table>\n",
       "</div>"
      ],
      "text/plain": [
       "     subset     instrument  instrument_id  song_id  \\\n",
       "0  training  female singer              2      154   \n",
       "1  training  female singer              2      154   \n",
       "2  training  female singer              2      154   \n",
       "\n",
       "                                  uuid4  \n",
       "0  5fe4c1de-b6da-5b50-f4d6-ed9925fc0931  \n",
       "1  69cbbcff-834b-55c0-f7fe-4d809ebe34e3  \n",
       "2  94072b83-a4ae-57a9-f196-a74af1e5f3b0  "
      ]
     },
     "execution_count": 27,
     "metadata": {},
     "output_type": "execute_result"
    }
   ],
   "source": [
    "df_train_singer.head(3)"
   ]
  },
  {
   "cell_type": "code",
   "execution_count": 24,
   "id": "f0197011-9ae1-4a70-901d-95e4aaf4ffcd",
   "metadata": {},
   "outputs": [
    {
     "data": {
      "text/plain": [
       "(404, 5)"
      ]
     },
     "execution_count": 24,
     "metadata": {},
     "output_type": "execute_result"
    }
   ],
   "source": [
    "df_train_guitar.shape"
   ]
  },
  {
   "cell_type": "code",
   "execution_count": 25,
   "id": "bb72bfcd-1951-41ab-9c90-bbb1594acfa2",
   "metadata": {},
   "outputs": [
    {
     "data": {
      "text/plain": [
       "(318, 5)"
      ]
     },
     "execution_count": 25,
     "metadata": {},
     "output_type": "execute_result"
    }
   ],
   "source": [
    "df_train_singer.shape"
   ]
  },
  {
   "cell_type": "code",
   "execution_count": 23,
   "id": "7f6ac24d-2595-48af-b9ff-2801f97b602c",
   "metadata": {},
   "outputs": [],
   "source": [
    "# generalize: 3 subset and 8 instruments"
   ]
  },
  {
   "cell_type": "code",
   "execution_count": null,
   "id": "54e9f465-9d75-42eb-9350-e40a91bf4d5c",
   "metadata": {},
   "outputs": [],
   "source": [
    "# generalize: \n",
    "# subsets: [train, validation, test]\n",
    "# instruments: ["
   ]
  },
  {
   "cell_type": "code",
   "execution_count": 14,
   "id": "60abdf13-6ba9-4b5e-be2a-e3702eee3aea",
   "metadata": {},
   "outputs": [],
   "source": [
    "# we are now working with the Training Data"
   ]
  },
  {
   "cell_type": "code",
   "execution_count": null,
   "id": "cf0bec67-7c0d-43d1-b632-680bf93cd2d3",
   "metadata": {},
   "outputs": [],
   "source": [
    "# validation subset"
   ]
  },
  {
   "cell_type": "code",
   "execution_count": 29,
   "id": "94d0ec31-7e79-40f3-b95f-99f9055068e0",
   "metadata": {},
   "outputs": [],
   "source": [
    "# subsets=['val', 'test']\n",
    "# instruments=['clarinet','guitar','singer']\n",
    "# instrument_ids=[0,1,2]\n",
    "# for n, subset in enumerate(subsets):\n",
    "#     a_{subset} = n\n",
    "#     #for instrument in instruments:\n",
    "#      #   df_{subset}_{instrument} = df_{val}.loc[df_{subset}['instrument_id']==0]"
   ]
  },
  {
   "cell_type": "code",
   "execution_count": 18,
   "id": "a41c4fdf-e1c7-4016-83dc-99923e5efa4d",
   "metadata": {},
   "outputs": [
    {
     "data": {
      "text/html": [
       "<div>\n",
       "<style scoped>\n",
       "    .dataframe tbody tr th:only-of-type {\n",
       "        vertical-align: middle;\n",
       "    }\n",
       "\n",
       "    .dataframe tbody tr th {\n",
       "        vertical-align: top;\n",
       "    }\n",
       "\n",
       "    .dataframe thead th {\n",
       "        text-align: right;\n",
       "    }\n",
       "</style>\n",
       "<table border=\"1\" class=\"dataframe\">\n",
       "  <thead>\n",
       "    <tr style=\"text-align: right;\">\n",
       "      <th></th>\n",
       "      <th>subset</th>\n",
       "      <th>instrument_id</th>\n",
       "      <th>song_id</th>\n",
       "      <th>uuid4</th>\n",
       "    </tr>\n",
       "    <tr>\n",
       "      <th>instrument</th>\n",
       "      <th></th>\n",
       "      <th></th>\n",
       "      <th></th>\n",
       "      <th></th>\n",
       "    </tr>\n",
       "  </thead>\n",
       "  <tbody>\n",
       "    <tr>\n",
       "      <th>clarinet</th>\n",
       "      <td>328</td>\n",
       "      <td>328</td>\n",
       "      <td>328</td>\n",
       "      <td>328</td>\n",
       "    </tr>\n",
       "    <tr>\n",
       "      <th>distorted electric guitar</th>\n",
       "      <td>495</td>\n",
       "      <td>495</td>\n",
       "      <td>495</td>\n",
       "      <td>495</td>\n",
       "    </tr>\n",
       "    <tr>\n",
       "      <th>female singer</th>\n",
       "      <td>284</td>\n",
       "      <td>284</td>\n",
       "      <td>284</td>\n",
       "      <td>284</td>\n",
       "    </tr>\n",
       "    <tr>\n",
       "      <th>flute</th>\n",
       "      <td>233</td>\n",
       "      <td>233</td>\n",
       "      <td>233</td>\n",
       "      <td>233</td>\n",
       "    </tr>\n",
       "    <tr>\n",
       "      <th>piano</th>\n",
       "      <td>1022</td>\n",
       "      <td>1022</td>\n",
       "      <td>1022</td>\n",
       "      <td>1022</td>\n",
       "    </tr>\n",
       "    <tr>\n",
       "      <th>tenor saxophone</th>\n",
       "      <td>29</td>\n",
       "      <td>29</td>\n",
       "      <td>29</td>\n",
       "      <td>29</td>\n",
       "    </tr>\n",
       "    <tr>\n",
       "      <th>trumpet</th>\n",
       "      <td>72</td>\n",
       "      <td>72</td>\n",
       "      <td>72</td>\n",
       "      <td>72</td>\n",
       "    </tr>\n",
       "    <tr>\n",
       "      <th>violin</th>\n",
       "      <td>1031</td>\n",
       "      <td>1031</td>\n",
       "      <td>1031</td>\n",
       "      <td>1031</td>\n",
       "    </tr>\n",
       "  </tbody>\n",
       "</table>\n",
       "</div>"
      ],
      "text/plain": [
       "                           subset  instrument_id  song_id  uuid4\n",
       "instrument                                                      \n",
       "clarinet                      328            328      328    328\n",
       "distorted electric guitar     495            495      495    495\n",
       "female singer                 284            284      284    284\n",
       "flute                         233            233      233    233\n",
       "piano                        1022           1022     1022   1022\n",
       "tenor saxophone                29             29       29     29\n",
       "trumpet                        72             72       72     72\n",
       "violin                       1031           1031     1031   1031"
      ]
     },
     "execution_count": 18,
     "metadata": {},
     "output_type": "execute_result"
    }
   ],
   "source": [
    "df_val.groupby(['instrument']).count()"
   ]
  },
  {
   "cell_type": "code",
   "execution_count": 22,
   "id": "ffd6d0dd-f677-4671-89b1-9bcf0fdff337",
   "metadata": {
    "tags": []
   },
   "outputs": [],
   "source": [
    "df_val_clarinet = df_val.loc[df_val['instrument_id']==0]"
   ]
  },
  {
   "cell_type": "code",
   "execution_count": 23,
   "id": "ddb02851-4182-4177-8185-79e1933712f0",
   "metadata": {},
   "outputs": [],
   "source": [
    "df_val_clarinet = df_val_clarinet.set_index('subset').reset_index()"
   ]
  },
  {
   "cell_type": "code",
   "execution_count": 32,
   "id": "862d5a24-ca7a-44ee-9814-0553652fa3b6",
   "metadata": {},
   "outputs": [],
   "source": [
    "df_val_guitar = df_val.loc[df_val['instrument_id']==1]"
   ]
  },
  {
   "cell_type": "code",
   "execution_count": 33,
   "id": "2d782d71-0db2-4732-a6ec-9d1a415cb5ea",
   "metadata": {},
   "outputs": [],
   "source": [
    "df_val_guitar = df_val_guitar.set_index('subset').reset_index()"
   ]
  },
  {
   "cell_type": "code",
   "execution_count": 34,
   "id": "92ff9ef2-b2aa-4a71-bbd0-270950621ef0",
   "metadata": {},
   "outputs": [],
   "source": [
    "df_val_singer = df_val.loc[df_val['instrument_id']==2]"
   ]
  },
  {
   "cell_type": "code",
   "execution_count": 35,
   "id": "55831b65-5d75-4383-8a91-42ad40c367aa",
   "metadata": {},
   "outputs": [],
   "source": [
    "df_val_singer = df_val_singer.set_index('subset').reset_index()"
   ]
  },
  {
   "cell_type": "code",
   "execution_count": 208,
   "id": "2d2f9a41-92f3-450e-9345-d0d3cf9938ef",
   "metadata": {},
   "outputs": [],
   "source": [
    "# with the test subset"
   ]
  },
  {
   "cell_type": "code",
   "execution_count": 20,
   "id": "743d5258-f3ae-469c-beae-2752f43a2301",
   "metadata": {},
   "outputs": [
    {
     "data": {
      "text/html": [
       "<div>\n",
       "<style scoped>\n",
       "    .dataframe tbody tr th:only-of-type {\n",
       "        vertical-align: middle;\n",
       "    }\n",
       "\n",
       "    .dataframe tbody tr th {\n",
       "        vertical-align: top;\n",
       "    }\n",
       "\n",
       "    .dataframe thead th {\n",
       "        text-align: right;\n",
       "    }\n",
       "</style>\n",
       "<table border=\"1\" class=\"dataframe\">\n",
       "  <thead>\n",
       "    <tr style=\"text-align: right;\">\n",
       "      <th></th>\n",
       "      <th>subset</th>\n",
       "      <th>instrument_id</th>\n",
       "      <th>song_id</th>\n",
       "      <th>uuid4</th>\n",
       "    </tr>\n",
       "    <tr>\n",
       "      <th>instrument</th>\n",
       "      <th></th>\n",
       "      <th></th>\n",
       "      <th></th>\n",
       "      <th></th>\n",
       "    </tr>\n",
       "  </thead>\n",
       "  <tbody>\n",
       "    <tr>\n",
       "      <th>clarinet</th>\n",
       "      <td>732</td>\n",
       "      <td>732</td>\n",
       "      <td>732</td>\n",
       "      <td>732</td>\n",
       "    </tr>\n",
       "    <tr>\n",
       "      <th>distorted electric guitar</th>\n",
       "      <td>955</td>\n",
       "      <td>955</td>\n",
       "      <td>955</td>\n",
       "      <td>955</td>\n",
       "    </tr>\n",
       "    <tr>\n",
       "      <th>female singer</th>\n",
       "      <td>1142</td>\n",
       "      <td>1142</td>\n",
       "      <td>1142</td>\n",
       "      <td>1142</td>\n",
       "    </tr>\n",
       "    <tr>\n",
       "      <th>flute</th>\n",
       "      <td>3167</td>\n",
       "      <td>3167</td>\n",
       "      <td>3167</td>\n",
       "      <td>3167</td>\n",
       "    </tr>\n",
       "    <tr>\n",
       "      <th>piano</th>\n",
       "      <td>2609</td>\n",
       "      <td>2609</td>\n",
       "      <td>2609</td>\n",
       "      <td>2609</td>\n",
       "    </tr>\n",
       "    <tr>\n",
       "      <th>tenor saxophone</th>\n",
       "      <td>325</td>\n",
       "      <td>325</td>\n",
       "      <td>325</td>\n",
       "      <td>325</td>\n",
       "    </tr>\n",
       "    <tr>\n",
       "      <th>trumpet</th>\n",
       "      <td>406</td>\n",
       "      <td>406</td>\n",
       "      <td>406</td>\n",
       "      <td>406</td>\n",
       "    </tr>\n",
       "    <tr>\n",
       "      <th>violin</th>\n",
       "      <td>2900</td>\n",
       "      <td>2900</td>\n",
       "      <td>2900</td>\n",
       "      <td>2900</td>\n",
       "    </tr>\n",
       "  </tbody>\n",
       "</table>\n",
       "</div>"
      ],
      "text/plain": [
       "                           subset  instrument_id  song_id  uuid4\n",
       "instrument                                                      \n",
       "clarinet                      732            732      732    732\n",
       "distorted electric guitar     955            955      955    955\n",
       "female singer                1142           1142     1142   1142\n",
       "flute                        3167           3167     3167   3167\n",
       "piano                        2609           2609     2609   2609\n",
       "tenor saxophone               325            325      325    325\n",
       "trumpet                       406            406      406    406\n",
       "violin                       2900           2900     2900   2900"
      ]
     },
     "execution_count": 20,
     "metadata": {},
     "output_type": "execute_result"
    }
   ],
   "source": [
    "df_test.groupby(['instrument']).count()"
   ]
  },
  {
   "cell_type": "code",
   "execution_count": 21,
   "id": "5ccdf22a-4ac7-43c8-a6db-679c89f16641",
   "metadata": {
    "tags": []
   },
   "outputs": [],
   "source": [
    "df_test_clarinet = df_test.loc[df_test['instrument_id']==0]"
   ]
  },
  {
   "cell_type": "code",
   "execution_count": 8,
   "id": "522101c2-07b3-4eca-bd7a-3d64ae1d653c",
   "metadata": {},
   "outputs": [],
   "source": [
    "df_test_clarinet = df_test_clarinet.set_index('subset').reset_index()"
   ]
  },
  {
   "cell_type": "code",
   "execution_count": 10,
   "id": "f4eeffd7-a63f-47b9-894b-871a02d40146",
   "metadata": {},
   "outputs": [],
   "source": [
    "df_test_guitar = df_test.loc[df_test['instrument_id']==1]"
   ]
  },
  {
   "cell_type": "code",
   "execution_count": 11,
   "id": "62a18ca1-a44b-4f87-97c3-ec6a52e968a4",
   "metadata": {},
   "outputs": [],
   "source": [
    "df_test_guitar = df_test_guitar.set_index('subset').reset_index()"
   ]
  },
  {
   "cell_type": "code",
   "execution_count": 12,
   "id": "e5361666-ad0e-4119-b6ac-ed0e9339e63f",
   "metadata": {},
   "outputs": [],
   "source": [
    "df_test_singer = df_test.loc[df_test['instrument_id']==2]"
   ]
  },
  {
   "cell_type": "code",
   "execution_count": 13,
   "id": "aa6bf132-96a4-41bb-816c-e18b7ab1c679",
   "metadata": {},
   "outputs": [],
   "source": [
    "df_test_singer = df_test_singer.set_index('subset').reset_index()"
   ]
  },
  {
   "cell_type": "code",
   "execution_count": null,
   "id": "80d7b78c-7d03-4cac-ae96-66b977d9a6bf",
   "metadata": {},
   "outputs": [],
   "source": []
  },
  {
   "cell_type": "markdown",
   "id": "945b95cb-96e5-4c9a-8a5f-6e8da0069983",
   "metadata": {},
   "source": [
    "### Loading .wav audio files and saving them to .npy numpy array files"
   ]
  },
  {
   "cell_type": "code",
   "execution_count": 26,
   "id": "0c7a772e-bcc9-4ccb-95b7-344674c27630",
   "metadata": {},
   "outputs": [],
   "source": [
    "filename_pre = \"Medley-solos-DB\""
   ]
  },
  {
   "cell_type": "code",
   "execution_count": 18,
   "id": "13967094-ef34-4593-ac18-e4a8786d1550",
   "metadata": {},
   "outputs": [],
   "source": [
    "def load_files(df):\n",
    "    \"\"\"loads audio files into a list with librosa\n",
    "    input: dataframe of a single subset and instrument\n",
    "    for example: training set, distorted electric guitar\n",
    "    output: list of amplitude vectors\"\"\"\n",
    "    amplitude_df=[]\n",
    "    subset = df['subset'][0]\n",
    "    instrument_id = df['instrument_id'][0]\n",
    "    folderpath = \"../../../../../../documents/data/audio/medley/\"+subset+\"/\"\n",
    "    for file_id in df['uuid4']:\n",
    "        filepath = folderpath+filename_pre+'_'+subset+'-'+str(instrument_id)+'_'+file_id+'.wav'\n",
    "        amplitude_1, sr = librosa.load(filepath)\n",
    "        amplitude_df.append(amplitude_1)\n",
    "    return amplitude_df"
   ]
  },
  {
   "cell_type": "code",
   "execution_count": 146,
   "id": "80e1a640-aa67-42f2-9247-ef7e93a77fb7",
   "metadata": {},
   "outputs": [],
   "source": [
    "# loading audio files with librosa into lists"
   ]
  },
  {
   "cell_type": "code",
   "execution_count": 173,
   "id": "7ef82371-a21f-47de-bb77-a05186aafa65",
   "metadata": {},
   "outputs": [],
   "source": [
    "# run this cells only whe loading files for the first time\n",
    "# otherwise load amplitude vectors from saved .npy files "
   ]
  },
  {
   "cell_type": "code",
   "execution_count": 52,
   "id": "7bf75949-4b50-4abc-89ad-d84b4f8a029d",
   "metadata": {},
   "outputs": [],
   "source": [
    "amplitude_train_clarinet = load_files(df_train_clarinet)"
   ]
  },
  {
   "cell_type": "code",
   "execution_count": 53,
   "id": "11802dea-3d56-4e97-87d6-6006bb5ba4c2",
   "metadata": {},
   "outputs": [],
   "source": [
    "amplitude_train_guitar = load_files(df_train_guitar)"
   ]
  },
  {
   "cell_type": "code",
   "execution_count": 234,
   "id": "d7a1b05f-294d-47a6-ba07-43bf262b4119",
   "metadata": {},
   "outputs": [],
   "source": [
    "amplitude_train_singer = load_files(df_train_singer)"
   ]
  },
  {
   "cell_type": "code",
   "execution_count": 19,
   "id": "300e11f3-a6b3-45b0-ae23-ff1b33064842",
   "metadata": {},
   "outputs": [],
   "source": [
    "def save_amp_list(list_amplitudes,filename):\n",
    "    \"\"\"saves the amplitude vectors in a list into a file\n",
    "    input: list of amplitude vectors, name of the file where to save\n",
    "    for example: amp_tr_clarinet to indicate subset and instrument\n",
    "    \"\"\"\n",
    "    folderpath=\"../../../../../../documents/data/audio/medley/audio_arrays/\"\n",
    "    with open (folderpath+filename, 'wb') as f:\n",
    "        for amplitude in list_amplitudes:\n",
    "            np.save(f,amplitude)"
   ]
  },
  {
   "cell_type": "code",
   "execution_count": 211,
   "id": "09aabe8e-0e8f-4132-9896-c445baaf48eb",
   "metadata": {},
   "outputs": [],
   "source": [
    "# saving amplitude lists to numpy array file .npy"
   ]
  },
  {
   "cell_type": "code",
   "execution_count": 224,
   "id": "ab37af31-9375-483a-b88a-c7e184594ea6",
   "metadata": {},
   "outputs": [],
   "source": [
    "save_amp_list(amplitude_train_clarinet,'amp_tr_clarinet')"
   ]
  },
  {
   "cell_type": "code",
   "execution_count": 213,
   "id": "ae603536-1242-4099-b00c-e53f03069085",
   "metadata": {},
   "outputs": [],
   "source": [
    "save_amp_list(amplitude_train_guitar,'amp_tr_guitar')"
   ]
  },
  {
   "cell_type": "code",
   "execution_count": 235,
   "id": "11ca45a6-c109-40d6-9cf3-c61f471f7e78",
   "metadata": {},
   "outputs": [],
   "source": [
    "save_amp_list(amplitude_train_singer,'amp_tr_singer')"
   ]
  },
  {
   "cell_type": "code",
   "execution_count": 20,
   "id": "bba5f013-4bfa-425f-a30b-1936b981d58c",
   "metadata": {},
   "outputs": [],
   "source": [
    "def load_amp_file(filename,df):\n",
    "    \"\"\"input: filename, for example: amp_tr_clarinet\n",
    "    output: list of amplitude vectors\n",
    "    \"\"\"\n",
    "    # load amplitude vector\n",
    "    # the corresponding dataframe must be at hand\n",
    "    n_elements=(len(df))\n",
    "    folderpath=\"../../../../../../documents/data/audio/medley/audio_arrays/\"\n",
    "    amp_list=[]\n",
    "    with open (folderpath+filename, 'rb') as f:\n",
    "        for n in range(n_elements):\n",
    "            amp_1 = np.load(f)\n",
    "            amp_list.append(amp_1)\n",
    "    return amp_list"
   ]
  },
  {
   "cell_type": "code",
   "execution_count": 219,
   "id": "d79b2694-6a31-47c5-b75b-10d96e84917b",
   "metadata": {},
   "outputs": [],
   "source": [
    "amp_tr_clarinet = load_amp_file('amp_tr_clarinet', df_train_clarinet)"
   ]
  },
  {
   "cell_type": "code",
   "execution_count": 220,
   "id": "e1c79a19-463c-4390-9200-6d167f490347",
   "metadata": {},
   "outputs": [],
   "source": [
    "amp_tr_guitar = load_amp_file('amp_tr_guitar', df_train_guitar)"
   ]
  },
  {
   "cell_type": "code",
   "execution_count": 236,
   "id": "f5047643-0ce8-4038-8d3f-bcf5af43c112",
   "metadata": {},
   "outputs": [],
   "source": [
    "amp_tr_singer = load_amp_file('amp_tr_singer', df_train_singer)"
   ]
  },
  {
   "cell_type": "code",
   "execution_count": 159,
   "id": "5ae5574f-bf54-496a-b44b-d75863bbf5bf",
   "metadata": {},
   "outputs": [],
   "source": [
    "# it works!"
   ]
  },
  {
   "cell_type": "code",
   "execution_count": null,
   "id": "506d145f-c036-428a-8fc0-a34fa844c484",
   "metadata": {},
   "outputs": [],
   "source": []
  },
  {
   "cell_type": "code",
   "execution_count": null,
   "id": "1862040a-df78-4dbc-bcf2-9f362bb4276e",
   "metadata": {},
   "outputs": [],
   "source": [
    "# with the val dataframes"
   ]
  },
  {
   "cell_type": "code",
   "execution_count": 227,
   "id": "72129acc-be18-4fa2-963f-c3523bd34e6c",
   "metadata": {},
   "outputs": [],
   "source": [
    "amplitude_val_clarinet = load_files(df_val_clarinet)"
   ]
  },
  {
   "cell_type": "code",
   "execution_count": 230,
   "id": "2431f410-701c-4a64-ab86-2e9974cc50e0",
   "metadata": {},
   "outputs": [],
   "source": [
    "amplitude_val_guitar = load_files(df_val_guitar)"
   ]
  },
  {
   "cell_type": "code",
   "execution_count": 207,
   "id": "71285b08-8126-4ede-91fc-cb5d552e52e7",
   "metadata": {},
   "outputs": [],
   "source": [
    "amplitude_val_singer = load_files(df_val_singer)"
   ]
  },
  {
   "cell_type": "code",
   "execution_count": 14,
   "id": "4f82bdb6-de4a-476b-bd43-fcf35a7c17de",
   "metadata": {},
   "outputs": [],
   "source": [
    "#save validation subset amplitude arrays"
   ]
  },
  {
   "cell_type": "code",
   "execution_count": 228,
   "id": "5e9be1a0-ea28-436a-a7ea-480c99a1c262",
   "metadata": {},
   "outputs": [],
   "source": [
    "save_amp_list(amplitude_val_clarinet,'amp_val_clarinet')"
   ]
  },
  {
   "cell_type": "code",
   "execution_count": 231,
   "id": "b37f9aa7-1d6b-4966-83f0-d26f68f07fa9",
   "metadata": {},
   "outputs": [],
   "source": [
    "save_amp_list(amplitude_val_guitar,'amp_val_guitar')"
   ]
  },
  {
   "cell_type": "code",
   "execution_count": 232,
   "id": "ead634a8-c8d6-4d9d-8fbd-cb573d181502",
   "metadata": {},
   "outputs": [],
   "source": [
    "save_amp_list(amplitude_val_singer,'amp_val_singer')"
   ]
  },
  {
   "cell_type": "code",
   "execution_count": null,
   "id": "118144f2-3589-4d92-88c6-8e46ea139626",
   "metadata": {},
   "outputs": [],
   "source": [
    "#load validation subset amplitude arrays"
   ]
  },
  {
   "cell_type": "code",
   "execution_count": 24,
   "id": "8ea734f9-af4b-4599-801a-4814476a41a2",
   "metadata": {},
   "outputs": [],
   "source": [
    "amp_val_clarinet = load_amp_file('amp_val_clarinet', df_val_clarinet)"
   ]
  },
  {
   "cell_type": "code",
   "execution_count": 239,
   "id": "3d441ebb-28ca-49ce-8a84-38a04da0dcc2",
   "metadata": {},
   "outputs": [],
   "source": [
    "amp_val_guitar = load_amp_file('amp_val_guitar', df_val_guitar)"
   ]
  },
  {
   "cell_type": "code",
   "execution_count": 240,
   "id": "59d248c9-eeef-4878-9c52-d9a123a061f1",
   "metadata": {},
   "outputs": [],
   "source": [
    "amp_val_singer = load_amp_file('amp_val_singer', df_val_singer)"
   ]
  },
  {
   "cell_type": "code",
   "execution_count": null,
   "id": "5ac861ee-7973-440b-9e98-fca4d95aeb62",
   "metadata": {},
   "outputs": [],
   "source": []
  },
  {
   "cell_type": "code",
   "execution_count": null,
   "id": "67a83bfa-4b13-47df-a02a-a896354b5920",
   "metadata": {},
   "outputs": [],
   "source": [
    "#with the test dataframes"
   ]
  },
  {
   "cell_type": "code",
   "execution_count": 27,
   "id": "d642f3f6-5fad-4c40-a68c-0d83ccb12ae2",
   "metadata": {},
   "outputs": [],
   "source": [
    "amplitude_test_clarinet = load_files(df_test_clarinet)"
   ]
  },
  {
   "cell_type": "code",
   "execution_count": 30,
   "id": "343c780d-4b97-4cb9-a2a7-87ca57da04c9",
   "metadata": {},
   "outputs": [],
   "source": [
    "amplitude_test_guitar = load_files(df_test_guitar)"
   ]
  },
  {
   "cell_type": "code",
   "execution_count": 33,
   "id": "712113ab-938a-4df1-b9a0-108326e9ca13",
   "metadata": {},
   "outputs": [],
   "source": [
    "amplitude_test_singer = load_files(df_test_singer)"
   ]
  },
  {
   "cell_type": "code",
   "execution_count": 37,
   "id": "2f01e80a-04d0-4549-8e52-b4967f6534d9",
   "metadata": {},
   "outputs": [],
   "source": [
    "#save test subset amplitude arrays"
   ]
  },
  {
   "cell_type": "code",
   "execution_count": 29,
   "id": "78b68af5-a871-4846-a76c-5cb041ab4c03",
   "metadata": {},
   "outputs": [],
   "source": [
    "save_amp_list(amplitude_test_clarinet,'amp_test_clarinet')"
   ]
  },
  {
   "cell_type": "code",
   "execution_count": 31,
   "id": "4d4f7c70-fae6-4de2-a938-6f33d79cf184",
   "metadata": {},
   "outputs": [],
   "source": [
    "save_amp_list(amplitude_test_guitar,'amp_test_guitar')"
   ]
  },
  {
   "cell_type": "code",
   "execution_count": 34,
   "id": "834989f5-537e-46fe-8f1b-7282a2aaaa56",
   "metadata": {},
   "outputs": [],
   "source": [
    "save_amp_list(amplitude_test_singer,'amp_test_singer')"
   ]
  },
  {
   "cell_type": "code",
   "execution_count": 38,
   "id": "760aac4e-35cd-4f05-aa30-b3d519175c25",
   "metadata": {},
   "outputs": [],
   "source": [
    "#load test subset amplitude arrays"
   ]
  },
  {
   "cell_type": "code",
   "execution_count": 39,
   "id": "ed39ce29-434f-41ed-9fca-81bdf2986af3",
   "metadata": {},
   "outputs": [],
   "source": [
    "amp_test_clarinet = load_amp_file('amp_test_clarinet', df_test_clarinet)"
   ]
  },
  {
   "cell_type": "code",
   "execution_count": 40,
   "id": "ca95ad9c-da05-4ca2-ae70-ddfb04b5533b",
   "metadata": {},
   "outputs": [],
   "source": [
    "amp_test_guitar = load_amp_file('amp_test_guitar', df_test_guitar)"
   ]
  },
  {
   "cell_type": "code",
   "execution_count": 41,
   "id": "2366b76d-b347-4fa4-8d1e-2946ce6dd048",
   "metadata": {},
   "outputs": [],
   "source": [
    "amp_test_singer = load_amp_file('amp_test_singer', df_test_singer)"
   ]
  },
  {
   "cell_type": "code",
   "execution_count": null,
   "id": "e4dbb871-051d-4799-9723-0f84830f4d79",
   "metadata": {},
   "outputs": [],
   "source": []
  },
  {
   "cell_type": "code",
   "execution_count": null,
   "id": "3df1e7bf-3b49-4fad-b356-d4387ba5260b",
   "metadata": {},
   "outputs": [],
   "source": [
    "#benchmark"
   ]
  },
  {
   "cell_type": "code",
   "execution_count": 42,
   "id": "73ed476e-6854-4d6d-a46e-1f1619c8dacf",
   "metadata": {},
   "outputs": [
    {
     "data": {
      "text/html": [
       "<div>\n",
       "<style scoped>\n",
       "    .dataframe tbody tr th:only-of-type {\n",
       "        vertical-align: middle;\n",
       "    }\n",
       "\n",
       "    .dataframe tbody tr th {\n",
       "        vertical-align: top;\n",
       "    }\n",
       "\n",
       "    .dataframe thead th {\n",
       "        text-align: right;\n",
       "    }\n",
       "</style>\n",
       "<table border=\"1\" class=\"dataframe\">\n",
       "  <thead>\n",
       "    <tr style=\"text-align: right;\">\n",
       "      <th></th>\n",
       "      <th>subset</th>\n",
       "      <th>instrument_id</th>\n",
       "      <th>song_id</th>\n",
       "      <th>uuid4</th>\n",
       "    </tr>\n",
       "    <tr>\n",
       "      <th>instrument</th>\n",
       "      <th></th>\n",
       "      <th></th>\n",
       "      <th></th>\n",
       "      <th></th>\n",
       "    </tr>\n",
       "  </thead>\n",
       "  <tbody>\n",
       "    <tr>\n",
       "      <th>clarinet</th>\n",
       "      <td>732</td>\n",
       "      <td>732</td>\n",
       "      <td>732</td>\n",
       "      <td>732</td>\n",
       "    </tr>\n",
       "    <tr>\n",
       "      <th>distorted electric guitar</th>\n",
       "      <td>955</td>\n",
       "      <td>955</td>\n",
       "      <td>955</td>\n",
       "      <td>955</td>\n",
       "    </tr>\n",
       "    <tr>\n",
       "      <th>female singer</th>\n",
       "      <td>1142</td>\n",
       "      <td>1142</td>\n",
       "      <td>1142</td>\n",
       "      <td>1142</td>\n",
       "    </tr>\n",
       "    <tr>\n",
       "      <th>flute</th>\n",
       "      <td>3167</td>\n",
       "      <td>3167</td>\n",
       "      <td>3167</td>\n",
       "      <td>3167</td>\n",
       "    </tr>\n",
       "    <tr>\n",
       "      <th>piano</th>\n",
       "      <td>2609</td>\n",
       "      <td>2609</td>\n",
       "      <td>2609</td>\n",
       "      <td>2609</td>\n",
       "    </tr>\n",
       "    <tr>\n",
       "      <th>tenor saxophone</th>\n",
       "      <td>325</td>\n",
       "      <td>325</td>\n",
       "      <td>325</td>\n",
       "      <td>325</td>\n",
       "    </tr>\n",
       "    <tr>\n",
       "      <th>trumpet</th>\n",
       "      <td>406</td>\n",
       "      <td>406</td>\n",
       "      <td>406</td>\n",
       "      <td>406</td>\n",
       "    </tr>\n",
       "    <tr>\n",
       "      <th>violin</th>\n",
       "      <td>2900</td>\n",
       "      <td>2900</td>\n",
       "      <td>2900</td>\n",
       "      <td>2900</td>\n",
       "    </tr>\n",
       "  </tbody>\n",
       "</table>\n",
       "</div>"
      ],
      "text/plain": [
       "                           subset  instrument_id  song_id  uuid4\n",
       "instrument                                                      \n",
       "clarinet                      732            732      732    732\n",
       "distorted electric guitar     955            955      955    955\n",
       "female singer                1142           1142     1142   1142\n",
       "flute                        3167           3167     3167   3167\n",
       "piano                        2609           2609     2609   2609\n",
       "tenor saxophone               325            325      325    325\n",
       "trumpet                       406            406      406    406\n",
       "violin                       2900           2900     2900   2900"
      ]
     },
     "execution_count": 42,
     "metadata": {},
     "output_type": "execute_result"
    }
   ],
   "source": [
    "df_test.groupby(['instrument']).count()"
   ]
  },
  {
   "cell_type": "code",
   "execution_count": 44,
   "id": "8ca335b0-6e44-49d4-a2cf-cfc59089f0e5",
   "metadata": {},
   "outputs": [
    {
     "data": {
      "text/plain": [
       "(732, 955, 1142)"
      ]
     },
     "execution_count": 44,
     "metadata": {},
     "output_type": "execute_result"
    }
   ],
   "source": [
    "len(amp_test_clarinet), len(amp_test_guitar), len(amp_test_singer)"
   ]
  },
  {
   "cell_type": "code",
   "execution_count": 45,
   "id": "50a52541-4420-40e2-896d-ee0f2c532960",
   "metadata": {},
   "outputs": [],
   "source": [
    "trues=[]\n",
    "for i in range(len(amp_test_clarinet)):\n",
    "    trues.append((amp_test_clarinet[0] == amplitude_test_clarinet[0]).all())"
   ]
  },
  {
   "cell_type": "code",
   "execution_count": 48,
   "id": "f31e0b7a-b26c-4eea-881e-2b06ea7891ed",
   "metadata": {},
   "outputs": [],
   "source": [
    "trues=[]\n",
    "for i in range(len(amp_test_guitar)):\n",
    "    trues.append((amp_test_guitar[0] == amplitude_test_guitar[0]).all())"
   ]
  },
  {
   "cell_type": "code",
   "execution_count": 52,
   "id": "4940c493-b428-4c95-afab-428f107fc8a3",
   "metadata": {},
   "outputs": [],
   "source": [
    "trues=[]\n",
    "for i in range(len(amp_test_singer)):\n",
    "    trues.append((amp_test_singer[0] == amplitude_test_singer[0]).all())"
   ]
  },
  {
   "cell_type": "code",
   "execution_count": 53,
   "id": "ec81ca51-db6c-4329-83e2-d7bb27ee0d36",
   "metadata": {},
   "outputs": [],
   "source": [
    "df_trues=pd.DataFrame(trues)"
   ]
  },
  {
   "cell_type": "code",
   "execution_count": 54,
   "id": "9e8890d8-c4df-4b8a-8e95-e53d4cfa42c2",
   "metadata": {},
   "outputs": [
    {
     "data": {
      "text/html": [
       "<div>\n",
       "<style scoped>\n",
       "    .dataframe tbody tr th:only-of-type {\n",
       "        vertical-align: middle;\n",
       "    }\n",
       "\n",
       "    .dataframe tbody tr th {\n",
       "        vertical-align: top;\n",
       "    }\n",
       "\n",
       "    .dataframe thead th {\n",
       "        text-align: right;\n",
       "    }\n",
       "</style>\n",
       "<table border=\"1\" class=\"dataframe\">\n",
       "  <thead>\n",
       "    <tr style=\"text-align: right;\">\n",
       "      <th></th>\n",
       "      <th>0</th>\n",
       "    </tr>\n",
       "  </thead>\n",
       "  <tbody>\n",
       "    <tr>\n",
       "      <th>count</th>\n",
       "      <td>1142</td>\n",
       "    </tr>\n",
       "    <tr>\n",
       "      <th>unique</th>\n",
       "      <td>1</td>\n",
       "    </tr>\n",
       "    <tr>\n",
       "      <th>top</th>\n",
       "      <td>True</td>\n",
       "    </tr>\n",
       "    <tr>\n",
       "      <th>freq</th>\n",
       "      <td>1142</td>\n",
       "    </tr>\n",
       "  </tbody>\n",
       "</table>\n",
       "</div>"
      ],
      "text/plain": [
       "           0\n",
       "count   1142\n",
       "unique     1\n",
       "top     True\n",
       "freq    1142"
      ]
     },
     "execution_count": 54,
     "metadata": {},
     "output_type": "execute_result"
    }
   ],
   "source": [
    "df_trues.describe()"
   ]
  },
  {
   "cell_type": "code",
   "execution_count": 55,
   "id": "ca8c4fad-554c-4e66-a107-b7598e28eb33",
   "metadata": {},
   "outputs": [],
   "source": [
    "# it worked!"
   ]
  },
  {
   "cell_type": "code",
   "execution_count": 2,
   "id": "039de6f0-500f-4b4a-83b0-f5f209c70ff8",
   "metadata": {},
   "outputs": [],
   "source": [
    "# up here: second part, load data and ML in different notebook\n",
    "# intrument_recognition.ipynb"
   ]
  },
  {
   "cell_type": "code",
   "execution_count": null,
   "id": "aa4b28cb-3e38-49fe-893c-c66697a409f7",
   "metadata": {},
   "outputs": [],
   "source": []
  },
  {
   "cell_type": "code",
   "execution_count": null,
   "id": "ecd710a1-7d4e-44c6-a34f-b3be58354a61",
   "metadata": {},
   "outputs": [],
   "source": []
  },
  {
   "cell_type": "code",
   "execution_count": 1,
   "id": "f5c9039b-9421-422b-86bd-d4cbdeae5538",
   "metadata": {},
   "outputs": [],
   "source": [
    "#up here can be deleted, is implemented in instrument_recognition.ipynb"
   ]
  }
 ],
 "metadata": {
  "kernelspec": {
   "display_name": "tensorflow_env",
   "language": "python",
   "name": "tensorflow_env"
  },
  "language_info": {
   "codemirror_mode": {
    "name": "ipython",
    "version": 3
   },
   "file_extension": ".py",
   "mimetype": "text/x-python",
   "name": "python",
   "nbconvert_exporter": "python",
   "pygments_lexer": "ipython3",
   "version": "3.6.13"
  }
 },
 "nbformat": 4,
 "nbformat_minor": 5
}
