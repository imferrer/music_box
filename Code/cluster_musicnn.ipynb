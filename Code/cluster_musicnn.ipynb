{
 "cells": [
  {
   "cell_type": "code",
   "execution_count": 1,
   "id": "4a91f8e7-b6ca-4513-9c71-b74d1e9cd0ce",
   "metadata": {},
   "outputs": [],
   "source": [
    "import os\n",
    "import librosa\n",
    "import librosa.display\n",
    "import IPython.display as ipd\n",
    "\n",
    "import pandas as pd\n",
    "import numpy as np\n",
    "import matplotlib.pyplot as plt"
   ]
  },
  {
   "cell_type": "code",
   "execution_count": null,
   "id": "ba8324dc-c700-45be-aa69-7afe544da98a",
   "metadata": {},
   "outputs": [],
   "source": []
  },
  {
   "cell_type": "code",
   "execution_count": 3,
   "id": "a9347956-12ff-4b1d-97b9-a8dba0a720db",
   "metadata": {},
   "outputs": [],
   "source": [
    "# load 1 song"
   ]
  },
  {
   "cell_type": "code",
   "execution_count": 2,
   "id": "4fc2d754-ef85-4972-b9a4-3056e42bd271",
   "metadata": {},
   "outputs": [],
   "source": [
    "# musicnn"
   ]
  },
  {
   "cell_type": "code",
   "execution_count": null,
   "id": "70535791-bc50-487c-871c-744d1e6f4433",
   "metadata": {},
   "outputs": [],
   "source": [
    "# extract 10 s snippets"
   ]
  },
  {
   "cell_type": "code",
   "execution_count": null,
   "id": "36353e24-8162-4234-9982-1b0db5a46a3b",
   "metadata": {},
   "outputs": [],
   "source": [
    "# musicnn's"
   ]
  },
  {
   "cell_type": "code",
   "execution_count": null,
   "id": "bad2f459-dd59-4c9a-8356-4f7e5ba78e85",
   "metadata": {},
   "outputs": [],
   "source": [
    "# organize snippets of many songs"
   ]
  },
  {
   "cell_type": "code",
   "execution_count": null,
   "id": "95eb0ec8-3ccf-4a2f-803c-3a333dbefc57",
   "metadata": {},
   "outputs": [],
   "source": [
    "# clustering"
   ]
  },
  {
   "cell_type": "code",
   "execution_count": null,
   "id": "8978f307-972b-46f7-bf8e-5750eefe71d2",
   "metadata": {},
   "outputs": [],
   "source": [
    "# repeat with PCA"
   ]
  },
  {
   "cell_type": "code",
   "execution_count": 4,
   "id": "6c2051c2-3950-45a9-9fd2-ca6377b7d22a",
   "metadata": {},
   "outputs": [],
   "source": [
    "# repeat with a better Songs Collection"
   ]
  }
 ],
 "metadata": {
  "kernelspec": {
   "display_name": "tensorflow_env",
   "language": "python",
   "name": "tensorflow_env"
  },
  "language_info": {
   "codemirror_mode": {
    "name": "ipython",
    "version": 3
   },
   "file_extension": ".py",
   "mimetype": "text/x-python",
   "name": "python",
   "nbconvert_exporter": "python",
   "pygments_lexer": "ipython3",
   "version": "3.6.13"
  }
 },
 "nbformat": 4,
 "nbformat_minor": 5
}
