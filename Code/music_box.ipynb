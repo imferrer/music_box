{
 "cells": [
  {
   "cell_type": "code",
   "execution_count": 1,
   "id": "d96da2cf-c5ad-4d67-9824-72fd53314911",
   "metadata": {},
   "outputs": [],
   "source": [
    "import librosa"
   ]
  },
  {
   "cell_type": "code",
   "execution_count": null,
   "id": "76fc6b6e-53f5-448d-9060-f9c0f8e26dbc",
   "metadata": {},
   "outputs": [],
   "source": [
    "# just extract notes"
   ]
  },
  {
   "cell_type": "code",
   "execution_count": null,
   "id": "617b78ce-a2ba-4c37-9016-c4078d598b15",
   "metadata": {},
   "outputs": [],
   "source": [
    "# just extract chords"
   ]
  },
  {
   "cell_type": "code",
   "execution_count": null,
   "id": "2b9ace20-7ff7-4149-9157-75c705dca05e",
   "metadata": {},
   "outputs": [],
   "source": [
    "# read one spectrogram"
   ]
  },
  {
   "cell_type": "code",
   "execution_count": null,
   "id": "3ec5b15c-30f6-4a9c-8281-2eec8fce9214",
   "metadata": {},
   "outputs": [],
   "source": [
    "# create one single vector out of spectrogram\n",
    "# create one single CNN matching the input vector"
   ]
  },
  {
   "cell_type": "code",
   "execution_count": null,
   "id": "28e90b73-f14b-4484-825a-637ad2e0b3e3",
   "metadata": {},
   "outputs": [],
   "source": [
    "# next steps:\n",
    "# basic problems\n",
    "# distinguish two instruments\n",
    "# distinguish two notes\n",
    "# distinguish two chords"
   ]
  },
  {
   "cell_type": "code",
   "execution_count": null,
   "id": "1033aae5-c9d2-46ec-9d50-72684f821230",
   "metadata": {},
   "outputs": [],
   "source": []
  },
  {
   "cell_type": "code",
   "execution_count": null,
   "id": "4f8f1edc-cf3b-4ead-928f-964831939068",
   "metadata": {},
   "outputs": [],
   "source": []
  },
  {
   "cell_type": "code",
   "execution_count": null,
   "id": "d86fd37f-76b9-4f4a-ba36-4e8768bc91d6",
   "metadata": {},
   "outputs": [],
   "source": [
    "# Definition of features and targets:\n",
    "# feature X:\n",
    "# extract file name\n",
    "\n",
    "# vector X n = 21571 with complete file path\n"
   ]
  },
  {
   "cell_type": "code",
   "execution_count": 17,
   "id": "079be8db-cb85-492b-99c8-6db4fd936657",
   "metadata": {},
   "outputs": [],
   "source": [
    "# frequency bin x # frames\n",
    "# frequency bins = framesize/2 + 1; 2048/2+1=1025\n",
    "# frames = (samples - framesize)/hopsize + 1; (66150 - 2048)/512 + 1 = x"
   ]
  },
  {
   "cell_type": "code",
   "execution_count": null,
   "id": "c0cf20e5-5933-4a84-95b6-ed3d5bad7da7",
   "metadata": {},
   "outputs": [],
   "source": [
    "# extract spectrogram\n",
    "    # Mel Spectrogram\n",
    "    # Result: 21571 x 90 x 125\n",
    "    # Split in (train+validate, t/v, test)\n",
    "    # test: 12236, train:5841, val:3494\n"
   ]
  },
  {
   "cell_type": "code",
   "execution_count": null,
   "id": "300a4dab-d55a-44fc-b1f5-bc59344c246d",
   "metadata": {},
   "outputs": [],
   "source": [
    "#target y:\n",
    "    # column: instrument_id, one-hot encode\n",
    "    # result: (21000,)"
   ]
  },
  {
   "cell_type": "code",
   "execution_count": 3,
   "id": "2fc79b16-7b9b-4e5c-ba0b-92ca45d43c8a",
   "metadata": {},
   "outputs": [],
   "source": [
    "# preprocess the data\n",
    "# X_train\n",
    "# X_validation\n",
    "# X_test"
   ]
  }
 ],
 "metadata": {
  "kernelspec": {
   "display_name": "Python 3 (ipykernel)",
   "language": "python",
   "name": "python3"
  },
  "language_info": {
   "codemirror_mode": {
    "name": "ipython",
    "version": 3
   },
   "file_extension": ".py",
   "mimetype": "text/x-python",
   "name": "python",
   "nbconvert_exporter": "python",
   "pygments_lexer": "ipython3",
   "version": "3.9.7"
  }
 },
 "nbformat": 4,
 "nbformat_minor": 5
}
