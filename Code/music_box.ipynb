{
 "cells": [
  {
   "cell_type": "code",
   "execution_count": 1,
   "id": "d96da2cf-c5ad-4d67-9824-72fd53314911",
   "metadata": {},
   "outputs": [],
   "source": [
    "import librosa"
   ]
  },
  {
   "cell_type": "code",
   "execution_count": null,
   "id": "76fc6b6e-53f5-448d-9060-f9c0f8e26dbc",
   "metadata": {},
   "outputs": [],
   "source": [
    "# just extract notes"
   ]
  },
  {
   "cell_type": "code",
   "execution_count": null,
   "id": "617b78ce-a2ba-4c37-9016-c4078d598b15",
   "metadata": {},
   "outputs": [],
   "source": [
    "# just extract chords"
   ]
  },
  {
   "cell_type": "code",
   "execution_count": null,
   "id": "2b9ace20-7ff7-4149-9157-75c705dca05e",
   "metadata": {},
   "outputs": [],
   "source": [
    "# read one spectrogram"
   ]
  },
  {
   "cell_type": "code",
   "execution_count": null,
   "id": "3ec5b15c-30f6-4a9c-8281-2eec8fce9214",
   "metadata": {},
   "outputs": [],
   "source": [
    "# create one single vector out of spectrogram\n",
    "# create one single CNN matching the input vector"
   ]
  },
  {
   "cell_type": "code",
   "execution_count": null,
   "id": "28e90b73-f14b-4484-825a-637ad2e0b3e3",
   "metadata": {},
   "outputs": [],
   "source": [
    "# next steps:\n",
    "# basic problems\n",
    "# distinguish two instruments\n",
    "# distinguish two notes\n",
    "# distinguish two chords"
   ]
  }
 ],
 "metadata": {
  "kernelspec": {
   "display_name": "Python 3 (ipykernel)",
   "language": "python",
   "name": "python3"
  },
  "language_info": {
   "codemirror_mode": {
    "name": "ipython",
    "version": 3
   },
   "file_extension": ".py",
   "mimetype": "text/x-python",
   "name": "python",
   "nbconvert_exporter": "python",
   "pygments_lexer": "ipython3",
   "version": "3.10.4"
  }
 },
 "nbformat": 4,
 "nbformat_minor": 5
}
