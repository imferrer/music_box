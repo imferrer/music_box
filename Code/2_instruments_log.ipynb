{
 "cells": [
  {
   "cell_type": "code",
   "execution_count": 1,
   "id": "656386bb-6a78-4ca5-8d7c-d1e656cd89cc",
   "metadata": {},
   "outputs": [],
   "source": [
    "import os\n",
    "import librosa\n",
    "import librosa.display\n",
    "import IPython.display as ipd\n",
    "\n",
    "import pandas as pd\n",
    "import numpy as np\n",
    "import matplotlib.pyplot as plt\n",
    "import tensorflow.keras as keras\n",
    "import pickle"
   ]
  },
  {
   "cell_type": "code",
   "execution_count": 2,
   "id": "da147974-e01e-4bd2-9cee-c168d7fff363",
   "metadata": {},
   "outputs": [],
   "source": [
    "from tensorflow.keras.models import Sequential\n",
    "from tensorflow.keras.layers import Conv2D, Dense, MaxPooling2D, Activation, Flatten, Dropout, BatchNormalization\n",
    "from tensorflow.keras import models, layers\n",
    "from tensorflow.keras import backend as K\n",
    "\n",
    "from tensorflow.keras.optimizers import Adam\n",
    "from tensorflow.keras.utils import to_categorical\n",
    "\n",
    "from sklearn.metrics import confusion_matrix,ConfusionMatrixDisplay"
   ]
  },
  {
   "cell_type": "markdown",
   "id": "bb86f635-5fc8-419b-93f6-6aea4c36e26a",
   "metadata": {},
   "source": [
    "#### The Medley Instruments Data Set"
   ]
  },
  {
   "cell_type": "code",
   "execution_count": 3,
   "id": "9fdc84f0-8a2b-4ee1-b750-7157e5e98027",
   "metadata": {},
   "outputs": [],
   "source": [
    "df = pd.read_csv('~/documents/data/audio/medley/csv/Medley-solos-DB_metadata.csv')"
   ]
  },
  {
   "cell_type": "code",
   "execution_count": 4,
   "id": "092df964-70fe-4949-8a1e-732912cb7e1b",
   "metadata": {},
   "outputs": [
    {
     "data": {
      "text/html": [
       "<div>\n",
       "<style scoped>\n",
       "    .dataframe tbody tr th:only-of-type {\n",
       "        vertical-align: middle;\n",
       "    }\n",
       "\n",
       "    .dataframe tbody tr th {\n",
       "        vertical-align: top;\n",
       "    }\n",
       "\n",
       "    .dataframe thead th {\n",
       "        text-align: right;\n",
       "    }\n",
       "</style>\n",
       "<table border=\"1\" class=\"dataframe\">\n",
       "  <thead>\n",
       "    <tr style=\"text-align: right;\">\n",
       "      <th></th>\n",
       "      <th>subset</th>\n",
       "      <th>instrument</th>\n",
       "      <th>instrument_id</th>\n",
       "      <th>song_id</th>\n",
       "      <th>uuid4</th>\n",
       "    </tr>\n",
       "  </thead>\n",
       "  <tbody>\n",
       "    <tr>\n",
       "      <th>0</th>\n",
       "      <td>test</td>\n",
       "      <td>clarinet</td>\n",
       "      <td>0</td>\n",
       "      <td>0</td>\n",
       "      <td>0e4371ac-1c6a-51ab-fdb7-f8abd5fbf1a3</td>\n",
       "    </tr>\n",
       "    <tr>\n",
       "      <th>1</th>\n",
       "      <td>test</td>\n",
       "      <td>clarinet</td>\n",
       "      <td>0</td>\n",
       "      <td>0</td>\n",
       "      <td>33383119-fd64-59c1-f596-d1a23e8a0eff</td>\n",
       "    </tr>\n",
       "    <tr>\n",
       "      <th>2</th>\n",
       "      <td>test</td>\n",
       "      <td>clarinet</td>\n",
       "      <td>0</td>\n",
       "      <td>0</td>\n",
       "      <td>b2b7a288-e169-5642-fced-b509c06b11fc</td>\n",
       "    </tr>\n",
       "    <tr>\n",
       "      <th>3</th>\n",
       "      <td>test</td>\n",
       "      <td>clarinet</td>\n",
       "      <td>0</td>\n",
       "      <td>0</td>\n",
       "      <td>151b6ee4-313a-58d9-fbcb-bab73e0d426b</td>\n",
       "    </tr>\n",
       "    <tr>\n",
       "      <th>4</th>\n",
       "      <td>test</td>\n",
       "      <td>clarinet</td>\n",
       "      <td>0</td>\n",
       "      <td>0</td>\n",
       "      <td>b43999d1-9b5e-557f-f9bc-1b3759659858</td>\n",
       "    </tr>\n",
       "    <tr>\n",
       "      <th>...</th>\n",
       "      <td>...</td>\n",
       "      <td>...</td>\n",
       "      <td>...</td>\n",
       "      <td>...</td>\n",
       "      <td>...</td>\n",
       "    </tr>\n",
       "    <tr>\n",
       "      <th>21566</th>\n",
       "      <td>validation</td>\n",
       "      <td>violin</td>\n",
       "      <td>7</td>\n",
       "      <td>226</td>\n",
       "      <td>fe4e8e98-6e0f-5a31-f446-99c10e0ac485</td>\n",
       "    </tr>\n",
       "    <tr>\n",
       "      <th>21567</th>\n",
       "      <td>validation</td>\n",
       "      <td>violin</td>\n",
       "      <td>7</td>\n",
       "      <td>226</td>\n",
       "      <td>aa606c78-9ee5-507f-f7e9-67c3530faf0f</td>\n",
       "    </tr>\n",
       "    <tr>\n",
       "      <th>21568</th>\n",
       "      <td>validation</td>\n",
       "      <td>violin</td>\n",
       "      <td>7</td>\n",
       "      <td>226</td>\n",
       "      <td>05e15c0a-d530-5f3e-fa82-58c55fa44993</td>\n",
       "    </tr>\n",
       "    <tr>\n",
       "      <th>21569</th>\n",
       "      <td>validation</td>\n",
       "      <td>violin</td>\n",
       "      <td>7</td>\n",
       "      <td>226</td>\n",
       "      <td>2dd485de-471d-5d8b-fe92-ef957dac021c</td>\n",
       "    </tr>\n",
       "    <tr>\n",
       "      <th>21570</th>\n",
       "      <td>validation</td>\n",
       "      <td>violin</td>\n",
       "      <td>7</td>\n",
       "      <td>226</td>\n",
       "      <td>c407e2c7-5612-5f30-f7ac-4ae3f0aea125</td>\n",
       "    </tr>\n",
       "  </tbody>\n",
       "</table>\n",
       "<p>21571 rows × 5 columns</p>\n",
       "</div>"
      ],
      "text/plain": [
       "           subset instrument  instrument_id  song_id  \\\n",
       "0            test   clarinet              0        0   \n",
       "1            test   clarinet              0        0   \n",
       "2            test   clarinet              0        0   \n",
       "3            test   clarinet              0        0   \n",
       "4            test   clarinet              0        0   \n",
       "...           ...        ...            ...      ...   \n",
       "21566  validation     violin              7      226   \n",
       "21567  validation     violin              7      226   \n",
       "21568  validation     violin              7      226   \n",
       "21569  validation     violin              7      226   \n",
       "21570  validation     violin              7      226   \n",
       "\n",
       "                                      uuid4  \n",
       "0      0e4371ac-1c6a-51ab-fdb7-f8abd5fbf1a3  \n",
       "1      33383119-fd64-59c1-f596-d1a23e8a0eff  \n",
       "2      b2b7a288-e169-5642-fced-b509c06b11fc  \n",
       "3      151b6ee4-313a-58d9-fbcb-bab73e0d426b  \n",
       "4      b43999d1-9b5e-557f-f9bc-1b3759659858  \n",
       "...                                     ...  \n",
       "21566  fe4e8e98-6e0f-5a31-f446-99c10e0ac485  \n",
       "21567  aa606c78-9ee5-507f-f7e9-67c3530faf0f  \n",
       "21568  05e15c0a-d530-5f3e-fa82-58c55fa44993  \n",
       "21569  2dd485de-471d-5d8b-fe92-ef957dac021c  \n",
       "21570  c407e2c7-5612-5f30-f7ac-4ae3f0aea125  \n",
       "\n",
       "[21571 rows x 5 columns]"
      ]
     },
     "execution_count": 4,
     "metadata": {},
     "output_type": "execute_result"
    }
   ],
   "source": [
    "df"
   ]
  },
  {
   "cell_type": "code",
   "execution_count": 5,
   "id": "bac4496c-b439-4cfe-a367-57c40a21d03a",
   "metadata": {},
   "outputs": [
    {
     "data": {
      "text/plain": [
       "subset               3\n",
       "instrument           8\n",
       "instrument_id        8\n",
       "song_id            227\n",
       "uuid4            21571\n",
       "dtype: int64"
      ]
     },
     "execution_count": 5,
     "metadata": {},
     "output_type": "execute_result"
    }
   ],
   "source": [
    "df.nunique()"
   ]
  },
  {
   "cell_type": "code",
   "execution_count": 6,
   "id": "0ddbd1a9-6059-4165-8831-c29f2f68ce7a",
   "metadata": {},
   "outputs": [
    {
     "data": {
      "text/plain": [
       "array(['clarinet', 'distorted electric guitar', 'female singer', 'flute',\n",
       "       'piano', 'tenor saxophone', 'trumpet', 'violin'], dtype=object)"
      ]
     },
     "execution_count": 6,
     "metadata": {},
     "output_type": "execute_result"
    }
   ],
   "source": [
    "df['instrument'].unique()"
   ]
  },
  {
   "cell_type": "code",
   "execution_count": 7,
   "id": "1505e676-d26c-4023-8511-901c283d02f7",
   "metadata": {},
   "outputs": [
    {
     "data": {
      "text/html": [
       "<div>\n",
       "<style scoped>\n",
       "    .dataframe tbody tr th:only-of-type {\n",
       "        vertical-align: middle;\n",
       "    }\n",
       "\n",
       "    .dataframe tbody tr th {\n",
       "        vertical-align: top;\n",
       "    }\n",
       "\n",
       "    .dataframe thead th {\n",
       "        text-align: right;\n",
       "    }\n",
       "</style>\n",
       "<table border=\"1\" class=\"dataframe\">\n",
       "  <thead>\n",
       "    <tr style=\"text-align: right;\">\n",
       "      <th></th>\n",
       "      <th>subset</th>\n",
       "      <th>instrument_id</th>\n",
       "      <th>song_id</th>\n",
       "      <th>uuid4</th>\n",
       "    </tr>\n",
       "    <tr>\n",
       "      <th>instrument</th>\n",
       "      <th></th>\n",
       "      <th></th>\n",
       "      <th></th>\n",
       "      <th></th>\n",
       "    </tr>\n",
       "  </thead>\n",
       "  <tbody>\n",
       "    <tr>\n",
       "      <th>clarinet</th>\n",
       "      <td>1311</td>\n",
       "      <td>1311</td>\n",
       "      <td>1311</td>\n",
       "      <td>1311</td>\n",
       "    </tr>\n",
       "    <tr>\n",
       "      <th>distorted electric guitar</th>\n",
       "      <td>1854</td>\n",
       "      <td>1854</td>\n",
       "      <td>1854</td>\n",
       "      <td>1854</td>\n",
       "    </tr>\n",
       "    <tr>\n",
       "      <th>female singer</th>\n",
       "      <td>1744</td>\n",
       "      <td>1744</td>\n",
       "      <td>1744</td>\n",
       "      <td>1744</td>\n",
       "    </tr>\n",
       "    <tr>\n",
       "      <th>flute</th>\n",
       "      <td>3555</td>\n",
       "      <td>3555</td>\n",
       "      <td>3555</td>\n",
       "      <td>3555</td>\n",
       "    </tr>\n",
       "    <tr>\n",
       "      <th>piano</th>\n",
       "      <td>6032</td>\n",
       "      <td>6032</td>\n",
       "      <td>6032</td>\n",
       "      <td>6032</td>\n",
       "    </tr>\n",
       "    <tr>\n",
       "      <th>tenor saxophone</th>\n",
       "      <td>477</td>\n",
       "      <td>477</td>\n",
       "      <td>477</td>\n",
       "      <td>477</td>\n",
       "    </tr>\n",
       "    <tr>\n",
       "      <th>trumpet</th>\n",
       "      <td>627</td>\n",
       "      <td>627</td>\n",
       "      <td>627</td>\n",
       "      <td>627</td>\n",
       "    </tr>\n",
       "    <tr>\n",
       "      <th>violin</th>\n",
       "      <td>5971</td>\n",
       "      <td>5971</td>\n",
       "      <td>5971</td>\n",
       "      <td>5971</td>\n",
       "    </tr>\n",
       "  </tbody>\n",
       "</table>\n",
       "</div>"
      ],
      "text/plain": [
       "                           subset  instrument_id  song_id  uuid4\n",
       "instrument                                                      \n",
       "clarinet                     1311           1311     1311   1311\n",
       "distorted electric guitar    1854           1854     1854   1854\n",
       "female singer                1744           1744     1744   1744\n",
       "flute                        3555           3555     3555   3555\n",
       "piano                        6032           6032     6032   6032\n",
       "tenor saxophone               477            477      477    477\n",
       "trumpet                       627            627      627    627\n",
       "violin                       5971           5971     5971   5971"
      ]
     },
     "execution_count": 7,
     "metadata": {},
     "output_type": "execute_result"
    }
   ],
   "source": [
    "df.groupby(['instrument']).count()"
   ]
  },
  {
   "cell_type": "code",
   "execution_count": 8,
   "id": "cd68a0f8-9395-4cd2-9e4e-3f1178a4705f",
   "metadata": {},
   "outputs": [
    {
     "data": {
      "text/plain": [
       "subset           21571\n",
       "instrument_id    21571\n",
       "song_id          21571\n",
       "uuid4            21571\n",
       "dtype: int64"
      ]
     },
     "execution_count": 8,
     "metadata": {},
     "output_type": "execute_result"
    }
   ],
   "source": [
    "df.groupby(['instrument']).count().sum()"
   ]
  },
  {
   "cell_type": "code",
   "execution_count": 9,
   "id": "eea9864f-0201-4d2c-ad7f-bf60a0607b2e",
   "metadata": {},
   "outputs": [
    {
     "data": {
      "text/plain": [
       "array(['test', 'training', 'validation'], dtype=object)"
      ]
     },
     "execution_count": 9,
     "metadata": {},
     "output_type": "execute_result"
    }
   ],
   "source": [
    "df['subset'].unique()"
   ]
  },
  {
   "cell_type": "code",
   "execution_count": 10,
   "id": "f822091f-451b-4fa5-aaa7-3bfa9d8d1dbd",
   "metadata": {},
   "outputs": [
    {
     "data": {
      "text/html": [
       "<div>\n",
       "<style scoped>\n",
       "    .dataframe tbody tr th:only-of-type {\n",
       "        vertical-align: middle;\n",
       "    }\n",
       "\n",
       "    .dataframe tbody tr th {\n",
       "        vertical-align: top;\n",
       "    }\n",
       "\n",
       "    .dataframe thead th {\n",
       "        text-align: right;\n",
       "    }\n",
       "</style>\n",
       "<table border=\"1\" class=\"dataframe\">\n",
       "  <thead>\n",
       "    <tr style=\"text-align: right;\">\n",
       "      <th></th>\n",
       "      <th>instrument</th>\n",
       "      <th>instrument_id</th>\n",
       "      <th>song_id</th>\n",
       "      <th>uuid4</th>\n",
       "    </tr>\n",
       "    <tr>\n",
       "      <th>subset</th>\n",
       "      <th></th>\n",
       "      <th></th>\n",
       "      <th></th>\n",
       "      <th></th>\n",
       "    </tr>\n",
       "  </thead>\n",
       "  <tbody>\n",
       "    <tr>\n",
       "      <th>test</th>\n",
       "      <td>12236</td>\n",
       "      <td>12236</td>\n",
       "      <td>12236</td>\n",
       "      <td>12236</td>\n",
       "    </tr>\n",
       "    <tr>\n",
       "      <th>training</th>\n",
       "      <td>5841</td>\n",
       "      <td>5841</td>\n",
       "      <td>5841</td>\n",
       "      <td>5841</td>\n",
       "    </tr>\n",
       "    <tr>\n",
       "      <th>validation</th>\n",
       "      <td>3494</td>\n",
       "      <td>3494</td>\n",
       "      <td>3494</td>\n",
       "      <td>3494</td>\n",
       "    </tr>\n",
       "  </tbody>\n",
       "</table>\n",
       "</div>"
      ],
      "text/plain": [
       "            instrument  instrument_id  song_id  uuid4\n",
       "subset                                               \n",
       "test             12236          12236    12236  12236\n",
       "training          5841           5841     5841   5841\n",
       "validation        3494           3494     3494   3494"
      ]
     },
     "execution_count": 10,
     "metadata": {},
     "output_type": "execute_result"
    }
   ],
   "source": [
    "df.groupby(['subset']).count()"
   ]
  },
  {
   "cell_type": "markdown",
   "id": "81263b11-11d8-4416-a4a8-b406fa883826",
   "metadata": {},
   "source": [
    "Splitting Dataframe into Train, Validation and Test Dataframes"
   ]
  },
  {
   "cell_type": "code",
   "execution_count": 11,
   "id": "ea428817-bc20-4852-b937-15e5f488ce26",
   "metadata": {},
   "outputs": [],
   "source": [
    "df_train = df.loc[df['subset']=='training']"
   ]
  },
  {
   "cell_type": "markdown",
   "id": "2f14a7c8-1be5-4c68-95ae-e88026cad4ec",
   "metadata": {},
   "source": [
    "##### Read train, validation and test dataframes"
   ]
  },
  {
   "cell_type": "code",
   "execution_count": 12,
   "id": "83a90431-f31b-41cb-8e1f-219f06981784",
   "metadata": {},
   "outputs": [],
   "source": [
    "df_train = pd.read_csv('~/documents/data/audio/medley/csv/Medley-solos-DB_metadata_training.csv',index_col=0)"
   ]
  },
  {
   "cell_type": "code",
   "execution_count": 13,
   "id": "63967197-f616-4f80-bebf-3238579539c4",
   "metadata": {},
   "outputs": [],
   "source": [
    "df_val = pd.read_csv('~/documents/data/audio/medley/csv/Medley-solos-DB_metadata_validation.csv',index_col=0)"
   ]
  },
  {
   "cell_type": "code",
   "execution_count": 14,
   "id": "48f62587-ddf6-44d5-b951-b578e1e043ee",
   "metadata": {},
   "outputs": [],
   "source": [
    "df_test = pd.read_csv('~/documents/data/audio/medley/csv/Medley-solos-DB_metadata_test.csv',index_col=0)"
   ]
  },
  {
   "cell_type": "code",
   "execution_count": 15,
   "id": "cd3e1a1d-0bc8-43be-9a5a-a80431465747",
   "metadata": {},
   "outputs": [
    {
     "data": {
      "text/html": [
       "<div>\n",
       "<style scoped>\n",
       "    .dataframe tbody tr th:only-of-type {\n",
       "        vertical-align: middle;\n",
       "    }\n",
       "\n",
       "    .dataframe tbody tr th {\n",
       "        vertical-align: top;\n",
       "    }\n",
       "\n",
       "    .dataframe thead th {\n",
       "        text-align: right;\n",
       "    }\n",
       "</style>\n",
       "<table border=\"1\" class=\"dataframe\">\n",
       "  <thead>\n",
       "    <tr style=\"text-align: right;\">\n",
       "      <th></th>\n",
       "      <th>subset</th>\n",
       "      <th>instrument</th>\n",
       "      <th>instrument_id</th>\n",
       "      <th>song_id</th>\n",
       "      <th>uuid4</th>\n",
       "    </tr>\n",
       "  </thead>\n",
       "  <tbody>\n",
       "    <tr>\n",
       "      <th>12236</th>\n",
       "      <td>training</td>\n",
       "      <td>clarinet</td>\n",
       "      <td>0</td>\n",
       "      <td>139</td>\n",
       "      <td>163fd2b1-8e98-515a-f501-4742cc6d066f</td>\n",
       "    </tr>\n",
       "    <tr>\n",
       "      <th>12237</th>\n",
       "      <td>training</td>\n",
       "      <td>clarinet</td>\n",
       "      <td>0</td>\n",
       "      <td>139</td>\n",
       "      <td>36dcb8eb-da46-5d01-fa9d-0f715c389379</td>\n",
       "    </tr>\n",
       "    <tr>\n",
       "      <th>12238</th>\n",
       "      <td>training</td>\n",
       "      <td>clarinet</td>\n",
       "      <td>0</td>\n",
       "      <td>139</td>\n",
       "      <td>9f6d4046-3662-5433-fc44-98c80a428fd8</td>\n",
       "    </tr>\n",
       "    <tr>\n",
       "      <th>12239</th>\n",
       "      <td>training</td>\n",
       "      <td>clarinet</td>\n",
       "      <td>0</td>\n",
       "      <td>139</td>\n",
       "      <td>5ef6a0ee-a092-5d49-f64e-a3454e9ab237</td>\n",
       "    </tr>\n",
       "    <tr>\n",
       "      <th>12240</th>\n",
       "      <td>training</td>\n",
       "      <td>clarinet</td>\n",
       "      <td>0</td>\n",
       "      <td>139</td>\n",
       "      <td>2048e98b-77b2-5b7d-fe6a-780f399e69fe</td>\n",
       "    </tr>\n",
       "  </tbody>\n",
       "</table>\n",
       "</div>"
      ],
      "text/plain": [
       "         subset instrument  instrument_id  song_id  \\\n",
       "12236  training   clarinet              0      139   \n",
       "12237  training   clarinet              0      139   \n",
       "12238  training   clarinet              0      139   \n",
       "12239  training   clarinet              0      139   \n",
       "12240  training   clarinet              0      139   \n",
       "\n",
       "                                      uuid4  \n",
       "12236  163fd2b1-8e98-515a-f501-4742cc6d066f  \n",
       "12237  36dcb8eb-da46-5d01-fa9d-0f715c389379  \n",
       "12238  9f6d4046-3662-5433-fc44-98c80a428fd8  \n",
       "12239  5ef6a0ee-a092-5d49-f64e-a3454e9ab237  \n",
       "12240  2048e98b-77b2-5b7d-fe6a-780f399e69fe  "
      ]
     },
     "execution_count": 15,
     "metadata": {},
     "output_type": "execute_result"
    }
   ],
   "source": [
    "df_train.head()"
   ]
  },
  {
   "cell_type": "markdown",
   "id": "adddb4ab-a76e-4f31-a755-c8f0197a9fe9",
   "metadata": {},
   "source": [
    "#### First  approach: model for two instruments"
   ]
  },
  {
   "cell_type": "code",
   "execution_count": 16,
   "id": "5d50ea03-bb83-4a2c-a1fd-4760aaf17ac1",
   "metadata": {},
   "outputs": [],
   "source": [
    "# processing approach:\n",
    "# define dataframe_subset_instrument\n",
    "# load into librosa .wav to audio array (n,)\n",
    "# save arrays with numpy"
   ]
  },
  {
   "cell_type": "code",
   "execution_count": 17,
   "id": "d4c53347-9e8c-43d8-9fbc-e3ad7626d284",
   "metadata": {},
   "outputs": [],
   "source": [
    "# starting with the Train Set: 404 elements distorted guitar"
   ]
  },
  {
   "cell_type": "code",
   "execution_count": 18,
   "id": "ba3bc51d-fea9-4020-b96d-1722fd12bf91",
   "metadata": {},
   "outputs": [],
   "source": [
    "# begin with two instruments"
   ]
  },
  {
   "cell_type": "code",
   "execution_count": 19,
   "id": "a57a3457-6b18-48f8-9ed3-0ba780e8672c",
   "metadata": {},
   "outputs": [],
   "source": [
    "instruments = df_train['instrument'].unique()"
   ]
  },
  {
   "cell_type": "code",
   "execution_count": 20,
   "id": "8eb8d247-0d9b-4509-9c07-8d139e2b9088",
   "metadata": {},
   "outputs": [
    {
     "data": {
      "text/html": [
       "<div>\n",
       "<style scoped>\n",
       "    .dataframe tbody tr th:only-of-type {\n",
       "        vertical-align: middle;\n",
       "    }\n",
       "\n",
       "    .dataframe tbody tr th {\n",
       "        vertical-align: top;\n",
       "    }\n",
       "\n",
       "    .dataframe thead th {\n",
       "        text-align: right;\n",
       "    }\n",
       "</style>\n",
       "<table border=\"1\" class=\"dataframe\">\n",
       "  <thead>\n",
       "    <tr style=\"text-align: right;\">\n",
       "      <th></th>\n",
       "      <th>subset</th>\n",
       "      <th>instrument_id</th>\n",
       "      <th>song_id</th>\n",
       "      <th>uuid4</th>\n",
       "    </tr>\n",
       "    <tr>\n",
       "      <th>instrument</th>\n",
       "      <th></th>\n",
       "      <th></th>\n",
       "      <th></th>\n",
       "      <th></th>\n",
       "    </tr>\n",
       "  </thead>\n",
       "  <tbody>\n",
       "    <tr>\n",
       "      <th>clarinet</th>\n",
       "      <td>1</td>\n",
       "      <td>1</td>\n",
       "      <td>5</td>\n",
       "      <td>251</td>\n",
       "    </tr>\n",
       "    <tr>\n",
       "      <th>distorted electric guitar</th>\n",
       "      <td>1</td>\n",
       "      <td>1</td>\n",
       "      <td>10</td>\n",
       "      <td>404</td>\n",
       "    </tr>\n",
       "    <tr>\n",
       "      <th>female singer</th>\n",
       "      <td>1</td>\n",
       "      <td>1</td>\n",
       "      <td>7</td>\n",
       "      <td>318</td>\n",
       "    </tr>\n",
       "    <tr>\n",
       "      <th>flute</th>\n",
       "      <td>1</td>\n",
       "      <td>1</td>\n",
       "      <td>3</td>\n",
       "      <td>155</td>\n",
       "    </tr>\n",
       "    <tr>\n",
       "      <th>piano</th>\n",
       "      <td>1</td>\n",
       "      <td>1</td>\n",
       "      <td>20</td>\n",
       "      <td>2401</td>\n",
       "    </tr>\n",
       "    <tr>\n",
       "      <th>tenor saxophone</th>\n",
       "      <td>1</td>\n",
       "      <td>1</td>\n",
       "      <td>2</td>\n",
       "      <td>123</td>\n",
       "    </tr>\n",
       "    <tr>\n",
       "      <th>trumpet</th>\n",
       "      <td>1</td>\n",
       "      <td>1</td>\n",
       "      <td>4</td>\n",
       "      <td>149</td>\n",
       "    </tr>\n",
       "    <tr>\n",
       "      <th>violin</th>\n",
       "      <td>1</td>\n",
       "      <td>1</td>\n",
       "      <td>10</td>\n",
       "      <td>2040</td>\n",
       "    </tr>\n",
       "  </tbody>\n",
       "</table>\n",
       "</div>"
      ],
      "text/plain": [
       "                           subset  instrument_id  song_id  uuid4\n",
       "instrument                                                      \n",
       "clarinet                        1              1        5    251\n",
       "distorted electric guitar       1              1       10    404\n",
       "female singer                   1              1        7    318\n",
       "flute                           1              1        3    155\n",
       "piano                           1              1       20   2401\n",
       "tenor saxophone                 1              1        2    123\n",
       "trumpet                         1              1        4    149\n",
       "violin                          1              1       10   2040"
      ]
     },
     "execution_count": 20,
     "metadata": {},
     "output_type": "execute_result"
    }
   ],
   "source": [
    "df_train.groupby(['instrument']).nunique()"
   ]
  },
  {
   "cell_type": "code",
   "execution_count": 21,
   "id": "6a1fe79f-f79a-4646-acb2-714b781549f1",
   "metadata": {},
   "outputs": [
    {
     "data": {
      "text/html": [
       "<div>\n",
       "<style scoped>\n",
       "    .dataframe tbody tr th:only-of-type {\n",
       "        vertical-align: middle;\n",
       "    }\n",
       "\n",
       "    .dataframe tbody tr th {\n",
       "        vertical-align: top;\n",
       "    }\n",
       "\n",
       "    .dataframe thead th {\n",
       "        text-align: right;\n",
       "    }\n",
       "</style>\n",
       "<table border=\"1\" class=\"dataframe\">\n",
       "  <thead>\n",
       "    <tr style=\"text-align: right;\">\n",
       "      <th></th>\n",
       "      <th>subset</th>\n",
       "      <th>instrument_id</th>\n",
       "      <th>song_id</th>\n",
       "      <th>uuid4</th>\n",
       "    </tr>\n",
       "    <tr>\n",
       "      <th>instrument</th>\n",
       "      <th></th>\n",
       "      <th></th>\n",
       "      <th></th>\n",
       "      <th></th>\n",
       "    </tr>\n",
       "  </thead>\n",
       "  <tbody>\n",
       "    <tr>\n",
       "      <th>clarinet</th>\n",
       "      <td>1</td>\n",
       "      <td>1</td>\n",
       "      <td>2</td>\n",
       "      <td>328</td>\n",
       "    </tr>\n",
       "    <tr>\n",
       "      <th>distorted electric guitar</th>\n",
       "      <td>1</td>\n",
       "      <td>1</td>\n",
       "      <td>4</td>\n",
       "      <td>495</td>\n",
       "    </tr>\n",
       "    <tr>\n",
       "      <th>female singer</th>\n",
       "      <td>1</td>\n",
       "      <td>1</td>\n",
       "      <td>4</td>\n",
       "      <td>284</td>\n",
       "    </tr>\n",
       "    <tr>\n",
       "      <th>flute</th>\n",
       "      <td>1</td>\n",
       "      <td>1</td>\n",
       "      <td>2</td>\n",
       "      <td>233</td>\n",
       "    </tr>\n",
       "    <tr>\n",
       "      <th>piano</th>\n",
       "      <td>1</td>\n",
       "      <td>1</td>\n",
       "      <td>8</td>\n",
       "      <td>1022</td>\n",
       "    </tr>\n",
       "    <tr>\n",
       "      <th>tenor saxophone</th>\n",
       "      <td>1</td>\n",
       "      <td>1</td>\n",
       "      <td>1</td>\n",
       "      <td>29</td>\n",
       "    </tr>\n",
       "    <tr>\n",
       "      <th>trumpet</th>\n",
       "      <td>1</td>\n",
       "      <td>1</td>\n",
       "      <td>2</td>\n",
       "      <td>72</td>\n",
       "    </tr>\n",
       "    <tr>\n",
       "      <th>violin</th>\n",
       "      <td>1</td>\n",
       "      <td>1</td>\n",
       "      <td>4</td>\n",
       "      <td>1031</td>\n",
       "    </tr>\n",
       "  </tbody>\n",
       "</table>\n",
       "</div>"
      ],
      "text/plain": [
       "                           subset  instrument_id  song_id  uuid4\n",
       "instrument                                                      \n",
       "clarinet                        1              1        2    328\n",
       "distorted electric guitar       1              1        4    495\n",
       "female singer                   1              1        4    284\n",
       "flute                           1              1        2    233\n",
       "piano                           1              1        8   1022\n",
       "tenor saxophone                 1              1        1     29\n",
       "trumpet                         1              1        2     72\n",
       "violin                          1              1        4   1031"
      ]
     },
     "execution_count": 21,
     "metadata": {},
     "output_type": "execute_result"
    }
   ],
   "source": [
    "df_val.groupby(['instrument']).nunique()"
   ]
  },
  {
   "cell_type": "code",
   "execution_count": 22,
   "id": "135a4187-a0fa-49ae-996f-1c51a84b66c6",
   "metadata": {},
   "outputs": [
    {
     "data": {
      "text/html": [
       "<div>\n",
       "<style scoped>\n",
       "    .dataframe tbody tr th:only-of-type {\n",
       "        vertical-align: middle;\n",
       "    }\n",
       "\n",
       "    .dataframe tbody tr th {\n",
       "        vertical-align: top;\n",
       "    }\n",
       "\n",
       "    .dataframe thead th {\n",
       "        text-align: right;\n",
       "    }\n",
       "</style>\n",
       "<table border=\"1\" class=\"dataframe\">\n",
       "  <thead>\n",
       "    <tr style=\"text-align: right;\">\n",
       "      <th></th>\n",
       "      <th>subset</th>\n",
       "      <th>instrument_id</th>\n",
       "      <th>song_id</th>\n",
       "      <th>uuid4</th>\n",
       "    </tr>\n",
       "    <tr>\n",
       "      <th>instrument</th>\n",
       "      <th></th>\n",
       "      <th></th>\n",
       "      <th></th>\n",
       "      <th></th>\n",
       "    </tr>\n",
       "  </thead>\n",
       "  <tbody>\n",
       "    <tr>\n",
       "      <th>clarinet</th>\n",
       "      <td>1</td>\n",
       "      <td>1</td>\n",
       "      <td>18</td>\n",
       "      <td>732</td>\n",
       "    </tr>\n",
       "    <tr>\n",
       "      <th>distorted electric guitar</th>\n",
       "      <td>1</td>\n",
       "      <td>1</td>\n",
       "      <td>11</td>\n",
       "      <td>955</td>\n",
       "    </tr>\n",
       "    <tr>\n",
       "      <th>female singer</th>\n",
       "      <td>1</td>\n",
       "      <td>1</td>\n",
       "      <td>12</td>\n",
       "      <td>1142</td>\n",
       "    </tr>\n",
       "    <tr>\n",
       "      <th>flute</th>\n",
       "      <td>1</td>\n",
       "      <td>1</td>\n",
       "      <td>29</td>\n",
       "      <td>3167</td>\n",
       "    </tr>\n",
       "    <tr>\n",
       "      <th>piano</th>\n",
       "      <td>1</td>\n",
       "      <td>1</td>\n",
       "      <td>15</td>\n",
       "      <td>2609</td>\n",
       "    </tr>\n",
       "    <tr>\n",
       "      <th>tenor saxophone</th>\n",
       "      <td>1</td>\n",
       "      <td>1</td>\n",
       "      <td>5</td>\n",
       "      <td>325</td>\n",
       "    </tr>\n",
       "    <tr>\n",
       "      <th>trumpet</th>\n",
       "      <td>1</td>\n",
       "      <td>1</td>\n",
       "      <td>27</td>\n",
       "      <td>406</td>\n",
       "    </tr>\n",
       "    <tr>\n",
       "      <th>violin</th>\n",
       "      <td>1</td>\n",
       "      <td>1</td>\n",
       "      <td>22</td>\n",
       "      <td>2900</td>\n",
       "    </tr>\n",
       "  </tbody>\n",
       "</table>\n",
       "</div>"
      ],
      "text/plain": [
       "                           subset  instrument_id  song_id  uuid4\n",
       "instrument                                                      \n",
       "clarinet                        1              1       18    732\n",
       "distorted electric guitar       1              1       11    955\n",
       "female singer                   1              1       12   1142\n",
       "flute                           1              1       29   3167\n",
       "piano                           1              1       15   2609\n",
       "tenor saxophone                 1              1        5    325\n",
       "trumpet                         1              1       27    406\n",
       "violin                          1              1       22   2900"
      ]
     },
     "execution_count": 22,
     "metadata": {},
     "output_type": "execute_result"
    }
   ],
   "source": [
    "df_test.groupby(['instrument']).nunique()"
   ]
  },
  {
   "cell_type": "markdown",
   "id": "f206faa1-8c4c-4cb9-a1a7-f7cce311eecb",
   "metadata": {},
   "source": [
    "Understanding how the data: how many songs were used per class"
   ]
  },
  {
   "cell_type": "code",
   "execution_count": 23,
   "id": "b7c37eb7-2572-477c-a032-85f3d946d871",
   "metadata": {},
   "outputs": [
    {
     "data": {
      "text/plain": [
       "instrument\n",
       "clarinet                                             [139, 140, 141, 142, 143]\n",
       "distorted electric guitar    [144, 145, 146, 147, 148, 149, 150, 151, 152, ...\n",
       "female singer                              [154, 155, 156, 157, 158, 159, 160]\n",
       "flute                                                          [161, 162, 163]\n",
       "piano                        [164, 165, 166, 167, 168, 169, 170, 171, 172, ...\n",
       "tenor saxophone                                                     [184, 185]\n",
       "trumpet                                                   [186, 187, 188, 189]\n",
       "violin                       [190, 191, 192, 193, 194, 195, 196, 197, 198, ...\n",
       "Name: song_id, dtype: object"
      ]
     },
     "execution_count": 23,
     "metadata": {},
     "output_type": "execute_result"
    }
   ],
   "source": [
    "df_train.groupby(['instrument'])['song_id'].unique()"
   ]
  },
  {
   "cell_type": "code",
   "execution_count": 24,
   "id": "b2672c29-62d7-4167-9f9d-b62eab1aeba4",
   "metadata": {},
   "outputs": [
    {
     "data": {
      "text/plain": [
       "instrument\n",
       "clarinet                                                   [200, 201]\n",
       "distorted electric guitar                        [202, 203, 204, 205]\n",
       "female singer                                    [206, 207, 208, 209]\n",
       "flute                                                      [210, 211]\n",
       "piano                        [212, 213, 214, 215, 216, 217, 218, 219]\n",
       "tenor saxophone                                                 [220]\n",
       "trumpet                                                    [221, 222]\n",
       "violin                                           [223, 224, 225, 226]\n",
       "Name: song_id, dtype: object"
      ]
     },
     "execution_count": 24,
     "metadata": {},
     "output_type": "execute_result"
    }
   ],
   "source": [
    "df_val.groupby(['instrument'])['song_id'].unique()"
   ]
  },
  {
   "cell_type": "code",
   "execution_count": 25,
   "id": "ffd119d3-0fd5-4b09-8e18-1793f21d7644",
   "metadata": {},
   "outputs": [
    {
     "data": {
      "text/plain": [
       "instrument\n",
       "clarinet                                                   [200, 201]\n",
       "distorted electric guitar                        [202, 203, 204, 205]\n",
       "female singer                                    [206, 207, 208, 209]\n",
       "flute                                                      [210, 211]\n",
       "piano                        [212, 213, 214, 215, 216, 217, 218, 219]\n",
       "tenor saxophone                                                 [220]\n",
       "trumpet                                                    [221, 222]\n",
       "violin                                           [223, 224, 225, 226]\n",
       "Name: song_id, dtype: object"
      ]
     },
     "execution_count": 25,
     "metadata": {},
     "output_type": "execute_result"
    }
   ],
   "source": [
    "df_val.groupby(['instrument'])['song_id'].unique()"
   ]
  },
  {
   "cell_type": "code",
   "execution_count": 26,
   "id": "183fd942-3499-4002-bfcc-99551c191a7d",
   "metadata": {},
   "outputs": [],
   "source": [
    "# smaller data frames"
   ]
  },
  {
   "cell_type": "code",
   "execution_count": 27,
   "id": "1dc65237-97f4-461a-8aef-e7cbbf3181c1",
   "metadata": {},
   "outputs": [],
   "source": [
    "df_train_clarinet = df_train.loc[df_train['instrument_id']==0].set_index('subset').reset_index()"
   ]
  },
  {
   "cell_type": "code",
   "execution_count": 28,
   "id": "36c44513-fc28-40fa-a1de-a0a3fd279e8f",
   "metadata": {},
   "outputs": [],
   "source": [
    "df_train_guitar = df_train.loc[df_train['instrument_id']==1].set_index('subset').reset_index()"
   ]
  },
  {
   "cell_type": "code",
   "execution_count": 29,
   "id": "99c54963-8107-4d23-89c5-746daa502f55",
   "metadata": {},
   "outputs": [],
   "source": [
    "df_train_singer = df_train.loc[df_train['instrument_id']==2].set_index('subset').reset_index()"
   ]
  },
  {
   "cell_type": "code",
   "execution_count": 30,
   "id": "5a4f5c42-1c75-43be-b85c-42821d0aab99",
   "metadata": {},
   "outputs": [
    {
     "data": {
      "text/html": [
       "<div>\n",
       "<style scoped>\n",
       "    .dataframe tbody tr th:only-of-type {\n",
       "        vertical-align: middle;\n",
       "    }\n",
       "\n",
       "    .dataframe tbody tr th {\n",
       "        vertical-align: top;\n",
       "    }\n",
       "\n",
       "    .dataframe thead th {\n",
       "        text-align: right;\n",
       "    }\n",
       "</style>\n",
       "<table border=\"1\" class=\"dataframe\">\n",
       "  <thead>\n",
       "    <tr style=\"text-align: right;\">\n",
       "      <th></th>\n",
       "      <th>subset</th>\n",
       "      <th>instrument</th>\n",
       "      <th>instrument_id</th>\n",
       "      <th>song_id</th>\n",
       "      <th>uuid4</th>\n",
       "    </tr>\n",
       "  </thead>\n",
       "  <tbody>\n",
       "    <tr>\n",
       "      <th>0</th>\n",
       "      <td>training</td>\n",
       "      <td>female singer</td>\n",
       "      <td>2</td>\n",
       "      <td>154</td>\n",
       "      <td>5fe4c1de-b6da-5b50-f4d6-ed9925fc0931</td>\n",
       "    </tr>\n",
       "    <tr>\n",
       "      <th>1</th>\n",
       "      <td>training</td>\n",
       "      <td>female singer</td>\n",
       "      <td>2</td>\n",
       "      <td>154</td>\n",
       "      <td>69cbbcff-834b-55c0-f7fe-4d809ebe34e3</td>\n",
       "    </tr>\n",
       "    <tr>\n",
       "      <th>2</th>\n",
       "      <td>training</td>\n",
       "      <td>female singer</td>\n",
       "      <td>2</td>\n",
       "      <td>154</td>\n",
       "      <td>94072b83-a4ae-57a9-f196-a74af1e5f3b0</td>\n",
       "    </tr>\n",
       "  </tbody>\n",
       "</table>\n",
       "</div>"
      ],
      "text/plain": [
       "     subset     instrument  instrument_id  song_id  \\\n",
       "0  training  female singer              2      154   \n",
       "1  training  female singer              2      154   \n",
       "2  training  female singer              2      154   \n",
       "\n",
       "                                  uuid4  \n",
       "0  5fe4c1de-b6da-5b50-f4d6-ed9925fc0931  \n",
       "1  69cbbcff-834b-55c0-f7fe-4d809ebe34e3  \n",
       "2  94072b83-a4ae-57a9-f196-a74af1e5f3b0  "
      ]
     },
     "execution_count": 30,
     "metadata": {},
     "output_type": "execute_result"
    }
   ],
   "source": [
    "df_train_singer.head(3)"
   ]
  },
  {
   "cell_type": "code",
   "execution_count": 31,
   "id": "f0197011-9ae1-4a70-901d-95e4aaf4ffcd",
   "metadata": {},
   "outputs": [
    {
     "data": {
      "text/plain": [
       "(404, 5)"
      ]
     },
     "execution_count": 31,
     "metadata": {},
     "output_type": "execute_result"
    }
   ],
   "source": [
    "df_train_guitar.shape"
   ]
  },
  {
   "cell_type": "code",
   "execution_count": 32,
   "id": "bb72bfcd-1951-41ab-9c90-bbb1594acfa2",
   "metadata": {},
   "outputs": [
    {
     "data": {
      "text/plain": [
       "(318, 5)"
      ]
     },
     "execution_count": 32,
     "metadata": {},
     "output_type": "execute_result"
    }
   ],
   "source": [
    "df_train_singer.shape"
   ]
  },
  {
   "cell_type": "code",
   "execution_count": 33,
   "id": "60bb8848-b92e-4035-bd0d-24094ec88115",
   "metadata": {},
   "outputs": [],
   "source": [
    "# with the validation subset"
   ]
  },
  {
   "cell_type": "code",
   "execution_count": 34,
   "id": "ffd6d0dd-f677-4671-89b1-9bcf0fdff337",
   "metadata": {
    "tags": []
   },
   "outputs": [],
   "source": [
    "df_val_clarinet = df_val.loc[df_val['instrument_id']==0].set_index('subset').reset_index()"
   ]
  },
  {
   "cell_type": "code",
   "execution_count": 35,
   "id": "862d5a24-ca7a-44ee-9814-0553652fa3b6",
   "metadata": {},
   "outputs": [],
   "source": [
    "df_val_guitar = df_val.loc[df_val['instrument_id']==1].set_index('subset').reset_index()"
   ]
  },
  {
   "cell_type": "code",
   "execution_count": 36,
   "id": "92ff9ef2-b2aa-4a71-bbd0-270950621ef0",
   "metadata": {},
   "outputs": [],
   "source": [
    "df_val_singer = df_val.loc[df_val['instrument_id']==2].set_index('subset').reset_index()"
   ]
  },
  {
   "cell_type": "code",
   "execution_count": 37,
   "id": "2d2f9a41-92f3-450e-9345-d0d3cf9938ef",
   "metadata": {},
   "outputs": [],
   "source": [
    "# with the test subset"
   ]
  },
  {
   "cell_type": "code",
   "execution_count": 38,
   "id": "5ccdf22a-4ac7-43c8-a6db-679c89f16641",
   "metadata": {
    "tags": []
   },
   "outputs": [],
   "source": [
    "df_test_clarinet = df_test.loc[df_test['instrument_id']==0].set_index('subset').reset_index()"
   ]
  },
  {
   "cell_type": "code",
   "execution_count": 39,
   "id": "f4eeffd7-a63f-47b9-894b-871a02d40146",
   "metadata": {},
   "outputs": [],
   "source": [
    "df_test_guitar = df_test.loc[df_test['instrument_id']==1].set_index('subset').reset_index()"
   ]
  },
  {
   "cell_type": "code",
   "execution_count": 40,
   "id": "e5361666-ad0e-4119-b6ac-ed0e9339e63f",
   "metadata": {},
   "outputs": [],
   "source": [
    "df_test_singer = df_test.loc[df_test['instrument_id']==2].set_index('subset').reset_index()"
   ]
  },
  {
   "cell_type": "markdown",
   "id": "945b95cb-96e5-4c9a-8a5f-6e8da0069983",
   "metadata": {},
   "source": [
    "#### Loading signal saved in .npy numpy array files"
   ]
  },
  {
   "cell_type": "code",
   "execution_count": 41,
   "id": "0c7a772e-bcc9-4ccb-95b7-344674c27630",
   "metadata": {},
   "outputs": [],
   "source": [
    "filename_pre = \"Medley-solos-DB\""
   ]
  },
  {
   "cell_type": "code",
   "execution_count": 42,
   "id": "bba5f013-4bfa-425f-a30b-1936b981d58c",
   "metadata": {},
   "outputs": [],
   "source": [
    "def load_signal_file(filename,df):\n",
    "    \"\"\"input: filename, for example: amp_tr_clarinet\n",
    "    output: list of signals for samples in the df\n",
    "    \"\"\"\n",
    "    # load signal vector\n",
    "    # the corresponding dataframe must be at hand\n",
    "    n_elements=(len(df))\n",
    "    folderpath=\"../../../../../../documents/data/audio/medley/audio_arrays/\"\n",
    "    amp_list=[]\n",
    "    with open (folderpath+filename, 'rb') as f:\n",
    "        for n in range(n_elements):\n",
    "            amp_1 = np.load(f)\n",
    "            amp_list.append(amp_1)\n",
    "    return amp_list"
   ]
  },
  {
   "cell_type": "code",
   "execution_count": 43,
   "id": "d79b2694-6a31-47c5-b75b-10d96e84917b",
   "metadata": {},
   "outputs": [],
   "source": [
    "signal_tr_clarinet = load_signal_file('amp_tr_clarinet', df_train_clarinet)"
   ]
  },
  {
   "cell_type": "code",
   "execution_count": 44,
   "id": "e1c79a19-463c-4390-9200-6d167f490347",
   "metadata": {},
   "outputs": [],
   "source": [
    "signal_tr_guitar = load_signal_file('amp_tr_guitar', df_train_guitar)"
   ]
  },
  {
   "cell_type": "code",
   "execution_count": 45,
   "id": "f5047643-0ce8-4038-8d3f-bcf5af43c112",
   "metadata": {},
   "outputs": [],
   "source": [
    "signal_tr_singer = load_signal_file('amp_tr_singer', df_train_singer)"
   ]
  },
  {
   "cell_type": "code",
   "execution_count": null,
   "id": "e22645e5-1799-47e0-b781-d581be89dc70",
   "metadata": {},
   "outputs": [],
   "source": []
  },
  {
   "cell_type": "code",
   "execution_count": 46,
   "id": "1862040a-df78-4dbc-bcf2-9f362bb4276e",
   "metadata": {},
   "outputs": [],
   "source": [
    "# with the val dataframes"
   ]
  },
  {
   "cell_type": "code",
   "execution_count": 47,
   "id": "118144f2-3589-4d92-88c6-8e46ea139626",
   "metadata": {},
   "outputs": [],
   "source": [
    "#load validation subset signal arrays"
   ]
  },
  {
   "cell_type": "code",
   "execution_count": 48,
   "id": "8ea734f9-af4b-4599-801a-4814476a41a2",
   "metadata": {},
   "outputs": [],
   "source": [
    "signal_val_clarinet = load_signal_file('amp_val_clarinet', df_val_clarinet)"
   ]
  },
  {
   "cell_type": "code",
   "execution_count": 49,
   "id": "3d441ebb-28ca-49ce-8a84-38a04da0dcc2",
   "metadata": {},
   "outputs": [],
   "source": [
    "signal_val_guitar = load_signal_file('amp_val_guitar', df_val_guitar)"
   ]
  },
  {
   "cell_type": "code",
   "execution_count": 50,
   "id": "59d248c9-eeef-4878-9c52-d9a123a061f1",
   "metadata": {},
   "outputs": [],
   "source": [
    "signal_val_singer = load_signal_file('amp_val_singer', df_val_singer)"
   ]
  },
  {
   "cell_type": "code",
   "execution_count": null,
   "id": "a9a25323-7dd6-49c1-bd3d-0a1811a149ea",
   "metadata": {},
   "outputs": [],
   "source": []
  },
  {
   "cell_type": "code",
   "execution_count": 51,
   "id": "67a83bfa-4b13-47df-a02a-a896354b5920",
   "metadata": {},
   "outputs": [],
   "source": [
    "#with the test dataframes"
   ]
  },
  {
   "cell_type": "code",
   "execution_count": 52,
   "id": "760aac4e-35cd-4f05-aa30-b3d519175c25",
   "metadata": {},
   "outputs": [],
   "source": [
    "#load test subset signal arrays"
   ]
  },
  {
   "cell_type": "code",
   "execution_count": 53,
   "id": "ed39ce29-434f-41ed-9fca-81bdf2986af3",
   "metadata": {},
   "outputs": [],
   "source": [
    "signal_test_clarinet = load_signal_file('amp_test_clarinet', df_test_clarinet)"
   ]
  },
  {
   "cell_type": "code",
   "execution_count": 54,
   "id": "ca95ad9c-da05-4ca2-ae70-ddfb04b5533b",
   "metadata": {},
   "outputs": [],
   "source": [
    "signal_test_guitar = load_signal_file('amp_test_guitar', df_test_guitar)"
   ]
  },
  {
   "cell_type": "code",
   "execution_count": 55,
   "id": "2366b76d-b347-4fa4-8d1e-2946ce6dd048",
   "metadata": {},
   "outputs": [],
   "source": [
    "signal_test_singer = load_signal_file('amp_test_singer', df_test_singer)"
   ]
  },
  {
   "cell_type": "code",
   "execution_count": 56,
   "id": "3df1e7bf-3b49-4fad-b356-d4387ba5260b",
   "metadata": {},
   "outputs": [],
   "source": [
    "#benchmark"
   ]
  },
  {
   "cell_type": "code",
   "execution_count": 57,
   "id": "ce796471-1a85-4cd8-89a8-b36274ab02d1",
   "metadata": {},
   "outputs": [
    {
     "data": {
      "text/plain": [
       "(251, 404, 318)"
      ]
     },
     "execution_count": 57,
     "metadata": {},
     "output_type": "execute_result"
    }
   ],
   "source": [
    "len(signal_tr_clarinet), len(signal_tr_guitar), len(signal_tr_singer)"
   ]
  },
  {
   "cell_type": "code",
   "execution_count": 58,
   "id": "35b652c0-9eb4-4500-a5dd-51891e7baf25",
   "metadata": {},
   "outputs": [],
   "source": [
    "# correct!"
   ]
  },
  {
   "cell_type": "code",
   "execution_count": 59,
   "id": "aa3451cf-c171-4181-99fd-f995e87a5519",
   "metadata": {},
   "outputs": [
    {
     "data": {
      "text/plain": [
       "(328, 495, 284)"
      ]
     },
     "execution_count": 59,
     "metadata": {},
     "output_type": "execute_result"
    }
   ],
   "source": [
    "len(signal_val_clarinet), len(signal_val_guitar), len(signal_val_singer)"
   ]
  },
  {
   "cell_type": "code",
   "execution_count": 60,
   "id": "ae3ad341-6104-4825-846c-0fc169e1645c",
   "metadata": {},
   "outputs": [],
   "source": [
    "# correct!"
   ]
  },
  {
   "cell_type": "code",
   "execution_count": 61,
   "id": "8ca335b0-6e44-49d4-a2cf-cfc59089f0e5",
   "metadata": {},
   "outputs": [
    {
     "data": {
      "text/plain": [
       "(732, 955, 1142)"
      ]
     },
     "execution_count": 61,
     "metadata": {},
     "output_type": "execute_result"
    }
   ],
   "source": [
    "len(signal_test_clarinet), len(signal_test_guitar), len(signal_test_singer)"
   ]
  },
  {
   "cell_type": "code",
   "execution_count": 62,
   "id": "d17e72c7-375a-4c43-984b-bdef4e24c909",
   "metadata": {},
   "outputs": [],
   "source": [
    "# correct!"
   ]
  },
  {
   "cell_type": "code",
   "execution_count": 63,
   "id": "c9ce3bfa-30e2-4334-8e61-70394002cfc2",
   "metadata": {},
   "outputs": [
    {
     "data": {
      "text/plain": [
       "((65536,), (65536,), (65536,))"
      ]
     },
     "execution_count": 63,
     "metadata": {},
     "output_type": "execute_result"
    }
   ],
   "source": [
    "signal_test_clarinet[0].shape, signal_test_guitar[0].shape, signal_test_singer[0].shape"
   ]
  },
  {
   "cell_type": "code",
   "execution_count": 64,
   "id": "ca8c4fad-554c-4e66-a107-b7598e28eb33",
   "metadata": {},
   "outputs": [],
   "source": [
    "# it worked!"
   ]
  },
  {
   "cell_type": "code",
   "execution_count": 65,
   "id": "039de6f0-500f-4b4a-83b0-f5f209c70ff8",
   "metadata": {},
   "outputs": [],
   "source": [
    "# up here: second part, load data and ML"
   ]
  },
  {
   "cell_type": "markdown",
   "id": "7eb1ba62-abd7-4017-8ade-c5695ce5b5ad",
   "metadata": {},
   "source": [
    "MEL SPECTROGRAM"
   ]
  },
  {
   "cell_type": "code",
   "execution_count": 66,
   "id": "d21de0d2",
   "metadata": {},
   "outputs": [],
   "source": [
    "# n_fft=2048; hop_length=512"
   ]
  },
  {
   "cell_type": "code",
   "execution_count": 67,
   "id": "69f61548-dbe4-4f55-b532-166dafc1bb4e",
   "metadata": {},
   "outputs": [],
   "source": [
    "def signal_to_logmel(amp_list):\n",
    "    \"\"\"input: list of signal arrays 1d\n",
    "    output: list of melspectrogram arrays 2d\"\"\"\n",
    "    logmel_list=[]\n",
    "    for signal_1 in amp_list:\n",
    "        logmel_1 = librosa.feature.melspectrogram(y=signal_1,sr=22050,n_fft=2048,\n",
    "                                                           hop_length=512,n_mels=129)\n",
    "        loglogmel_1 = librosa.power_to_db(logmel_1)\n",
    "        logmel_list.append(loglogmel_1)  \n",
    "    return logmel_list"
   ]
  },
  {
   "cell_type": "code",
   "execution_count": 68,
   "id": "3fc2dc79-3adf-49e2-ae47-9969a60fc05e",
   "metadata": {},
   "outputs": [],
   "source": [
    "## TRAINING SUBSET"
   ]
  },
  {
   "cell_type": "code",
   "execution_count": 69,
   "id": "6dde0316-8b88-4fc6-97ad-b820435dfe07",
   "metadata": {},
   "outputs": [],
   "source": [
    "logmel_tr_clarinet = signal_to_logmel(signal_tr_clarinet)"
   ]
  },
  {
   "cell_type": "code",
   "execution_count": 70,
   "id": "2ee5a01b-fe79-49ea-ad0e-01747f1f2aad",
   "metadata": {},
   "outputs": [],
   "source": [
    "logmel_tr_guitar = signal_to_logmel(signal_tr_guitar)"
   ]
  },
  {
   "cell_type": "code",
   "execution_count": 71,
   "id": "6588380c-4ae9-4fb0-8030-7cea64b91983",
   "metadata": {},
   "outputs": [],
   "source": [
    "logmel_tr_singer = signal_to_logmel(signal_tr_singer)"
   ]
  },
  {
   "cell_type": "code",
   "execution_count": 72,
   "id": "1bab379c",
   "metadata": {},
   "outputs": [
    {
     "data": {
      "text/plain": [
       "(65536,)"
      ]
     },
     "execution_count": 72,
     "metadata": {},
     "output_type": "execute_result"
    }
   ],
   "source": [
    "signal_tr_clarinet[0].shape"
   ]
  },
  {
   "cell_type": "code",
   "execution_count": 73,
   "id": "efa2dcd6-29b6-4a3b-a480-405c9e7c06d9",
   "metadata": {},
   "outputs": [
    {
     "data": {
      "text/plain": [
       "(251, 404, 318)"
      ]
     },
     "execution_count": 73,
     "metadata": {},
     "output_type": "execute_result"
    }
   ],
   "source": [
    "len(logmel_tr_clarinet), len(logmel_tr_guitar), len(logmel_tr_singer)"
   ]
  },
  {
   "cell_type": "code",
   "execution_count": 74,
   "id": "dad55a7c-60a5-4e88-b6fe-23352b09bb6a",
   "metadata": {},
   "outputs": [
    {
     "data": {
      "text/plain": [
       "((129, 129), (129, 129), (129, 129))"
      ]
     },
     "execution_count": 74,
     "metadata": {},
     "output_type": "execute_result"
    }
   ],
   "source": [
    "logmel_tr_clarinet[0].shape, logmel_tr_clarinet[0].shape, logmel_tr_singer[0].shape"
   ]
  },
  {
   "cell_type": "code",
   "execution_count": 238,
   "id": "ffcdca26",
   "metadata": {},
   "outputs": [
    {
     "data": {
      "text/plain": [
       "<matplotlib.colorbar.Colorbar at 0x230a448bd68>"
      ]
     },
     "execution_count": 238,
     "metadata": {},
     "output_type": "execute_result"
    },
    {
     "data": {
      "image/png": "[encoded data removed]",
      "text/plain": [
       "<Figure size 1080x576 with 2 Axes>"
      ]
     },
     "metadata": {
      "needs_background": "light"
     },
     "output_type": "display_data"
    }
   ],
   "source": [
    "plt.figure(figsize=(15,8))\n",
    "librosa.display.specshow(logmel_tr_singer[12],\n",
    "                         x_axis='time',\n",
    "                         y_axis='mel')\n",
    "plt.colorbar(format=\"%+2.f\")"
   ]
  },
  {
   "cell_type": "code",
   "execution_count": 76,
   "id": "c4cbdeff-b3ed-4906-9995-24c92821b76c",
   "metadata": {},
   "outputs": [
    {
     "data": {
      "text/plain": [
       "(251, 129, 129)"
      ]
     },
     "execution_count": 76,
     "metadata": {},
     "output_type": "execute_result"
    }
   ],
   "source": [
    "X_tr_clarinet = np.stack(logmel_tr_clarinet,axis=0)\n",
    "X_tr_clarinet.shape"
   ]
  },
  {
   "cell_type": "code",
   "execution_count": 77,
   "id": "7a0ba158-43d8-40d7-a56b-4e75b6d0fb42",
   "metadata": {},
   "outputs": [
    {
     "data": {
      "text/plain": [
       "(404, 129, 129)"
      ]
     },
     "execution_count": 77,
     "metadata": {},
     "output_type": "execute_result"
    }
   ],
   "source": [
    "X_tr_guitar = np.stack(logmel_tr_guitar,axis=0)\n",
    "X_tr_guitar.shape"
   ]
  },
  {
   "cell_type": "code",
   "execution_count": 78,
   "id": "c6a6bfc2-320f-497d-aa93-644c96608cea",
   "metadata": {},
   "outputs": [],
   "source": [
    "y_tr_guitar = np.ones((404,1))"
   ]
  },
  {
   "cell_type": "code",
   "execution_count": 79,
   "id": "435e1135-3185-4dcd-9d75-3dfceeb0a62c",
   "metadata": {},
   "outputs": [],
   "source": [
    "X_tr_guitar_resh = X_tr_guitar.reshape(404,129,129,1)"
   ]
  },
  {
   "cell_type": "code",
   "execution_count": 80,
   "id": "a4394fca-f533-42c5-9a43-7f2fc4fe066d",
   "metadata": {},
   "outputs": [
    {
     "data": {
      "text/plain": [
       "(318, 129, 129)"
      ]
     },
     "execution_count": 80,
     "metadata": {},
     "output_type": "execute_result"
    }
   ],
   "source": [
    "X_tr_singer = np.stack(logmel_tr_singer,axis=0)\n",
    "X_tr_singer.shape"
   ]
  },
  {
   "cell_type": "code",
   "execution_count": 81,
   "id": "e14434c7-2942-472f-9b3c-448402b3980c",
   "metadata": {},
   "outputs": [],
   "source": [
    "y_tr_singer = np.zeros((318,1))"
   ]
  },
  {
   "cell_type": "code",
   "execution_count": 82,
   "id": "0edb7a35-8b0c-40bb-959c-e60e708b22df",
   "metadata": {
    "scrolled": true,
    "tags": []
   },
   "outputs": [],
   "source": [
    "X_tr_singer_resh = X_tr_singer.reshape(318,129,129,-1)"
   ]
  },
  {
   "cell_type": "code",
   "execution_count": 83,
   "id": "720eeb0b-b776-4cb1-bf11-ecdfd776cd91",
   "metadata": {},
   "outputs": [
    {
     "data": {
      "text/plain": [
       "(318, 129, 129, 1)"
      ]
     },
     "execution_count": 83,
     "metadata": {},
     "output_type": "execute_result"
    }
   ],
   "source": [
    "X_tr_singer_resh.shape"
   ]
  },
  {
   "cell_type": "code",
   "execution_count": 84,
   "id": "3f214e29-a335-4cb5-9aac-cc75add30e4a",
   "metadata": {},
   "outputs": [
    {
     "data": {
      "text/plain": [
       "(722, 90, 129)"
      ]
     },
     "execution_count": 84,
     "metadata": {},
     "output_type": "execute_result"
    }
   ],
   "source": [
    "# X_train shape (number wav files, f domain, t domain, 1)\n",
    "# number wav guitar + singer = 404 +318 = 722\n",
    "(722, 90, 129)"
   ]
  },
  {
   "cell_type": "code",
   "execution_count": 85,
   "id": "84f04e9a-7cb1-4644-bb40-d9f442936787",
   "metadata": {},
   "outputs": [],
   "source": [
    "X_train = np.concatenate([X_tr_guitar_resh, X_tr_singer_resh])"
   ]
  },
  {
   "cell_type": "code",
   "execution_count": 86,
   "id": "2aa92d52-068a-40bf-9772-3f28c67fb974",
   "metadata": {},
   "outputs": [
    {
     "data": {
      "text/plain": [
       "(722, 129, 129, 1)"
      ]
     },
     "execution_count": 86,
     "metadata": {},
     "output_type": "execute_result"
    }
   ],
   "source": [
    "X_train.shape"
   ]
  },
  {
   "cell_type": "code",
   "execution_count": 87,
   "id": "24eedc2e-fc0e-4461-87fc-29942de18d0f",
   "metadata": {},
   "outputs": [],
   "source": [
    "y_train = np.concatenate([y_tr_guitar, y_tr_singer])"
   ]
  },
  {
   "cell_type": "code",
   "execution_count": 88,
   "id": "e2c923e2-a99e-460a-8e7a-f9b737f388a2",
   "metadata": {},
   "outputs": [
    {
     "data": {
      "text/plain": [
       "(722, 1)"
      ]
     },
     "execution_count": 88,
     "metadata": {},
     "output_type": "execute_result"
    }
   ],
   "source": [
    "y_train.shape"
   ]
  },
  {
   "cell_type": "code",
   "execution_count": 89,
   "id": "b59eafb3-ee7e-4b98-a9d5-a8992ff6d05a",
   "metadata": {},
   "outputs": [],
   "source": [
    "# One hot encode the labels:\n",
    "# Keep a copy of y test as the actual number labels:\n",
    "y_train_true = y_train.copy()"
   ]
  },
  {
   "cell_type": "code",
   "execution_count": 90,
   "id": "1bedd275-659a-4e8f-ade9-0104cc2837b0",
   "metadata": {},
   "outputs": [],
   "source": [
    "y_train = to_categorical(y_train)"
   ]
  },
  {
   "cell_type": "code",
   "execution_count": 91,
   "id": "2dfa1bc3-02f7-4c11-93ce-85fcf49175bd",
   "metadata": {},
   "outputs": [
    {
     "data": {
      "text/plain": [
       "(722, 2)"
      ]
     },
     "execution_count": 91,
     "metadata": {},
     "output_type": "execute_result"
    }
   ],
   "source": [
    "y_train.shape"
   ]
  },
  {
   "cell_type": "code",
   "execution_count": null,
   "id": "6f1fc4b2-8c98-4d56-91e7-41d9a2f77e4f",
   "metadata": {},
   "outputs": [],
   "source": []
  },
  {
   "cell_type": "code",
   "execution_count": 92,
   "id": "daf08306-c6ae-47dd-8a10-66d6c183aedb",
   "metadata": {},
   "outputs": [],
   "source": [
    "## VALIDATION SUBSET"
   ]
  },
  {
   "cell_type": "code",
   "execution_count": 93,
   "id": "ddf6bf97-034a-476b-a5fc-bfdcca4d8176",
   "metadata": {},
   "outputs": [],
   "source": [
    "logmel_val_clarinet = signal_to_logmel(signal_val_clarinet)"
   ]
  },
  {
   "cell_type": "code",
   "execution_count": 94,
   "id": "75f72fbd-8715-475a-b2f9-38df3f8e8e8c",
   "metadata": {},
   "outputs": [],
   "source": [
    "logmel_val_guitar = signal_to_logmel(signal_val_guitar)"
   ]
  },
  {
   "cell_type": "code",
   "execution_count": 95,
   "id": "43344c53-a5ce-412a-bf9d-aa2efb4167db",
   "metadata": {},
   "outputs": [],
   "source": [
    "logmel_val_singer = signal_to_logmel(signal_val_singer)"
   ]
  },
  {
   "cell_type": "code",
   "execution_count": 96,
   "id": "595b5bb9-5309-442e-b952-948a06b404e4",
   "metadata": {},
   "outputs": [
    {
     "data": {
      "text/plain": [
       "(328, 495, 284)"
      ]
     },
     "execution_count": 96,
     "metadata": {},
     "output_type": "execute_result"
    }
   ],
   "source": [
    "len(logmel_val_clarinet), len(logmel_val_guitar), len(logmel_val_singer)"
   ]
  },
  {
   "cell_type": "code",
   "execution_count": 97,
   "id": "72b5688d-ba28-4346-a06e-f95ffb16250a",
   "metadata": {},
   "outputs": [
    {
     "data": {
      "text/plain": [
       "((129, 129), (129, 129), (129, 129))"
      ]
     },
     "execution_count": 97,
     "metadata": {},
     "output_type": "execute_result"
    }
   ],
   "source": [
    "logmel_tr_clarinet[0].shape, logmel_tr_clarinet[0].shape, logmel_tr_singer[0].shape"
   ]
  },
  {
   "cell_type": "code",
   "execution_count": 98,
   "id": "57c370df-e74e-434a-85e3-69f6d40e045e",
   "metadata": {},
   "outputs": [],
   "source": [
    "# X_val, y val"
   ]
  },
  {
   "cell_type": "code",
   "execution_count": 99,
   "id": "0dbc07a1-4f47-481e-986e-76fdc07ac236",
   "metadata": {},
   "outputs": [],
   "source": [
    "# clarinet"
   ]
  },
  {
   "cell_type": "code",
   "execution_count": 100,
   "id": "e67ee44a-3b01-4acc-95c3-af28c2e378ac",
   "metadata": {},
   "outputs": [
    {
     "data": {
      "text/plain": [
       "(328, 129, 129)"
      ]
     },
     "execution_count": 100,
     "metadata": {},
     "output_type": "execute_result"
    }
   ],
   "source": [
    "X_val_clarinet = np.stack(logmel_val_clarinet,axis=0)\n",
    "X_val_clarinet.shape"
   ]
  },
  {
   "cell_type": "code",
   "execution_count": 101,
   "id": "ed98eaab-9820-41b6-8f42-eb4f32302a6f",
   "metadata": {},
   "outputs": [],
   "source": [
    "# guitar"
   ]
  },
  {
   "cell_type": "code",
   "execution_count": 102,
   "id": "f7d5f75a-11b3-46df-b59d-b143347a24d1",
   "metadata": {},
   "outputs": [
    {
     "data": {
      "text/plain": [
       "(495, 129, 129)"
      ]
     },
     "execution_count": 102,
     "metadata": {},
     "output_type": "execute_result"
    }
   ],
   "source": [
    "X_val_guitar = np.stack(logmel_val_guitar,axis=0)\n",
    "X_val_guitar.shape"
   ]
  },
  {
   "cell_type": "code",
   "execution_count": 103,
   "id": "3589d8e9-33c9-4573-88b1-ddf1dffa12e3",
   "metadata": {},
   "outputs": [],
   "source": [
    "X_val_guitar_resh = X_val_guitar.reshape(495,129,129,1)"
   ]
  },
  {
   "cell_type": "code",
   "execution_count": 104,
   "id": "cf34e77e-a0f7-450c-a914-b9b05c84981f",
   "metadata": {},
   "outputs": [],
   "source": [
    "y_val_guitar = np.ones((495,1))"
   ]
  },
  {
   "cell_type": "code",
   "execution_count": 105,
   "id": "bf90c5d8-91cb-4312-a8ca-af67f4dd3572",
   "metadata": {},
   "outputs": [],
   "source": [
    "# singer"
   ]
  },
  {
   "cell_type": "code",
   "execution_count": 106,
   "id": "dee992f3-3d65-4fc4-baed-982ded0b0c05",
   "metadata": {},
   "outputs": [
    {
     "data": {
      "text/plain": [
       "(284, 129, 129)"
      ]
     },
     "execution_count": 106,
     "metadata": {},
     "output_type": "execute_result"
    }
   ],
   "source": [
    "X_val_singer = np.stack(logmel_val_singer,axis=0)\n",
    "X_val_singer.shape"
   ]
  },
  {
   "cell_type": "code",
   "execution_count": 107,
   "id": "72fa4431-2624-4f8c-b250-ac8193844dfb",
   "metadata": {
    "scrolled": true,
    "tags": []
   },
   "outputs": [],
   "source": [
    "X_val_singer_resh = X_val_singer.reshape(284,129,129,-1)"
   ]
  },
  {
   "cell_type": "code",
   "execution_count": 108,
   "id": "7f0982e2-51b3-4191-ba2e-a90be9b4dee2",
   "metadata": {},
   "outputs": [
    {
     "data": {
      "text/plain": [
       "(284, 129, 129, 1)"
      ]
     },
     "execution_count": 108,
     "metadata": {},
     "output_type": "execute_result"
    }
   ],
   "source": [
    "X_val_singer_resh.shape"
   ]
  },
  {
   "cell_type": "code",
   "execution_count": 109,
   "id": "7fe6d7ec-3b6a-4faa-8223-d33ba93886eb",
   "metadata": {},
   "outputs": [],
   "source": [
    "y_val_singer = np.zeros((284,1))"
   ]
  },
  {
   "cell_type": "code",
   "execution_count": 110,
   "id": "dd057a50-30e3-45c2-883b-8f11aa2e095c",
   "metadata": {},
   "outputs": [
    {
     "data": {
      "text/plain": [
       "(779, 90, 129)"
      ]
     },
     "execution_count": 110,
     "metadata": {},
     "output_type": "execute_result"
    }
   ],
   "source": [
    "# X_val shape (number wav files, f domain, t domain, 1)\n",
    "# number wav guitar + singer = 495 + 284 = 779\n",
    "(779, 90, 129)"
   ]
  },
  {
   "cell_type": "code",
   "execution_count": 111,
   "id": "84e1ef3f-bcd4-4549-b20e-58f190dab3fb",
   "metadata": {},
   "outputs": [],
   "source": [
    "X_val = np.concatenate([X_val_guitar_resh, X_val_singer_resh])"
   ]
  },
  {
   "cell_type": "code",
   "execution_count": 112,
   "id": "c1e96a28-9be3-4e7a-ad57-18ecbbc09ef4",
   "metadata": {},
   "outputs": [
    {
     "data": {
      "text/plain": [
       "(779, 129, 129, 1)"
      ]
     },
     "execution_count": 112,
     "metadata": {},
     "output_type": "execute_result"
    }
   ],
   "source": [
    "X_val.shape"
   ]
  },
  {
   "cell_type": "code",
   "execution_count": 113,
   "id": "8cafa092-5630-4815-9276-df621a8edde6",
   "metadata": {},
   "outputs": [],
   "source": [
    "y_val = np.concatenate([y_val_guitar, y_val_singer])"
   ]
  },
  {
   "cell_type": "code",
   "execution_count": 114,
   "id": "0873cb14-4b62-4c25-b467-e8bce4cf5854",
   "metadata": {},
   "outputs": [
    {
     "data": {
      "text/plain": [
       "(779, 1)"
      ]
     },
     "execution_count": 114,
     "metadata": {},
     "output_type": "execute_result"
    }
   ],
   "source": [
    "y_val.shape"
   ]
  },
  {
   "cell_type": "code",
   "execution_count": 115,
   "id": "67f400e8-4d0d-418b-b662-4ee3eed92197",
   "metadata": {},
   "outputs": [],
   "source": [
    "# One hot encode the labels:\n",
    "# Keep a copy of y test as the actual number labels:\n",
    "y_val_true = y_val.copy()"
   ]
  },
  {
   "cell_type": "code",
   "execution_count": 116,
   "id": "904b6cc2-e17f-413e-9dd8-a3e2894a879b",
   "metadata": {},
   "outputs": [],
   "source": [
    "y_val = to_categorical(y_val)"
   ]
  },
  {
   "cell_type": "code",
   "execution_count": 119,
   "id": "a272d2be-4d56-4edc-8fe0-95f24c2126ec",
   "metadata": {},
   "outputs": [
    {
     "data": {
      "text/plain": [
       "(779, 2)"
      ]
     },
     "execution_count": 119,
     "metadata": {},
     "output_type": "execute_result"
    }
   ],
   "source": [
    "y_val.shape"
   ]
  },
  {
   "cell_type": "code",
   "execution_count": 118,
   "id": "e016dfd6-364f-4a9c-931f-468346c62c20",
   "metadata": {},
   "outputs": [],
   "source": [
    "# the same needs to be done with the test "
   ]
  },
  {
   "cell_type": "code",
   "execution_count": null,
   "id": "bbf3aa56-aba2-455d-b3a2-4e4d3c2a34be",
   "metadata": {},
   "outputs": [],
   "source": []
  },
  {
   "cell_type": "code",
   "execution_count": null,
   "id": "a8c11d31-2fdd-44c4-856b-6dfe301b9375",
   "metadata": {},
   "outputs": [],
   "source": []
  },
  {
   "cell_type": "markdown",
   "id": "e8abf8e9-1439-4bd0-ad23-e6fd7f52fcec",
   "metadata": {},
   "source": [
    "MODELLING"
   ]
  },
  {
   "cell_type": "code",
   "execution_count": 120,
   "id": "e7602bf9-a480-4abc-8ce7-ce0e333fc9a7",
   "metadata": {},
   "outputs": [],
   "source": [
    "# general functions and plots"
   ]
  },
  {
   "cell_type": "code",
   "execution_count": 121,
   "id": "c7c6ec99-5b27-40e4-87a2-469d5419ad9c",
   "metadata": {},
   "outputs": [],
   "source": [
    "def plot_accuracy(history):    \n",
    "    # Plot accuracy curve\n",
    "    plt.plot(history.history['accuracy'], label='training accuracy')\n",
    "    plt.plot(history.history['val_accuracy'], label= 'validation accuracy')\n",
    "    plt.xlabel('epochs')\n",
    "    plt.ylabel('accuracy')\n",
    "    plt.legend()"
   ]
  },
  {
   "cell_type": "code",
   "execution_count": 122,
   "id": "31a73520-5f9e-483c-863b-3f72bf5a1f13",
   "metadata": {},
   "outputs": [],
   "source": [
    "def plot_loss(history):\n",
    "# Plot loss\n",
    "    plt.plot(history.history['loss'], label='training loss')\n",
    "    plt.plot(history.history['val_loss'], label='validation loss')\n",
    "    plt.xlabel('epochs')\n",
    "    plt.ylabel('loss')\n",
    "    plt.legend()"
   ]
  },
  {
   "cell_type": "code",
   "execution_count": 123,
   "id": "39553b4c-dfc8-4e95-825e-f2272f40a11b",
   "metadata": {},
   "outputs": [],
   "source": [
    "# Early stopping:\n",
    "early_stop = keras.callbacks.EarlyStopping(\n",
    "    monitor='val_loss', #the thing we are monitoring\n",
    "    min_delta=0.0005, #the minimum change in the quantity that we want for the model to train for another epoch\n",
    "    patience=3, #number of epochs with no improvement needed for the model to stop\n",
    "    verbose=1, #0 is silent, 1 means a message is displayed when something happens\n",
    "    mode='auto'\n",
    ")"
   ]
  },
  {
   "cell_type": "code",
   "execution_count": 124,
   "id": "25b15102-e38e-4938-9023-260d85b058d8",
   "metadata": {},
   "outputs": [],
   "source": [
    "# Model"
   ]
  },
  {
   "cell_type": "code",
   "execution_count": 125,
   "id": "2fce99db-d8df-45d8-8221-8b07f4f7e4dd",
   "metadata": {},
   "outputs": [],
   "source": [
    "#model 00: relu, relu"
   ]
  },
  {
   "cell_type": "code",
   "execution_count": 126,
   "id": "cd4d3b9e-0dd9-498c-8f68-d1ab0026ac47",
   "metadata": {},
   "outputs": [],
   "source": [
    "# model 00\n",
    "# Clear session and build above model:\n",
    "K.clear_session()\n",
    "model_00 = Sequential([\n",
    "    Conv2D(filters = 16, kernel_size = (3,3), strides = (1,1), padding = 'valid',\n",
    "           activation = 'relu' ,input_shape = (129,129,1)),\n",
    "    MaxPooling2D(pool_size = (2,2),strides=(2,2),padding = 'valid'),\n",
    "\n",
    "    \n",
    "    Conv2D(filters = 16, kernel_size = (3,3), strides = (1,1), padding = 'valid', activation = 'relu'),\n",
    "    MaxPooling2D(pool_size = (2,2),strides=(2,2),padding = 'valid'),\n",
    "    \n",
    "    Flatten(),\n",
    "    #Fully connected layers:\n",
    "    Dense(100,activation='relu'),\n",
    "    #Dropout(0.2), - optional\n",
    "    Dense(2,activation= 'sigmoid')   \n",
    "])"
   ]
  },
  {
   "cell_type": "code",
   "execution_count": 127,
   "id": "c5cc8758-4b93-49c0-9c0c-e2c3fefb17cc",
   "metadata": {},
   "outputs": [
    {
     "name": "stdout",
     "output_type": "stream",
     "text": [
      "Model: \"sequential\"\n",
      "_________________________________________________________________\n",
      "Layer (type)                 Output Shape              Param #   \n",
      "=================================================================\n",
      "conv2d (Conv2D)              (None, 127, 127, 16)      160       \n",
      "_________________________________________________________________\n",
      "max_pooling2d (MaxPooling2D) (None, 63, 63, 16)        0         \n",
      "_________________________________________________________________\n",
      "conv2d_1 (Conv2D)            (None, 61, 61, 16)        2320      \n",
      "_________________________________________________________________\n",
      "max_pooling2d_1 (MaxPooling2 (None, 30, 30, 16)        0         \n",
      "_________________________________________________________________\n",
      "flatten (Flatten)            (None, 14400)             0         \n",
      "_________________________________________________________________\n",
      "dense (Dense)                (None, 100)               1440100   \n",
      "_________________________________________________________________\n",
      "dense_1 (Dense)              (None, 2)                 202       \n",
      "=================================================================\n",
      "Total params: 1,442,782\n",
      "Trainable params: 1,442,782\n",
      "Non-trainable params: 0\n",
      "_________________________________________________________________\n"
     ]
    }
   ],
   "source": [
    "# Check the summary:\n",
    "model_00.summary()"
   ]
  },
  {
   "cell_type": "code",
   "execution_count": 128,
   "id": "a1a42f7a-ed70-4d7a-9d3e-de5dc34d6bf7",
   "metadata": {},
   "outputs": [],
   "source": [
    "# compile model\n",
    "model_00.compile(optimizer='Adam',loss='binary_crossentropy',metrics=['accuracy'])"
   ]
  },
  {
   "cell_type": "code",
   "execution_count": 129,
   "id": "f0ac7dc9-87bf-490d-827e-ea859a8013eb",
   "metadata": {
    "tags": []
   },
   "outputs": [
    {
     "name": "stdout",
     "output_type": "stream",
     "text": [
      "Epoch 1/35\n",
      "2/2 [==============================] - 23s 7s/step - loss: 11.6337 - accuracy: 0.5249 - val_loss: 15.4349 - val_accuracy: 0.8113\n",
      "Epoch 2/35\n",
      "2/2 [==============================] - 12s 7s/step - loss: 12.1664 - accuracy: 0.5388 - val_loss: 3.4732 - val_accuracy: 0.4506\n",
      "Epoch 3/35\n",
      "2/2 [==============================] - 12s 7s/step - loss: 2.8894 - accuracy: 0.7368 - val_loss: 1.0595 - val_accuracy: 0.9140\n",
      "Epoch 4/35\n",
      "2/2 [==============================] - 9s 5s/step - loss: 2.0683 - accuracy: 0.7188 - val_loss: 0.2189 - val_accuracy: 0.9653\n",
      "Epoch 5/35\n",
      "2/2 [==============================] - 8s 5s/step - loss: 0.1244 - accuracy: 0.9668 - val_loss: 0.7176 - val_accuracy: 0.8986\n",
      "Epoch 6/35\n",
      "2/2 [==============================] - 9s 6s/step - loss: 0.4898 - accuracy: 0.9363 - val_loss: 0.9962 - val_accuracy: 0.8870\n",
      "Epoch 7/35\n",
      "2/2 [==============================] - 8s 5s/step - loss: 0.6247 - accuracy: 0.9335 - val_loss: 0.6043 - val_accuracy: 0.9307\n",
      "Epoch 8/35\n",
      "2/2 [==============================] - 8s 5s/step - loss: 0.2834 - accuracy: 0.9640 - val_loss: 0.3687 - val_accuracy: 0.9538\n",
      "Epoch 9/35\n",
      "2/2 [==============================] - 8s 5s/step - loss: 0.1023 - accuracy: 0.9820 - val_loss: 0.2675 - val_accuracy: 0.9653\n",
      "Epoch 10/35\n",
      "2/2 [==============================] - 8s 5s/step - loss: 0.0264 - accuracy: 0.9917 - val_loss: 0.2323 - val_accuracy: 0.9795\n",
      "Epoch 11/35\n",
      "2/2 [==============================] - 8s 4s/step - loss: 0.0336 - accuracy: 0.9945 - val_loss: 0.2368 - val_accuracy: 0.9846\n",
      "Epoch 12/35\n",
      "2/2 [==============================] - 8s 4s/step - loss: 0.0641 - accuracy: 0.9958 - val_loss: 0.2580 - val_accuracy: 0.9820\n",
      "Epoch 13/35\n",
      "2/2 [==============================] - 9s 6s/step - loss: 0.0519 - accuracy: 0.9945 - val_loss: 0.2157 - val_accuracy: 0.9833\n",
      "Epoch 14/35\n",
      "2/2 [==============================] - 8s 4s/step - loss: 0.0166 - accuracy: 0.9972 - val_loss: 0.1976 - val_accuracy: 0.9859\n",
      "Epoch 15/35\n",
      "2/2 [==============================] - 8s 4s/step - loss: 0.0172 - accuracy: 1.0000 - val_loss: 0.1999 - val_accuracy: 0.9859\n",
      "Epoch 16/35\n",
      "2/2 [==============================] - 8s 5s/step - loss: 0.0114 - accuracy: 1.0000 - val_loss: 0.2154 - val_accuracy: 0.9833\n",
      "Epoch 17/35\n",
      "2/2 [==============================] - 9s 5s/step - loss: 0.0056 - accuracy: 0.9972 - val_loss: 0.2370 - val_accuracy: 0.9820\n",
      "Epoch 18/35\n",
      "2/2 [==============================] - 8s 5s/step - loss: 0.0070 - accuracy: 0.9972 - val_loss: 0.2447 - val_accuracy: 0.9846\n",
      "Epoch 19/35\n",
      "2/2 [==============================] - 8s 5s/step - loss: 0.0059 - accuracy: 1.0000 - val_loss: 0.2385 - val_accuracy: 0.9859\n",
      "Epoch 20/35\n",
      "2/2 [==============================] - 8s 5s/step - loss: 0.0035 - accuracy: 1.0000 - val_loss: 0.2304 - val_accuracy: 0.9846\n",
      "Epoch 21/35\n",
      "2/2 [==============================] - 10s 6s/step - loss: 0.0032 - accuracy: 0.9972 - val_loss: 0.2212 - val_accuracy: 0.9846\n",
      "Epoch 22/35\n",
      "2/2 [==============================] - 8s 5s/step - loss: 0.0030 - accuracy: 0.9972 - val_loss: 0.2140 - val_accuracy: 0.9872\n",
      "Epoch 23/35\n",
      "2/2 [==============================] - 8s 4s/step - loss: 0.0021 - accuracy: 1.0000 - val_loss: 0.2091 - val_accuracy: 0.9872\n",
      "Epoch 24/35\n",
      "2/2 [==============================] - 8s 5s/step - loss: 0.0014 - accuracy: 1.0000 - val_loss: 0.2043 - val_accuracy: 0.9859\n",
      "Epoch 25/35\n",
      "2/2 [==============================] - 8s 4s/step - loss: 0.0017 - accuracy: 1.0000 - val_loss: 0.1971 - val_accuracy: 0.9872\n",
      "Epoch 26/35\n",
      "2/2 [==============================] - 8s 5s/step - loss: 0.0013 - accuracy: 1.0000 - val_loss: 0.1892 - val_accuracy: 0.9872\n",
      "Epoch 27/35\n",
      "2/2 [==============================] - 8s 4s/step - loss: 8.5486e-04 - accuracy: 1.0000 - val_loss: 0.1833 - val_accuracy: 0.9872\n",
      "Epoch 28/35\n",
      "2/2 [==============================] - 9s 6s/step - loss: 8.4569e-04 - accuracy: 1.0000 - val_loss: 0.1789 - val_accuracy: 0.9872\n",
      "Epoch 29/35\n",
      "2/2 [==============================] - 8s 5s/step - loss: 7.8056e-04 - accuracy: 1.0000 - val_loss: 0.1774 - val_accuracy: 0.9872\n",
      "Epoch 30/35\n",
      "2/2 [==============================] - 8s 4s/step - loss: 6.7499e-04 - accuracy: 1.0000 - val_loss: 0.1764 - val_accuracy: 0.9872\n",
      "Epoch 31/35\n",
      "2/2 [==============================] - 8s 4s/step - loss: 6.3619e-04 - accuracy: 1.0000 - val_loss: 0.1744 - val_accuracy: 0.9872\n",
      "Epoch 32/35\n",
      "2/2 [==============================] - 8s 5s/step - loss: 6.0964e-04 - accuracy: 1.0000 - val_loss: 0.1725 - val_accuracy: 0.9872\n",
      "Epoch 33/35\n",
      "2/2 [==============================] - 8s 4s/step - loss: 5.4487e-04 - accuracy: 1.0000 - val_loss: 0.1707 - val_accuracy: 0.9872\n",
      "Epoch 34/35\n",
      "2/2 [==============================] - 8s 5s/step - loss: 5.3010e-04 - accuracy: 1.0000 - val_loss: 0.1695 - val_accuracy: 0.9872\n",
      "Epoch 35/35\n",
      "2/2 [==============================] - 10s 5s/step - loss: 5.3051e-04 - accuracy: 1.0000 - val_loss: 0.1696 - val_accuracy: 0.9872\n"
     ]
    }
   ],
   "source": [
    "# fit the model\n",
    "history_00 = model_00.fit(X_train,y_train,batch_size=400, epochs=35,validation_data=(X_val,y_val))"
   ]
  },
  {
   "cell_type": "code",
   "execution_count": 133,
   "id": "8e247703-21da-48cf-a8de-b2a6e89a2d81",
   "metadata": {
    "tags": []
   },
   "outputs": [],
   "source": [
    "model_00.save('../data/models/two_instruments/2conv_00.h5')"
   ]
  },
  {
   "cell_type": "code",
   "execution_count": 134,
   "id": "97f6fc3f-9db3-4286-991c-f4e810b3f6f4",
   "metadata": {},
   "outputs": [],
   "source": [
    "# with open('../data/models/two_instruments/3conv2d_bn_dout_hist.h5', 'wb') as file_pi:\n",
    "  #      pickle.dump(history.history, file_pi)"
   ]
  },
  {
   "cell_type": "code",
   "execution_count": 135,
   "id": "6446ea91-b81f-49f4-b9c7-7f48ee476002",
   "metadata": {},
   "outputs": [],
   "source": [
    "# history_2B_loaded = pickle.load(open('../data/models/two_instruments/3conv2d_bn_dout_hist.h5',\"rb\"))"
   ]
  },
  {
   "cell_type": "code",
   "execution_count": 140,
   "id": "10de4eed",
   "metadata": {},
   "outputs": [],
   "source": [
    "df_history_00 = pd.DataFrame(history_00.history)\n",
    "df_history_00.to_csv('../data/models/two_instruments/2conv_00_hist.csv')"
   ]
  },
  {
   "cell_type": "code",
   "execution_count": 136,
   "id": "7fdd66ea-9845-49df-921d-03d761f5647b",
   "metadata": {},
   "outputs": [],
   "source": [
    "# examine the model"
   ]
  },
  {
   "cell_type": "code",
   "execution_count": 130,
   "id": "4611f93d-988c-47ac-8156-0c8143c7af00",
   "metadata": {
    "scrolled": true,
    "tags": []
   },
   "outputs": [],
   "source": [
    "history_00.history;"
   ]
  },
  {
   "cell_type": "code",
   "execution_count": 141,
   "id": "e47f8c91-ca53-43cb-b7f6-c60d63d8ed56",
   "metadata": {},
   "outputs": [
    {
     "data": {
      "image/png": "[encoded data removed]",
      "text/plain": [
       "<Figure size 432x288 with 1 Axes>"
      ]
     },
     "metadata": {
      "needs_background": "light"
     },
     "output_type": "display_data"
    }
   ],
   "source": [
    "plot_accuracy(history_00)\n",
    "plt.savefig('../data/models/two_instruments/2conv_00_acc.png')"
   ]
  },
  {
   "cell_type": "code",
   "execution_count": 143,
   "id": "a13f28e5-2b55-42e2-bf4b-f885a02f6f1b",
   "metadata": {},
   "outputs": [
    {
     "data": {
      "image/png": "[encoded data removed]",
      "text/plain": [
       "<Figure size 432x288 with 1 Axes>"
      ]
     },
     "metadata": {
      "needs_background": "light"
     },
     "output_type": "display_data"
    }
   ],
   "source": [
    "plot_loss(history_00)\n",
    "plt.savefig('../data/models/two_instruments/2conv_00_acc_loss.png')"
   ]
  },
  {
   "cell_type": "code",
   "execution_count": 138,
   "id": "097d787b-af68-427e-bca3-b8861e7bc09f",
   "metadata": {},
   "outputs": [
    {
     "data": {
      "text/plain": [
       "<AxesSubplot:>"
      ]
     },
     "execution_count": 138,
     "metadata": {},
     "output_type": "execute_result"
    },
    {
     "data": {
      "image/png": "[encoded data removed]",
      "text/plain": [
       "<Figure size 432x288 with 1 Axes>"
      ]
     },
     "metadata": {
      "needs_background": "light"
     },
     "output_type": "display_data"
    }
   ],
   "source": [
    "pd.DataFrame(history_00.history).plot()"
   ]
  },
  {
   "cell_type": "code",
   "execution_count": 163,
   "id": "c7acb1a8-2986-42eb-98b9-cd8504a44c34",
   "metadata": {},
   "outputs": [],
   "source": [
    "# model 0a: relu / tanh"
   ]
  },
  {
   "cell_type": "code",
   "execution_count": 164,
   "id": "d1aa9d2d-4228-40e0-92f1-4a2584d04685",
   "metadata": {},
   "outputs": [],
   "source": [
    "# model 0a\n",
    "# Clear session and build above model:\n",
    "K.clear_session()\n",
    "model_0a = Sequential([\n",
    "    Conv2D(filters = 16, kernel_size = (3,3), strides = (1,1), padding = 'valid',\n",
    "           activation = 'relu' ,input_shape = (129,129,1)),\n",
    "    MaxPooling2D(pool_size = (2,2),strides=(2,2),padding = 'valid'),\n",
    "\n",
    "    \n",
    "    Conv2D(filters = 16, kernel_size = (3,3), strides = (1,1), padding = 'valid', activation = 'tanh'),\n",
    "    MaxPooling2D(pool_size = (2,2),strides=(2,2),padding = 'valid'),\n",
    "    \n",
    "    Flatten(),\n",
    "    #Fully connected layers:\n",
    "    Dense(100,activation='relu'),\n",
    "    #Dropout(0.2), - optional\n",
    "    Dense(2,activation= 'sigmoid')   \n",
    "])"
   ]
  },
  {
   "cell_type": "code",
   "execution_count": 165,
   "id": "3aaa796b-d7eb-4822-a255-2f129f70abed",
   "metadata": {},
   "outputs": [
    {
     "name": "stdout",
     "output_type": "stream",
     "text": [
      "Model: \"sequential\"\n",
      "_________________________________________________________________\n",
      "Layer (type)                 Output Shape              Param #   \n",
      "=================================================================\n",
      "conv2d (Conv2D)              (None, 127, 127, 16)      160       \n",
      "_________________________________________________________________\n",
      "max_pooling2d (MaxPooling2D) (None, 63, 63, 16)        0         \n",
      "_________________________________________________________________\n",
      "conv2d_1 (Conv2D)            (None, 61, 61, 16)        2320      \n",
      "_________________________________________________________________\n",
      "max_pooling2d_1 (MaxPooling2 (None, 30, 30, 16)        0         \n",
      "_________________________________________________________________\n",
      "flatten (Flatten)            (None, 14400)             0         \n",
      "_________________________________________________________________\n",
      "dense (Dense)                (None, 100)               1440100   \n",
      "_________________________________________________________________\n",
      "dense_1 (Dense)              (None, 2)                 202       \n",
      "=================================================================\n",
      "Total params: 1,442,782\n",
      "Trainable params: 1,442,782\n",
      "Non-trainable params: 0\n",
      "_________________________________________________________________\n"
     ]
    }
   ],
   "source": [
    "# Check the summary:\n",
    "model_0a.summary()"
   ]
  },
  {
   "cell_type": "code",
   "execution_count": 166,
   "id": "9b129f07-ae1e-4a97-9968-bbbee8f8b154",
   "metadata": {},
   "outputs": [],
   "source": [
    "# compile model\n",
    "model_0a.compile(optimizer='Adam',loss='binary_crossentropy',metrics=['accuracy'])"
   ]
  },
  {
   "cell_type": "code",
   "execution_count": 167,
   "id": "4e0214da-115f-4ba4-8ae7-333c44150180",
   "metadata": {
    "tags": []
   },
   "outputs": [
    {
     "name": "stdout",
     "output_type": "stream",
     "text": [
      "Epoch 1/40\n",
      "1/1 [==============================] - 9s 9s/step - loss: 0.6936 - accuracy: 0.5720 - val_loss: 16.7949 - val_accuracy: 0.3646\n",
      "Epoch 2/40\n",
      "1/1 [==============================] - 7s 7s/step - loss: 16.5054 - accuracy: 0.4404 - val_loss: 12.3523 - val_accuracy: 0.3646\n",
      "Epoch 3/40\n",
      "1/1 [==============================] - 8s 8s/step - loss: 11.9993 - accuracy: 0.4404 - val_loss: 1.9512 - val_accuracy: 0.5186\n",
      "Epoch 4/40\n",
      "1/1 [==============================] - 9s 9s/step - loss: 1.9721 - accuracy: 0.5305 - val_loss: 3.1219 - val_accuracy: 0.6354\n",
      "Epoch 5/40\n",
      "1/1 [==============================] - 9s 9s/step - loss: 4.2863 - accuracy: 0.5596 - val_loss: 3.9240 - val_accuracy: 0.6354\n",
      "Epoch 6/40\n",
      "1/1 [==============================] - 8s 8s/step - loss: 5.3658 - accuracy: 0.5596 - val_loss: 2.6059 - val_accuracy: 0.6354\n",
      "Epoch 7/40\n",
      "1/1 [==============================] - 8s 8s/step - loss: 3.6659 - accuracy: 0.5596 - val_loss: 0.4969 - val_accuracy: 0.8549\n",
      "Epoch 8/40\n",
      "1/1 [==============================] - 8s 8s/step - loss: 0.7709 - accuracy: 0.7673 - val_loss: 0.9918 - val_accuracy: 0.5892\n",
      "Epoch 9/40\n",
      "1/1 [==============================] - 8s 8s/step - loss: 1.0372 - accuracy: 0.5762 - val_loss: 1.0760 - val_accuracy: 0.5841\n",
      "Epoch 10/40\n",
      "1/1 [==============================] - 8s 8s/step - loss: 1.1244 - accuracy: 0.5720 - val_loss: 0.9906 - val_accuracy: 0.7792\n",
      "Epoch 11/40\n",
      "1/1 [==============================] - 8s 8s/step - loss: 0.7420 - accuracy: 0.8518 - val_loss: 0.3004 - val_accuracy: 0.9628\n",
      "Epoch 12/40\n",
      "1/1 [==============================] - 8s 8s/step - loss: 0.2896 - accuracy: 0.9460 - val_loss: 0.0822 - val_accuracy: 0.9884\n",
      "Epoch 13/40\n",
      "1/1 [==============================] - 9s 9s/step - loss: 0.1233 - accuracy: 0.9668 - val_loss: 0.0518 - val_accuracy: 0.9897\n",
      "Epoch 14/40\n",
      "1/1 [==============================] - 9s 9s/step - loss: 0.1078 - accuracy: 0.9668 - val_loss: 0.0431 - val_accuracy: 0.9923\n",
      "Epoch 15/40\n",
      "1/1 [==============================] - 9s 9s/step - loss: 0.0935 - accuracy: 0.9695 - val_loss: 0.0522 - val_accuracy: 0.9936\n",
      "Epoch 16/40\n",
      "1/1 [==============================] - 8s 8s/step - loss: 0.0751 - accuracy: 0.9834 - val_loss: 0.0838 - val_accuracy: 0.9846\n",
      "Epoch 17/40\n",
      "1/1 [==============================] - 9s 9s/step - loss: 0.0708 - accuracy: 0.9806 - val_loss: 0.1259 - val_accuracy: 0.9795\n",
      "Epoch 18/40\n",
      "1/1 [==============================] - 10s 10s/step - loss: 0.0847 - accuracy: 0.9778 - val_loss: 0.1559 - val_accuracy: 0.9743\n",
      "Epoch 19/40\n",
      "1/1 [==============================] - 12s 12s/step - loss: 0.0991 - accuracy: 0.9751 - val_loss: 0.1414 - val_accuracy: 0.9743\n",
      "Epoch 20/40\n",
      "1/1 [==============================] - 9s 9s/step - loss: 0.0763 - accuracy: 0.9778 - val_loss: 0.1239 - val_accuracy: 0.9743\n",
      "Epoch 21/40\n",
      "1/1 [==============================] - 9s 9s/step - loss: 0.0585 - accuracy: 0.9820 - val_loss: 0.1206 - val_accuracy: 0.9782\n",
      "Epoch 22/40\n",
      "1/1 [==============================] - 9s 9s/step - loss: 0.0632 - accuracy: 0.9875 - val_loss: 0.1230 - val_accuracy: 0.9730\n",
      "Epoch 23/40\n",
      "1/1 [==============================] - 14s 14s/step - loss: 0.0723 - accuracy: 0.9792 - val_loss: 0.1216 - val_accuracy: 0.9705\n",
      "Epoch 24/40\n",
      "1/1 [==============================] - 12s 12s/step - loss: 0.0604 - accuracy: 0.9861 - val_loss: 0.1221 - val_accuracy: 0.9730\n",
      "Epoch 25/40\n",
      "1/1 [==============================] - 9s 9s/step - loss: 0.0447 - accuracy: 0.9889 - val_loss: 0.1356 - val_accuracy: 0.9628\n",
      "Epoch 26/40\n",
      "1/1 [==============================] - 9s 9s/step - loss: 0.0512 - accuracy: 0.9834 - val_loss: 0.1443 - val_accuracy: 0.9615\n",
      "Epoch 27/40\n",
      "1/1 [==============================] - 9s 9s/step - loss: 0.0581 - accuracy: 0.9820 - val_loss: 0.1318 - val_accuracy: 0.9615\n",
      "Epoch 28/40\n",
      "1/1 [==============================] - 9s 9s/step - loss: 0.0455 - accuracy: 0.9834 - val_loss: 0.1183 - val_accuracy: 0.9743\n",
      "Epoch 29/40\n",
      "1/1 [==============================] - 12s 12s/step - loss: 0.0368 - accuracy: 0.9931 - val_loss: 0.1148 - val_accuracy: 0.9782\n",
      "Epoch 30/40\n",
      "1/1 [==============================] - 12s 12s/step - loss: 0.0421 - accuracy: 0.9945 - val_loss: 0.1141 - val_accuracy: 0.9782\n",
      "Epoch 31/40\n",
      "1/1 [==============================] - 10s 10s/step - loss: 0.0418 - accuracy: 0.9945 - val_loss: 0.1139 - val_accuracy: 0.9769\n",
      "Epoch 32/40\n",
      "1/1 [==============================] - 9s 9s/step - loss: 0.0344 - accuracy: 0.9945 - val_loss: 0.1170 - val_accuracy: 0.9718\n",
      "Epoch 33/40\n",
      "1/1 [==============================] - 9s 9s/step - loss: 0.0323 - accuracy: 0.9945 - val_loss: 0.1196 - val_accuracy: 0.9653\n",
      "Epoch 34/40\n",
      "1/1 [==============================] - 8s 8s/step - loss: 0.0345 - accuracy: 0.9889 - val_loss: 0.1139 - val_accuracy: 0.9679\n",
      "Epoch 35/40\n",
      "1/1 [==============================] - 8s 8s/step - loss: 0.0326 - accuracy: 0.9889 - val_loss: 0.1018 - val_accuracy: 0.9743\n",
      "Epoch 36/40\n",
      "1/1 [==============================] - 8s 8s/step - loss: 0.0270 - accuracy: 0.9945 - val_loss: 0.0913 - val_accuracy: 0.9820\n",
      "Epoch 37/40\n",
      "1/1 [==============================] - 8s 8s/step - loss: 0.0243 - accuracy: 0.9958 - val_loss: 0.0851 - val_accuracy: 0.9859\n",
      "Epoch 38/40\n",
      "1/1 [==============================] - 8s 8s/step - loss: 0.0256 - accuracy: 0.9958 - val_loss: 0.0810 - val_accuracy: 0.9872\n",
      "Epoch 39/40\n",
      "1/1 [==============================] - 8s 8s/step - loss: 0.0254 - accuracy: 0.9972 - val_loss: 0.0775 - val_accuracy: 0.9859\n",
      "Epoch 40/40\n",
      "1/1 [==============================] - 8s 8s/step - loss: 0.0221 - accuracy: 0.9972 - val_loss: 0.0756 - val_accuracy: 0.9846\n"
     ]
    }
   ],
   "source": [
    "# fit the model\n",
    "history_0a = model_0a.fit(X_train,y_train,batch_size=722,epochs=40,validation_data=(X_val,y_val))"
   ]
  },
  {
   "cell_type": "code",
   "execution_count": 168,
   "id": "7b208e9a-7772-4269-a5c5-222fa5f18353",
   "metadata": {},
   "outputs": [],
   "source": [
    "model_0a.save('../data/models/two_instruments/2conv_0a.h5')"
   ]
  },
  {
   "cell_type": "code",
   "execution_count": 169,
   "id": "a7e1c5cf",
   "metadata": {},
   "outputs": [],
   "source": [
    "# model_0a_loaded = keras.models.load_model('../data/models/three_instruments/2conv_0a.h5')"
   ]
  },
  {
   "cell_type": "code",
   "execution_count": 170,
   "id": "d25cd904",
   "metadata": {},
   "outputs": [],
   "source": [
    "# save history"
   ]
  },
  {
   "cell_type": "code",
   "execution_count": 171,
   "id": "7500aeae",
   "metadata": {},
   "outputs": [],
   "source": [
    "df_history_0a = pd.DataFrame(history_0a.history)\n",
    "df_history_0a.to_csv('../data/models/two_instruments/2conv_0a_hist.csv')"
   ]
  },
  {
   "cell_type": "code",
   "execution_count": 172,
   "id": "460ef56a-1513-4d3f-b3cb-11d7215d824e",
   "metadata": {},
   "outputs": [],
   "source": [
    "# examine the model"
   ]
  },
  {
   "cell_type": "code",
   "execution_count": 173,
   "id": "651456cd-2efc-4e26-8f20-afef03d29ba3",
   "metadata": {
    "scrolled": true,
    "tags": []
   },
   "outputs": [],
   "source": [
    "history_0a.history;"
   ]
  },
  {
   "cell_type": "code",
   "execution_count": 174,
   "id": "06e3747f",
   "metadata": {},
   "outputs": [
    {
     "data": {
      "image/png": "[encoded data removed]",
      "text/plain": [
       "<Figure size 432x288 with 1 Axes>"
      ]
     },
     "metadata": {
      "needs_background": "light"
     },
     "output_type": "display_data"
    }
   ],
   "source": [
    "plot_accuracy(history_0a)\n",
    "plt.savefig('../data/models/two_instruments/2conv_0a_acc.png')"
   ]
  },
  {
   "cell_type": "code",
   "execution_count": 175,
   "id": "34f6fa9c",
   "metadata": {},
   "outputs": [
    {
     "data": {
      "image/png": "[encoded data removed]",
      "text/plain": [
       "<Figure size 432x288 with 1 Axes>"
      ]
     },
     "metadata": {
      "needs_background": "light"
     },
     "output_type": "display_data"
    }
   ],
   "source": [
    "plot_loss(history_0a)\n",
    "plt.savefig('../data/models/two_instruments/2conv_0a_loss.png')"
   ]
  },
  {
   "cell_type": "code",
   "execution_count": 176,
   "id": "08471e73-0500-4b4b-bad0-60631f3b856f",
   "metadata": {},
   "outputs": [
    {
     "data": {
      "image/png": "[encoded data removed]",
      "text/plain": [
       "<Figure size 432x288 with 1 Axes>"
      ]
     },
     "metadata": {
      "needs_background": "light"
     },
     "output_type": "display_data"
    }
   ],
   "source": [
    "pd.DataFrame(history_0a.history).plot()\n",
    "plt.savefig('../data/models/two_instruments/2conv_0a_acc_loss.png')"
   ]
  },
  {
   "cell_type": "code",
   "execution_count": 158,
   "id": "cdd5ce42-0e7b-4214-9ee8-88f4a6807e7b",
   "metadata": {},
   "outputs": [],
   "source": [
    "#model 0b: tanh / tanh"
   ]
  },
  {
   "cell_type": "code",
   "execution_count": 159,
   "id": "3fa28d1f-c2de-4182-b640-b347fadfa667",
   "metadata": {},
   "outputs": [],
   "source": [
    "# model 00b:\n",
    "# Clear session and build above model:\n",
    "K.clear_session()\n",
    "model = Sequential([\n",
    "    Conv2D(filters = 16, kernel_size = (3,3), strides = (1,1), padding = 'valid',\n",
    "           activation = 'tanh' ,input_shape = (129,129,1)),\n",
    "    MaxPooling2D(pool_size = (2,2),strides=(2,2),padding = 'valid'),\n",
    "\n",
    "    \n",
    "    Conv2D(filters = 16, kernel_size = (3,3), strides = (1,1), padding = 'valid', activation = 'tanh'),\n",
    "    MaxPooling2D(pool_size = (2,2),strides=(2,2),padding = 'valid'),\n",
    "    \n",
    "    Flatten(),\n",
    "    #Fully connected layers:\n",
    "    Dense(100,activation='relu'),\n",
    "    #Dropout(0.2), - optional\n",
    "    Dense(2,activation= 'sigmoid')   \n",
    "])"
   ]
  },
  {
   "cell_type": "code",
   "execution_count": 160,
   "id": "e9a997fc-9c08-4827-9a4b-9dcd03404f2b",
   "metadata": {},
   "outputs": [
    {
     "name": "stdout",
     "output_type": "stream",
     "text": [
      "Model: \"sequential\"\n",
      "_________________________________________________________________\n",
      "Layer (type)                 Output Shape              Param #   \n",
      "=================================================================\n",
      "conv2d (Conv2D)              (None, 127, 127, 16)      160       \n",
      "_________________________________________________________________\n",
      "max_pooling2d (MaxPooling2D) (None, 63, 63, 16)        0         \n",
      "_________________________________________________________________\n",
      "conv2d_1 (Conv2D)            (None, 61, 61, 16)        2320      \n",
      "_________________________________________________________________\n",
      "max_pooling2d_1 (MaxPooling2 (None, 30, 30, 16)        0         \n",
      "_________________________________________________________________\n",
      "flatten (Flatten)            (None, 14400)             0         \n",
      "_________________________________________________________________\n",
      "dense (Dense)                (None, 100)               1440100   \n",
      "_________________________________________________________________\n",
      "dense_1 (Dense)              (None, 2)                 202       \n",
      "=================================================================\n",
      "Total params: 1,442,782\n",
      "Trainable params: 1,442,782\n",
      "Non-trainable params: 0\n",
      "_________________________________________________________________\n"
     ]
    }
   ],
   "source": [
    "# Check the summary:\n",
    "model.summary()"
   ]
  },
  {
   "cell_type": "code",
   "execution_count": 161,
   "id": "9475d5df-ed0c-4e7f-bac8-7bc7174caec6",
   "metadata": {},
   "outputs": [],
   "source": [
    "# compile model\n",
    "model.compile(optimizer='Adam',loss='binary_crossentropy',metrics=['accuracy'])"
   ]
  },
  {
   "cell_type": "code",
   "execution_count": null,
   "id": "a9d2b215-7c22-41fc-b18a-73d8a09c94d2",
   "metadata": {
    "scrolled": true,
    "tags": []
   },
   "outputs": [],
   "source": [
    "# fit the model\n",
    "history = model.fit(X_train,y_train,batch_size=400, epochs=35,validation_data=(X_val,y_val))"
   ]
  },
  {
   "cell_type": "code",
   "execution_count": null,
   "id": "d4ad10c8-888d-4ba3-81b6-515d9bac1c5d",
   "metadata": {},
   "outputs": [],
   "source": [
    "# examine the model"
   ]
  },
  {
   "cell_type": "code",
   "execution_count": null,
   "id": "6abc505c-6d7d-4210-b50f-dbfe88085f15",
   "metadata": {
    "scrolled": true,
    "tags": []
   },
   "outputs": [],
   "source": [
    "history.history;"
   ]
  },
  {
   "cell_type": "code",
   "execution_count": null,
   "id": "99d7646a-1ee1-4543-9158-f959cbcfb39d",
   "metadata": {},
   "outputs": [],
   "source": [
    "plot_accuracy(history)"
   ]
  },
  {
   "cell_type": "code",
   "execution_count": null,
   "id": "dbe86431-d402-4a29-9f03-9ce7c8162b4a",
   "metadata": {},
   "outputs": [],
   "source": [
    "plot_loss(history)"
   ]
  },
  {
   "cell_type": "code",
   "execution_count": null,
   "id": "6563c5eb-879c-4c6c-89e1-034c3c9d9d9d",
   "metadata": {},
   "outputs": [],
   "source": [
    "pd.DataFrame(history.history).plot()"
   ]
  },
  {
   "cell_type": "code",
   "execution_count": null,
   "id": "67397d51-a015-47f9-a478-264559b3a059",
   "metadata": {},
   "outputs": [],
   "source": [
    "# model 1:\n",
    "# 2nd Conv2D with tanh\n",
    "# bath norm after 1st Conv2D"
   ]
  },
  {
   "cell_type": "code",
   "execution_count": 435,
   "id": "247545de-ccb5-4fae-b518-db59d73281c1",
   "metadata": {},
   "outputs": [],
   "source": [
    "# model 01\n",
    "# Clear session and build above model:\n",
    "K.clear_session()\n",
    "\n",
    "model = Sequential([\n",
    "    Conv2D( filters = 16, kernel_size = (3,3), strides = (1,1), padding = 'valid',\n",
    "           activation = 'relu', input_shape = (129,129,1)),\n",
    "    \n",
    "    BatchNormalization(),\n",
    "    \n",
    "    MaxPooling2D(pool_size = (2,2),strides=(2,2),padding = 'valid'),\n",
    "    \n",
    "    Conv2D(filters = 16, kernel_size = (3,3), strides = (1,1), padding = 'valid', activation = 'tanh'),\n",
    "    \n",
    "    MaxPooling2D(pool_size = (2,2),strides=(2,2),padding = 'valid'),\n",
    "    \n",
    "    Flatten(),\n",
    "    #Fully connected layers:\n",
    "    Dense(100,activation='relu'),\n",
    "    #Dropout(0.2), - optional\n",
    "    Dense(2,activation= 'sigmoid')   \n",
    "])"
   ]
  },
  {
   "cell_type": "code",
   "execution_count": 436,
   "id": "52724c2b-7c42-4ce8-8052-a5555c29a397",
   "metadata": {},
   "outputs": [
    {
     "name": "stdout",
     "output_type": "stream",
     "text": [
      "Model: \"sequential\"\n",
      "_________________________________________________________________\n",
      "Layer (type)                 Output Shape              Param #   \n",
      "=================================================================\n",
      "conv2d (Conv2D)              (None, 127, 127, 16)      160       \n",
      "_________________________________________________________________\n",
      "batch_normalization (BatchNo (None, 127, 127, 16)      64        \n",
      "_________________________________________________________________\n",
      "max_pooling2d (MaxPooling2D) (None, 63, 63, 16)        0         \n",
      "_________________________________________________________________\n",
      "conv2d_1 (Conv2D)            (None, 61, 61, 16)        2320      \n",
      "_________________________________________________________________\n",
      "max_pooling2d_1 (MaxPooling2 (None, 30, 30, 16)        0         \n",
      "_________________________________________________________________\n",
      "flatten (Flatten)            (None, 14400)             0         \n",
      "_________________________________________________________________\n",
      "dense (Dense)                (None, 100)               1440100   \n",
      "_________________________________________________________________\n",
      "dense_1 (Dense)              (None, 2)                 202       \n",
      "=================================================================\n",
      "Total params: 1,442,846\n",
      "Trainable params: 1,442,814\n",
      "Non-trainable params: 32\n",
      "_________________________________________________________________\n"
     ]
    }
   ],
   "source": [
    "# Check the summary:\n",
    "model.summary()"
   ]
  },
  {
   "cell_type": "code",
   "execution_count": 437,
   "id": "c2079bcc-f963-4d6a-82e2-a1bd1ccd598b",
   "metadata": {},
   "outputs": [],
   "source": [
    "# compile model\n",
    "model.compile(optimizer='Adam',loss='binary_crossentropy',metrics=['accuracy'])"
   ]
  },
  {
   "cell_type": "code",
   "execution_count": 438,
   "id": "a75e9dd3-7c5d-43bb-879d-1b764f0e11e0",
   "metadata": {
    "scrolled": true,
    "tags": []
   },
   "outputs": [
    {
     "name": "stdout",
     "output_type": "stream",
     "text": [
      "Epoch 1/40\n",
      "1/1 [==============================] - 25s 25s/step - loss: 0.7103 - accuracy: 0.5526 - val_loss: 1.2289 - val_accuracy: 0.5597\n",
      "Epoch 2/40\n",
      "1/1 [==============================] - 12s 12s/step - loss: 0.5916 - accuracy: 0.8199 - val_loss: 0.9922 - val_accuracy: 0.6868\n",
      "Epoch 3/40\n",
      "1/1 [==============================] - 11s 11s/step - loss: 0.4661 - accuracy: 0.8102 - val_loss: 0.5612 - val_accuracy: 0.7882\n",
      "Epoch 4/40\n",
      "1/1 [==============================] - 11s 11s/step - loss: 0.3602 - accuracy: 0.8338 - val_loss: 0.3244 - val_accuracy: 0.8549\n",
      "Epoch 5/40\n",
      "1/1 [==============================] - 11s 11s/step - loss: 0.2735 - accuracy: 0.8864 - val_loss: 0.2553 - val_accuracy: 0.8845\n",
      "Epoch 6/40\n",
      "1/1 [==============================] - 12s 12s/step - loss: 0.2366 - accuracy: 0.8947 - val_loss: 0.2209 - val_accuracy: 0.8832\n",
      "Epoch 7/40\n",
      "1/1 [==============================] - 14s 14s/step - loss: 0.2272 - accuracy: 0.8892 - val_loss: 0.2015 - val_accuracy: 0.8883\n",
      "Epoch 8/40\n",
      "1/1 [==============================] - 11s 11s/step - loss: 0.2176 - accuracy: 0.8934 - val_loss: 0.1902 - val_accuracy: 0.8999\n",
      "Epoch 9/40\n",
      "1/1 [==============================] - 11s 11s/step - loss: 0.1994 - accuracy: 0.8989 - val_loss: 0.1830 - val_accuracy: 0.9050\n",
      "Epoch 10/40\n",
      "1/1 [==============================] - 12s 12s/step - loss: 0.1776 - accuracy: 0.9100 - val_loss: 0.1786 - val_accuracy: 0.9114\n",
      "Epoch 11/40\n",
      "1/1 [==============================] - 12s 12s/step - loss: 0.1600 - accuracy: 0.9141 - val_loss: 0.1754 - val_accuracy: 0.9127\n",
      "Epoch 12/40\n",
      "1/1 [==============================] - 12s 12s/step - loss: 0.1502 - accuracy: 0.9335 - val_loss: 0.1730 - val_accuracy: 0.9140\n",
      "Epoch 13/40\n",
      "1/1 [==============================] - 12s 12s/step - loss: 0.1450 - accuracy: 0.9404 - val_loss: 0.1718 - val_accuracy: 0.9114\n",
      "Epoch 14/40\n",
      "1/1 [==============================] - 12s 12s/step - loss: 0.1375 - accuracy: 0.9446 - val_loss: 0.1726 - val_accuracy: 0.9089\n",
      "Epoch 15/40\n",
      "1/1 [==============================] - 11s 11s/step - loss: 0.1237 - accuracy: 0.9557 - val_loss: 0.1752 - val_accuracy: 0.9089\n",
      "Epoch 16/40\n",
      "1/1 [==============================] - 11s 11s/step - loss: 0.1077 - accuracy: 0.9612 - val_loss: 0.1785 - val_accuracy: 0.9076\n",
      "Epoch 17/40\n",
      "1/1 [==============================] - 12s 12s/step - loss: 0.0958 - accuracy: 0.9695 - val_loss: 0.1805 - val_accuracy: 0.9089\n",
      "Epoch 18/40\n",
      "1/1 [==============================] - 12s 12s/step - loss: 0.0897 - accuracy: 0.9751 - val_loss: 0.1792 - val_accuracy: 0.9101\n",
      "Epoch 19/40\n",
      "1/1 [==============================] - 11s 11s/step - loss: 0.0846 - accuracy: 0.9778 - val_loss: 0.1737 - val_accuracy: 0.9114\n",
      "Epoch 20/40\n",
      "1/1 [==============================] - 11s 11s/step - loss: 0.0731 - accuracy: 0.9945 - val_loss: 0.1647 - val_accuracy: 0.9178\n",
      "Epoch 21/40\n",
      "1/1 [==============================] - 13s 13s/step - loss: 0.0601 - accuracy: 0.9972 - val_loss: 0.1536 - val_accuracy: 0.9268\n",
      "Epoch 22/40\n",
      "1/1 [==============================] - 12s 12s/step - loss: 0.0480 - accuracy: 0.9917 - val_loss: 0.1433 - val_accuracy: 0.9307\n",
      "Epoch 23/40\n",
      "1/1 [==============================] - 11s 11s/step - loss: 0.0429 - accuracy: 0.9889 - val_loss: 0.1348 - val_accuracy: 0.9345\n",
      "Epoch 24/40\n",
      "1/1 [==============================] - 11s 11s/step - loss: 0.0376 - accuracy: 0.9917 - val_loss: 0.1283 - val_accuracy: 0.9422\n",
      "Epoch 25/40\n",
      "1/1 [==============================] - 11s 11s/step - loss: 0.0302 - accuracy: 0.9972 - val_loss: 0.1229 - val_accuracy: 0.9461\n",
      "Epoch 26/40\n",
      "1/1 [==============================] - 11s 11s/step - loss: 0.0281 - accuracy: 0.9972 - val_loss: 0.1190 - val_accuracy: 0.9461\n",
      "Epoch 27/40\n",
      "1/1 [==============================] - 13s 13s/step - loss: 0.0234 - accuracy: 0.9958 - val_loss: 0.1157 - val_accuracy: 0.9487\n",
      "Epoch 28/40\n",
      "1/1 [==============================] - 12s 12s/step - loss: 0.0234 - accuracy: 0.9889 - val_loss: 0.1121 - val_accuracy: 0.9512\n",
      "Epoch 29/40\n",
      "1/1 [==============================] - 11s 11s/step - loss: 0.0254 - accuracy: 0.9889 - val_loss: 0.1080 - val_accuracy: 0.9538\n",
      "Epoch 30/40\n",
      "1/1 [==============================] - 11s 11s/step - loss: 0.0232 - accuracy: 0.9889 - val_loss: 0.1039 - val_accuracy: 0.9525\n",
      "Epoch 31/40\n",
      "1/1 [==============================] - 11s 11s/step - loss: 0.0174 - accuracy: 0.9958 - val_loss: 0.1014 - val_accuracy: 0.9525\n",
      "Epoch 32/40\n",
      "1/1 [==============================] - 11s 11s/step - loss: 0.0176 - accuracy: 1.0000 - val_loss: 0.1010 - val_accuracy: 0.9576\n",
      "Epoch 33/40\n",
      "1/1 [==============================] - 11s 11s/step - loss: 0.0178 - accuracy: 0.9972 - val_loss: 0.1027 - val_accuracy: 0.9564\n",
      "Epoch 34/40\n",
      "1/1 [==============================] - 12s 12s/step - loss: 0.0156 - accuracy: 0.9972 - val_loss: 0.1060 - val_accuracy: 0.9576\n",
      "Epoch 35/40\n",
      "1/1 [==============================] - 12s 12s/step - loss: 0.0130 - accuracy: 0.9986 - val_loss: 0.1104 - val_accuracy: 0.9564\n",
      "Epoch 36/40\n",
      "1/1 [==============================] - 11s 11s/step - loss: 0.0120 - accuracy: 0.9958 - val_loss: 0.1156 - val_accuracy: 0.9551\n",
      "Epoch 37/40\n",
      "1/1 [==============================] - 11s 11s/step - loss: 0.0120 - accuracy: 0.9958 - val_loss: 0.1215 - val_accuracy: 0.9487\n",
      "Epoch 38/40\n",
      "1/1 [==============================] - 13s 13s/step - loss: 0.0119 - accuracy: 0.9931 - val_loss: 0.1282 - val_accuracy: 0.9448\n",
      "Epoch 39/40\n",
      "1/1 [==============================] - 16s 16s/step - loss: 0.0107 - accuracy: 0.9958 - val_loss: 0.1356 - val_accuracy: 0.9461\n",
      "Epoch 40/40\n",
      "1/1 [==============================] - 20s 20s/step - loss: 0.0093 - accuracy: 0.9986 - val_loss: 0.1437 - val_accuracy: 0.9435\n"
     ]
    }
   ],
   "source": [
    "# fit the model\n",
    "history = model.fit(X_train,y_train,batch_size=722, epochs=40,validation_data=(X_val,y_val))"
   ]
  },
  {
   "cell_type": "code",
   "execution_count": 439,
   "id": "8a942ed1-bc7e-4e34-ac2f-a7e5df7e71de",
   "metadata": {},
   "outputs": [],
   "source": [
    "# examine the model"
   ]
  },
  {
   "cell_type": "code",
   "execution_count": 440,
   "id": "6e7a4fdd-409e-4733-bd00-569a6b5d6f2d",
   "metadata": {
    "scrolled": true,
    "tags": []
   },
   "outputs": [
    {
     "data": {
      "text/plain": [
       "{'loss': [0.7102928161621094,\n",
       "  0.5915521383285522,\n",
       "  0.46605736017227173,\n",
       "  0.36023715138435364,\n",
       "  0.2735331654548645,\n",
       "  0.23657630383968353,\n",
       "  0.22715997695922852,\n",
       "  0.21755477786064148,\n",
       "  0.19943667948246002,\n",
       "  0.1776445508003235,\n",
       "  0.1599760353565216,\n",
       "  0.1502484828233719,\n",
       "  0.14501953125,\n",
       "  0.13754266500473022,\n",
       "  0.12373313307762146,\n",
       "  0.10774195194244385,\n",
       "  0.09577322751283646,\n",
       "  0.08970073610544205,\n",
       "  0.08461058884859085,\n",
       "  0.07309868931770325,\n",
       "  0.06010059267282486,\n",
       "  0.04798433184623718,\n",
       "  0.04286786913871765,\n",
       "  0.037595514208078384,\n",
       "  0.030170893296599388,\n",
       "  0.028065519407391548,\n",
       "  0.02344105765223503,\n",
       "  0.023425672203302383,\n",
       "  0.025363588705658913,\n",
       "  0.023249272257089615,\n",
       "  0.017376285046339035,\n",
       "  0.017582999542355537,\n",
       "  0.017812838777899742,\n",
       "  0.015620216727256775,\n",
       "  0.012962223961949348,\n",
       "  0.011994244530797005,\n",
       "  0.012042541056871414,\n",
       "  0.011901984922587872,\n",
       "  0.010658292099833488,\n",
       "  0.009288571774959564],\n",
       " 'accuracy': [0.5526315569877625,\n",
       "  0.8199446201324463,\n",
       "  0.8102493286132812,\n",
       "  0.8337950110435486,\n",
       "  0.886426568031311,\n",
       "  0.8947368264198303,\n",
       "  0.8891966938972473,\n",
       "  0.8933517932891846,\n",
       "  0.8988919854164124,\n",
       "  0.9099723100662231,\n",
       "  0.9141274094581604,\n",
       "  0.9335179924964905,\n",
       "  0.940443217754364,\n",
       "  0.9445983171463013,\n",
       "  0.9556786417961121,\n",
       "  0.9612188339233398,\n",
       "  0.9695290923118591,\n",
       "  0.9750692248344421,\n",
       "  0.9778393507003784,\n",
       "  0.9944598078727722,\n",
       "  0.9972299337387085,\n",
       "  0.9916897416114807,\n",
       "  0.9889196753501892,\n",
       "  0.9916897416114807,\n",
       "  0.9972299337387085,\n",
       "  0.9972299337387085,\n",
       "  0.9958449006080627,\n",
       "  0.9889196753501892,\n",
       "  0.9889196753501892,\n",
       "  0.9889196753501892,\n",
       "  0.9958449006080627,\n",
       "  1.0,\n",
       "  0.9972299337387085,\n",
       "  0.9972299337387085,\n",
       "  0.9986149668693542,\n",
       "  0.9958449006080627,\n",
       "  0.9958449006080627,\n",
       "  0.9930747747421265,\n",
       "  0.9958449006080627,\n",
       "  0.9986149668693542],\n",
       " 'val_loss': [1.2288655042648315,\n",
       "  0.9922240972518921,\n",
       "  0.5612342357635498,\n",
       "  0.3243675231933594,\n",
       "  0.2552959620952606,\n",
       "  0.22086909413337708,\n",
       "  0.20151497423648834,\n",
       "  0.1901717633008957,\n",
       "  0.18303921818733215,\n",
       "  0.17855612933635712,\n",
       "  0.17535030841827393,\n",
       "  0.1730319857597351,\n",
       "  0.17178663611412048,\n",
       "  0.17256930470466614,\n",
       "  0.17518751323223114,\n",
       "  0.1785023808479309,\n",
       "  0.18052303791046143,\n",
       "  0.1792481541633606,\n",
       "  0.17372095584869385,\n",
       "  0.16468417644500732,\n",
       "  0.15362311899662018,\n",
       "  0.14326372742652893,\n",
       "  0.1347808539867401,\n",
       "  0.1282978355884552,\n",
       "  0.1228809580206871,\n",
       "  0.11901095509529114,\n",
       "  0.11567183583974838,\n",
       "  0.11207493394613266,\n",
       "  0.10795480757951736,\n",
       "  0.1038878858089447,\n",
       "  0.10137902200222015,\n",
       "  0.10096507519483566,\n",
       "  0.10266462713479996,\n",
       "  0.10602062195539474,\n",
       "  0.11039145290851593,\n",
       "  0.11560139805078506,\n",
       "  0.12152522802352905,\n",
       "  0.12818829715251923,\n",
       "  0.13562263548374176,\n",
       "  0.14374670386314392],\n",
       " 'val_accuracy': [0.5596919059753418,\n",
       "  0.6867779493331909,\n",
       "  0.7881900072097778,\n",
       "  0.854942262172699,\n",
       "  0.8844672441482544,\n",
       "  0.8831835389137268,\n",
       "  0.8883183598518372,\n",
       "  0.8998716473579407,\n",
       "  0.9050064086914062,\n",
       "  0.9114248752593994,\n",
       "  0.912708580493927,\n",
       "  0.9139922857284546,\n",
       "  0.9114248752593994,\n",
       "  0.908857524394989,\n",
       "  0.908857524394989,\n",
       "  0.9075738191604614,\n",
       "  0.908857524394989,\n",
       "  0.9101412296295166,\n",
       "  0.9114248752593994,\n",
       "  0.9178434014320374,\n",
       "  0.9268292784690857,\n",
       "  0.9306803345680237,\n",
       "  0.9345314502716064,\n",
       "  0.9422336220741272,\n",
       "  0.94608473777771,\n",
       "  0.94608473777771,\n",
       "  0.9486520886421204,\n",
       "  0.9512194991111755,\n",
       "  0.9537869095802307,\n",
       "  0.9525032043457031,\n",
       "  0.9525032043457031,\n",
       "  0.9576380252838135,\n",
       "  0.9563543200492859,\n",
       "  0.9576380252838135,\n",
       "  0.9563543200492859,\n",
       "  0.9550706148147583,\n",
       "  0.9486520886421204,\n",
       "  0.9448010325431824,\n",
       "  0.94608473777771,\n",
       "  0.9435173273086548]}"
      ]
     },
     "execution_count": 440,
     "metadata": {},
     "output_type": "execute_result"
    }
   ],
   "source": [
    "history.history"
   ]
  },
  {
   "cell_type": "code",
   "execution_count": 441,
   "id": "88af596a-97cd-46e6-899a-e09cc9025943",
   "metadata": {},
   "outputs": [
    {
     "data": {
      "text/plain": [
       "<matplotlib.legend.Legend at 0x1e0f2441b38>"
      ]
     },
     "execution_count": 441,
     "metadata": {},
     "output_type": "execute_result"
    },
    {
     "data": {
      "image/png": "[encoded data removed]",
      "text/plain": [
       "<Figure size 432x288 with 1 Axes>"
      ]
     },
     "metadata": {
      "needs_background": "light"
     },
     "output_type": "display_data"
    }
   ],
   "source": [
    "# Plot accuracy curve\n",
    "plt.plot(history.history['accuracy'], label='training accuracy')\n",
    "plt.plot(history.history['val_accuracy'], label= 'validation accuracy')\n",
    "plt.xlabel('epochs')\n",
    "plt.ylabel('accuracy')\n",
    "plt.legend()"
   ]
  },
  {
   "cell_type": "code",
   "execution_count": 442,
   "id": "a6354885-f859-4b55-b775-4c38c880f29f",
   "metadata": {},
   "outputs": [
    {
     "data": {
      "text/plain": [
       "<matplotlib.legend.Legend at 0x1e0f24aaeb8>"
      ]
     },
     "execution_count": 442,
     "metadata": {},
     "output_type": "execute_result"
    },
    {
     "data": {
      "image/png": "[encoded data removed]",
      "text/plain": [
       "<Figure size 432x288 with 1 Axes>"
      ]
     },
     "metadata": {
      "needs_background": "light"
     },
     "output_type": "display_data"
    }
   ],
   "source": [
    "# Plot loss\n",
    "plt.plot(history.history['loss'], label='training loss')\n",
    "plt.plot(history.history['val_loss'], label='validation loss')\n",
    "plt.xlabel('epochs')\n",
    "plt.ylabel('loss')\n",
    "plt.legend()"
   ]
  },
  {
   "cell_type": "code",
   "execution_count": 443,
   "id": "0d8ca9a9-aa34-4cf3-965c-d710010e50ce",
   "metadata": {},
   "outputs": [
    {
     "data": {
      "text/plain": [
       "<AxesSubplot:>"
      ]
     },
     "execution_count": 443,
     "metadata": {},
     "output_type": "execute_result"
    },
    {
     "data": {
      "image/png": "[encoded data removed]",
      "text/plain": [
       "<Figure size 432x288 with 1 Axes>"
      ]
     },
     "metadata": {
      "needs_background": "light"
     },
     "output_type": "display_data"
    }
   ],
   "source": [
    "pd.DataFrame(history.history).plot()"
   ]
  },
  {
   "cell_type": "markdown",
   "id": "b8dcc2d7-bb70-4202-bf36-d3b6981dd383",
   "metadata": {},
   "source": [
    "FINAL MODEL FOR 2-Instrumention: 3 Conv2D (without batch norm & dropout)"
   ]
  },
  {
   "cell_type": "code",
   "execution_count": 177,
   "id": "91179bac-00f6-41d7-bbf7-2605a8efa2bc",
   "metadata": {},
   "outputs": [],
   "source": [
    "# model 2\n",
    "# 3 Conv2D"
   ]
  },
  {
   "cell_type": "code",
   "execution_count": 190,
   "id": "87a7373b-65e4-426d-b807-f1c42f810a4a",
   "metadata": {},
   "outputs": [],
   "source": [
    "# model 02\n",
    "# Clear session and build above model:\n",
    "K.clear_session()\n",
    "\n",
    "model_02 = Sequential([\n",
    "    Conv2D(filters = 16, kernel_size = (3,3), strides = (1,1), padding = 'valid',\n",
    "           activation = 'relu' ,input_shape = (129,129,1)),\n",
    "    \n",
    "    MaxPooling2D(pool_size = (2,2),strides=(2,2),padding = 'valid'),\n",
    "    \n",
    "    Conv2D(filters = 16, kernel_size = (3,3), strides = (1,1), padding = 'valid', activation = 'tanh'),\n",
    "    \n",
    "    MaxPooling2D(pool_size = (2,2),strides=(2,2),padding = 'valid'),\n",
    "    \n",
    "    Conv2D(filters = 16, kernel_size = (3,3), strides = (1,1), padding = 'valid', activation = 'tanh'),\n",
    "    \n",
    "    MaxPooling2D(pool_size = (2,2),strides=(2,2),padding = 'valid'),\n",
    "    \n",
    "    Flatten(),\n",
    "    #Fully connected layers:\n",
    "    Dense(100,activation='relu'),\n",
    "    #Dropout(0.2), - optional\n",
    "    Dense(2,activation= 'sigmoid')   \n",
    "])"
   ]
  },
  {
   "cell_type": "code",
   "execution_count": 191,
   "id": "bcfb96c2-a473-4e59-a4b1-288b158be5c1",
   "metadata": {},
   "outputs": [
    {
     "name": "stdout",
     "output_type": "stream",
     "text": [
      "Model: \"sequential\"\n",
      "_________________________________________________________________\n",
      "Layer (type)                 Output Shape              Param #   \n",
      "=================================================================\n",
      "conv2d (Conv2D)              (None, 127, 127, 16)      160       \n",
      "_________________________________________________________________\n",
      "max_pooling2d (MaxPooling2D) (None, 63, 63, 16)        0         \n",
      "_________________________________________________________________\n",
      "conv2d_1 (Conv2D)            (None, 61, 61, 16)        2320      \n",
      "_________________________________________________________________\n",
      "max_pooling2d_1 (MaxPooling2 (None, 30, 30, 16)        0         \n",
      "_________________________________________________________________\n",
      "conv2d_2 (Conv2D)            (None, 28, 28, 16)        2320      \n",
      "_________________________________________________________________\n",
      "max_pooling2d_2 (MaxPooling2 (None, 14, 14, 16)        0         \n",
      "_________________________________________________________________\n",
      "flatten (Flatten)            (None, 3136)              0         \n",
      "_________________________________________________________________\n",
      "dense (Dense)                (None, 100)               313700    \n",
      "_________________________________________________________________\n",
      "dense_1 (Dense)              (None, 2)                 202       \n",
      "=================================================================\n",
      "Total params: 318,702\n",
      "Trainable params: 318,702\n",
      "Non-trainable params: 0\n",
      "_________________________________________________________________\n"
     ]
    }
   ],
   "source": [
    "# Check the summary:\n",
    "model_02.summary()"
   ]
  },
  {
   "cell_type": "code",
   "execution_count": 192,
   "id": "063d0db3-8bdf-41e6-acbc-91e22340cf74",
   "metadata": {},
   "outputs": [],
   "source": [
    "# compile model\n",
    "model_02.compile(optimizer='Adam',loss='binary_crossentropy',metrics=['accuracy'])"
   ]
  },
  {
   "cell_type": "code",
   "execution_count": 193,
   "id": "ddfc2818-6fb5-46a4-96d4-c4e58639c75c",
   "metadata": {
    "tags": []
   },
   "outputs": [
    {
     "name": "stdout",
     "output_type": "stream",
     "text": [
      "Epoch 1/25\n",
      "2/2 [==============================] - 10s 6s/step - loss: 1.1221 - accuracy: 0.6260 - val_loss: 0.5116 - val_accuracy: 0.6919\n",
      "Epoch 2/25\n",
      "2/2 [==============================] - 11s 7s/step - loss: 0.6527 - accuracy: 0.5997 - val_loss: 0.5072 - val_accuracy: 0.8460\n",
      "Epoch 3/25\n",
      "2/2 [==============================] - 9s 5s/step - loss: 0.5315 - accuracy: 0.7978 - val_loss: 0.3424 - val_accuracy: 0.9153\n",
      "Epoch 4/25\n",
      "2/2 [==============================] - 9s 5s/step - loss: 0.3946 - accuracy: 0.8961 - val_loss: 0.2478 - val_accuracy: 0.9820\n",
      "Epoch 5/25\n",
      "2/2 [==============================] - 8s 5s/step - loss: 0.2569 - accuracy: 0.9751 - val_loss: 0.1742 - val_accuracy: 0.9872\n",
      "Epoch 6/25\n",
      "2/2 [==============================] - 8s 5s/step - loss: 0.1616 - accuracy: 0.9848 - val_loss: 0.0777 - val_accuracy: 0.9897\n",
      "Epoch 7/25\n",
      "2/2 [==============================] - 10s 6s/step - loss: 0.0909 - accuracy: 0.9889 - val_loss: 0.0572 - val_accuracy: 0.9897\n",
      "Epoch 8/25\n",
      "2/2 [==============================] - 9s 5s/step - loss: 0.0635 - accuracy: 0.9972 - val_loss: 0.0422 - val_accuracy: 0.9961\n",
      "Epoch 9/25\n",
      "2/2 [==============================] - 9s 5s/step - loss: 0.0410 - accuracy: 0.9986 - val_loss: 0.0255 - val_accuracy: 0.9974\n",
      "Epoch 10/25\n",
      "2/2 [==============================] - 9s 5s/step - loss: 0.0245 - accuracy: 0.9972 - val_loss: 0.0166 - val_accuracy: 0.9987\n",
      "Epoch 11/25\n",
      "2/2 [==============================] - 8s 5s/step - loss: 0.0174 - accuracy: 0.9972 - val_loss: 0.0137 - val_accuracy: 0.9974\n",
      "Epoch 12/25\n",
      "2/2 [==============================] - 8s 5s/step - loss: 0.0141 - accuracy: 0.9986 - val_loss: 0.0119 - val_accuracy: 0.9987\n",
      "Epoch 13/25\n",
      "2/2 [==============================] - 8s 5s/step - loss: 0.0111 - accuracy: 0.9986 - val_loss: 0.0091 - val_accuracy: 1.0000\n",
      "Epoch 14/25\n",
      "2/2 [==============================] - 9s 6s/step - loss: 0.0080 - accuracy: 1.0000 - val_loss: 0.0072 - val_accuracy: 1.0000\n",
      "Epoch 15/25\n",
      "2/2 [==============================] - 8s 5s/step - loss: 0.0058 - accuracy: 1.0000 - val_loss: 0.0057 - val_accuracy: 1.0000\n",
      "Epoch 16/25\n",
      "2/2 [==============================] - 8s 5s/step - loss: 0.0044 - accuracy: 1.0000 - val_loss: 0.0051 - val_accuracy: 1.0000\n",
      "Epoch 17/25\n",
      "2/2 [==============================] - 8s 5s/step - loss: 0.0034 - accuracy: 1.0000 - val_loss: 0.0048 - val_accuracy: 1.0000\n",
      "Epoch 18/25\n",
      "2/2 [==============================] - 9s 5s/step - loss: 0.0028 - accuracy: 1.0000 - val_loss: 0.0038 - val_accuracy: 1.0000\n",
      "Epoch 19/25\n",
      "2/2 [==============================] - 9s 5s/step - loss: 0.0023 - accuracy: 1.0000 - val_loss: 0.0035 - val_accuracy: 1.0000\n",
      "Epoch 20/25\n",
      "2/2 [==============================] - 9s 5s/step - loss: 0.0022 - accuracy: 1.0000 - val_loss: 0.0032 - val_accuracy: 1.0000\n",
      "Epoch 21/25\n",
      "2/2 [==============================] - 9s 5s/step - loss: 0.0020 - accuracy: 1.0000 - val_loss: 0.0038 - val_accuracy: 1.0000\n",
      "Epoch 22/25\n",
      "2/2 [==============================] - 8s 5s/step - loss: 0.0017 - accuracy: 1.0000 - val_loss: 0.0026 - val_accuracy: 1.0000\n",
      "Epoch 23/25\n",
      "2/2 [==============================] - 8s 5s/step - loss: 0.0015 - accuracy: 1.0000 - val_loss: 0.0021 - val_accuracy: 1.0000\n",
      "Epoch 24/25\n",
      "2/2 [==============================] - 8s 5s/step - loss: 0.0013 - accuracy: 1.0000 - val_loss: 0.0023 - val_accuracy: 1.0000\n",
      "Epoch 25/25\n",
      "2/2 [==============================] - 9s 5s/step - loss: 0.0011 - accuracy: 1.0000 - val_loss: 0.0035 - val_accuracy: 1.0000\n"
     ]
    }
   ],
   "source": [
    "# fit the model\n",
    "history_02 = model_02.fit(X_train,y_train,batch_size=400, epochs=25,validation_data=(X_val,y_val))"
   ]
  },
  {
   "cell_type": "code",
   "execution_count": 195,
   "id": "276e565c-cd56-4390-ac10-a38054df1dd9",
   "metadata": {},
   "outputs": [],
   "source": [
    "model_02.save('../data/models/two_instruments/3conv_02.h5')"
   ]
  },
  {
   "cell_type": "code",
   "execution_count": 210,
   "id": "6c8c5bb1",
   "metadata": {},
   "outputs": [],
   "source": [
    "df_history_02 = pd.DataFrame(history_02.history)\n",
    "df_history_02.to_csv('../data/models/two_instruments/3conv_02_hist.csv')"
   ]
  },
  {
   "cell_type": "code",
   "execution_count": 211,
   "id": "4c9da148",
   "metadata": {},
   "outputs": [],
   "source": [
    "# examine the model"
   ]
  },
  {
   "cell_type": "code",
   "execution_count": 212,
   "id": "f91a5544",
   "metadata": {
    "scrolled": true,
    "tags": []
   },
   "outputs": [],
   "source": [
    "history_02.history;"
   ]
  },
  {
   "cell_type": "code",
   "execution_count": 213,
   "id": "39c57a4a",
   "metadata": {},
   "outputs": [
    {
     "data": {
      "image/png": "[encoded data removed]",
      "text/plain": [
       "<Figure size 432x288 with 1 Axes>"
      ]
     },
     "metadata": {
      "needs_background": "light"
     },
     "output_type": "display_data"
    }
   ],
   "source": [
    "plot_accuracy(history_02)\n",
    "plt.savefig('../data/models/two_instruments/3conv_02_acc.png')"
   ]
  },
  {
   "cell_type": "code",
   "execution_count": 214,
   "id": "b46e599f",
   "metadata": {},
   "outputs": [
    {
     "data": {
      "image/png": "[encoded data removed]",
      "text/plain": [
       "<Figure size 432x288 with 1 Axes>"
      ]
     },
     "metadata": {
      "needs_background": "light"
     },
     "output_type": "display_data"
    }
   ],
   "source": [
    "plot_loss(history_02)\n",
    "plt.savefig('../data/models/two_instruments/3conv_02_loss.png')"
   ]
  },
  {
   "cell_type": "code",
   "execution_count": 215,
   "id": "0a818f6f",
   "metadata": {},
   "outputs": [
    {
     "data": {
      "image/png": "[encoded data removed]",
      "text/plain": [
       "<Figure size 432x288 with 1 Axes>"
      ]
     },
     "metadata": {
      "needs_background": "light"
     },
     "output_type": "display_data"
    }
   ],
   "source": [
    "pd.DataFrame(history_02.history).plot()\n",
    "plt.savefig('../data/models/two_instruments/3conv_02_acc_loss.png')"
   ]
  },
  {
   "cell_type": "code",
   "execution_count": 202,
   "id": "67b35142-df44-4441-ac59-752d51f331cc",
   "metadata": {},
   "outputs": [],
   "source": [
    "# model 2B\n",
    "# 3 Conv2D with batch norm & dropout"
   ]
  },
  {
   "cell_type": "code",
   "execution_count": 203,
   "id": "70854d9c-58d5-4abd-90ce-dfc18fe25c1b",
   "metadata": {},
   "outputs": [],
   "source": [
    "# model 2B\n",
    "# Clear session and build above model:\n",
    "K.clear_session()\n",
    "\n",
    "model_2B = Sequential([\n",
    "    Conv2D(filters = 16, kernel_size = (3,3), strides = (1,1), padding = 'valid',\n",
    "           activation = 'relu' ,input_shape = (129,129,1)),\n",
    "    \n",
    "    BatchNormalization(),\n",
    "    \n",
    "    MaxPooling2D(pool_size = (2,2),strides=(2,2),padding = 'valid'),\n",
    "    \n",
    "    Dropout(0.2),\n",
    "    \n",
    "    Conv2D(filters = 16, kernel_size = (3,3), strides = (1,1), padding = 'valid', activation = 'tanh'),\n",
    "    \n",
    "    BatchNormalization(),\n",
    "    \n",
    "    MaxPooling2D(pool_size = (2,2),strides=(2,2),padding = 'valid'),\n",
    "    \n",
    "    Dropout(0.2),\n",
    "    \n",
    "    Conv2D(filters = 16, kernel_size = (3,3), strides = (1,1), padding = 'valid', activation = 'tanh'),\n",
    "    \n",
    "    BatchNormalization(),\n",
    "    \n",
    "    MaxPooling2D(pool_size = (2,2),strides=(2,2),padding = 'valid'),\n",
    "    \n",
    "    Dropout(0.2),\n",
    "    \n",
    "    Flatten(),\n",
    "    #Fully connected layers:\n",
    "    Dense(100,activation='relu'),\n",
    "    Dropout(0.2),\n",
    "    Dense(2,activation= 'sigmoid')   \n",
    "])"
   ]
  },
  {
   "cell_type": "code",
   "execution_count": 204,
   "id": "80ab7686-1b30-4f2d-b19b-7bddf770f1c0",
   "metadata": {},
   "outputs": [
    {
     "name": "stdout",
     "output_type": "stream",
     "text": [
      "Model: \"sequential\"\n",
      "_________________________________________________________________\n",
      "Layer (type)                 Output Shape              Param #   \n",
      "=================================================================\n",
      "conv2d (Conv2D)              (None, 127, 127, 16)      160       \n",
      "_________________________________________________________________\n",
      "batch_normalization (BatchNo (None, 127, 127, 16)      64        \n",
      "_________________________________________________________________\n",
      "max_pooling2d (MaxPooling2D) (None, 63, 63, 16)        0         \n",
      "_________________________________________________________________\n",
      "dropout (Dropout)            (None, 63, 63, 16)        0         \n",
      "_________________________________________________________________\n",
      "conv2d_1 (Conv2D)            (None, 61, 61, 16)        2320      \n",
      "_________________________________________________________________\n",
      "batch_normalization_1 (Batch (None, 61, 61, 16)        64        \n",
      "_________________________________________________________________\n",
      "max_pooling2d_1 (MaxPooling2 (None, 30, 30, 16)        0         \n",
      "_________________________________________________________________\n",
      "dropout_1 (Dropout)          (None, 30, 30, 16)        0         \n",
      "_________________________________________________________________\n",
      "conv2d_2 (Conv2D)            (None, 28, 28, 16)        2320      \n",
      "_________________________________________________________________\n",
      "batch_normalization_2 (Batch (None, 28, 28, 16)        64        \n",
      "_________________________________________________________________\n",
      "max_pooling2d_2 (MaxPooling2 (None, 14, 14, 16)        0         \n",
      "_________________________________________________________________\n",
      "dropout_2 (Dropout)          (None, 14, 14, 16)        0         \n",
      "_________________________________________________________________\n",
      "flatten (Flatten)            (None, 3136)              0         \n",
      "_________________________________________________________________\n",
      "dense (Dense)                (None, 100)               313700    \n",
      "_________________________________________________________________\n",
      "dropout_3 (Dropout)          (None, 100)               0         \n",
      "_________________________________________________________________\n",
      "dense_1 (Dense)              (None, 2)                 202       \n",
      "=================================================================\n",
      "Total params: 318,894\n",
      "Trainable params: 318,798\n",
      "Non-trainable params: 96\n",
      "_________________________________________________________________\n"
     ]
    }
   ],
   "source": [
    "# Check the summary:\n",
    "model_2B.summary()"
   ]
  },
  {
   "cell_type": "code",
   "execution_count": 143,
   "id": "70c371db-9adf-492c-a297-03f9d7217fb2",
   "metadata": {},
   "outputs": [],
   "source": [
    "# compile model\n",
    "model_2B.compile(optimizer='Adam',loss='binary_crossentropy',metrics=['accuracy'])"
   ]
  },
  {
   "cell_type": "code",
   "execution_count": 144,
   "id": "1a2d088c-51e7-4135-8157-0217ba052921",
   "metadata": {
    "tags": []
   },
   "outputs": [
    {
     "name": "stdout",
     "output_type": "stream",
     "text": [
      "Epoch 1/40\n",
      "2/2 [==============================] - 23s 4s/step - loss: 1.2165 - accuracy: 0.5582 - val_loss: 0.6639 - val_accuracy: 0.4891\n",
      "Epoch 2/40\n",
      "2/2 [==============================] - 15s 3s/step - loss: 1.8113 - accuracy: 0.4446 - val_loss: 0.6014 - val_accuracy: 0.7689\n",
      "Epoch 3/40\n",
      "2/2 [==============================] - 15s 4s/step - loss: 0.7122 - accuracy: 0.5443 - val_loss: 0.5882 - val_accuracy: 0.8729\n",
      "Epoch 4/40\n",
      "2/2 [==============================] - 15s 3s/step - loss: 0.5271 - accuracy: 0.7701 - val_loss: 0.5707 - val_accuracy: 0.9140\n",
      "Epoch 5/40\n",
      "2/2 [==============================] - 15s 3s/step - loss: 0.5892 - accuracy: 0.6911 - val_loss: 0.5494 - val_accuracy: 0.9243\n",
      "Epoch 6/40\n",
      "2/2 [==============================] - 15s 3s/step - loss: 0.5273 - accuracy: 0.7244 - val_loss: 0.5241 - val_accuracy: 0.9371\n",
      "Epoch 7/40\n",
      "2/2 [==============================] - 15s 3s/step - loss: 0.4139 - accuracy: 0.8587 - val_loss: 0.4928 - val_accuracy: 0.9409\n",
      "Epoch 8/40\n",
      "2/2 [==============================] - 15s 3s/step - loss: 0.3721 - accuracy: 0.8892 - val_loss: 0.4547 - val_accuracy: 0.9435\n",
      "Epoch 9/40\n",
      "2/2 [==============================] - 15s 3s/step - loss: 0.3246 - accuracy: 0.8934 - val_loss: 0.4157 - val_accuracy: 0.9358\n",
      "Epoch 10/40\n",
      "2/2 [==============================] - 15s 3s/step - loss: 0.3076 - accuracy: 0.8934 - val_loss: 0.3855 - val_accuracy: 0.9409\n",
      "Epoch 11/40\n",
      "2/2 [==============================] - 16s 3s/step - loss: 0.3327 - accuracy: 0.8532 - val_loss: 0.3602 - val_accuracy: 0.9474\n",
      "Epoch 12/40\n",
      "2/2 [==============================] - 15s 4s/step - loss: 0.2683 - accuracy: 0.8920 - val_loss: 0.3340 - val_accuracy: 0.9512\n",
      "Epoch 13/40\n",
      "2/2 [==============================] - 15s 3s/step - loss: 0.2025 - accuracy: 0.9391 - val_loss: 0.3102 - val_accuracy: 0.9499\n",
      "Epoch 14/40\n",
      "2/2 [==============================] - 15s 3s/step - loss: 0.2022 - accuracy: 0.9072 - val_loss: 0.2893 - val_accuracy: 0.9499\n",
      "Epoch 15/40\n",
      "2/2 [==============================] - 15s 3s/step - loss: 0.2058 - accuracy: 0.8975 - val_loss: 0.2715 - val_accuracy: 0.9487\n",
      "Epoch 16/40\n",
      "2/2 [==============================] - 19s 4s/step - loss: 0.1675 - accuracy: 0.9377 - val_loss: 0.2580 - val_accuracy: 0.9435\n",
      "Epoch 17/40\n",
      "2/2 [==============================] - 15s 3s/step - loss: 0.1478 - accuracy: 0.9598 - val_loss: 0.2443 - val_accuracy: 0.9461\n",
      "Epoch 18/40\n",
      "2/2 [==============================] - 15s 3s/step - loss: 0.1841 - accuracy: 0.9197 - val_loss: 0.2294 - val_accuracy: 0.9461\n",
      "Epoch 19/40\n",
      "2/2 [==============================] - 15s 3s/step - loss: 0.1744 - accuracy: 0.9211 - val_loss: 0.2170 - val_accuracy: 0.9474\n",
      "Epoch 20/40\n",
      "2/2 [==============================] - 15s 3s/step - loss: 0.1379 - accuracy: 0.9391 - val_loss: 0.2080 - val_accuracy: 0.9474\n",
      "Epoch 21/40\n",
      "2/2 [==============================] - 15s 3s/step - loss: 0.1077 - accuracy: 0.9571 - val_loss: 0.1996 - val_accuracy: 0.9474\n",
      "Epoch 22/40\n",
      "2/2 [==============================] - 15s 3s/step - loss: 0.0921 - accuracy: 0.9737 - val_loss: 0.1925 - val_accuracy: 0.9474\n",
      "Epoch 23/40\n",
      "2/2 [==============================] - 16s 4s/step - loss: 0.0754 - accuracy: 0.9820 - val_loss: 0.1878 - val_accuracy: 0.9461\n",
      "Epoch 24/40\n",
      "2/2 [==============================] - 16s 3s/step - loss: 0.0693 - accuracy: 0.9861 - val_loss: 0.1857 - val_accuracy: 0.9461\n",
      "Epoch 25/40\n",
      "2/2 [==============================] - 15s 3s/step - loss: 0.0635 - accuracy: 0.9806 - val_loss: 0.1838 - val_accuracy: 0.9461\n",
      "Epoch 26/40\n",
      "2/2 [==============================] - 15s 3s/step - loss: 0.0558 - accuracy: 0.9834 - val_loss: 0.1830 - val_accuracy: 0.9435\n",
      "Epoch 27/40\n",
      "2/2 [==============================] - 15s 3s/step - loss: 0.0510 - accuracy: 0.9889 - val_loss: 0.1802 - val_accuracy: 0.9422\n",
      "Epoch 28/40\n",
      "2/2 [==============================] - 15s 3s/step - loss: 0.0545 - accuracy: 0.9806 - val_loss: 0.1831 - val_accuracy: 0.9409\n",
      "Epoch 29/40\n",
      "2/2 [==============================] - 15s 3s/step - loss: 0.0595 - accuracy: 0.9834 - val_loss: 0.1927 - val_accuracy: 0.9332\n",
      "Epoch 30/40\n",
      "2/2 [==============================] - 15s 3s/step - loss: 0.0436 - accuracy: 0.9848 - val_loss: 0.1952 - val_accuracy: 0.9320\n",
      "Epoch 31/40\n",
      "2/2 [==============================] - 15s 3s/step - loss: 0.0486 - accuracy: 0.9875 - val_loss: 0.1975 - val_accuracy: 0.9320\n",
      "Epoch 32/40\n",
      "2/2 [==============================] - 15s 3s/step - loss: 0.0477 - accuracy: 0.9848 - val_loss: 0.2003 - val_accuracy: 0.9307\n",
      "Epoch 33/40\n",
      "2/2 [==============================] - 15s 3s/step - loss: 0.0473 - accuracy: 0.9848 - val_loss: 0.1968 - val_accuracy: 0.9320\n",
      "Epoch 34/40\n",
      "2/2 [==============================] - 15s 3s/step - loss: 0.0432 - accuracy: 0.9848 - val_loss: 0.1920 - val_accuracy: 0.9358\n",
      "Epoch 35/40\n",
      "2/2 [==============================] - 15s 3s/step - loss: 0.0345 - accuracy: 0.9917 - val_loss: 0.1813 - val_accuracy: 0.9384\n",
      "Epoch 36/40\n",
      "2/2 [==============================] - 15s 3s/step - loss: 0.0333 - accuracy: 0.9945 - val_loss: 0.1700 - val_accuracy: 0.9409\n",
      "Epoch 37/40\n",
      "2/2 [==============================] - 15s 3s/step - loss: 0.0389 - accuracy: 0.9875 - val_loss: 0.1586 - val_accuracy: 0.9461\n",
      "Epoch 38/40\n",
      "2/2 [==============================] - 15s 3s/step - loss: 0.0360 - accuracy: 0.9875 - val_loss: 0.1484 - val_accuracy: 0.9487\n",
      "Epoch 39/40\n",
      "2/2 [==============================] - 15s 3s/step - loss: 0.0508 - accuracy: 0.9875 - val_loss: 0.1414 - val_accuracy: 0.9538\n",
      "Epoch 40/40\n",
      "2/2 [==============================] - 15s 3s/step - loss: 0.0501 - accuracy: 0.9861 - val_loss: 0.1365 - val_accuracy: 0.9564\n"
     ]
    }
   ],
   "source": [
    "# fit the model\n",
    "history_2B = model_2B.fit(X_train,y_train,batch_size=700, epochs=40,validation_data=(X_val,y_val))"
   ]
  },
  {
   "cell_type": "code",
   "execution_count": 158,
   "id": "0bcf001d-8c38-4487-b517-f8ccbae1b6c9",
   "metadata": {
    "tags": []
   },
   "outputs": [],
   "source": [
    "model_2B.save('../data/models/two_instruments/3conv_2B.h5')"
   ]
  },
  {
   "cell_type": "code",
   "execution_count": 174,
   "id": "a75888e3-6963-409b-a324-e126740e1d4f",
   "metadata": {},
   "outputs": [],
   "source": [
    "# model_2b_loaded = keras.models.load_model('../data/models/two_instruments/3conv2d_2B.h5')"
   ]
  },
  {
   "cell_type": "code",
   "execution_count": 176,
   "id": "b1975031-483e-4670-bfb4-89afe96adc96",
   "metadata": {},
   "outputs": [],
   "source": [
    "# with open('../data/models/two_instruments/3conv2d_2B_hist.h5', 'wb') as file_pi:\n",
    "        #pickle.dump(history_2B.history, file_pi)"
   ]
  },
  {
   "cell_type": "code",
   "execution_count": 177,
   "id": "90778ca0-9f38-4e56-a4a9-9b3085a37237",
   "metadata": {},
   "outputs": [],
   "source": [
    "# history_2B_loaded = pickle.load(open('../data/models/two_instruments/3conv2d_2B_hist.h5',\"rb\"))"
   ]
  },
  {
   "cell_type": "code",
   "execution_count": null,
   "id": "96a0f819-90d3-486d-ba1f-4481c38a4eb8",
   "metadata": {},
   "outputs": [],
   "source": [
    "# history_2B_loaded"
   ]
  },
  {
   "cell_type": "code",
   "execution_count": null,
   "id": "43ae4d97",
   "metadata": {},
   "outputs": [],
   "source": [
    "# model_0a_loaded = keras.models.load_model('../data/models/three_instruments/2conv_0a.h5')"
   ]
  },
  {
   "cell_type": "code",
   "execution_count": 131,
   "id": "3bb03b11",
   "metadata": {},
   "outputs": [],
   "source": [
    "# save history"
   ]
  },
  {
   "cell_type": "code",
   "execution_count": 159,
   "id": "009cac59",
   "metadata": {},
   "outputs": [],
   "source": [
    "df_history_2B = pd.DataFrame(history_2B.history)\n",
    "df_history_2B.to_csv('../data/models/two_instruments/3conv_2B_hist.csv')"
   ]
  },
  {
   "cell_type": "code",
   "execution_count": 188,
   "id": "c3120e56",
   "metadata": {},
   "outputs": [],
   "source": [
    "# examine the model"
   ]
  },
  {
   "cell_type": "code",
   "execution_count": 160,
   "id": "0f02ff1c",
   "metadata": {
    "scrolled": true,
    "tags": []
   },
   "outputs": [],
   "source": [
    "history_2B.history;"
   ]
  },
  {
   "cell_type": "code",
   "execution_count": 161,
   "id": "a71aa0d5",
   "metadata": {},
   "outputs": [
    {
     "data": {
      "image/png": "[encoded data removed]",
      "text/plain": [
       "<Figure size 432x288 with 1 Axes>"
      ]
     },
     "metadata": {
      "needs_background": "light"
     },
     "output_type": "display_data"
    }
   ],
   "source": [
    "plot_accuracy(history_2B)\n",
    "plt.savefig('../data/models/two_instruments/3conv_2B_acc.png')"
   ]
  },
  {
   "cell_type": "code",
   "execution_count": 163,
   "id": "eb87b276",
   "metadata": {},
   "outputs": [
    {
     "data": {
      "image/png": "[encoded data removed]",
      "text/plain": [
       "<Figure size 432x288 with 1 Axes>"
      ]
     },
     "metadata": {
      "needs_background": "light"
     },
     "output_type": "display_data"
    }
   ],
   "source": [
    "plot_loss(history_2B)\n",
    "plt.savefig('../data/models/two_instruments/3conv_2B_loss.png')"
   ]
  },
  {
   "cell_type": "code",
   "execution_count": 164,
   "id": "dabe01b1",
   "metadata": {},
   "outputs": [
    {
     "data": {
      "image/png": "[encoded data removed]",
      "text/plain": [
       "<Figure size 432x288 with 1 Axes>"
      ]
     },
     "metadata": {
      "needs_background": "light"
     },
     "output_type": "display_data"
    }
   ],
   "source": [
    "pd.DataFrame(history_2B.history).plot()\n",
    "plt.savefig('../data/models/two_instruments/3conv_2B_acc_loss.png')"
   ]
  },
  {
   "cell_type": "code",
   "execution_count": 627,
   "id": "9774b211-850e-457c-9c6f-782980d71574",
   "metadata": {},
   "outputs": [],
   "source": [
    "# predictions:"
   ]
  },
  {
   "cell_type": "code",
   "execution_count": 629,
   "id": "4f05dcc2-bf18-4634-bd78-26e4c94e7a8a",
   "metadata": {},
   "outputs": [
    {
     "data": {
      "text/plain": [
       "(779, 2)"
      ]
     },
     "execution_count": 629,
     "metadata": {},
     "output_type": "execute_result"
    }
   ],
   "source": [
    "y_val.shape"
   ]
  },
  {
   "cell_type": "code",
   "execution_count": 152,
   "id": "d5a6e8fd-dd17-44e2-9642-87670390e47e",
   "metadata": {},
   "outputs": [
    {
     "data": {
      "text/plain": [
       "(1, 129, 129, 1)"
      ]
     },
     "execution_count": 152,
     "metadata": {},
     "output_type": "execute_result"
    }
   ],
   "source": [
    "X_val[0].reshape(1,129,129,1).shape"
   ]
  },
  {
   "cell_type": "code",
   "execution_count": 155,
   "id": "7b01a1ce-7275-4032-9ad9-ad236d1852c4",
   "metadata": {},
   "outputs": [],
   "source": [
    "y_pred = model_2B.predict(X_val[1].reshape(1,129,129,1))"
   ]
  },
  {
   "cell_type": "code",
   "execution_count": 156,
   "id": "09c3dd05-3c98-438b-9034-792934838d58",
   "metadata": {},
   "outputs": [
    {
     "data": {
      "text/plain": [
       "array([[0.46128115, 0.44994277]], dtype=float32)"
      ]
     },
     "execution_count": 156,
     "metadata": {},
     "output_type": "execute_result"
    }
   ],
   "source": [
    "y_pred"
   ]
  },
  {
   "cell_type": "code",
   "execution_count": null,
   "id": "f44feff4-21d0-4767-afa8-dd2f000fb5b6",
   "metadata": {},
   "outputs": [],
   "source": [
    "X_test_guitar, X_test_singer, X_clarinet"
   ]
  },
  {
   "cell_type": "code",
   "execution_count": null,
   "id": "5c3146dc-4e9c-48d4-8852-6613bcf07e71",
   "metadata": {},
   "outputs": [],
   "source": [
    "# model 03: more filters"
   ]
  },
  {
   "cell_type": "code",
   "execution_count": 205,
   "id": "3d14927c-ce75-437f-9fd4-a1ef46de63c3",
   "metadata": {},
   "outputs": [],
   "source": [
    "# model 03\n",
    "# Clear session and build above model:\n",
    "K.clear_session()\n",
    "\n",
    "model_03 = Sequential([\n",
    "    Conv2D( filters = 25, kernel_size = (3,3), strides = (1,1), padding = 'valid',\n",
    "           activation = 'relu', input_shape = (129,129,1)),\n",
    "    \n",
    "    MaxPooling2D(pool_size = (2,2),strides=(2,2),padding = 'valid'),\n",
    "    \n",
    "    Conv2D(filters = 25, kernel_size = (3,3), strides = (1,1), padding = 'valid', activation = 'tanh'),\n",
    "    \n",
    "    MaxPooling2D(pool_size = (2,2),strides=(2,2),padding = 'valid'),\n",
    "    \n",
    "    Flatten(),\n",
    "    #Fully connected layers:\n",
    "    Dense(100,activation='relu'),\n",
    "    #Dropout(0.2), - optional\n",
    "    Dense(2,activation= 'sigmoid')   \n",
    "])"
   ]
  },
  {
   "cell_type": "code",
   "execution_count": 207,
   "id": "32474694-ddac-4bd8-a646-0ef235d07e08",
   "metadata": {},
   "outputs": [
    {
     "name": "stdout",
     "output_type": "stream",
     "text": [
      "Model: \"sequential\"\n",
      "_________________________________________________________________\n",
      "Layer (type)                 Output Shape              Param #   \n",
      "=================================================================\n",
      "conv2d (Conv2D)              (None, 127, 127, 25)      250       \n",
      "_________________________________________________________________\n",
      "max_pooling2d (MaxPooling2D) (None, 63, 63, 25)        0         \n",
      "_________________________________________________________________\n",
      "conv2d_1 (Conv2D)            (None, 61, 61, 25)        5650      \n",
      "_________________________________________________________________\n",
      "max_pooling2d_1 (MaxPooling2 (None, 30, 30, 25)        0         \n",
      "_________________________________________________________________\n",
      "flatten (Flatten)            (None, 22500)             0         \n",
      "_________________________________________________________________\n",
      "dense (Dense)                (None, 100)               2250100   \n",
      "_________________________________________________________________\n",
      "dense_1 (Dense)              (None, 2)                 202       \n",
      "=================================================================\n",
      "Total params: 2,256,202\n",
      "Trainable params: 2,256,202\n",
      "Non-trainable params: 0\n",
      "_________________________________________________________________\n"
     ]
    }
   ],
   "source": [
    "# Check the summary:\n",
    "model_03.summary()"
   ]
  },
  {
   "cell_type": "code",
   "execution_count": 208,
   "id": "7beb36a4-836a-483d-a79e-6b216a990e37",
   "metadata": {},
   "outputs": [],
   "source": [
    "# compile model\n",
    "model_03.compile(optimizer='Adam',loss='binary_crossentropy',metrics=['accuracy'])"
   ]
  },
  {
   "cell_type": "code",
   "execution_count": 209,
   "id": "47557b6d-3040-473c-94ef-18151b64f630",
   "metadata": {
    "tags": []
   },
   "outputs": [
    {
     "name": "stdout",
     "output_type": "stream",
     "text": [
      "Epoch 1/40\n",
      "1/1 [==============================] - 38s 38s/step - loss: 0.8224 - accuracy: 0.5249 - val_loss: 21.9777 - val_accuracy: 0.6393\n",
      "Epoch 2/40\n",
      "1/1 [==============================] - 31s 31s/step - loss: 23.8156 - accuracy: 0.5596 - val_loss: 11.6458 - val_accuracy: 0.6354\n",
      "Epoch 3/40\n",
      "1/1 [==============================] - 30s 30s/step - loss: 15.6563 - accuracy: 0.5596 - val_loss: 1.4074 - val_accuracy: 0.6970\n",
      "Epoch 4/40\n",
      "1/1 [==============================] - 31s 31s/step - loss: 2.0959 - accuracy: 0.5651 - val_loss: 13.3100 - val_accuracy: 0.3646\n",
      "Epoch 5/40\n",
      "1/1 [==============================] - 25s 25s/step - loss: 12.8969 - accuracy: 0.4404 - val_loss: 8.1563 - val_accuracy: 0.3787\n",
      "Epoch 6/40\n",
      "1/1 [==============================] - 23s 23s/step - loss: 8.0596 - accuracy: 0.4404 - val_loss: 0.7304 - val_accuracy: 0.9846\n",
      "Epoch 7/40\n",
      "1/1 [==============================] - 16s 16s/step - loss: 1.1346 - accuracy: 0.9584 - val_loss: 2.1676 - val_accuracy: 0.7150\n",
      "Epoch 8/40\n",
      "1/1 [==============================] - 14s 14s/step - loss: 4.8730 - accuracy: 0.5623 - val_loss: 2.1700 - val_accuracy: 0.7099\n",
      "Epoch 9/40\n",
      "1/1 [==============================] - 15s 15s/step - loss: 4.8135 - accuracy: 0.5637 - val_loss: 0.6404 - val_accuracy: 0.8883\n",
      "Epoch 10/40\n",
      "1/1 [==============================] - 25s 25s/step - loss: 1.2508 - accuracy: 0.7659 - val_loss: 0.6627 - val_accuracy: 0.8793\n",
      "Epoch 11/40\n",
      "1/1 [==============================] - 24s 24s/step - loss: 0.7739 - accuracy: 0.8366 - val_loss: 1.8895 - val_accuracy: 0.8306\n",
      "Epoch 12/40\n",
      "1/1 [==============================] - 32s 32s/step - loss: 1.8747 - accuracy: 0.7978 - val_loss: 2.1924 - val_accuracy: 0.8293\n",
      "Epoch 13/40\n",
      "1/1 [==============================] - 37s 37s/step - loss: 2.0599 - accuracy: 0.8047 - val_loss: 1.5807 - val_accuracy: 0.8395\n",
      "Epoch 14/40\n",
      "1/1 [==============================] - 22s 22s/step - loss: 1.2320 - accuracy: 0.8158 - val_loss: 0.9577 - val_accuracy: 0.9653\n",
      "Epoch 15/40\n",
      "1/1 [==============================] - 25s 25s/step - loss: 0.3410 - accuracy: 0.9446 - val_loss: 1.1720 - val_accuracy: 0.9628\n",
      "Epoch 16/40\n",
      "1/1 [==============================] - 18s 18s/step - loss: 0.2767 - accuracy: 0.9488 - val_loss: 1.5021 - val_accuracy: 0.9397\n",
      "Epoch 17/40\n",
      "1/1 [==============================] - 26s 26s/step - loss: 0.3906 - accuracy: 0.9141 - val_loss: 1.7476 - val_accuracy: 0.9217\n",
      "Epoch 18/40\n",
      "1/1 [==============================] - 42s 42s/step - loss: 0.5432 - accuracy: 0.8643 - val_loss: 1.7476 - val_accuracy: 0.9294\n",
      "Epoch 19/40\n",
      "1/1 [==============================] - 43s 43s/step - loss: 0.2825 - accuracy: 0.9141 - val_loss: 1.6857 - val_accuracy: 0.9217\n",
      "Epoch 20/40\n",
      "1/1 [==============================] - 43s 43s/step - loss: 0.0417 - accuracy: 0.9889 - val_loss: 1.5893 - val_accuracy: 0.9204\n",
      "Epoch 21/40\n",
      "1/1 [==============================] - 30s 30s/step - loss: 0.0207 - accuracy: 0.9931 - val_loss: 1.4439 - val_accuracy: 0.9076\n",
      "Epoch 22/40\n",
      "1/1 [==============================] - 30s 30s/step - loss: 0.0645 - accuracy: 0.9820 - val_loss: 1.2839 - val_accuracy: 0.8999\n",
      "Epoch 23/40\n",
      "1/1 [==============================] - 30s 30s/step - loss: 0.1178 - accuracy: 0.9737 - val_loss: 1.0636 - val_accuracy: 0.9037\n",
      "Epoch 24/40\n",
      "1/1 [==============================] - 24s 24s/step - loss: 0.1204 - accuracy: 0.9737 - val_loss: 0.7911 - val_accuracy: 0.9576\n",
      "Epoch 25/40\n",
      "1/1 [==============================] - 21s 21s/step - loss: 0.0706 - accuracy: 0.9848 - val_loss: 0.5654 - val_accuracy: 0.9769\n",
      "Epoch 26/40\n",
      "1/1 [==============================] - 21s 21s/step - loss: 0.0289 - accuracy: 0.9931 - val_loss: 0.4107 - val_accuracy: 0.9936\n",
      "Epoch 27/40\n",
      "1/1 [==============================] - 20s 20s/step - loss: 0.0109 - accuracy: 0.9958 - val_loss: 0.3124 - val_accuracy: 0.9987\n",
      "Epoch 28/40\n",
      "1/1 [==============================] - 20s 20s/step - loss: 0.0118 - accuracy: 0.9972 - val_loss: 0.2858 - val_accuracy: 0.9897\n",
      "Epoch 29/40\n",
      "1/1 [==============================] - 26s 26s/step - loss: 0.0237 - accuracy: 0.9972 - val_loss: 0.2616 - val_accuracy: 0.9897\n",
      "Epoch 30/40\n",
      "1/1 [==============================] - 26s 26s/step - loss: 0.0125 - accuracy: 0.9986 - val_loss: 0.2377 - val_accuracy: 0.9910\n",
      "Epoch 31/40\n",
      "1/1 [==============================] - 25s 25s/step - loss: 0.0032 - accuracy: 1.0000 - val_loss: 0.2281 - val_accuracy: 0.9910\n",
      "Epoch 32/40\n",
      "1/1 [==============================] - 22s 22s/step - loss: 0.0020 - accuracy: 1.0000 - val_loss: 0.2243 - val_accuracy: 0.9910\n",
      "Epoch 33/40\n",
      "1/1 [==============================] - 24s 24s/step - loss: 0.0022 - accuracy: 1.0000 - val_loss: 0.2215 - val_accuracy: 0.9910\n",
      "Epoch 34/40\n",
      "1/1 [==============================] - 21s 21s/step - loss: 0.0023 - accuracy: 1.0000 - val_loss: 0.2188 - val_accuracy: 0.9897\n",
      "Epoch 35/40\n",
      "1/1 [==============================] - 30s 30s/step - loss: 0.0025 - accuracy: 1.0000 - val_loss: 0.2151 - val_accuracy: 0.9897\n",
      "Epoch 36/40\n",
      "1/1 [==============================] - 26s 26s/step - loss: 0.0026 - accuracy: 1.0000 - val_loss: 0.2107 - val_accuracy: 0.9923\n",
      "Epoch 37/40\n",
      "1/1 [==============================] - 25s 25s/step - loss: 0.0028 - accuracy: 1.0000 - val_loss: 0.2054 - val_accuracy: 0.9923\n",
      "Epoch 38/40\n",
      "1/1 [==============================] - 22s 22s/step - loss: 0.0028 - accuracy: 1.0000 - val_loss: 0.1993 - val_accuracy: 0.9923\n",
      "Epoch 39/40\n",
      "1/1 [==============================] - 14s 14s/step - loss: 0.0025 - accuracy: 1.0000 - val_loss: 0.1918 - val_accuracy: 0.9923\n",
      "Epoch 40/40\n",
      "1/1 [==============================] - 22s 22s/step - loss: 0.0019 - accuracy: 1.0000 - val_loss: 0.1840 - val_accuracy: 0.9936\n"
     ]
    }
   ],
   "source": [
    "# fit the model\n",
    "history_03 = model_03.fit(X_train,y_train,batch_size=722, epochs=40,validation_data=(X_val,y_val))"
   ]
  },
  {
   "cell_type": "code",
   "execution_count": 216,
   "id": "188f3dc5",
   "metadata": {},
   "outputs": [],
   "source": [
    "model_03.save('../data/models/two_instruments/2conv_03.h5')"
   ]
  },
  {
   "cell_type": "code",
   "execution_count": 217,
   "id": "e0d58139",
   "metadata": {},
   "outputs": [],
   "source": [
    "df_history_03 = pd.DataFrame(history_0a.history)\n",
    "df_history_03.to_csv('../data/models/two_instruments/2conv_03_hist.csv')"
   ]
  },
  {
   "cell_type": "code",
   "execution_count": 218,
   "id": "8e53ffa9",
   "metadata": {},
   "outputs": [],
   "source": [
    "# examine the model"
   ]
  },
  {
   "cell_type": "code",
   "execution_count": 219,
   "id": "3828060f",
   "metadata": {
    "scrolled": true,
    "tags": []
   },
   "outputs": [],
   "source": [
    "history_03.history;"
   ]
  },
  {
   "cell_type": "code",
   "execution_count": 220,
   "id": "0b710be8",
   "metadata": {},
   "outputs": [
    {
     "data": {
      "image/png": "[encoded data removed]",
      "text/plain": [
       "<Figure size 432x288 with 1 Axes>"
      ]
     },
     "metadata": {
      "needs_background": "light"
     },
     "output_type": "display_data"
    }
   ],
   "source": [
    "plot_accuracy(history_03)\n",
    "plt.savefig('../data/models/two_instruments/2conv_03_acc.png')"
   ]
  },
  {
   "cell_type": "code",
   "execution_count": 221,
   "id": "48fc9ed9",
   "metadata": {},
   "outputs": [
    {
     "data": {
      "image/png": "[encoded data removed]",
      "text/plain": [
       "<Figure size 432x288 with 1 Axes>"
      ]
     },
     "metadata": {
      "needs_background": "light"
     },
     "output_type": "display_data"
    }
   ],
   "source": [
    "plot_loss(history_03)\n",
    "plt.savefig('../data/models/two_instruments/2conv_03_loss.png')"
   ]
  },
  {
   "cell_type": "code",
   "execution_count": 222,
   "id": "897c3e33",
   "metadata": {},
   "outputs": [
    {
     "data": {
      "image/png": "[encoded data removed]",
      "text/plain": [
       "<Figure size 432x288 with 1 Axes>"
      ]
     },
     "metadata": {
      "needs_background": "light"
     },
     "output_type": "display_data"
    }
   ],
   "source": [
    "pd.DataFrame(history_03.history).plot()\n",
    "plt.savefig('../data/models/two_instruments/2conv_03_acc_loss.png')"
   ]
  },
  {
   "cell_type": "code",
   "execution_count": 388,
   "id": "89aad377-3614-4c15-ab39-1077c7143bfd",
   "metadata": {},
   "outputs": [],
   "source": [
    "# confusion matrix"
   ]
  },
  {
   "cell_type": "code",
   "execution_count": null,
   "id": "db4eaba2-8fc1-4aaf-891e-1cf3cb8c260a",
   "metadata": {},
   "outputs": [],
   "source": []
  },
  {
   "cell_type": "markdown",
   "id": "b2dbdc7c-210b-4a28-bf06-18aa6bdde19d",
   "metadata": {},
   "source": [
    "#### Pre trained CNN"
   ]
  },
  {
   "cell_type": "code",
   "execution_count": null,
   "id": "afcfc596-4e71-47ea-b0e4-f978c13aeb8f",
   "metadata": {},
   "outputs": [],
   "source": []
  },
  {
   "cell_type": "code",
   "execution_count": 1,
   "id": "34531055-5452-43bb-b81a-3e6e317f65c7",
   "metadata": {},
   "outputs": [],
   "source": [
    "# bonus: shuffling an array"
   ]
  },
  {
   "cell_type": "code",
   "execution_count": 16,
   "id": "d74ca756-2252-419e-bebf-e84720cb7114",
   "metadata": {},
   "outputs": [],
   "source": [
    "abc = np.array([[1,2],[3,4],[5,6],[7,8],[0,9]])"
   ]
  },
  {
   "cell_type": "code",
   "execution_count": 17,
   "id": "9441eaf5-0bd9-4e64-8c4e-1ddc4a27ce86",
   "metadata": {},
   "outputs": [
    {
     "data": {
      "text/plain": [
       "array([[1, 2],\n",
       "       [3, 4],\n",
       "       [5, 6],\n",
       "       [7, 8],\n",
       "       [0, 9]])"
      ]
     },
     "execution_count": 17,
     "metadata": {},
     "output_type": "execute_result"
    }
   ],
   "source": [
    "abc"
   ]
  },
  {
   "cell_type": "code",
   "execution_count": 18,
   "id": "f5cbf12c-a291-46fb-8200-5d342a5b57b6",
   "metadata": {},
   "outputs": [
    {
     "data": {
      "text/plain": [
       "(5, 2)"
      ]
     },
     "execution_count": 18,
     "metadata": {},
     "output_type": "execute_result"
    }
   ],
   "source": [
    "abc.shape"
   ]
  },
  {
   "cell_type": "code",
   "execution_count": 61,
   "id": "8fb6d6a2-1951-434b-96ac-bf04ed64b350",
   "metadata": {},
   "outputs": [
    {
     "data": {
      "text/plain": [
       "array([[7, 8],\n",
       "       [3, 4],\n",
       "       [5, 6],\n",
       "       [1, 2],\n",
       "       [0, 9]])"
      ]
     },
     "execution_count": 61,
     "metadata": {},
     "output_type": "execute_result"
    }
   ],
   "source": [
    "np.random.shuffle(abc)\n",
    "abc"
   ]
  },
  {
   "cell_type": "code",
   "execution_count": 10,
   "id": "99878f9f-3af8-4d35-9ee7-28a103b184c6",
   "metadata": {},
   "outputs": [
    {
     "data": {
      "text/plain": [
       "array([0, 1, 2, 3, 4, 5, 6, 7, 8, 9])"
      ]
     },
     "execution_count": 10,
     "metadata": {},
     "output_type": "execute_result"
    }
   ],
   "source": [
    "np.arange(10)"
   ]
  },
  {
   "cell_type": "code",
   "execution_count": null,
   "id": "4c9ffccb-abb4-4bca-b087-c8794ab24466",
   "metadata": {},
   "outputs": [],
   "source": []
  }
 ],
 "metadata": {
  "kernelspec": {
   "display_name": "tensorflow_env",
   "language": "python",
   "name": "tensorflow_env"
  },
  "language_info": {
   "codemirror_mode": {
    "name": "ipython",
    "version": 3
   },
   "file_extension": ".py",
   "mimetype": "text/x-python",
   "name": "python",
   "nbconvert_exporter": "python",
   "pygments_lexer": "ipython3",
   "version": "3.6.13"
  }
 },
 "nbformat": 4,
 "nbformat_minor": 5
}
