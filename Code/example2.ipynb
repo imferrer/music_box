{
 "cells": [
  {
   "cell_type": "code",
   "execution_count": 2,
   "id": "8a390303-fe30-4690-89d4-983a7c24ccc9",
   "metadata": {},
   "outputs": [],
   "source": [
    "import numpy as np\n",
    "import librosa"
   ]
  },
  {
   "cell_type": "code",
   "execution_count": 3,
   "id": "25b7baf8-827b-4d17-9b88-09526afbe08d",
   "metadata": {},
   "outputs": [],
   "source": [
    "y, sr = librosa.load(librosa.ex('nutcracker'))"
   ]
  },
  {
   "cell_type": "code",
   "execution_count": 4,
   "id": "1014f9eb-6e7f-48c6-8150-6a2c85ca4010",
   "metadata": {},
   "outputs": [],
   "source": [
    "hop_length = 512"
   ]
  },
  {
   "cell_type": "code",
   "execution_count": 5,
   "id": "22620e67-6aca-4920-80ef-e6673100f1ad",
   "metadata": {},
   "outputs": [
    {
     "data": {
      "text/plain": [
       "22050"
      ]
     },
     "execution_count": 5,
     "metadata": {},
     "output_type": "execute_result"
    }
   ],
   "source": [
    "sr"
   ]
  },
  {
   "cell_type": "code",
   "execution_count": null,
   "id": "0d6a1b1c-638a-42b8-b698-9620f803f6e7",
   "metadata": {},
   "outputs": [],
   "source": []
  }
 ],
 "metadata": {
  "kernelspec": {
   "display_name": "Python 3 (ipykernel)",
   "language": "python",
   "name": "python3"
  },
  "language_info": {
   "codemirror_mode": {
    "name": "ipython",
    "version": 3
   },
   "file_extension": ".py",
   "mimetype": "text/x-python",
   "name": "python",
   "nbconvert_exporter": "python",
   "pygments_lexer": "ipython3",
   "version": "3.10.4"
  }
 },
 "nbformat": 4,
 "nbformat_minor": 5
}
