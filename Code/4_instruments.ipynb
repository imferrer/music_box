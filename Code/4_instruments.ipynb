{
 "cells": [
  {
   "cell_type": "code",
   "execution_count": 2,
   "id": "656386bb-6a78-4ca5-8d7c-d1e656cd89cc",
   "metadata": {},
   "outputs": [],
   "source": [
    "import os\n",
    "import librosa\n",
    "import librosa.display\n",
    "import IPython.display as ipd\n",
    "\n",
    "import pandas as pd\n",
    "import numpy as np\n",
    "import matplotlib.pyplot as plt\n",
    "import tensorflow.keras as keras\n",
    "import pickle"
   ]
  },
  {
   "cell_type": "code",
   "execution_count": 3,
   "id": "da147974-e01e-4bd2-9cee-c168d7fff363",
   "metadata": {},
   "outputs": [],
   "source": [
    "from tensorflow.keras.models import Sequential\n",
    "from tensorflow.keras.layers import Conv2D, Dense, MaxPooling2D, Activation, Flatten, Dropout, BatchNormalization\n",
    "from tensorflow.keras import models, layers\n",
    "from tensorflow.keras import backend as K\n",
    "\n",
    "from tensorflow.keras.optimizers import Adam\n",
    "from tensorflow.keras.utils import to_categorical\n",
    "\n",
    "from sklearn.metrics import confusion_matrix,ConfusionMatrixDisplay"
   ]
  },
  {
   "cell_type": "markdown",
   "id": "bb86f635-5fc8-419b-93f6-6aea4c36e26a",
   "metadata": {},
   "source": [
    "#### The Medley Instruments Data Set"
   ]
  },
  {
   "cell_type": "code",
   "execution_count": 4,
   "id": "9fdc84f0-8a2b-4ee1-b750-7157e5e98027",
   "metadata": {},
   "outputs": [],
   "source": [
    "df = pd.read_csv('~/documents/data/audio/medley/csv/Medley-solos-DB_metadata.csv')"
   ]
  },
  {
   "cell_type": "code",
   "execution_count": 5,
   "id": "092df964-70fe-4949-8a1e-732912cb7e1b",
   "metadata": {},
   "outputs": [
    {
     "data": {
      "text/html": [
       "<div>\n",
       "<style scoped>\n",
       "    .dataframe tbody tr th:only-of-type {\n",
       "        vertical-align: middle;\n",
       "    }\n",
       "\n",
       "    .dataframe tbody tr th {\n",
       "        vertical-align: top;\n",
       "    }\n",
       "\n",
       "    .dataframe thead th {\n",
       "        text-align: right;\n",
       "    }\n",
       "</style>\n",
       "<table border=\"1\" class=\"dataframe\">\n",
       "  <thead>\n",
       "    <tr style=\"text-align: right;\">\n",
       "      <th></th>\n",
       "      <th>subset</th>\n",
       "      <th>instrument</th>\n",
       "      <th>instrument_id</th>\n",
       "      <th>song_id</th>\n",
       "      <th>uuid4</th>\n",
       "    </tr>\n",
       "  </thead>\n",
       "  <tbody>\n",
       "    <tr>\n",
       "      <th>0</th>\n",
       "      <td>test</td>\n",
       "      <td>clarinet</td>\n",
       "      <td>0</td>\n",
       "      <td>0</td>\n",
       "      <td>0e4371ac-1c6a-51ab-fdb7-f8abd5fbf1a3</td>\n",
       "    </tr>\n",
       "    <tr>\n",
       "      <th>1</th>\n",
       "      <td>test</td>\n",
       "      <td>clarinet</td>\n",
       "      <td>0</td>\n",
       "      <td>0</td>\n",
       "      <td>33383119-fd64-59c1-f596-d1a23e8a0eff</td>\n",
       "    </tr>\n",
       "    <tr>\n",
       "      <th>2</th>\n",
       "      <td>test</td>\n",
       "      <td>clarinet</td>\n",
       "      <td>0</td>\n",
       "      <td>0</td>\n",
       "      <td>b2b7a288-e169-5642-fced-b509c06b11fc</td>\n",
       "    </tr>\n",
       "    <tr>\n",
       "      <th>3</th>\n",
       "      <td>test</td>\n",
       "      <td>clarinet</td>\n",
       "      <td>0</td>\n",
       "      <td>0</td>\n",
       "      <td>151b6ee4-313a-58d9-fbcb-bab73e0d426b</td>\n",
       "    </tr>\n",
       "    <tr>\n",
       "      <th>4</th>\n",
       "      <td>test</td>\n",
       "      <td>clarinet</td>\n",
       "      <td>0</td>\n",
       "      <td>0</td>\n",
       "      <td>b43999d1-9b5e-557f-f9bc-1b3759659858</td>\n",
       "    </tr>\n",
       "    <tr>\n",
       "      <th>...</th>\n",
       "      <td>...</td>\n",
       "      <td>...</td>\n",
       "      <td>...</td>\n",
       "      <td>...</td>\n",
       "      <td>...</td>\n",
       "    </tr>\n",
       "    <tr>\n",
       "      <th>21566</th>\n",
       "      <td>validation</td>\n",
       "      <td>violin</td>\n",
       "      <td>7</td>\n",
       "      <td>226</td>\n",
       "      <td>fe4e8e98-6e0f-5a31-f446-99c10e0ac485</td>\n",
       "    </tr>\n",
       "    <tr>\n",
       "      <th>21567</th>\n",
       "      <td>validation</td>\n",
       "      <td>violin</td>\n",
       "      <td>7</td>\n",
       "      <td>226</td>\n",
       "      <td>aa606c78-9ee5-507f-f7e9-67c3530faf0f</td>\n",
       "    </tr>\n",
       "    <tr>\n",
       "      <th>21568</th>\n",
       "      <td>validation</td>\n",
       "      <td>violin</td>\n",
       "      <td>7</td>\n",
       "      <td>226</td>\n",
       "      <td>05e15c0a-d530-5f3e-fa82-58c55fa44993</td>\n",
       "    </tr>\n",
       "    <tr>\n",
       "      <th>21569</th>\n",
       "      <td>validation</td>\n",
       "      <td>violin</td>\n",
       "      <td>7</td>\n",
       "      <td>226</td>\n",
       "      <td>2dd485de-471d-5d8b-fe92-ef957dac021c</td>\n",
       "    </tr>\n",
       "    <tr>\n",
       "      <th>21570</th>\n",
       "      <td>validation</td>\n",
       "      <td>violin</td>\n",
       "      <td>7</td>\n",
       "      <td>226</td>\n",
       "      <td>c407e2c7-5612-5f30-f7ac-4ae3f0aea125</td>\n",
       "    </tr>\n",
       "  </tbody>\n",
       "</table>\n",
       "<p>21571 rows × 5 columns</p>\n",
       "</div>"
      ],
      "text/plain": [
       "           subset instrument  instrument_id  song_id  \\\n",
       "0            test   clarinet              0        0   \n",
       "1            test   clarinet              0        0   \n",
       "2            test   clarinet              0        0   \n",
       "3            test   clarinet              0        0   \n",
       "4            test   clarinet              0        0   \n",
       "...           ...        ...            ...      ...   \n",
       "21566  validation     violin              7      226   \n",
       "21567  validation     violin              7      226   \n",
       "21568  validation     violin              7      226   \n",
       "21569  validation     violin              7      226   \n",
       "21570  validation     violin              7      226   \n",
       "\n",
       "                                      uuid4  \n",
       "0      0e4371ac-1c6a-51ab-fdb7-f8abd5fbf1a3  \n",
       "1      33383119-fd64-59c1-f596-d1a23e8a0eff  \n",
       "2      b2b7a288-e169-5642-fced-b509c06b11fc  \n",
       "3      151b6ee4-313a-58d9-fbcb-bab73e0d426b  \n",
       "4      b43999d1-9b5e-557f-f9bc-1b3759659858  \n",
       "...                                     ...  \n",
       "21566  fe4e8e98-6e0f-5a31-f446-99c10e0ac485  \n",
       "21567  aa606c78-9ee5-507f-f7e9-67c3530faf0f  \n",
       "21568  05e15c0a-d530-5f3e-fa82-58c55fa44993  \n",
       "21569  2dd485de-471d-5d8b-fe92-ef957dac021c  \n",
       "21570  c407e2c7-5612-5f30-f7ac-4ae3f0aea125  \n",
       "\n",
       "[21571 rows x 5 columns]"
      ]
     },
     "execution_count": 5,
     "metadata": {},
     "output_type": "execute_result"
    }
   ],
   "source": [
    "df"
   ]
  },
  {
   "cell_type": "code",
   "execution_count": 6,
   "id": "bac4496c-b439-4cfe-a367-57c40a21d03a",
   "metadata": {},
   "outputs": [
    {
     "data": {
      "text/plain": [
       "subset               3\n",
       "instrument           8\n",
       "instrument_id        8\n",
       "song_id            227\n",
       "uuid4            21571\n",
       "dtype: int64"
      ]
     },
     "execution_count": 6,
     "metadata": {},
     "output_type": "execute_result"
    }
   ],
   "source": [
    "df.nunique()"
   ]
  },
  {
   "cell_type": "code",
   "execution_count": 7,
   "id": "0ddbd1a9-6059-4165-8831-c29f2f68ce7a",
   "metadata": {},
   "outputs": [
    {
     "data": {
      "text/plain": [
       "array(['clarinet', 'distorted electric guitar', 'female singer', 'flute',\n",
       "       'piano', 'tenor saxophone', 'trumpet', 'violin'], dtype=object)"
      ]
     },
     "execution_count": 7,
     "metadata": {},
     "output_type": "execute_result"
    }
   ],
   "source": [
    "df['instrument'].unique()"
   ]
  },
  {
   "cell_type": "code",
   "execution_count": 8,
   "id": "1505e676-d26c-4023-8511-901c283d02f7",
   "metadata": {},
   "outputs": [
    {
     "data": {
      "text/html": [
       "<div>\n",
       "<style scoped>\n",
       "    .dataframe tbody tr th:only-of-type {\n",
       "        vertical-align: middle;\n",
       "    }\n",
       "\n",
       "    .dataframe tbody tr th {\n",
       "        vertical-align: top;\n",
       "    }\n",
       "\n",
       "    .dataframe thead th {\n",
       "        text-align: right;\n",
       "    }\n",
       "</style>\n",
       "<table border=\"1\" class=\"dataframe\">\n",
       "  <thead>\n",
       "    <tr style=\"text-align: right;\">\n",
       "      <th></th>\n",
       "      <th>subset</th>\n",
       "      <th>instrument_id</th>\n",
       "      <th>song_id</th>\n",
       "      <th>uuid4</th>\n",
       "    </tr>\n",
       "    <tr>\n",
       "      <th>instrument</th>\n",
       "      <th></th>\n",
       "      <th></th>\n",
       "      <th></th>\n",
       "      <th></th>\n",
       "    </tr>\n",
       "  </thead>\n",
       "  <tbody>\n",
       "    <tr>\n",
       "      <th>clarinet</th>\n",
       "      <td>1311</td>\n",
       "      <td>1311</td>\n",
       "      <td>1311</td>\n",
       "      <td>1311</td>\n",
       "    </tr>\n",
       "    <tr>\n",
       "      <th>distorted electric guitar</th>\n",
       "      <td>1854</td>\n",
       "      <td>1854</td>\n",
       "      <td>1854</td>\n",
       "      <td>1854</td>\n",
       "    </tr>\n",
       "    <tr>\n",
       "      <th>female singer</th>\n",
       "      <td>1744</td>\n",
       "      <td>1744</td>\n",
       "      <td>1744</td>\n",
       "      <td>1744</td>\n",
       "    </tr>\n",
       "    <tr>\n",
       "      <th>flute</th>\n",
       "      <td>3555</td>\n",
       "      <td>3555</td>\n",
       "      <td>3555</td>\n",
       "      <td>3555</td>\n",
       "    </tr>\n",
       "    <tr>\n",
       "      <th>piano</th>\n",
       "      <td>6032</td>\n",
       "      <td>6032</td>\n",
       "      <td>6032</td>\n",
       "      <td>6032</td>\n",
       "    </tr>\n",
       "    <tr>\n",
       "      <th>tenor saxophone</th>\n",
       "      <td>477</td>\n",
       "      <td>477</td>\n",
       "      <td>477</td>\n",
       "      <td>477</td>\n",
       "    </tr>\n",
       "    <tr>\n",
       "      <th>trumpet</th>\n",
       "      <td>627</td>\n",
       "      <td>627</td>\n",
       "      <td>627</td>\n",
       "      <td>627</td>\n",
       "    </tr>\n",
       "    <tr>\n",
       "      <th>violin</th>\n",
       "      <td>5971</td>\n",
       "      <td>5971</td>\n",
       "      <td>5971</td>\n",
       "      <td>5971</td>\n",
       "    </tr>\n",
       "  </tbody>\n",
       "</table>\n",
       "</div>"
      ],
      "text/plain": [
       "                           subset  instrument_id  song_id  uuid4\n",
       "instrument                                                      \n",
       "clarinet                     1311           1311     1311   1311\n",
       "distorted electric guitar    1854           1854     1854   1854\n",
       "female singer                1744           1744     1744   1744\n",
       "flute                        3555           3555     3555   3555\n",
       "piano                        6032           6032     6032   6032\n",
       "tenor saxophone               477            477      477    477\n",
       "trumpet                       627            627      627    627\n",
       "violin                       5971           5971     5971   5971"
      ]
     },
     "execution_count": 8,
     "metadata": {},
     "output_type": "execute_result"
    }
   ],
   "source": [
    "df.groupby(['instrument']).count()"
   ]
  },
  {
   "cell_type": "code",
   "execution_count": 9,
   "id": "cd68a0f8-9395-4cd2-9e4e-3f1178a4705f",
   "metadata": {},
   "outputs": [
    {
     "data": {
      "text/plain": [
       "subset           21571\n",
       "instrument_id    21571\n",
       "song_id          21571\n",
       "uuid4            21571\n",
       "dtype: int64"
      ]
     },
     "execution_count": 9,
     "metadata": {},
     "output_type": "execute_result"
    }
   ],
   "source": [
    "df.groupby(['instrument']).count().sum()"
   ]
  },
  {
   "cell_type": "code",
   "execution_count": 10,
   "id": "eea9864f-0201-4d2c-ad7f-bf60a0607b2e",
   "metadata": {},
   "outputs": [
    {
     "data": {
      "text/plain": [
       "array(['test', 'training', 'validation'], dtype=object)"
      ]
     },
     "execution_count": 10,
     "metadata": {},
     "output_type": "execute_result"
    }
   ],
   "source": [
    "df['subset'].unique()"
   ]
  },
  {
   "cell_type": "code",
   "execution_count": 11,
   "id": "f822091f-451b-4fa5-aaa7-3bfa9d8d1dbd",
   "metadata": {},
   "outputs": [
    {
     "data": {
      "text/html": [
       "<div>\n",
       "<style scoped>\n",
       "    .dataframe tbody tr th:only-of-type {\n",
       "        vertical-align: middle;\n",
       "    }\n",
       "\n",
       "    .dataframe tbody tr th {\n",
       "        vertical-align: top;\n",
       "    }\n",
       "\n",
       "    .dataframe thead th {\n",
       "        text-align: right;\n",
       "    }\n",
       "</style>\n",
       "<table border=\"1\" class=\"dataframe\">\n",
       "  <thead>\n",
       "    <tr style=\"text-align: right;\">\n",
       "      <th></th>\n",
       "      <th>instrument</th>\n",
       "      <th>instrument_id</th>\n",
       "      <th>song_id</th>\n",
       "      <th>uuid4</th>\n",
       "    </tr>\n",
       "    <tr>\n",
       "      <th>subset</th>\n",
       "      <th></th>\n",
       "      <th></th>\n",
       "      <th></th>\n",
       "      <th></th>\n",
       "    </tr>\n",
       "  </thead>\n",
       "  <tbody>\n",
       "    <tr>\n",
       "      <th>test</th>\n",
       "      <td>12236</td>\n",
       "      <td>12236</td>\n",
       "      <td>12236</td>\n",
       "      <td>12236</td>\n",
       "    </tr>\n",
       "    <tr>\n",
       "      <th>training</th>\n",
       "      <td>5841</td>\n",
       "      <td>5841</td>\n",
       "      <td>5841</td>\n",
       "      <td>5841</td>\n",
       "    </tr>\n",
       "    <tr>\n",
       "      <th>validation</th>\n",
       "      <td>3494</td>\n",
       "      <td>3494</td>\n",
       "      <td>3494</td>\n",
       "      <td>3494</td>\n",
       "    </tr>\n",
       "  </tbody>\n",
       "</table>\n",
       "</div>"
      ],
      "text/plain": [
       "            instrument  instrument_id  song_id  uuid4\n",
       "subset                                               \n",
       "test             12236          12236    12236  12236\n",
       "training          5841           5841     5841   5841\n",
       "validation        3494           3494     3494   3494"
      ]
     },
     "execution_count": 11,
     "metadata": {},
     "output_type": "execute_result"
    }
   ],
   "source": [
    "df.groupby(['subset']).count()"
   ]
  },
  {
   "cell_type": "markdown",
   "id": "81263b11-11d8-4416-a4a8-b406fa883826",
   "metadata": {},
   "source": [
    "Splitting Dataframe into Train, Validation and Test Dataframes"
   ]
  },
  {
   "cell_type": "code",
   "execution_count": 12,
   "id": "ea428817-bc20-4852-b937-15e5f488ce26",
   "metadata": {},
   "outputs": [],
   "source": [
    "df_train = df.loc[df['subset']=='training']"
   ]
  },
  {
   "cell_type": "markdown",
   "id": "2f14a7c8-1be5-4c68-95ae-e88026cad4ec",
   "metadata": {},
   "source": [
    "##### Read train, validation and test dataframes"
   ]
  },
  {
   "cell_type": "code",
   "execution_count": 13,
   "id": "83a90431-f31b-41cb-8e1f-219f06981784",
   "metadata": {},
   "outputs": [],
   "source": [
    "df_train = pd.read_csv('~/documents/data/audio/medley/csv/Medley-solos-DB_metadata_training.csv',index_col=0)"
   ]
  },
  {
   "cell_type": "code",
   "execution_count": 14,
   "id": "63967197-f616-4f80-bebf-3238579539c4",
   "metadata": {},
   "outputs": [],
   "source": [
    "df_val = pd.read_csv('~/documents/data/audio/medley/csv/Medley-solos-DB_metadata_validation.csv',index_col=0)"
   ]
  },
  {
   "cell_type": "code",
   "execution_count": 15,
   "id": "48f62587-ddf6-44d5-b951-b578e1e043ee",
   "metadata": {},
   "outputs": [],
   "source": [
    "df_test = pd.read_csv('~/documents/data/audio/medley/csv/Medley-solos-DB_metadata_test.csv',index_col=0)"
   ]
  },
  {
   "cell_type": "code",
   "execution_count": 99,
   "id": "cd3e1a1d-0bc8-43be-9a5a-a80431465747",
   "metadata": {},
   "outputs": [
    {
     "data": {
      "text/html": [
       "<div>\n",
       "<style scoped>\n",
       "    .dataframe tbody tr th:only-of-type {\n",
       "        vertical-align: middle;\n",
       "    }\n",
       "\n",
       "    .dataframe tbody tr th {\n",
       "        vertical-align: top;\n",
       "    }\n",
       "\n",
       "    .dataframe thead th {\n",
       "        text-align: right;\n",
       "    }\n",
       "</style>\n",
       "<table border=\"1\" class=\"dataframe\">\n",
       "  <thead>\n",
       "    <tr style=\"text-align: right;\">\n",
       "      <th></th>\n",
       "      <th>subset</th>\n",
       "      <th>instrument</th>\n",
       "      <th>instrument_id</th>\n",
       "      <th>song_id</th>\n",
       "      <th>uuid4</th>\n",
       "    </tr>\n",
       "  </thead>\n",
       "  <tbody>\n",
       "    <tr>\n",
       "      <th>12236</th>\n",
       "      <td>training</td>\n",
       "      <td>clarinet</td>\n",
       "      <td>0</td>\n",
       "      <td>139</td>\n",
       "      <td>163fd2b1-8e98-515a-f501-4742cc6d066f</td>\n",
       "    </tr>\n",
       "    <tr>\n",
       "      <th>12237</th>\n",
       "      <td>training</td>\n",
       "      <td>clarinet</td>\n",
       "      <td>0</td>\n",
       "      <td>139</td>\n",
       "      <td>36dcb8eb-da46-5d01-fa9d-0f715c389379</td>\n",
       "    </tr>\n",
       "    <tr>\n",
       "      <th>12238</th>\n",
       "      <td>training</td>\n",
       "      <td>clarinet</td>\n",
       "      <td>0</td>\n",
       "      <td>139</td>\n",
       "      <td>9f6d4046-3662-5433-fc44-98c80a428fd8</td>\n",
       "    </tr>\n",
       "    <tr>\n",
       "      <th>12239</th>\n",
       "      <td>training</td>\n",
       "      <td>clarinet</td>\n",
       "      <td>0</td>\n",
       "      <td>139</td>\n",
       "      <td>5ef6a0ee-a092-5d49-f64e-a3454e9ab237</td>\n",
       "    </tr>\n",
       "    <tr>\n",
       "      <th>12240</th>\n",
       "      <td>training</td>\n",
       "      <td>clarinet</td>\n",
       "      <td>0</td>\n",
       "      <td>139</td>\n",
       "      <td>2048e98b-77b2-5b7d-fe6a-780f399e69fe</td>\n",
       "    </tr>\n",
       "  </tbody>\n",
       "</table>\n",
       "</div>"
      ],
      "text/plain": [
       "         subset instrument  instrument_id  song_id  \\\n",
       "12236  training   clarinet              0      139   \n",
       "12237  training   clarinet              0      139   \n",
       "12238  training   clarinet              0      139   \n",
       "12239  training   clarinet              0      139   \n",
       "12240  training   clarinet              0      139   \n",
       "\n",
       "                                      uuid4  \n",
       "12236  163fd2b1-8e98-515a-f501-4742cc6d066f  \n",
       "12237  36dcb8eb-da46-5d01-fa9d-0f715c389379  \n",
       "12238  9f6d4046-3662-5433-fc44-98c80a428fd8  \n",
       "12239  5ef6a0ee-a092-5d49-f64e-a3454e9ab237  \n",
       "12240  2048e98b-77b2-5b7d-fe6a-780f399e69fe  "
      ]
     },
     "execution_count": 99,
     "metadata": {},
     "output_type": "execute_result"
    }
   ],
   "source": [
    "df_train.head()"
   ]
  },
  {
   "cell_type": "markdown",
   "id": "adddb4ab-a76e-4f31-a755-c8f0197a9fe9",
   "metadata": {},
   "source": [
    "#### Model for 4 instruments"
   ]
  },
  {
   "cell_type": "code",
   "execution_count": 17,
   "id": "5d50ea03-bb83-4a2c-a1fd-4760aaf17ac1",
   "metadata": {},
   "outputs": [],
   "source": [
    "# processing approach:\n",
    "# define dataframe_subset_instrument\n",
    "# load into librosa .wav to audio array (n,)\n",
    "# save arrays with numpy"
   ]
  },
  {
   "cell_type": "code",
   "execution_count": 18,
   "id": "d4c53347-9e8c-43d8-9fbc-e3ad7626d284",
   "metadata": {},
   "outputs": [],
   "source": [
    "# starting with the Train Set: 404 elements distorted guitar"
   ]
  },
  {
   "cell_type": "code",
   "execution_count": 19,
   "id": "ba3bc51d-fea9-4020-b96d-1722fd12bf91",
   "metadata": {},
   "outputs": [],
   "source": [
    "# begin with two instruments"
   ]
  },
  {
   "cell_type": "code",
   "execution_count": 20,
   "id": "a57a3457-6b18-48f8-9ed3-0ba780e8672c",
   "metadata": {},
   "outputs": [],
   "source": [
    "instruments = df_train['instrument'].unique()"
   ]
  },
  {
   "cell_type": "code",
   "execution_count": 21,
   "id": "8eb8d247-0d9b-4509-9c07-8d139e2b9088",
   "metadata": {},
   "outputs": [
    {
     "data": {
      "text/html": [
       "<div>\n",
       "<style scoped>\n",
       "    .dataframe tbody tr th:only-of-type {\n",
       "        vertical-align: middle;\n",
       "    }\n",
       "\n",
       "    .dataframe tbody tr th {\n",
       "        vertical-align: top;\n",
       "    }\n",
       "\n",
       "    .dataframe thead th {\n",
       "        text-align: right;\n",
       "    }\n",
       "</style>\n",
       "<table border=\"1\" class=\"dataframe\">\n",
       "  <thead>\n",
       "    <tr style=\"text-align: right;\">\n",
       "      <th></th>\n",
       "      <th>subset</th>\n",
       "      <th>instrument_id</th>\n",
       "      <th>song_id</th>\n",
       "      <th>uuid4</th>\n",
       "    </tr>\n",
       "    <tr>\n",
       "      <th>instrument</th>\n",
       "      <th></th>\n",
       "      <th></th>\n",
       "      <th></th>\n",
       "      <th></th>\n",
       "    </tr>\n",
       "  </thead>\n",
       "  <tbody>\n",
       "    <tr>\n",
       "      <th>clarinet</th>\n",
       "      <td>1</td>\n",
       "      <td>1</td>\n",
       "      <td>5</td>\n",
       "      <td>251</td>\n",
       "    </tr>\n",
       "    <tr>\n",
       "      <th>distorted electric guitar</th>\n",
       "      <td>1</td>\n",
       "      <td>1</td>\n",
       "      <td>10</td>\n",
       "      <td>404</td>\n",
       "    </tr>\n",
       "    <tr>\n",
       "      <th>female singer</th>\n",
       "      <td>1</td>\n",
       "      <td>1</td>\n",
       "      <td>7</td>\n",
       "      <td>318</td>\n",
       "    </tr>\n",
       "    <tr>\n",
       "      <th>flute</th>\n",
       "      <td>1</td>\n",
       "      <td>1</td>\n",
       "      <td>3</td>\n",
       "      <td>155</td>\n",
       "    </tr>\n",
       "    <tr>\n",
       "      <th>piano</th>\n",
       "      <td>1</td>\n",
       "      <td>1</td>\n",
       "      <td>20</td>\n",
       "      <td>2401</td>\n",
       "    </tr>\n",
       "    <tr>\n",
       "      <th>tenor saxophone</th>\n",
       "      <td>1</td>\n",
       "      <td>1</td>\n",
       "      <td>2</td>\n",
       "      <td>123</td>\n",
       "    </tr>\n",
       "    <tr>\n",
       "      <th>trumpet</th>\n",
       "      <td>1</td>\n",
       "      <td>1</td>\n",
       "      <td>4</td>\n",
       "      <td>149</td>\n",
       "    </tr>\n",
       "    <tr>\n",
       "      <th>violin</th>\n",
       "      <td>1</td>\n",
       "      <td>1</td>\n",
       "      <td>10</td>\n",
       "      <td>2040</td>\n",
       "    </tr>\n",
       "  </tbody>\n",
       "</table>\n",
       "</div>"
      ],
      "text/plain": [
       "                           subset  instrument_id  song_id  uuid4\n",
       "instrument                                                      \n",
       "clarinet                        1              1        5    251\n",
       "distorted electric guitar       1              1       10    404\n",
       "female singer                   1              1        7    318\n",
       "flute                           1              1        3    155\n",
       "piano                           1              1       20   2401\n",
       "tenor saxophone                 1              1        2    123\n",
       "trumpet                         1              1        4    149\n",
       "violin                          1              1       10   2040"
      ]
     },
     "execution_count": 21,
     "metadata": {},
     "output_type": "execute_result"
    }
   ],
   "source": [
    "df_train.groupby(['instrument']).nunique()"
   ]
  },
  {
   "cell_type": "code",
   "execution_count": 22,
   "id": "6a1fe79f-f79a-4646-acb2-714b781549f1",
   "metadata": {},
   "outputs": [
    {
     "data": {
      "text/html": [
       "<div>\n",
       "<style scoped>\n",
       "    .dataframe tbody tr th:only-of-type {\n",
       "        vertical-align: middle;\n",
       "    }\n",
       "\n",
       "    .dataframe tbody tr th {\n",
       "        vertical-align: top;\n",
       "    }\n",
       "\n",
       "    .dataframe thead th {\n",
       "        text-align: right;\n",
       "    }\n",
       "</style>\n",
       "<table border=\"1\" class=\"dataframe\">\n",
       "  <thead>\n",
       "    <tr style=\"text-align: right;\">\n",
       "      <th></th>\n",
       "      <th>subset</th>\n",
       "      <th>instrument_id</th>\n",
       "      <th>song_id</th>\n",
       "      <th>uuid4</th>\n",
       "    </tr>\n",
       "    <tr>\n",
       "      <th>instrument</th>\n",
       "      <th></th>\n",
       "      <th></th>\n",
       "      <th></th>\n",
       "      <th></th>\n",
       "    </tr>\n",
       "  </thead>\n",
       "  <tbody>\n",
       "    <tr>\n",
       "      <th>clarinet</th>\n",
       "      <td>1</td>\n",
       "      <td>1</td>\n",
       "      <td>2</td>\n",
       "      <td>328</td>\n",
       "    </tr>\n",
       "    <tr>\n",
       "      <th>distorted electric guitar</th>\n",
       "      <td>1</td>\n",
       "      <td>1</td>\n",
       "      <td>4</td>\n",
       "      <td>495</td>\n",
       "    </tr>\n",
       "    <tr>\n",
       "      <th>female singer</th>\n",
       "      <td>1</td>\n",
       "      <td>1</td>\n",
       "      <td>4</td>\n",
       "      <td>284</td>\n",
       "    </tr>\n",
       "    <tr>\n",
       "      <th>flute</th>\n",
       "      <td>1</td>\n",
       "      <td>1</td>\n",
       "      <td>2</td>\n",
       "      <td>233</td>\n",
       "    </tr>\n",
       "    <tr>\n",
       "      <th>piano</th>\n",
       "      <td>1</td>\n",
       "      <td>1</td>\n",
       "      <td>8</td>\n",
       "      <td>1022</td>\n",
       "    </tr>\n",
       "    <tr>\n",
       "      <th>tenor saxophone</th>\n",
       "      <td>1</td>\n",
       "      <td>1</td>\n",
       "      <td>1</td>\n",
       "      <td>29</td>\n",
       "    </tr>\n",
       "    <tr>\n",
       "      <th>trumpet</th>\n",
       "      <td>1</td>\n",
       "      <td>1</td>\n",
       "      <td>2</td>\n",
       "      <td>72</td>\n",
       "    </tr>\n",
       "    <tr>\n",
       "      <th>violin</th>\n",
       "      <td>1</td>\n",
       "      <td>1</td>\n",
       "      <td>4</td>\n",
       "      <td>1031</td>\n",
       "    </tr>\n",
       "  </tbody>\n",
       "</table>\n",
       "</div>"
      ],
      "text/plain": [
       "                           subset  instrument_id  song_id  uuid4\n",
       "instrument                                                      \n",
       "clarinet                        1              1        2    328\n",
       "distorted electric guitar       1              1        4    495\n",
       "female singer                   1              1        4    284\n",
       "flute                           1              1        2    233\n",
       "piano                           1              1        8   1022\n",
       "tenor saxophone                 1              1        1     29\n",
       "trumpet                         1              1        2     72\n",
       "violin                          1              1        4   1031"
      ]
     },
     "execution_count": 22,
     "metadata": {},
     "output_type": "execute_result"
    }
   ],
   "source": [
    "df_val.groupby(['instrument']).nunique()"
   ]
  },
  {
   "cell_type": "code",
   "execution_count": 23,
   "id": "135a4187-a0fa-49ae-996f-1c51a84b66c6",
   "metadata": {},
   "outputs": [
    {
     "data": {
      "text/html": [
       "<div>\n",
       "<style scoped>\n",
       "    .dataframe tbody tr th:only-of-type {\n",
       "        vertical-align: middle;\n",
       "    }\n",
       "\n",
       "    .dataframe tbody tr th {\n",
       "        vertical-align: top;\n",
       "    }\n",
       "\n",
       "    .dataframe thead th {\n",
       "        text-align: right;\n",
       "    }\n",
       "</style>\n",
       "<table border=\"1\" class=\"dataframe\">\n",
       "  <thead>\n",
       "    <tr style=\"text-align: right;\">\n",
       "      <th></th>\n",
       "      <th>subset</th>\n",
       "      <th>instrument_id</th>\n",
       "      <th>song_id</th>\n",
       "      <th>uuid4</th>\n",
       "    </tr>\n",
       "    <tr>\n",
       "      <th>instrument</th>\n",
       "      <th></th>\n",
       "      <th></th>\n",
       "      <th></th>\n",
       "      <th></th>\n",
       "    </tr>\n",
       "  </thead>\n",
       "  <tbody>\n",
       "    <tr>\n",
       "      <th>clarinet</th>\n",
       "      <td>1</td>\n",
       "      <td>1</td>\n",
       "      <td>18</td>\n",
       "      <td>732</td>\n",
       "    </tr>\n",
       "    <tr>\n",
       "      <th>distorted electric guitar</th>\n",
       "      <td>1</td>\n",
       "      <td>1</td>\n",
       "      <td>11</td>\n",
       "      <td>955</td>\n",
       "    </tr>\n",
       "    <tr>\n",
       "      <th>female singer</th>\n",
       "      <td>1</td>\n",
       "      <td>1</td>\n",
       "      <td>12</td>\n",
       "      <td>1142</td>\n",
       "    </tr>\n",
       "    <tr>\n",
       "      <th>flute</th>\n",
       "      <td>1</td>\n",
       "      <td>1</td>\n",
       "      <td>29</td>\n",
       "      <td>3167</td>\n",
       "    </tr>\n",
       "    <tr>\n",
       "      <th>piano</th>\n",
       "      <td>1</td>\n",
       "      <td>1</td>\n",
       "      <td>15</td>\n",
       "      <td>2609</td>\n",
       "    </tr>\n",
       "    <tr>\n",
       "      <th>tenor saxophone</th>\n",
       "      <td>1</td>\n",
       "      <td>1</td>\n",
       "      <td>5</td>\n",
       "      <td>325</td>\n",
       "    </tr>\n",
       "    <tr>\n",
       "      <th>trumpet</th>\n",
       "      <td>1</td>\n",
       "      <td>1</td>\n",
       "      <td>27</td>\n",
       "      <td>406</td>\n",
       "    </tr>\n",
       "    <tr>\n",
       "      <th>violin</th>\n",
       "      <td>1</td>\n",
       "      <td>1</td>\n",
       "      <td>22</td>\n",
       "      <td>2900</td>\n",
       "    </tr>\n",
       "  </tbody>\n",
       "</table>\n",
       "</div>"
      ],
      "text/plain": [
       "                           subset  instrument_id  song_id  uuid4\n",
       "instrument                                                      \n",
       "clarinet                        1              1       18    732\n",
       "distorted electric guitar       1              1       11    955\n",
       "female singer                   1              1       12   1142\n",
       "flute                           1              1       29   3167\n",
       "piano                           1              1       15   2609\n",
       "tenor saxophone                 1              1        5    325\n",
       "trumpet                         1              1       27    406\n",
       "violin                          1              1       22   2900"
      ]
     },
     "execution_count": 23,
     "metadata": {},
     "output_type": "execute_result"
    }
   ],
   "source": [
    "df_test.groupby(['instrument']).nunique()"
   ]
  },
  {
   "cell_type": "markdown",
   "id": "f206faa1-8c4c-4cb9-a1a7-f7cce311eecb",
   "metadata": {},
   "source": [
    "Understanding the data: how many songs were used per class"
   ]
  },
  {
   "cell_type": "code",
   "execution_count": 24,
   "id": "b7c37eb7-2572-477c-a032-85f3d946d871",
   "metadata": {},
   "outputs": [
    {
     "data": {
      "text/plain": [
       "instrument\n",
       "clarinet                                             [139, 140, 141, 142, 143]\n",
       "distorted electric guitar    [144, 145, 146, 147, 148, 149, 150, 151, 152, ...\n",
       "female singer                              [154, 155, 156, 157, 158, 159, 160]\n",
       "flute                                                          [161, 162, 163]\n",
       "piano                        [164, 165, 166, 167, 168, 169, 170, 171, 172, ...\n",
       "tenor saxophone                                                     [184, 185]\n",
       "trumpet                                                   [186, 187, 188, 189]\n",
       "violin                       [190, 191, 192, 193, 194, 195, 196, 197, 198, ...\n",
       "Name: song_id, dtype: object"
      ]
     },
     "execution_count": 24,
     "metadata": {},
     "output_type": "execute_result"
    }
   ],
   "source": [
    "df_train.groupby(['instrument'])['song_id'].unique()"
   ]
  },
  {
   "cell_type": "code",
   "execution_count": 25,
   "id": "b2672c29-62d7-4167-9f9d-b62eab1aeba4",
   "metadata": {},
   "outputs": [
    {
     "data": {
      "text/plain": [
       "instrument\n",
       "clarinet                                                   [200, 201]\n",
       "distorted electric guitar                        [202, 203, 204, 205]\n",
       "female singer                                    [206, 207, 208, 209]\n",
       "flute                                                      [210, 211]\n",
       "piano                        [212, 213, 214, 215, 216, 217, 218, 219]\n",
       "tenor saxophone                                                 [220]\n",
       "trumpet                                                    [221, 222]\n",
       "violin                                           [223, 224, 225, 226]\n",
       "Name: song_id, dtype: object"
      ]
     },
     "execution_count": 25,
     "metadata": {},
     "output_type": "execute_result"
    }
   ],
   "source": [
    "df_val.groupby(['instrument'])['song_id'].unique()"
   ]
  },
  {
   "cell_type": "code",
   "execution_count": 68,
   "id": "ffd119d3-0fd5-4b09-8e18-1793f21d7644",
   "metadata": {},
   "outputs": [
    {
     "data": {
      "text/plain": [
       "instrument\n",
       "clarinet                     [0, 1, 2, 3, 4, 5, 6, 7, 8, 9, 10, 11, 12, 13,...\n",
       "distorted electric guitar         [18, 19, 20, 21, 22, 23, 24, 25, 26, 27, 28]\n",
       "female singer                 [29, 30, 31, 32, 33, 34, 35, 36, 37, 38, 39, 40]\n",
       "flute                        [41, 42, 43, 44, 45, 46, 47, 48, 49, 50, 51, 5...\n",
       "piano                        [70, 71, 72, 73, 74, 75, 76, 77, 78, 79, 80, 8...\n",
       "tenor saxophone                                           [85, 86, 87, 88, 89]\n",
       "trumpet                      [90, 91, 92, 93, 94, 95, 96, 97, 98, 99, 100, ...\n",
       "violin                       [117, 118, 119, 120, 121, 122, 123, 124, 125, ...\n",
       "Name: song_id, dtype: object"
      ]
     },
     "execution_count": 68,
     "metadata": {},
     "output_type": "execute_result"
    }
   ],
   "source": [
    "df_test.groupby(['instrument'])['song_id'].unique()"
   ]
  },
  {
   "cell_type": "code",
   "execution_count": 27,
   "id": "183fd942-3499-4002-bfcc-99551c191a7d",
   "metadata": {},
   "outputs": [],
   "source": [
    "# smaller data frames"
   ]
  },
  {
   "cell_type": "code",
   "execution_count": 28,
   "id": "1dc65237-97f4-461a-8aef-e7cbbf3181c1",
   "metadata": {},
   "outputs": [],
   "source": [
    "df_train_clarinet = df_train.loc[df_train['instrument_id']==0].set_index('subset').reset_index()"
   ]
  },
  {
   "cell_type": "code",
   "execution_count": 29,
   "id": "36c44513-fc28-40fa-a1de-a0a3fd279e8f",
   "metadata": {},
   "outputs": [],
   "source": [
    "df_train_guitar = df_train.loc[df_train['instrument_id']==1].set_index('subset').reset_index()"
   ]
  },
  {
   "cell_type": "code",
   "execution_count": 30,
   "id": "99c54963-8107-4d23-89c5-746daa502f55",
   "metadata": {},
   "outputs": [],
   "source": [
    "df_train_singer = df_train.loc[df_train['instrument_id']==2].set_index('subset').reset_index()"
   ]
  },
  {
   "cell_type": "code",
   "execution_count": 102,
   "id": "2fd6e252-49cb-48c9-8618-875d58d90e0d",
   "metadata": {},
   "outputs": [],
   "source": [
    "df_train_piano = df_train.loc[df_train['instrument_id']==4].set_index('subset').reset_index()"
   ]
  },
  {
   "cell_type": "code",
   "execution_count": 103,
   "id": "008d74cd-5a1b-40d2-bd3b-249466c37317",
   "metadata": {},
   "outputs": [],
   "source": [
    "df_train_saxo = df_train.loc[df_train['instrument_id']==5].set_index('subset').reset_index()"
   ]
  },
  {
   "cell_type": "code",
   "execution_count": 105,
   "id": "5a4f5c42-1c75-43be-b85c-42821d0aab99",
   "metadata": {},
   "outputs": [
    {
     "data": {
      "text/plain": [
       "(2401, 5)"
      ]
     },
     "execution_count": 105,
     "metadata": {},
     "output_type": "execute_result"
    }
   ],
   "source": [
    "df_train_piano.shape"
   ]
  },
  {
   "cell_type": "code",
   "execution_count": 256,
   "id": "fc177a7d-9599-4f76-95a3-37ece6f9b96a",
   "metadata": {},
   "outputs": [
    {
     "data": {
      "text/html": [
       "<div>\n",
       "<style scoped>\n",
       "    .dataframe tbody tr th:only-of-type {\n",
       "        vertical-align: middle;\n",
       "    }\n",
       "\n",
       "    .dataframe tbody tr th {\n",
       "        vertical-align: top;\n",
       "    }\n",
       "\n",
       "    .dataframe thead th {\n",
       "        text-align: right;\n",
       "    }\n",
       "</style>\n",
       "<table border=\"1\" class=\"dataframe\">\n",
       "  <thead>\n",
       "    <tr style=\"text-align: right;\">\n",
       "      <th></th>\n",
       "      <th>subset</th>\n",
       "      <th>instrument</th>\n",
       "      <th>instrument_id</th>\n",
       "      <th>uuid4</th>\n",
       "    </tr>\n",
       "    <tr>\n",
       "      <th>song_id</th>\n",
       "      <th></th>\n",
       "      <th></th>\n",
       "      <th></th>\n",
       "      <th></th>\n",
       "    </tr>\n",
       "  </thead>\n",
       "  <tbody>\n",
       "    <tr>\n",
       "      <th>164</th>\n",
       "      <td>238</td>\n",
       "      <td>238</td>\n",
       "      <td>238</td>\n",
       "      <td>238</td>\n",
       "    </tr>\n",
       "    <tr>\n",
       "      <th>165</th>\n",
       "      <td>189</td>\n",
       "      <td>189</td>\n",
       "      <td>189</td>\n",
       "      <td>189</td>\n",
       "    </tr>\n",
       "    <tr>\n",
       "      <th>166</th>\n",
       "      <td>68</td>\n",
       "      <td>68</td>\n",
       "      <td>68</td>\n",
       "      <td>68</td>\n",
       "    </tr>\n",
       "    <tr>\n",
       "      <th>167</th>\n",
       "      <td>137</td>\n",
       "      <td>137</td>\n",
       "      <td>137</td>\n",
       "      <td>137</td>\n",
       "    </tr>\n",
       "    <tr>\n",
       "      <th>168</th>\n",
       "      <td>78</td>\n",
       "      <td>78</td>\n",
       "      <td>78</td>\n",
       "      <td>78</td>\n",
       "    </tr>\n",
       "    <tr>\n",
       "      <th>169</th>\n",
       "      <td>67</td>\n",
       "      <td>67</td>\n",
       "      <td>67</td>\n",
       "      <td>67</td>\n",
       "    </tr>\n",
       "    <tr>\n",
       "      <th>170</th>\n",
       "      <td>57</td>\n",
       "      <td>57</td>\n",
       "      <td>57</td>\n",
       "      <td>57</td>\n",
       "    </tr>\n",
       "    <tr>\n",
       "      <th>171</th>\n",
       "      <td>208</td>\n",
       "      <td>208</td>\n",
       "      <td>208</td>\n",
       "      <td>208</td>\n",
       "    </tr>\n",
       "    <tr>\n",
       "      <th>172</th>\n",
       "      <td>38</td>\n",
       "      <td>38</td>\n",
       "      <td>38</td>\n",
       "      <td>38</td>\n",
       "    </tr>\n",
       "    <tr>\n",
       "      <th>173</th>\n",
       "      <td>68</td>\n",
       "      <td>68</td>\n",
       "      <td>68</td>\n",
       "      <td>68</td>\n",
       "    </tr>\n",
       "    <tr>\n",
       "      <th>174</th>\n",
       "      <td>91</td>\n",
       "      <td>91</td>\n",
       "      <td>91</td>\n",
       "      <td>91</td>\n",
       "    </tr>\n",
       "    <tr>\n",
       "      <th>175</th>\n",
       "      <td>192</td>\n",
       "      <td>192</td>\n",
       "      <td>192</td>\n",
       "      <td>192</td>\n",
       "    </tr>\n",
       "    <tr>\n",
       "      <th>176</th>\n",
       "      <td>125</td>\n",
       "      <td>125</td>\n",
       "      <td>125</td>\n",
       "      <td>125</td>\n",
       "    </tr>\n",
       "    <tr>\n",
       "      <th>177</th>\n",
       "      <td>67</td>\n",
       "      <td>67</td>\n",
       "      <td>67</td>\n",
       "      <td>67</td>\n",
       "    </tr>\n",
       "    <tr>\n",
       "      <th>178</th>\n",
       "      <td>180</td>\n",
       "      <td>180</td>\n",
       "      <td>180</td>\n",
       "      <td>180</td>\n",
       "    </tr>\n",
       "    <tr>\n",
       "      <th>179</th>\n",
       "      <td>38</td>\n",
       "      <td>38</td>\n",
       "      <td>38</td>\n",
       "      <td>38</td>\n",
       "    </tr>\n",
       "    <tr>\n",
       "      <th>180</th>\n",
       "      <td>61</td>\n",
       "      <td>61</td>\n",
       "      <td>61</td>\n",
       "      <td>61</td>\n",
       "    </tr>\n",
       "    <tr>\n",
       "      <th>181</th>\n",
       "      <td>252</td>\n",
       "      <td>252</td>\n",
       "      <td>252</td>\n",
       "      <td>252</td>\n",
       "    </tr>\n",
       "    <tr>\n",
       "      <th>182</th>\n",
       "      <td>96</td>\n",
       "      <td>96</td>\n",
       "      <td>96</td>\n",
       "      <td>96</td>\n",
       "    </tr>\n",
       "    <tr>\n",
       "      <th>183</th>\n",
       "      <td>151</td>\n",
       "      <td>151</td>\n",
       "      <td>151</td>\n",
       "      <td>151</td>\n",
       "    </tr>\n",
       "  </tbody>\n",
       "</table>\n",
       "</div>"
      ],
      "text/plain": [
       "         subset  instrument  instrument_id  uuid4\n",
       "song_id                                          \n",
       "164         238         238            238    238\n",
       "165         189         189            189    189\n",
       "166          68          68             68     68\n",
       "167         137         137            137    137\n",
       "168          78          78             78     78\n",
       "169          67          67             67     67\n",
       "170          57          57             57     57\n",
       "171         208         208            208    208\n",
       "172          38          38             38     38\n",
       "173          68          68             68     68\n",
       "174          91          91             91     91\n",
       "175         192         192            192    192\n",
       "176         125         125            125    125\n",
       "177          67          67             67     67\n",
       "178         180         180            180    180\n",
       "179          38          38             38     38\n",
       "180          61          61             61     61\n",
       "181         252         252            252    252\n",
       "182          96          96             96     96\n",
       "183         151         151            151    151"
      ]
     },
     "execution_count": 256,
     "metadata": {},
     "output_type": "execute_result"
    }
   ],
   "source": [
    "df_train_piano.groupby(['song_id']).count()"
   ]
  },
  {
   "cell_type": "code",
   "execution_count": 258,
   "id": "b7560210-8f1c-41b3-a62e-4078211832fd",
   "metadata": {},
   "outputs": [
    {
     "data": {
      "text/plain": [
       "495"
      ]
     },
     "execution_count": 258,
     "metadata": {},
     "output_type": "execute_result"
    }
   ],
   "source": [
    "# piano split: \n",
    "# piano train, song_id 164,165,166:\n",
    "238 + 189 + 68"
   ]
  },
  {
   "cell_type": "code",
   "execution_count": 261,
   "id": "3dbc2089-6cc0-4762-88a5-72edc23ac14d",
   "metadata": {},
   "outputs": [
    {
     "data": {
      "text/plain": [
       "339"
      ]
     },
     "execution_count": 261,
     "metadata": {},
     "output_type": "execute_result"
    }
   ],
   "source": [
    "# piano val, song_id 167, 168, 169, 170:\n",
    "137 + 78 + 67 + 57 "
   ]
  },
  {
   "cell_type": "code",
   "execution_count": 252,
   "id": "f0197011-9ae1-4a70-901d-95e4aaf4ffcd",
   "metadata": {},
   "outputs": [
    {
     "data": {
      "text/plain": [
       "((251, 5), (404, 5))"
      ]
     },
     "execution_count": 252,
     "metadata": {},
     "output_type": "execute_result"
    }
   ],
   "source": [
    "df_train_clarinet.shape,df_train_guitar.shape, "
   ]
  },
  {
   "cell_type": "code",
   "execution_count": 74,
   "id": "bb72bfcd-1951-41ab-9c90-bbb1594acfa2",
   "metadata": {},
   "outputs": [
    {
     "data": {
      "text/plain": [
       "((318, 5), (123, 5))"
      ]
     },
     "execution_count": 74,
     "metadata": {},
     "output_type": "execute_result"
    }
   ],
   "source": [
    "df_train_singer.shape, df_train_saxo.shape"
   ]
  },
  {
   "cell_type": "code",
   "execution_count": 75,
   "id": "60bb8848-b92e-4035-bd0d-24094ec88115",
   "metadata": {},
   "outputs": [],
   "source": [
    "# with the validation subset"
   ]
  },
  {
   "cell_type": "code",
   "execution_count": 35,
   "id": "ffd6d0dd-f677-4671-89b1-9bcf0fdff337",
   "metadata": {
    "tags": []
   },
   "outputs": [],
   "source": [
    "df_val_clarinet = df_val.loc[df_val['instrument_id']==0].set_index('subset').reset_index()"
   ]
  },
  {
   "cell_type": "code",
   "execution_count": 36,
   "id": "862d5a24-ca7a-44ee-9814-0553652fa3b6",
   "metadata": {},
   "outputs": [],
   "source": [
    "df_val_guitar = df_val.loc[df_val['instrument_id']==1].set_index('subset').reset_index()"
   ]
  },
  {
   "cell_type": "code",
   "execution_count": 37,
   "id": "92ff9ef2-b2aa-4a71-bbd0-270950621ef0",
   "metadata": {},
   "outputs": [],
   "source": [
    "df_val_singer = df_val.loc[df_val['instrument_id']==2].set_index('subset').reset_index()"
   ]
  },
  {
   "cell_type": "code",
   "execution_count": 76,
   "id": "21e26d50-05a2-4677-a6e4-30ebc4a4d1f6",
   "metadata": {},
   "outputs": [],
   "source": [
    "df_val_singer = df_val.loc[df_val['instrument_id']==5].set_index('subset').reset_index()"
   ]
  },
  {
   "cell_type": "code",
   "execution_count": 38,
   "id": "2d2f9a41-92f3-450e-9345-d0d3cf9938ef",
   "metadata": {},
   "outputs": [],
   "source": [
    "# with the test subset"
   ]
  },
  {
   "cell_type": "code",
   "execution_count": 39,
   "id": "5ccdf22a-4ac7-43c8-a6db-679c89f16641",
   "metadata": {
    "tags": []
   },
   "outputs": [],
   "source": [
    "df_test_clarinet = df_test.loc[df_test['instrument_id']==0].set_index('subset').reset_index()"
   ]
  },
  {
   "cell_type": "code",
   "execution_count": 40,
   "id": "f4eeffd7-a63f-47b9-894b-871a02d40146",
   "metadata": {},
   "outputs": [],
   "source": [
    "df_test_guitar = df_test.loc[df_test['instrument_id']==1].set_index('subset').reset_index()"
   ]
  },
  {
   "cell_type": "code",
   "execution_count": 41,
   "id": "e5361666-ad0e-4119-b6ac-ed0e9339e63f",
   "metadata": {},
   "outputs": [],
   "source": [
    "df_test_singer = df_test.loc[df_test['instrument_id']==2].set_index('subset').reset_index()"
   ]
  },
  {
   "cell_type": "code",
   "execution_count": 77,
   "id": "dc8d64ed-003d-4a0f-8526-d838f750a531",
   "metadata": {},
   "outputs": [],
   "source": [
    "df_test_singer = df_test.loc[df_test['instrument_id']==5].set_index('subset').reset_index()"
   ]
  },
  {
   "cell_type": "markdown",
   "id": "945b95cb-96e5-4c9a-8a5f-6e8da0069983",
   "metadata": {},
   "source": [
    "#### Loading signal saved in .npy numpy array files"
   ]
  },
  {
   "cell_type": "code",
   "execution_count": 42,
   "id": "0c7a772e-bcc9-4ccb-95b7-344674c27630",
   "metadata": {},
   "outputs": [],
   "source": [
    "filename_pre = \"Medley-solos-DB\""
   ]
  },
  {
   "cell_type": "code",
   "execution_count": 43,
   "id": "bba5f013-4bfa-425f-a30b-1936b981d58c",
   "metadata": {},
   "outputs": [],
   "source": [
    "def load_amp_file(filename,df):\n",
    "    \"\"\"input: filename, for example: amp_tr_clarinet\n",
    "    output: list of amplitude vectors\n",
    "    \"\"\"\n",
    "    # load amplitude vector\n",
    "    # the corresponding dataframe must be at hand\n",
    "    n_elements=(len(df))\n",
    "    folderpath=\"../../../../../../documents/data/audio/medley/audio_arrays/\"\n",
    "    amp_list=[]\n",
    "    with open (folderpath+filename, 'rb') as f:\n",
    "        for n in range(n_elements):\n",
    "            amp_1 = np.load(f)\n",
    "            amp_list.append(amp_1)\n",
    "    return amp_list"
   ]
  },
  {
   "cell_type": "code",
   "execution_count": 44,
   "id": "d79b2694-6a31-47c5-b75b-10d96e84917b",
   "metadata": {},
   "outputs": [],
   "source": [
    "amplitude_train_clarinet = load_amp_file('amp_tr_clarinet', df_train_clarinet)"
   ]
  },
  {
   "cell_type": "code",
   "execution_count": 45,
   "id": "e1c79a19-463c-4390-9200-6d167f490347",
   "metadata": {},
   "outputs": [],
   "source": [
    "amplitude_train_guitar = load_amp_file('amp_tr_guitar', df_train_guitar)"
   ]
  },
  {
   "cell_type": "code",
   "execution_count": 46,
   "id": "f5047643-0ce8-4038-8d3f-bcf5af43c112",
   "metadata": {},
   "outputs": [],
   "source": [
    "amplitude_train_singer = load_amp_file('amp_tr_singer', df_train_singer)"
   ]
  },
  {
   "cell_type": "code",
   "execution_count": 106,
   "id": "c749fbd8-3c68-47cc-8b47-d3025b04345b",
   "metadata": {},
   "outputs": [],
   "source": [
    "amplitude_train_piano = load_amp_file('amp_tr_piano', df_train_piano)"
   ]
  },
  {
   "cell_type": "code",
   "execution_count": 107,
   "id": "483ac09d-ccd5-4974-8136-cfe260330f35",
   "metadata": {},
   "outputs": [],
   "source": [
    "amplitude_train_saxo = load_amp_file('amp_tr_saxo', df_train_saxo)"
   ]
  },
  {
   "cell_type": "code",
   "execution_count": 47,
   "id": "5ae5574f-bf54-496a-b44b-d75863bbf5bf",
   "metadata": {},
   "outputs": [],
   "source": [
    "# it works!"
   ]
  },
  {
   "cell_type": "code",
   "execution_count": null,
   "id": "e22645e5-1799-47e0-b781-d581be89dc70",
   "metadata": {},
   "outputs": [],
   "source": []
  },
  {
   "cell_type": "code",
   "execution_count": 48,
   "id": "1862040a-df78-4dbc-bcf2-9f362bb4276e",
   "metadata": {},
   "outputs": [],
   "source": [
    "# with the val dataframes"
   ]
  },
  {
   "cell_type": "code",
   "execution_count": 49,
   "id": "118144f2-3589-4d92-88c6-8e46ea139626",
   "metadata": {},
   "outputs": [],
   "source": [
    "#load validation subset amplitude arrays"
   ]
  },
  {
   "cell_type": "code",
   "execution_count": 50,
   "id": "8ea734f9-af4b-4599-801a-4814476a41a2",
   "metadata": {},
   "outputs": [],
   "source": [
    "amplitude_val_clarinet = load_amp_file('amp_val_clarinet', df_val_clarinet)"
   ]
  },
  {
   "cell_type": "code",
   "execution_count": 51,
   "id": "3d441ebb-28ca-49ce-8a84-38a04da0dcc2",
   "metadata": {},
   "outputs": [],
   "source": [
    "amplitude_val_guitar = load_amp_file('amp_val_guitar', df_val_guitar)"
   ]
  },
  {
   "cell_type": "code",
   "execution_count": 52,
   "id": "59d248c9-eeef-4878-9c52-d9a123a061f1",
   "metadata": {},
   "outputs": [],
   "source": [
    "amplitude_val_singer = load_amp_file('amp_val_singer', df_val_singer)"
   ]
  },
  {
   "cell_type": "code",
   "execution_count": 150,
   "id": "a9a25323-7dd6-49c1-bd3d-0a1811a149ea",
   "metadata": {},
   "outputs": [],
   "source": [
    "# piano_ working only with the train set and splitting into val and test"
   ]
  },
  {
   "cell_type": "code",
   "execution_count": 53,
   "id": "67a83bfa-4b13-47df-a02a-a896354b5920",
   "metadata": {},
   "outputs": [],
   "source": [
    "#with the test dataframes"
   ]
  },
  {
   "cell_type": "code",
   "execution_count": 54,
   "id": "760aac4e-35cd-4f05-aa30-b3d519175c25",
   "metadata": {},
   "outputs": [],
   "source": [
    "#load test subset amplitude arrays"
   ]
  },
  {
   "cell_type": "code",
   "execution_count": 55,
   "id": "ed39ce29-434f-41ed-9fca-81bdf2986af3",
   "metadata": {},
   "outputs": [],
   "source": [
    "amplitude_test_clarinet = load_amp_file('amp_test_clarinet', df_test_clarinet)"
   ]
  },
  {
   "cell_type": "code",
   "execution_count": 56,
   "id": "ca95ad9c-da05-4ca2-ae70-ddfb04b5533b",
   "metadata": {},
   "outputs": [],
   "source": [
    "amplitude_test_guitar = load_amp_file('amp_test_guitar', df_test_guitar)"
   ]
  },
  {
   "cell_type": "code",
   "execution_count": 57,
   "id": "2366b76d-b347-4fa4-8d1e-2946ce6dd048",
   "metadata": {},
   "outputs": [],
   "source": [
    "amplitude_test_singer = load_amp_file('amp_test_singer', df_test_singer)"
   ]
  },
  {
   "cell_type": "code",
   "execution_count": 58,
   "id": "3df1e7bf-3b49-4fad-b356-d4387ba5260b",
   "metadata": {},
   "outputs": [],
   "source": [
    "#benchmark"
   ]
  },
  {
   "cell_type": "code",
   "execution_count": 59,
   "id": "ce796471-1a85-4cd8-89a8-b36274ab02d1",
   "metadata": {},
   "outputs": [
    {
     "data": {
      "text/plain": [
       "(251, 404, 318)"
      ]
     },
     "execution_count": 59,
     "metadata": {},
     "output_type": "execute_result"
    }
   ],
   "source": [
    "len(amplitude_train_clarinet), len(amplitude_train_guitar), len(amplitude_train_singer)"
   ]
  },
  {
   "cell_type": "code",
   "execution_count": 60,
   "id": "35b652c0-9eb4-4500-a5dd-51891e7baf25",
   "metadata": {},
   "outputs": [],
   "source": [
    "# correct!"
   ]
  },
  {
   "cell_type": "code",
   "execution_count": 61,
   "id": "aa3451cf-c171-4181-99fd-f995e87a5519",
   "metadata": {},
   "outputs": [
    {
     "data": {
      "text/plain": [
       "(328, 495, 284)"
      ]
     },
     "execution_count": 61,
     "metadata": {},
     "output_type": "execute_result"
    }
   ],
   "source": [
    "len(amplitude_val_clarinet), len(amplitude_val_guitar), len(amplitude_val_singer)"
   ]
  },
  {
   "cell_type": "code",
   "execution_count": 62,
   "id": "ae3ad341-6104-4825-846c-0fc169e1645c",
   "metadata": {},
   "outputs": [],
   "source": [
    "# correct!"
   ]
  },
  {
   "cell_type": "code",
   "execution_count": 63,
   "id": "8ca335b0-6e44-49d4-a2cf-cfc59089f0e5",
   "metadata": {},
   "outputs": [
    {
     "data": {
      "text/plain": [
       "(732, 955, 1142)"
      ]
     },
     "execution_count": 63,
     "metadata": {},
     "output_type": "execute_result"
    }
   ],
   "source": [
    "len(amplitude_test_clarinet), len(amplitude_test_guitar), len(amplitude_test_singer)"
   ]
  },
  {
   "cell_type": "code",
   "execution_count": 64,
   "id": "d17e72c7-375a-4c43-984b-bdef4e24c909",
   "metadata": {},
   "outputs": [],
   "source": [
    "# correct!"
   ]
  },
  {
   "cell_type": "code",
   "execution_count": 65,
   "id": "c9ce3bfa-30e2-4334-8e61-70394002cfc2",
   "metadata": {},
   "outputs": [
    {
     "data": {
      "text/plain": [
       "((65536,), (65536,), (65536,))"
      ]
     },
     "execution_count": 65,
     "metadata": {},
     "output_type": "execute_result"
    }
   ],
   "source": [
    "amplitude_test_clarinet[0].shape, amplitude_test_guitar[0].shape, amplitude_test_singer[0].shape"
   ]
  },
  {
   "cell_type": "code",
   "execution_count": 66,
   "id": "ca8c4fad-554c-4e66-a107-b7598e28eb33",
   "metadata": {},
   "outputs": [],
   "source": [
    "# it worked!"
   ]
  },
  {
   "cell_type": "code",
   "execution_count": 67,
   "id": "039de6f0-500f-4b4a-83b0-f5f209c70ff8",
   "metadata": {},
   "outputs": [],
   "source": [
    "# up here: second part, load data and ML"
   ]
  },
  {
   "cell_type": "markdown",
   "id": "7eb1ba62-abd7-4017-8ade-c5695ce5b5ad",
   "metadata": {},
   "source": [
    "MEL SPECTROGRAM"
   ]
  },
  {
   "cell_type": "code",
   "execution_count": 336,
   "id": "69f61548-dbe4-4f55-b532-166dafc1bb4e",
   "metadata": {},
   "outputs": [],
   "source": [
    "def amp_list_to_mel_list(amp_list):\n",
    "    \"\"\"input: list of signal arrays 1d\n",
    "    output: list of melspectrogram arrays 2d\"\"\"\n",
    "    mel_list=[]\n",
    "    for amplitude_1 in amp_list:\n",
    "        mel_spectrogram_1 = librosa.feature.melspectrogram(y=amplitude_1,n_mels=129)\n",
    "        mel_list.append(mel_spectrogram_1)  \n",
    "    return mel_list"
   ]
  },
  {
   "cell_type": "code",
   "execution_count": 337,
   "id": "3fc2dc79-3adf-49e2-ae47-9969a60fc05e",
   "metadata": {},
   "outputs": [],
   "source": [
    "## TRAINING SUBSET"
   ]
  },
  {
   "cell_type": "code",
   "execution_count": 338,
   "id": "6dde0316-8b88-4fc6-97ad-b820435dfe07",
   "metadata": {},
   "outputs": [],
   "source": [
    "mel_spectrogram_train_clarinet = amp_list_to_mel_list(amplitude_train_clarinet)"
   ]
  },
  {
   "cell_type": "code",
   "execution_count": 339,
   "id": "2ee5a01b-fe79-49ea-ad0e-01747f1f2aad",
   "metadata": {},
   "outputs": [],
   "source": [
    "mel_spectrogram_train_guitar = amp_list_to_mel_list(amplitude_train_guitar)"
   ]
  },
  {
   "cell_type": "code",
   "execution_count": 340,
   "id": "6588380c-4ae9-4fb0-8030-7cea64b91983",
   "metadata": {},
   "outputs": [],
   "source": [
    "mel_spectrogram_train_singer = amp_list_to_mel_list(amplitude_train_singer)"
   ]
  },
  {
   "cell_type": "code",
   "execution_count": 341,
   "id": "5fb6d444-232d-4775-8bc9-7cfb8dfa50ef",
   "metadata": {},
   "outputs": [],
   "source": [
    "mel_spectrogram_train_piano = amp_list_to_mel_list(amplitude_train_piano)"
   ]
  },
  {
   "cell_type": "code",
   "execution_count": 342,
   "id": "efa2dcd6-29b6-4a3b-a480-405c9e7c06d9",
   "metadata": {},
   "outputs": [
    {
     "data": {
      "text/plain": [
       "(251, 404)"
      ]
     },
     "execution_count": 342,
     "metadata": {},
     "output_type": "execute_result"
    }
   ],
   "source": [
    "len(mel_spectrogram_train_clarinet), len(mel_spectrogram_train_guitar),"
   ]
  },
  {
   "cell_type": "code",
   "execution_count": 343,
   "id": "dc521806-2df8-4f72-831f-2003a212f6c4",
   "metadata": {},
   "outputs": [
    {
     "data": {
      "text/plain": [
       "(318, 2401)"
      ]
     },
     "execution_count": 343,
     "metadata": {},
     "output_type": "execute_result"
    }
   ],
   "source": [
    "len(mel_spectrogram_train_singer), len(mel_spectrogram_train_piano)"
   ]
  },
  {
   "cell_type": "code",
   "execution_count": 344,
   "id": "dad55a7c-60a5-4e88-b6fe-23352b09bb6a",
   "metadata": {},
   "outputs": [
    {
     "data": {
      "text/plain": [
       "((129, 129), (129, 129))"
      ]
     },
     "execution_count": 344,
     "metadata": {},
     "output_type": "execute_result"
    }
   ],
   "source": [
    "mel_spectrogram_train_clarinet[0].shape, mel_spectrogram_train_clarinet[0].shape"
   ]
  },
  {
   "cell_type": "code",
   "execution_count": 347,
   "id": "d09ea330-f331-48a6-ab27-83e6df6f9df5",
   "metadata": {},
   "outputs": [
    {
     "data": {
      "text/plain": [
       "((129, 129), (129, 129))"
      ]
     },
     "execution_count": 347,
     "metadata": {},
     "output_type": "execute_result"
    }
   ],
   "source": [
    "mel_spectrogram_train_singer[0].shape, mel_spectrogram_train_piano[0].shape"
   ]
  },
  {
   "cell_type": "code",
   "execution_count": 348,
   "id": "c4cbdeff-b3ed-4906-9995-24c92821b76c",
   "metadata": {},
   "outputs": [
    {
     "data": {
      "text/plain": [
       "(251, 129, 129)"
      ]
     },
     "execution_count": 348,
     "metadata": {},
     "output_type": "execute_result"
    }
   ],
   "source": [
    "X_tr_clarinet = np.stack(mel_spectrogram_train_clarinet,axis=0)\n",
    "X_tr_clarinet.shape"
   ]
  },
  {
   "cell_type": "code",
   "execution_count": 349,
   "id": "5d495da4-a29e-4136-a59e-bdfb2819b7e0",
   "metadata": {},
   "outputs": [],
   "source": [
    "X_tr_clarinet_resh = X_tr_clarinet.reshape(251,129,129,1)"
   ]
  },
  {
   "cell_type": "code",
   "execution_count": 350,
   "id": "6f76875b-d899-4391-910d-fd4a3870ca1d",
   "metadata": {},
   "outputs": [
    {
     "data": {
      "text/plain": [
       "(251, 129, 129, 1)"
      ]
     },
     "execution_count": 350,
     "metadata": {},
     "output_type": "execute_result"
    }
   ],
   "source": [
    "X_tr_clarinet_resh.shape"
   ]
  },
  {
   "cell_type": "code",
   "execution_count": 351,
   "id": "6f87538f-2724-4302-b654-1cf792549193",
   "metadata": {},
   "outputs": [],
   "source": [
    "y_tr_clarinet = np.zeros((251,1))"
   ]
  },
  {
   "cell_type": "code",
   "execution_count": 352,
   "id": "7a0ba158-43d8-40d7-a56b-4e75b6d0fb42",
   "metadata": {},
   "outputs": [
    {
     "data": {
      "text/plain": [
       "(404, 129, 129)"
      ]
     },
     "execution_count": 352,
     "metadata": {},
     "output_type": "execute_result"
    }
   ],
   "source": [
    "X_tr_guitar = np.stack(mel_spectrogram_train_guitar,axis=0)\n",
    "X_tr_guitar.shape"
   ]
  },
  {
   "cell_type": "code",
   "execution_count": 353,
   "id": "435e1135-3185-4dcd-9d75-3dfceeb0a62c",
   "metadata": {},
   "outputs": [],
   "source": [
    "X_tr_guitar_resh = X_tr_guitar.reshape(404,129,129,1)"
   ]
  },
  {
   "cell_type": "code",
   "execution_count": 354,
   "id": "c6a6bfc2-320f-497d-aa93-644c96608cea",
   "metadata": {},
   "outputs": [],
   "source": [
    "y_tr_guitar = np.ones((404,1))"
   ]
  },
  {
   "cell_type": "code",
   "execution_count": 355,
   "id": "a4394fca-f533-42c5-9a43-7f2fc4fe066d",
   "metadata": {},
   "outputs": [
    {
     "data": {
      "text/plain": [
       "(318, 129, 129)"
      ]
     },
     "execution_count": 355,
     "metadata": {},
     "output_type": "execute_result"
    }
   ],
   "source": [
    "X_tr_singer = np.stack(mel_spectrogram_train_singer,axis=0)\n",
    "X_tr_singer.shape"
   ]
  },
  {
   "cell_type": "code",
   "execution_count": 356,
   "id": "0edb7a35-8b0c-40bb-959c-e60e708b22df",
   "metadata": {
    "scrolled": true,
    "tags": []
   },
   "outputs": [],
   "source": [
    "X_tr_singer_resh = X_tr_singer.reshape(318,129,129,-1)"
   ]
  },
  {
   "cell_type": "code",
   "execution_count": 357,
   "id": "720eeb0b-b776-4cb1-bf11-ecdfd776cd91",
   "metadata": {},
   "outputs": [
    {
     "data": {
      "text/plain": [
       "(318, 129, 129, 1)"
      ]
     },
     "execution_count": 357,
     "metadata": {},
     "output_type": "execute_result"
    }
   ],
   "source": [
    "X_tr_singer_resh.shape"
   ]
  },
  {
   "cell_type": "code",
   "execution_count": 358,
   "id": "e14434c7-2942-472f-9b3c-448402b3980c",
   "metadata": {},
   "outputs": [],
   "source": [
    "y_tr_singer = np.ones((318,1))*2"
   ]
  },
  {
   "cell_type": "code",
   "execution_count": 359,
   "id": "be9c21ba-c8d7-417c-9d32-6a2999a42054",
   "metadata": {},
   "outputs": [],
   "source": [
    "# train_piano set: 2401 samples\n",
    "# we will use 500 for X_train, 500 for validation\n",
    "# the rest 1401 for test"
   ]
  },
  {
   "cell_type": "code",
   "execution_count": 360,
   "id": "10893188-2ad0-4562-81d4-72844796a9ff",
   "metadata": {},
   "outputs": [
    {
     "data": {
      "text/plain": [
       "(495, 129, 129)"
      ]
     },
     "execution_count": 360,
     "metadata": {},
     "output_type": "execute_result"
    }
   ],
   "source": [
    "X_tr_piano = np.stack(mel_spectrogram_train_piano[0:495])\n",
    "X_tr_piano.shape"
   ]
  },
  {
   "cell_type": "code",
   "execution_count": 361,
   "id": "be51b706-88ef-4bea-8865-114c5cfe018c",
   "metadata": {
    "tags": []
   },
   "outputs": [],
   "source": [
    "X_tr_piano_resh = X_tr_piano.reshape(495,129,129,1)"
   ]
  },
  {
   "cell_type": "code",
   "execution_count": 362,
   "id": "22e626af-89e4-4eba-8d3d-50894e51dfd1",
   "metadata": {},
   "outputs": [
    {
     "data": {
      "text/plain": [
       "(495, 129, 129, 1)"
      ]
     },
     "execution_count": 362,
     "metadata": {},
     "output_type": "execute_result"
    }
   ],
   "source": [
    "X_tr_piano_resh.shape"
   ]
  },
  {
   "cell_type": "code",
   "execution_count": 363,
   "id": "bc5d6e00-e8b4-4d91-a56c-27e873b6cafa",
   "metadata": {},
   "outputs": [],
   "source": [
    "y_tr_piano = np.ones((495,1))*3"
   ]
  },
  {
   "cell_type": "code",
   "execution_count": 364,
   "id": "3f214e29-a335-4cb5-9aac-cc75add30e4a",
   "metadata": {},
   "outputs": [
    {
     "data": {
      "text/plain": [
       "(1468, 722, 90, 129)"
      ]
     },
     "execution_count": 364,
     "metadata": {},
     "output_type": "execute_result"
    }
   ],
   "source": [
    "# X_train shape (number wav files, f domain, t domain, 1)\n",
    "# number wav clarinet + guitar + singer + piano:\n",
    "(251 + 404 + 318 + 495, 722, 90, 129)"
   ]
  },
  {
   "cell_type": "code",
   "execution_count": 365,
   "id": "84f04e9a-7cb1-4644-bb40-d9f442936787",
   "metadata": {},
   "outputs": [],
   "source": [
    "X_train = np.concatenate([X_tr_clarinet_resh, X_tr_guitar_resh, X_tr_singer_resh, X_tr_piano_resh])"
   ]
  },
  {
   "cell_type": "code",
   "execution_count": 366,
   "id": "2aa92d52-068a-40bf-9772-3f28c67fb974",
   "metadata": {},
   "outputs": [
    {
     "data": {
      "text/plain": [
       "(1468, 129, 129, 1)"
      ]
     },
     "execution_count": 366,
     "metadata": {},
     "output_type": "execute_result"
    }
   ],
   "source": [
    "X_train.shape"
   ]
  },
  {
   "cell_type": "code",
   "execution_count": 367,
   "id": "24eedc2e-fc0e-4461-87fc-29942de18d0f",
   "metadata": {},
   "outputs": [],
   "source": [
    "y_train = np.concatenate([y_tr_clarinet, y_tr_guitar, y_tr_singer,y_tr_piano])"
   ]
  },
  {
   "cell_type": "code",
   "execution_count": 368,
   "id": "e2c923e2-a99e-460a-8e7a-f9b737f388a2",
   "metadata": {},
   "outputs": [
    {
     "data": {
      "text/plain": [
       "(1468, 1)"
      ]
     },
     "execution_count": 368,
     "metadata": {},
     "output_type": "execute_result"
    }
   ],
   "source": [
    "y_train.shape"
   ]
  },
  {
   "cell_type": "code",
   "execution_count": 369,
   "id": "b59eafb3-ee7e-4b98-a9d5-a8992ff6d05a",
   "metadata": {},
   "outputs": [],
   "source": [
    "# One hot encode the labels:\n",
    "# Keep a copy of y test as the actual number labels:\n",
    "y_train_true = y_train.copy()"
   ]
  },
  {
   "cell_type": "code",
   "execution_count": 370,
   "id": "1bedd275-659a-4e8f-ade9-0104cc2837b0",
   "metadata": {},
   "outputs": [],
   "source": [
    "y_train = to_categorical(y_train)"
   ]
  },
  {
   "cell_type": "code",
   "execution_count": 371,
   "id": "2dfa1bc3-02f7-4c11-93ce-85fcf49175bd",
   "metadata": {},
   "outputs": [
    {
     "data": {
      "text/plain": [
       "(1468, 4)"
      ]
     },
     "execution_count": 371,
     "metadata": {},
     "output_type": "execute_result"
    }
   ],
   "source": [
    "y_train.shape"
   ]
  },
  {
   "cell_type": "code",
   "execution_count": null,
   "id": "6f1fc4b2-8c98-4d56-91e7-41d9a2f77e4f",
   "metadata": {},
   "outputs": [],
   "source": []
  },
  {
   "cell_type": "code",
   "execution_count": null,
   "id": "daf08306-c6ae-47dd-8a10-66d6c183aedb",
   "metadata": {},
   "outputs": [],
   "source": [
    "## VALIDATION SUBSET"
   ]
  },
  {
   "cell_type": "code",
   "execution_count": 153,
   "id": "ddf6bf97-034a-476b-a5fc-bfdcca4d8176",
   "metadata": {},
   "outputs": [],
   "source": [
    "mel_spectrogram_val_clarinet = amp_list_to_mel_list(amplitude_val_clarinet)"
   ]
  },
  {
   "cell_type": "code",
   "execution_count": 154,
   "id": "75f72fbd-8715-475a-b2f9-38df3f8e8e8c",
   "metadata": {},
   "outputs": [],
   "source": [
    "mel_spectrogram_val_guitar = amp_list_to_mel_list(amplitude_val_guitar)"
   ]
  },
  {
   "cell_type": "code",
   "execution_count": 155,
   "id": "43344c53-a5ce-412a-bf9d-aa2efb4167db",
   "metadata": {},
   "outputs": [],
   "source": [
    "mel_spectrogram_val_singer = amp_list_to_mel_list(amplitude_val_singer)"
   ]
  },
  {
   "cell_type": "code",
   "execution_count": 276,
   "id": "63e5a67e-57c9-450e-adc5-8a64b0ac0091",
   "metadata": {},
   "outputs": [],
   "source": [
    "mel_spectrogram_val_piano = mel_spectrogram_train_piano[495:834]"
   ]
  },
  {
   "cell_type": "code",
   "execution_count": 277,
   "id": "595b5bb9-5309-442e-b952-948a06b404e4",
   "metadata": {},
   "outputs": [
    {
     "data": {
      "text/plain": [
       "(328, 495)"
      ]
     },
     "execution_count": 277,
     "metadata": {},
     "output_type": "execute_result"
    }
   ],
   "source": [
    "len(mel_spectrogram_val_clarinet), len(mel_spectrogram_val_guitar)"
   ]
  },
  {
   "cell_type": "code",
   "execution_count": 278,
   "id": "2c1303e9-46b0-4273-b593-59f2287dddbc",
   "metadata": {},
   "outputs": [
    {
     "data": {
      "text/plain": [
       "(284, 339)"
      ]
     },
     "execution_count": 278,
     "metadata": {},
     "output_type": "execute_result"
    }
   ],
   "source": [
    "len(mel_spectrogram_val_singer), len(mel_spectrogram_val_piano)"
   ]
  },
  {
   "cell_type": "code",
   "execution_count": 279,
   "id": "72b5688d-ba28-4346-a06e-f95ffb16250a",
   "metadata": {},
   "outputs": [
    {
     "data": {
      "text/plain": [
       "((129, 129), (129, 129))"
      ]
     },
     "execution_count": 279,
     "metadata": {},
     "output_type": "execute_result"
    }
   ],
   "source": [
    "mel_spectrogram_train_clarinet[0].shape, mel_spectrogram_train_clarinet[0].shape\n"
   ]
  },
  {
   "cell_type": "code",
   "execution_count": 280,
   "id": "71b9caee-370e-4787-ab56-f95d9d6de8aa",
   "metadata": {},
   "outputs": [
    {
     "data": {
      "text/plain": [
       "((129, 129), (129, 129))"
      ]
     },
     "execution_count": 280,
     "metadata": {},
     "output_type": "execute_result"
    }
   ],
   "source": [
    "mel_spectrogram_train_singer[0].shape, mel_spectrogram_val_piano[0].shape"
   ]
  },
  {
   "cell_type": "code",
   "execution_count": 281,
   "id": "57c370df-e74e-434a-85e3-69f6d40e045e",
   "metadata": {},
   "outputs": [],
   "source": [
    "# X_val, y val"
   ]
  },
  {
   "cell_type": "code",
   "execution_count": 282,
   "id": "0dbc07a1-4f47-481e-986e-76fdc07ac236",
   "metadata": {},
   "outputs": [],
   "source": [
    "# clarinet"
   ]
  },
  {
   "cell_type": "code",
   "execution_count": 283,
   "id": "e67ee44a-3b01-4acc-95c3-af28c2e378ac",
   "metadata": {},
   "outputs": [
    {
     "data": {
      "text/plain": [
       "(328, 129, 129)"
      ]
     },
     "execution_count": 283,
     "metadata": {},
     "output_type": "execute_result"
    }
   ],
   "source": [
    "X_val_clarinet = np.stack(mel_spectrogram_val_clarinet,axis=0)\n",
    "X_val_clarinet.shape"
   ]
  },
  {
   "cell_type": "code",
   "execution_count": 284,
   "id": "3c2a5101-2733-4945-8771-20ee2db222d5",
   "metadata": {},
   "outputs": [],
   "source": [
    "X_val_clarinet_resh = X_val_clarinet.reshape(328,129,129,1)"
   ]
  },
  {
   "cell_type": "code",
   "execution_count": 285,
   "id": "750695ee-4b4e-455b-9092-89a9559b7f4b",
   "metadata": {},
   "outputs": [
    {
     "data": {
      "text/plain": [
       "(328, 129, 129, 1)"
      ]
     },
     "execution_count": 285,
     "metadata": {},
     "output_type": "execute_result"
    }
   ],
   "source": [
    "X_val_clarinet_resh.shape"
   ]
  },
  {
   "cell_type": "code",
   "execution_count": 286,
   "id": "1c1b892a-c548-4db9-87cd-c861fe92f1e8",
   "metadata": {},
   "outputs": [],
   "source": [
    "y_val_clarinet = np.zeros((328,1))"
   ]
  },
  {
   "cell_type": "code",
   "execution_count": 287,
   "id": "ed98eaab-9820-41b6-8f42-eb4f32302a6f",
   "metadata": {},
   "outputs": [],
   "source": [
    "# guitar"
   ]
  },
  {
   "cell_type": "code",
   "execution_count": 288,
   "id": "f7d5f75a-11b3-46df-b59d-b143347a24d1",
   "metadata": {},
   "outputs": [
    {
     "data": {
      "text/plain": [
       "(495, 129, 129)"
      ]
     },
     "execution_count": 288,
     "metadata": {},
     "output_type": "execute_result"
    }
   ],
   "source": [
    "X_val_guitar = np.stack(mel_spectrogram_val_guitar,axis=0)\n",
    "X_val_guitar.shape"
   ]
  },
  {
   "cell_type": "code",
   "execution_count": 289,
   "id": "3589d8e9-33c9-4573-88b1-ddf1dffa12e3",
   "metadata": {},
   "outputs": [],
   "source": [
    "X_val_guitar_resh = X_val_guitar.reshape(495,129,129,1)"
   ]
  },
  {
   "cell_type": "code",
   "execution_count": 290,
   "id": "928fccbc-880b-45fc-a456-c7506faf2d9f",
   "metadata": {},
   "outputs": [
    {
     "data": {
      "text/plain": [
       "(495, 129, 129, 1)"
      ]
     },
     "execution_count": 290,
     "metadata": {},
     "output_type": "execute_result"
    }
   ],
   "source": [
    "X_val_guitar_resh.shape"
   ]
  },
  {
   "cell_type": "code",
   "execution_count": 291,
   "id": "cf34e77e-a0f7-450c-a914-b9b05c84981f",
   "metadata": {},
   "outputs": [],
   "source": [
    "y_val_guitar = np.ones((495,1))"
   ]
  },
  {
   "cell_type": "code",
   "execution_count": 292,
   "id": "bf90c5d8-91cb-4312-a8ca-af67f4dd3572",
   "metadata": {},
   "outputs": [],
   "source": [
    "# singer"
   ]
  },
  {
   "cell_type": "code",
   "execution_count": 293,
   "id": "dee992f3-3d65-4fc4-baed-982ded0b0c05",
   "metadata": {},
   "outputs": [
    {
     "data": {
      "text/plain": [
       "(284, 129, 129)"
      ]
     },
     "execution_count": 293,
     "metadata": {},
     "output_type": "execute_result"
    }
   ],
   "source": [
    "X_val_singer = np.stack(mel_spectrogram_val_singer,axis=0)\n",
    "X_val_singer.shape"
   ]
  },
  {
   "cell_type": "code",
   "execution_count": 294,
   "id": "72fa4431-2624-4f8c-b250-ac8193844dfb",
   "metadata": {
    "scrolled": true,
    "tags": []
   },
   "outputs": [],
   "source": [
    "X_val_singer_resh = X_val_singer.reshape(284,129,129,-1)"
   ]
  },
  {
   "cell_type": "code",
   "execution_count": 295,
   "id": "7f0982e2-51b3-4191-ba2e-a90be9b4dee2",
   "metadata": {},
   "outputs": [
    {
     "data": {
      "text/plain": [
       "(284, 129, 129, 1)"
      ]
     },
     "execution_count": 295,
     "metadata": {},
     "output_type": "execute_result"
    }
   ],
   "source": [
    "X_val_singer_resh.shape"
   ]
  },
  {
   "cell_type": "code",
   "execution_count": 296,
   "id": "7fe6d7ec-3b6a-4faa-8223-d33ba93886eb",
   "metadata": {},
   "outputs": [],
   "source": [
    "y_val_singer = np.ones((284,1))*2"
   ]
  },
  {
   "cell_type": "code",
   "execution_count": 297,
   "id": "79da5793-3d59-415d-a08d-846c068de399",
   "metadata": {},
   "outputs": [],
   "source": [
    "# piano"
   ]
  },
  {
   "cell_type": "code",
   "execution_count": 298,
   "id": "e1bddfaf-cce0-49d9-85a7-a676646006bc",
   "metadata": {},
   "outputs": [
    {
     "data": {
      "text/plain": [
       "(339, 129, 129)"
      ]
     },
     "execution_count": 298,
     "metadata": {},
     "output_type": "execute_result"
    }
   ],
   "source": [
    "X_val_piano = np.stack(mel_spectrogram_val_piano,axis=0)\n",
    "X_val_piano.shape"
   ]
  },
  {
   "cell_type": "code",
   "execution_count": 300,
   "id": "04eb5b6c-0a14-4aa5-b0b3-2257c9a6c5ab",
   "metadata": {},
   "outputs": [],
   "source": [
    "X_val_piano_resh = X_val_piano.reshape(339,129,129,1)"
   ]
  },
  {
   "cell_type": "code",
   "execution_count": 301,
   "id": "a3a378ab-c20a-40dc-b255-12b9b6d5a1ab",
   "metadata": {},
   "outputs": [
    {
     "data": {
      "text/plain": [
       "(339, 129, 129, 1)"
      ]
     },
     "execution_count": 301,
     "metadata": {},
     "output_type": "execute_result"
    }
   ],
   "source": [
    "X_val_piano_resh.shape"
   ]
  },
  {
   "cell_type": "code",
   "execution_count": 302,
   "id": "1e676d31-1ef6-410a-8e93-3d2a6c46fb30",
   "metadata": {},
   "outputs": [],
   "source": [
    "y_val_piano = np.ones((339,1))*3"
   ]
  },
  {
   "cell_type": "code",
   "execution_count": null,
   "id": "58135d2d-4bfd-4ee2-99b0-0a824a9a7993",
   "metadata": {},
   "outputs": [],
   "source": []
  },
  {
   "cell_type": "code",
   "execution_count": null,
   "id": "76b3d89a-5d54-4dc7-96d4-517503999327",
   "metadata": {},
   "outputs": [],
   "source": []
  },
  {
   "cell_type": "code",
   "execution_count": 305,
   "id": "dd057a50-30e3-45c2-883b-8f11aa2e095c",
   "metadata": {},
   "outputs": [
    {
     "data": {
      "text/plain": [
       "(1446, 90, 129)"
      ]
     },
     "execution_count": 305,
     "metadata": {},
     "output_type": "execute_result"
    }
   ],
   "source": [
    "# X_val shape (number wav files, f domain, t domain, 1)\n",
    "# number wav guitar + singer:\n",
    "(328 + 495 + 284 + 339, 90, 129)"
   ]
  },
  {
   "cell_type": "code",
   "execution_count": 306,
   "id": "84e1ef3f-bcd4-4549-b20e-58f190dab3fb",
   "metadata": {},
   "outputs": [],
   "source": [
    "X_val = np.concatenate([X_val_clarinet_resh, X_val_guitar_resh, X_val_singer_resh,X_val_piano_resh])"
   ]
  },
  {
   "cell_type": "code",
   "execution_count": 307,
   "id": "c1e96a28-9be3-4e7a-ad57-18ecbbc09ef4",
   "metadata": {},
   "outputs": [
    {
     "data": {
      "text/plain": [
       "(1446, 129, 129, 1)"
      ]
     },
     "execution_count": 307,
     "metadata": {},
     "output_type": "execute_result"
    }
   ],
   "source": [
    "X_val.shape"
   ]
  },
  {
   "cell_type": "code",
   "execution_count": 308,
   "id": "8cafa092-5630-4815-9276-df621a8edde6",
   "metadata": {},
   "outputs": [],
   "source": [
    "y_val = np.concatenate([y_val_clarinet, y_val_guitar, y_val_singer,y_val_piano])"
   ]
  },
  {
   "cell_type": "code",
   "execution_count": 309,
   "id": "99cefcab-ba8d-4b95-a766-ec2359ff83b2",
   "metadata": {},
   "outputs": [
    {
     "data": {
      "text/plain": [
       "0.0"
      ]
     },
     "execution_count": 309,
     "metadata": {},
     "output_type": "execute_result"
    }
   ],
   "source": [
    "y_val_clarinet[327][0]"
   ]
  },
  {
   "cell_type": "code",
   "execution_count": 310,
   "id": "676c9af2-374a-4e01-a35f-53efbd09db1b",
   "metadata": {},
   "outputs": [
    {
     "data": {
      "text/plain": [
       "1.0"
      ]
     },
     "execution_count": 310,
     "metadata": {},
     "output_type": "execute_result"
    }
   ],
   "source": [
    "y_val_guitar[394][0]"
   ]
  },
  {
   "cell_type": "code",
   "execution_count": 311,
   "id": "c270c8f1-1308-4606-a50f-ea2216979a58",
   "metadata": {},
   "outputs": [
    {
     "data": {
      "text/plain": [
       "2.0"
      ]
     },
     "execution_count": 311,
     "metadata": {},
     "output_type": "execute_result"
    }
   ],
   "source": [
    "y_val_singer[283][0]"
   ]
  },
  {
   "cell_type": "code",
   "execution_count": 315,
   "id": "787de20e-8eb2-4387-9458-bee6e8fed840",
   "metadata": {},
   "outputs": [
    {
     "data": {
      "text/plain": [
       "3.0"
      ]
     },
     "execution_count": 315,
     "metadata": {},
     "output_type": "execute_result"
    }
   ],
   "source": [
    "y_val_piano[338,0]"
   ]
  },
  {
   "cell_type": "code",
   "execution_count": 316,
   "id": "0873cb14-4b62-4c25-b467-e8bce4cf5854",
   "metadata": {
    "tags": []
   },
   "outputs": [
    {
     "data": {
      "text/plain": [
       "(1446, 1)"
      ]
     },
     "execution_count": 316,
     "metadata": {},
     "output_type": "execute_result"
    }
   ],
   "source": [
    "y_val.shape"
   ]
  },
  {
   "cell_type": "code",
   "execution_count": null,
   "id": "86f90667-ab81-48cf-b5a4-d4ed62af35ea",
   "metadata": {},
   "outputs": [],
   "source": []
  },
  {
   "cell_type": "code",
   "execution_count": 317,
   "id": "67f400e8-4d0d-418b-b662-4ee3eed92197",
   "metadata": {},
   "outputs": [],
   "source": [
    "# One hot encode the labels:\n",
    "# Keep a copy of y test as the actual number labels:\n",
    "y_val_true = y_val.copy()"
   ]
  },
  {
   "cell_type": "code",
   "execution_count": 318,
   "id": "904b6cc2-e17f-413e-9dd8-a3e2894a879b",
   "metadata": {},
   "outputs": [],
   "source": [
    "y_val = to_categorical(y_val)"
   ]
  },
  {
   "cell_type": "code",
   "execution_count": 319,
   "id": "a272d2be-4d56-4edc-8fe0-95f24c2126ec",
   "metadata": {},
   "outputs": [
    {
     "data": {
      "text/plain": [
       "(1446, 4)"
      ]
     },
     "execution_count": 319,
     "metadata": {},
     "output_type": "execute_result"
    }
   ],
   "source": [
    "y_val.shape"
   ]
  },
  {
   "cell_type": "code",
   "execution_count": 320,
   "id": "bd4f61a6-1e47-48f5-8677-046c5ee9f03b",
   "metadata": {},
   "outputs": [
    {
     "data": {
      "text/plain": [
       "array([[1., 0., 0., 0.],\n",
       "       [1., 0., 0., 0.],\n",
       "       [1., 0., 0., 0.],\n",
       "       ...,\n",
       "       [0., 0., 0., 1.],\n",
       "       [0., 0., 0., 1.],\n",
       "       [0., 0., 0., 1.]], dtype=float32)"
      ]
     },
     "execution_count": 320,
     "metadata": {},
     "output_type": "execute_result"
    }
   ],
   "source": [
    "y_val"
   ]
  },
  {
   "cell_type": "code",
   "execution_count": 321,
   "id": "427231bd-5623-4cbd-a9c2-8a5f897fc122",
   "metadata": {},
   "outputs": [
    {
     "data": {
      "text/plain": [
       "array([1., 0.], dtype=float32)"
      ]
     },
     "execution_count": 321,
     "metadata": {},
     "output_type": "execute_result"
    }
   ],
   "source": [
    "y_val[327:329,0]"
   ]
  },
  {
   "cell_type": "code",
   "execution_count": 322,
   "id": "e904104d-03a0-46b0-ba3a-787bd2dafd5a",
   "metadata": {},
   "outputs": [
    {
     "data": {
      "text/plain": [
       "array([0., 1.], dtype=float32)"
      ]
     },
     "execution_count": 322,
     "metadata": {},
     "output_type": "execute_result"
    }
   ],
   "source": [
    "y_val[327:329,1]"
   ]
  },
  {
   "cell_type": "code",
   "execution_count": null,
   "id": "e016dfd6-364f-4a9c-931f-468346c62c20",
   "metadata": {},
   "outputs": [],
   "source": [
    "# the same needs to be done with the test "
   ]
  },
  {
   "cell_type": "code",
   "execution_count": null,
   "id": "bbf3aa56-aba2-455d-b3a2-4e4d3c2a34be",
   "metadata": {},
   "outputs": [],
   "source": []
  },
  {
   "cell_type": "code",
   "execution_count": null,
   "id": "a8c11d31-2fdd-44c4-856b-6dfe301b9375",
   "metadata": {},
   "outputs": [],
   "source": []
  },
  {
   "cell_type": "markdown",
   "id": "e8abf8e9-1439-4bd0-ad23-e6fd7f52fcec",
   "metadata": {},
   "source": [
    "MODELLING"
   ]
  },
  {
   "cell_type": "code",
   "execution_count": 228,
   "id": "e7602bf9-a480-4abc-8ce7-ce0e333fc9a7",
   "metadata": {},
   "outputs": [],
   "source": [
    "# general functions and plots"
   ]
  },
  {
   "cell_type": "code",
   "execution_count": 229,
   "id": "c7c6ec99-5b27-40e4-87a2-469d5419ad9c",
   "metadata": {},
   "outputs": [],
   "source": [
    "def plot_accuracy(history):    \n",
    "    # Plot accuracy curve\n",
    "    plt.plot(history.history['accuracy'], label='training accuracy')\n",
    "    plt.plot(history.history['val_accuracy'], label= 'validation accuracy')\n",
    "    plt.xlabel('epochs')\n",
    "    plt.ylabel('accuracy')\n",
    "    plt.legend()"
   ]
  },
  {
   "cell_type": "code",
   "execution_count": 230,
   "id": "31a73520-5f9e-483c-863b-3f72bf5a1f13",
   "metadata": {},
   "outputs": [],
   "source": [
    "def plot_loss(history):\n",
    "# Plot loss\n",
    "    plt.plot(history.history['loss'], label='training loss')\n",
    "    plt.plot(history.history['val_loss'], label='validation loss')\n",
    "    plt.xlabel('epochs')\n",
    "    plt.ylabel('loss')\n",
    "    plt.legend()"
   ]
  },
  {
   "cell_type": "code",
   "execution_count": 231,
   "id": "39553b4c-dfc8-4e95-825e-f2272f40a11b",
   "metadata": {},
   "outputs": [],
   "source": [
    "# Early stopping:\n",
    "early_stop = keras.callbacks.EarlyStopping(\n",
    "    monitor='val_loss', #the thing we are monitoring\n",
    "    min_delta=0.0005, #the minimum change in the quantity that we want for the model to train for another epoch\n",
    "    patience=3, #number of epochs with no improvement needed for the model to stop\n",
    "    verbose=1, #0 is silent, 1 means a message is displayed when something happens\n",
    "    mode='auto'\n",
    ")"
   ]
  },
  {
   "cell_type": "code",
   "execution_count": null,
   "id": "25b15102-e38e-4938-9023-260d85b058d8",
   "metadata": {},
   "outputs": [],
   "source": [
    "# Model"
   ]
  },
  {
   "cell_type": "code",
   "execution_count": 323,
   "id": "2fce99db-d8df-45d8-8221-8b07f4f7e4dd",
   "metadata": {},
   "outputs": [],
   "source": [
    "#model 00: relu, relu"
   ]
  },
  {
   "cell_type": "code",
   "execution_count": 330,
   "id": "cd4d3b9e-0dd9-498c-8f68-d1ab0026ac47",
   "metadata": {},
   "outputs": [],
   "source": [
    "# model 00\n",
    "# Clear session and build above model:\n",
    "K.clear_session()\n",
    "model_00 = Sequential([\n",
    "    Conv2D(filters = 16, kernel_size = (3,3), strides = (1,1), padding = 'valid',\n",
    "           activation = 'relu' ,input_shape = (129,129,1)),\n",
    "    MaxPooling2D(pool_size = (2,2),strides=(2,2),padding = 'valid'),\n",
    "\n",
    "    \n",
    "    Conv2D(filters = 16, kernel_size = (3,3), strides = (1,1), padding = 'valid', activation = 'relu'),\n",
    "    MaxPooling2D(pool_size = (2,2),strides=(2,2),padding = 'valid'),\n",
    "    \n",
    "    Flatten(),\n",
    "    #Fully connected layers:\n",
    "    Dense(100,activation='relu'),\n",
    "    #Dropout(0.2), - optional\n",
    "    Dense(4,activation= 'softmax')   \n",
    "])"
   ]
  },
  {
   "cell_type": "code",
   "execution_count": 325,
   "id": "c5cc8758-4b93-49c0-9c0c-e2c3fefb17cc",
   "metadata": {},
   "outputs": [
    {
     "name": "stdout",
     "output_type": "stream",
     "text": [
      "Model: \"sequential\"\n",
      "_________________________________________________________________\n",
      "Layer (type)                 Output Shape              Param #   \n",
      "=================================================================\n",
      "conv2d (Conv2D)              (None, 127, 127, 16)      160       \n",
      "_________________________________________________________________\n",
      "max_pooling2d (MaxPooling2D) (None, 63, 63, 16)        0         \n",
      "_________________________________________________________________\n",
      "conv2d_1 (Conv2D)            (None, 61, 61, 16)        2320      \n",
      "_________________________________________________________________\n",
      "max_pooling2d_1 (MaxPooling2 (None, 30, 30, 16)        0         \n",
      "_________________________________________________________________\n",
      "flatten (Flatten)            (None, 14400)             0         \n",
      "_________________________________________________________________\n",
      "dense (Dense)                (None, 100)               1440100   \n",
      "_________________________________________________________________\n",
      "dense_1 (Dense)              (None, 3)                 303       \n",
      "=================================================================\n",
      "Total params: 1,442,883\n",
      "Trainable params: 1,442,883\n",
      "Non-trainable params: 0\n",
      "_________________________________________________________________\n"
     ]
    }
   ],
   "source": [
    "# Check the summary:\n",
    "model_00.summary()"
   ]
  },
  {
   "cell_type": "code",
   "execution_count": 326,
   "id": "a1a42f7a-ed70-4d7a-9d3e-de5dc34d6bf7",
   "metadata": {},
   "outputs": [],
   "source": [
    "# compile model\n",
    "model_00.compile(optimizer='Adam',loss='categorical_crossentropy',metrics=['accuracy'])"
   ]
  },
  {
   "cell_type": "code",
   "execution_count": 327,
   "id": "eb435d03-5614-4ecf-8d33-07193dd13e42",
   "metadata": {},
   "outputs": [
    {
     "data": {
      "text/plain": [
       "((1468, 129, 129, 1), (1468, 1))"
      ]
     },
     "execution_count": 327,
     "metadata": {},
     "output_type": "execute_result"
    }
   ],
   "source": [
    "X_train.shape, y_train.shape"
   ]
  },
  {
   "cell_type": "code",
   "execution_count": 328,
   "id": "3b3789e5-7ab1-4632-bd0a-41480e0363eb",
   "metadata": {},
   "outputs": [
    {
     "data": {
      "text/plain": [
       "((1446, 129, 129, 1), (1446, 4))"
      ]
     },
     "execution_count": 328,
     "metadata": {},
     "output_type": "execute_result"
    }
   ],
   "source": [
    "X_val.shape, y_val.shape"
   ]
  },
  {
   "cell_type": "code",
   "execution_count": null,
   "id": "f0ac7dc9-87bf-490d-827e-ea859a8013eb",
   "metadata": {
    "tags": []
   },
   "outputs": [],
   "source": [
    "# fit the model\n",
    "history_00 = model_00.fit(X_train,y_train,batch_size=400, epochs=35,validation_data=(X_val,y_val))"
   ]
  },
  {
   "cell_type": "code",
   "execution_count": null,
   "id": "8e247703-21da-48cf-a8de-b2a6e89a2d81",
   "metadata": {
    "tags": []
   },
   "outputs": [],
   "source": [
    "model_00.save('../data/models/three_instruments/2conv_00.h5')"
   ]
  },
  {
   "cell_type": "code",
   "execution_count": null,
   "id": "97f6fc3f-9db3-4286-991c-f4e810b3f6f4",
   "metadata": {},
   "outputs": [],
   "source": [
    "with open('../data/models/three_instruments/2conv_00_hist.h5', 'wb') as file_pi:\n",
    "    pickle.dump(history_00.history, file_pi)"
   ]
  },
  {
   "cell_type": "code",
   "execution_count": null,
   "id": "6446ea91-b81f-49f4-b9c7-7f48ee476002",
   "metadata": {},
   "outputs": [],
   "source": [
    "# history_2B_loaded = pickle.load(open('../data/models/two_instruments/3conv2d_bn_dout_hist.h5',\"rb\"))"
   ]
  },
  {
   "cell_type": "code",
   "execution_count": null,
   "id": "7fdd66ea-9845-49df-921d-03d761f5647b",
   "metadata": {},
   "outputs": [],
   "source": [
    "# examine the model"
   ]
  },
  {
   "cell_type": "code",
   "execution_count": null,
   "id": "4611f93d-988c-47ac-8156-0c8143c7af00",
   "metadata": {
    "scrolled": true,
    "tags": []
   },
   "outputs": [],
   "source": [
    "history_00.history;"
   ]
  },
  {
   "cell_type": "code",
   "execution_count": null,
   "id": "e47f8c91-ca53-43cb-b7f6-c60d63d8ed56",
   "metadata": {},
   "outputs": [],
   "source": [
    "plot_accuracy(history_00)"
   ]
  },
  {
   "cell_type": "code",
   "execution_count": null,
   "id": "a13f28e5-2b55-42e2-bf4b-f885a02f6f1b",
   "metadata": {},
   "outputs": [],
   "source": [
    "plot_loss(history_00)"
   ]
  },
  {
   "cell_type": "code",
   "execution_count": null,
   "id": "097d787b-af68-427e-bca3-b8861e7bc09f",
   "metadata": {},
   "outputs": [],
   "source": [
    "pd.DataFrame(history_00.history).plot()"
   ]
  },
  {
   "cell_type": "code",
   "execution_count": 372,
   "id": "c7acb1a8-2986-42eb-98b9-cd8504a44c34",
   "metadata": {},
   "outputs": [],
   "source": [
    "# model 0a: relu / tanh"
   ]
  },
  {
   "cell_type": "code",
   "execution_count": 373,
   "id": "d1aa9d2d-4228-40e0-92f1-4a2584d04685",
   "metadata": {},
   "outputs": [],
   "source": [
    "# model 0a\n",
    "# Clear session and build above model:\n",
    "K.clear_session()\n",
    "model_0a = Sequential([\n",
    "    Conv2D(filters = 16, kernel_size = (3,3), strides = (1,1), padding = 'valid',\n",
    "           activation = 'relu' ,input_shape = (129,129,1)),\n",
    "    MaxPooling2D(pool_size = (2,2),strides=(2,2),padding = 'valid'),\n",
    "\n",
    "    \n",
    "    Conv2D(filters = 16, kernel_size = (3,3), strides = (1,1), padding = 'valid', activation = 'tanh'),\n",
    "    MaxPooling2D(pool_size = (2,2),strides=(2,2),padding = 'valid'),\n",
    "    \n",
    "    Flatten(),\n",
    "    #Fully connected layers:\n",
    "    Dense(100,activation='relu'),\n",
    "    #Dropout(0.2), - optional\n",
    "    Dense(4,activation= 'softmax')   \n",
    "])"
   ]
  },
  {
   "cell_type": "code",
   "execution_count": 374,
   "id": "3aaa796b-d7eb-4822-a255-2f129f70abed",
   "metadata": {},
   "outputs": [
    {
     "name": "stdout",
     "output_type": "stream",
     "text": [
      "Model: \"sequential\"\n",
      "_________________________________________________________________\n",
      "Layer (type)                 Output Shape              Param #   \n",
      "=================================================================\n",
      "conv2d (Conv2D)              (None, 127, 127, 16)      160       \n",
      "_________________________________________________________________\n",
      "max_pooling2d (MaxPooling2D) (None, 63, 63, 16)        0         \n",
      "_________________________________________________________________\n",
      "conv2d_1 (Conv2D)            (None, 61, 61, 16)        2320      \n",
      "_________________________________________________________________\n",
      "max_pooling2d_1 (MaxPooling2 (None, 30, 30, 16)        0         \n",
      "_________________________________________________________________\n",
      "flatten (Flatten)            (None, 14400)             0         \n",
      "_________________________________________________________________\n",
      "dense (Dense)                (None, 100)               1440100   \n",
      "_________________________________________________________________\n",
      "dense_1 (Dense)              (None, 4)                 404       \n",
      "=================================================================\n",
      "Total params: 1,442,984\n",
      "Trainable params: 1,442,984\n",
      "Non-trainable params: 0\n",
      "_________________________________________________________________\n"
     ]
    }
   ],
   "source": [
    "# Check the summary:\n",
    "model_0a.summary()"
   ]
  },
  {
   "cell_type": "code",
   "execution_count": 375,
   "id": "9b129f07-ae1e-4a97-9968-bbbee8f8b154",
   "metadata": {},
   "outputs": [],
   "source": [
    "# compile model\n",
    "model_0a.compile(optimizer='Adam',loss='categorical_crossentropy',metrics=['accuracy'])"
   ]
  },
  {
   "cell_type": "code",
   "execution_count": 376,
   "id": "4e0214da-115f-4ba4-8ae7-333c44150180",
   "metadata": {
    "tags": []
   },
   "outputs": [
    {
     "name": "stdout",
     "output_type": "stream",
     "text": [
      "Epoch 1/40\n",
      "3/3 [==============================] - 23s 5s/step - loss: 1.6177 - accuracy: 0.3420 - val_loss: 0.9411 - val_accuracy: 0.5733\n",
      "Epoch 2/40\n",
      "3/3 [==============================] - 17s 5s/step - loss: 0.9205 - accuracy: 0.6233 - val_loss: 0.6580 - val_accuracy: 0.7351\n",
      "Epoch 3/40\n",
      "3/3 [==============================] - 18s 5s/step - loss: 0.7155 - accuracy: 0.7262 - val_loss: 0.6175 - val_accuracy: 0.7704\n",
      "Epoch 4/40\n",
      "3/3 [==============================] - 18s 5s/step - loss: 0.5895 - accuracy: 0.7909 - val_loss: 0.5821 - val_accuracy: 0.7635\n",
      "Epoch 5/40\n",
      "3/3 [==============================] - 17s 5s/step - loss: 0.4946 - accuracy: 0.8174 - val_loss: 0.5358 - val_accuracy: 0.7773\n",
      "Epoch 6/40\n",
      "3/3 [==============================] - 18s 5s/step - loss: 0.4079 - accuracy: 0.8426 - val_loss: 0.4968 - val_accuracy: 0.8160\n",
      "Epoch 7/40\n",
      "3/3 [==============================] - 20s 6s/step - loss: 0.3591 - accuracy: 0.8842 - val_loss: 0.4838 - val_accuracy: 0.8479\n",
      "Epoch 8/40\n",
      "3/3 [==============================] - 27s 8s/step - loss: 0.2958 - accuracy: 0.9196 - val_loss: 0.4614 - val_accuracy: 0.8437\n",
      "Epoch 9/40\n",
      "3/3 [==============================] - 18s 5s/step - loss: 0.2431 - accuracy: 0.9121 - val_loss: 0.4473 - val_accuracy: 0.8472\n",
      "Epoch 10/40\n",
      "3/3 [==============================] - 17s 5s/step - loss: 0.2129 - accuracy: 0.9305 - val_loss: 0.4555 - val_accuracy: 0.8534\n",
      "Epoch 11/40\n",
      "3/3 [==============================] - 19s 6s/step - loss: 0.1772 - accuracy: 0.9523 - val_loss: 0.4287 - val_accuracy: 0.8568\n",
      "Epoch 12/40\n",
      "3/3 [==============================] - 20s 6s/step - loss: 0.1487 - accuracy: 0.9639 - val_loss: 0.3989 - val_accuracy: 0.8714\n",
      "Epoch 13/40\n",
      "3/3 [==============================] - 20s 6s/step - loss: 0.1339 - accuracy: 0.9687 - val_loss: 0.4029 - val_accuracy: 0.8707\n",
      "Epoch 14/40\n",
      "3/3 [==============================] - 18s 5s/step - loss: 0.1224 - accuracy: 0.9728 - val_loss: 0.4014 - val_accuracy: 0.8672\n",
      "Epoch 15/40\n",
      "3/3 [==============================] - 17s 5s/step - loss: 0.1064 - accuracy: 0.9748 - val_loss: 0.3959 - val_accuracy: 0.8686\n",
      "Epoch 16/40\n",
      "3/3 [==============================] - 17s 5s/step - loss: 0.0966 - accuracy: 0.9755 - val_loss: 0.3937 - val_accuracy: 0.8714\n",
      "Epoch 17/40\n",
      "3/3 [==============================] - 17s 5s/step - loss: 0.0887 - accuracy: 0.9762 - val_loss: 0.3876 - val_accuracy: 0.8762\n",
      "Epoch 18/40\n",
      "3/3 [==============================] - 17s 5s/step - loss: 0.0793 - accuracy: 0.9796 - val_loss: 0.3749 - val_accuracy: 0.8873\n",
      "Epoch 19/40\n",
      "3/3 [==============================] - 17s 5s/step - loss: 0.0770 - accuracy: 0.9789 - val_loss: 0.3895 - val_accuracy: 0.8852\n",
      "Epoch 20/40\n",
      "3/3 [==============================] - 20s 7s/step - loss: 0.0705 - accuracy: 0.9809 - val_loss: 0.4190 - val_accuracy: 0.8783\n",
      "Epoch 21/40\n",
      "3/3 [==============================] - 23s 5s/step - loss: 0.0618 - accuracy: 0.9843 - val_loss: 0.4329 - val_accuracy: 0.8748\n",
      "Epoch 22/40\n",
      "3/3 [==============================] - 19s 5s/step - loss: 0.0574 - accuracy: 0.9843 - val_loss: 0.4278 - val_accuracy: 0.8783\n",
      "Epoch 23/40\n",
      "3/3 [==============================] - 18s 5s/step - loss: 0.0531 - accuracy: 0.9843 - val_loss: 0.4290 - val_accuracy: 0.8783\n",
      "Epoch 24/40\n",
      "3/3 [==============================] - 17s 5s/step - loss: 0.0501 - accuracy: 0.9857 - val_loss: 0.4258 - val_accuracy: 0.8804\n",
      "Epoch 25/40\n",
      "3/3 [==============================] - 19s 6s/step - loss: 0.0474 - accuracy: 0.9884 - val_loss: 0.4318 - val_accuracy: 0.8755\n",
      "Epoch 26/40\n",
      "3/3 [==============================] - 19s 6s/step - loss: 0.0459 - accuracy: 0.9891 - val_loss: 0.4238 - val_accuracy: 0.8817\n",
      "Epoch 27/40\n",
      "3/3 [==============================] - 19s 5s/step - loss: 0.0434 - accuracy: 0.9898 - val_loss: 0.4156 - val_accuracy: 0.8866\n",
      "Epoch 28/40\n",
      "3/3 [==============================] - 18s 6s/step - loss: 0.0430 - accuracy: 0.9905 - val_loss: 0.4381 - val_accuracy: 0.8755\n",
      "Epoch 29/40\n",
      "3/3 [==============================] - 19s 6s/step - loss: 0.0406 - accuracy: 0.9911 - val_loss: 0.4809 - val_accuracy: 0.8686\n",
      "Epoch 30/40\n",
      "3/3 [==============================] - 18s 5s/step - loss: 0.0394 - accuracy: 0.9905 - val_loss: 0.4762 - val_accuracy: 0.8728\n",
      "Epoch 31/40\n",
      "3/3 [==============================] - 19s 6s/step - loss: 0.0401 - accuracy: 0.9932 - val_loss: 0.4842 - val_accuracy: 0.8562\n",
      "Epoch 32/40\n",
      "3/3 [==============================] - 18s 5s/step - loss: 0.0430 - accuracy: 0.9946 - val_loss: 0.4640 - val_accuracy: 0.8575\n",
      "Epoch 33/40\n",
      "3/3 [==============================] - 20s 6s/step - loss: 0.0418 - accuracy: 0.9918 - val_loss: 0.4407 - val_accuracy: 0.8658\n",
      "Epoch 34/40\n",
      "3/3 [==============================] - 20s 6s/step - loss: 0.0377 - accuracy: 0.9932 - val_loss: 0.4237 - val_accuracy: 0.8783\n",
      "Epoch 35/40\n",
      "3/3 [==============================] - 17s 5s/step - loss: 0.0337 - accuracy: 0.9939 - val_loss: 0.4293 - val_accuracy: 0.8824\n",
      "Epoch 36/40\n",
      "3/3 [==============================] - 16s 5s/step - loss: 0.0314 - accuracy: 0.9925 - val_loss: 0.4448 - val_accuracy: 0.8838\n",
      "Epoch 37/40\n",
      "3/3 [==============================] - 16s 5s/step - loss: 0.0298 - accuracy: 0.9918 - val_loss: 0.4540 - val_accuracy: 0.8838\n",
      "Epoch 38/40\n",
      "3/3 [==============================] - 17s 5s/step - loss: 0.0294 - accuracy: 0.9905 - val_loss: 0.4509 - val_accuracy: 0.8887\n",
      "Epoch 39/40\n",
      "3/3 [==============================] - 17s 5s/step - loss: 0.0289 - accuracy: 0.9905 - val_loss: 0.4668 - val_accuracy: 0.8838\n",
      "Epoch 40/40\n",
      "3/3 [==============================] - 18s 6s/step - loss: 0.0276 - accuracy: 0.9905 - val_loss: 0.4903 - val_accuracy: 0.8776\n"
     ]
    }
   ],
   "source": [
    "# fit the model\n",
    "history_0a = model_0a.fit(X_train,y_train,batch_size=722,epochs=40,validation_data=(X_val,y_val),)"
   ]
  },
  {
   "cell_type": "code",
   "execution_count": 377,
   "id": "7b208e9a-7772-4269-a5c5-222fa5f18353",
   "metadata": {},
   "outputs": [],
   "source": [
    "model_0a.save('../data/models/four_instruments/2conv_0a.h5')"
   ]
  },
  {
   "cell_type": "code",
   "execution_count": 378,
   "id": "460ef56a-1513-4d3f-b3cb-11d7215d824e",
   "metadata": {},
   "outputs": [],
   "source": [
    "# examine the model"
   ]
  },
  {
   "cell_type": "code",
   "execution_count": 379,
   "id": "651456cd-2efc-4e26-8f20-afef03d29ba3",
   "metadata": {
    "scrolled": true,
    "tags": []
   },
   "outputs": [],
   "source": [
    "history_0a.history;"
   ]
  },
  {
   "cell_type": "code",
   "execution_count": 380,
   "id": "b0365993-eee2-42bf-a0d6-2499e3665081",
   "metadata": {},
   "outputs": [
    {
     "data": {
      "image/png": "[encoded data removed]",
      "text/plain": [
       "<Figure size 432x288 with 1 Axes>"
      ]
     },
     "metadata": {
      "needs_background": "light"
     },
     "output_type": "display_data"
    }
   ],
   "source": [
    "plot_accuracy(history_0a)"
   ]
  },
  {
   "cell_type": "code",
   "execution_count": 381,
   "id": "2cca4b06-f3c4-48d7-9c98-8fc35d4d0cda",
   "metadata": {
    "tags": []
   },
   "outputs": [
    {
     "data": {
      "image/png": "[encoded data removed]",
      "text/plain": [
       "<Figure size 432x288 with 1 Axes>"
      ]
     },
     "metadata": {
      "needs_background": "light"
     },
     "output_type": "display_data"
    }
   ],
   "source": [
    "plot_loss(history_0a)"
   ]
  },
  {
   "cell_type": "code",
   "execution_count": null,
   "id": "08471e73-0500-4b4b-bad0-60631f3b856f",
   "metadata": {},
   "outputs": [],
   "source": [
    "pd.DataFrame(history_0a.history).plot()"
   ]
  },
  {
   "cell_type": "code",
   "execution_count": null,
   "id": "cdd5ce42-0e7b-4214-9ee8-88f4a6807e7b",
   "metadata": {},
   "outputs": [],
   "source": [
    "#model 0b: tanh / tanh"
   ]
  },
  {
   "cell_type": "code",
   "execution_count": null,
   "id": "3fa28d1f-c2de-4182-b640-b347fadfa667",
   "metadata": {},
   "outputs": [],
   "source": [
    "# model 00b:\n",
    "# Clear session and build above model:\n",
    "K.clear_session()\n",
    "model = Sequential([\n",
    "    Conv2D(filters = 16, kernel_size = (3,3), strides = (1,1), padding = 'valid',\n",
    "           activation = 'tanh' ,input_shape = (129,129,1)),\n",
    "    MaxPooling2D(pool_size = (2,2),strides=(2,2),padding = 'valid'),\n",
    "\n",
    "    \n",
    "    Conv2D(filters = 16, kernel_size = (3,3), strides = (1,1), padding = 'valid', activation = 'tanh'),\n",
    "    MaxPooling2D(pool_size = (2,2),strides=(2,2),padding = 'valid'),\n",
    "    \n",
    "    Flatten(),\n",
    "    #Fully connected layers:\n",
    "    Dense(100,activation='relu'),\n",
    "    #Dropout(0.2), - optional\n",
    "    Dense(2,activation= 'sigmoid')   \n",
    "])"
   ]
  },
  {
   "cell_type": "code",
   "execution_count": null,
   "id": "e9a997fc-9c08-4827-9a4b-9dcd03404f2b",
   "metadata": {},
   "outputs": [],
   "source": [
    "# Check the summary:\n",
    "model.summary()"
   ]
  },
  {
   "cell_type": "code",
   "execution_count": null,
   "id": "9475d5df-ed0c-4e7f-bac8-7bc7174caec6",
   "metadata": {},
   "outputs": [],
   "source": [
    "# compile model\n",
    "model.compile(optimizer='Adam',loss='binary_crossentropy',metrics=['accuracy'])"
   ]
  },
  {
   "cell_type": "code",
   "execution_count": null,
   "id": "a9d2b215-7c22-41fc-b18a-73d8a09c94d2",
   "metadata": {
    "scrolled": true,
    "tags": []
   },
   "outputs": [],
   "source": [
    "# fit the model\n",
    "history = model.fit(X_train,y_train,batch_size=400, epochs=35,validation_data=(X_val,y_val))"
   ]
  },
  {
   "cell_type": "code",
   "execution_count": null,
   "id": "d4ad10c8-888d-4ba3-81b6-515d9bac1c5d",
   "metadata": {},
   "outputs": [],
   "source": [
    "# examine the model"
   ]
  },
  {
   "cell_type": "code",
   "execution_count": null,
   "id": "6abc505c-6d7d-4210-b50f-dbfe88085f15",
   "metadata": {
    "scrolled": true,
    "tags": []
   },
   "outputs": [],
   "source": [
    "history.history;"
   ]
  },
  {
   "cell_type": "code",
   "execution_count": null,
   "id": "99d7646a-1ee1-4543-9158-f959cbcfb39d",
   "metadata": {},
   "outputs": [],
   "source": [
    "plot_accuracy(history)"
   ]
  },
  {
   "cell_type": "code",
   "execution_count": null,
   "id": "dbe86431-d402-4a29-9f03-9ce7c8162b4a",
   "metadata": {},
   "outputs": [],
   "source": [
    "plot_loss(history)"
   ]
  },
  {
   "cell_type": "code",
   "execution_count": null,
   "id": "6563c5eb-879c-4c6c-89e1-034c3c9d9d9d",
   "metadata": {},
   "outputs": [],
   "source": [
    "pd.DataFrame(history.history).plot()"
   ]
  },
  {
   "cell_type": "code",
   "execution_count": null,
   "id": "67397d51-a015-47f9-a478-264559b3a059",
   "metadata": {},
   "outputs": [],
   "source": [
    "# model 1:\n",
    "# 2nd Conv2D with tanh\n",
    "# bath norm after 1st Conv2D"
   ]
  },
  {
   "cell_type": "code",
   "execution_count": null,
   "id": "247545de-ccb5-4fae-b518-db59d73281c1",
   "metadata": {},
   "outputs": [],
   "source": [
    "# model 01\n",
    "# Clear session and build above model:\n",
    "K.clear_session()\n",
    "\n",
    "model = Sequential([\n",
    "    Conv2D( filters = 16, kernel_size = (3,3), strides = (1,1), padding = 'valid',\n",
    "           activation = 'relu', input_shape = (129,129,1)),\n",
    "    \n",
    "    BatchNormalization(),\n",
    "    \n",
    "    MaxPooling2D(pool_size = (2,2),strides=(2,2),padding = 'valid'),\n",
    "    \n",
    "    Conv2D(filters = 16, kernel_size = (3,3), strides = (1,1), padding = 'valid', activation = 'tanh'),\n",
    "    \n",
    "    MaxPooling2D(pool_size = (2,2),strides=(2,2),padding = 'valid'),\n",
    "    \n",
    "    Flatten(),\n",
    "    #Fully connected layers:\n",
    "    Dense(100,activation='relu'),\n",
    "    #Dropout(0.2), - optional\n",
    "    Dense(2,activation= 'sigmoid')   \n",
    "])"
   ]
  },
  {
   "cell_type": "code",
   "execution_count": null,
   "id": "52724c2b-7c42-4ce8-8052-a5555c29a397",
   "metadata": {},
   "outputs": [],
   "source": [
    "# Check the summary:\n",
    "model.summary()"
   ]
  },
  {
   "cell_type": "code",
   "execution_count": null,
   "id": "c2079bcc-f963-4d6a-82e2-a1bd1ccd598b",
   "metadata": {},
   "outputs": [],
   "source": [
    "# compile model\n",
    "model.compile(optimizer='Adam',loss='binary_crossentropy',metrics=['accuracy'])"
   ]
  },
  {
   "cell_type": "code",
   "execution_count": null,
   "id": "a75e9dd3-7c5d-43bb-879d-1b764f0e11e0",
   "metadata": {
    "scrolled": true,
    "tags": []
   },
   "outputs": [],
   "source": [
    "# fit the model\n",
    "history = model.fit(X_train,y_train,batch_size=722, epochs=40,validation_data=(X_val,y_val))"
   ]
  },
  {
   "cell_type": "code",
   "execution_count": null,
   "id": "8a942ed1-bc7e-4e34-ac2f-a7e5df7e71de",
   "metadata": {},
   "outputs": [],
   "source": [
    "# examine the model"
   ]
  },
  {
   "cell_type": "code",
   "execution_count": null,
   "id": "6e7a4fdd-409e-4733-bd00-569a6b5d6f2d",
   "metadata": {
    "scrolled": true,
    "tags": []
   },
   "outputs": [],
   "source": [
    "history.history"
   ]
  },
  {
   "cell_type": "code",
   "execution_count": null,
   "id": "88af596a-97cd-46e6-899a-e09cc9025943",
   "metadata": {},
   "outputs": [],
   "source": [
    "# Plot accuracy curve\n",
    "plt.plot(history.history['accuracy'], label='training accuracy')\n",
    "plt.plot(history.history['val_accuracy'], label= 'validation accuracy')\n",
    "plt.xlabel('epochs')\n",
    "plt.ylabel('accuracy')\n",
    "plt.legend()"
   ]
  },
  {
   "cell_type": "code",
   "execution_count": null,
   "id": "a6354885-f859-4b55-b775-4c38c880f29f",
   "metadata": {},
   "outputs": [],
   "source": [
    "# Plot loss\n",
    "plt.plot(history.history['loss'], label='training loss')\n",
    "plt.plot(history.history['val_loss'], label='validation loss')\n",
    "plt.xlabel('epochs')\n",
    "plt.ylabel('loss')\n",
    "plt.legend()"
   ]
  },
  {
   "cell_type": "code",
   "execution_count": null,
   "id": "0d8ca9a9-aa34-4cf3-965c-d710010e50ce",
   "metadata": {},
   "outputs": [],
   "source": [
    "pd.DataFrame(history.history).plot()"
   ]
  },
  {
   "cell_type": "code",
   "execution_count": null,
   "id": "91179bac-00f6-41d7-bbf7-2605a8efa2bc",
   "metadata": {},
   "outputs": [],
   "source": [
    "# model 2\n",
    "# 3 Conv2D"
   ]
  },
  {
   "cell_type": "code",
   "execution_count": null,
   "id": "87a7373b-65e4-426d-b807-f1c42f810a4a",
   "metadata": {},
   "outputs": [],
   "source": [
    "# model 02\n",
    "# Clear session and build above model:\n",
    "K.clear_session()\n",
    "\n",
    "model_02 = Sequential([\n",
    "    Conv2D(filters = 16, kernel_size = (3,3), strides = (1,1), padding = 'valid',\n",
    "           activation = 'relu' ,input_shape = (129,129,1)),\n",
    "    \n",
    "    MaxPooling2D(pool_size = (2,2),strides=(2,2),padding = 'valid'),\n",
    "    \n",
    "    Conv2D(filters = 16, kernel_size = (3,3), strides = (1,1), padding = 'valid', activation = 'tanh'),\n",
    "    \n",
    "    MaxPooling2D(pool_size = (2,2),strides=(2,2),padding = 'valid'),\n",
    "    \n",
    "    Conv2D(filters = 16, kernel_size = (3,3), strides = (1,1), padding = 'valid', activation = 'tanh'),\n",
    "    \n",
    "    MaxPooling2D(pool_size = (2,2),strides=(2,2),padding = 'valid'),\n",
    "    \n",
    "    Flatten(),\n",
    "    #Fully connected layers:\n",
    "    Dense(100,activation='relu'),\n",
    "    #Dropout(0.2), - optional\n",
    "    Dense(3,activation= 'softmax')   \n",
    "])"
   ]
  },
  {
   "cell_type": "code",
   "execution_count": null,
   "id": "bcfb96c2-a473-4e59-a4b1-288b158be5c1",
   "metadata": {},
   "outputs": [],
   "source": [
    "# Check the summary:\n",
    "model_02.summary()"
   ]
  },
  {
   "cell_type": "code",
   "execution_count": null,
   "id": "063d0db3-8bdf-41e6-acbc-91e22340cf74",
   "metadata": {},
   "outputs": [],
   "source": [
    "# compile model\n",
    "model_02.compile(optimizer='Adam',loss='categorical_crossentropy',metrics=['accuracy'])"
   ]
  },
  {
   "cell_type": "code",
   "execution_count": null,
   "id": "ddfc2818-6fb5-46a4-96d4-c4e58639c75c",
   "metadata": {
    "tags": []
   },
   "outputs": [],
   "source": [
    "# fit the model\n",
    "history_02 = model_02.fit(X_train,y_train,batch_size=400, epochs=40,validation_data=(X_val,y_val))"
   ]
  },
  {
   "cell_type": "code",
   "execution_count": null,
   "id": "276e565c-cd56-4390-ac10-a38054df1dd9",
   "metadata": {},
   "outputs": [],
   "source": [
    "model_02.save('../data/models/three_instruments/3conv_02.h5')"
   ]
  },
  {
   "cell_type": "code",
   "execution_count": null,
   "id": "d9c65b06-2138-45d5-a30b-d02a3759850f",
   "metadata": {},
   "outputs": [],
   "source": [
    "# examine the model"
   ]
  },
  {
   "cell_type": "code",
   "execution_count": null,
   "id": "74407bc3-f2e5-48b1-be36-f80186bcad9f",
   "metadata": {
    "scrolled": true,
    "tags": []
   },
   "outputs": [],
   "source": [
    "history_02.history;"
   ]
  },
  {
   "cell_type": "code",
   "execution_count": null,
   "id": "6debcd17-2a1c-4e9e-8895-f4b7a8a1655a",
   "metadata": {},
   "outputs": [],
   "source": [
    "plot_accuracy(history_02)"
   ]
  },
  {
   "cell_type": "code",
   "execution_count": null,
   "id": "5456ed28-3d21-4b28-b04d-e3ff65a6ef7c",
   "metadata": {},
   "outputs": [],
   "source": [
    "plot_loss(history_02)"
   ]
  },
  {
   "cell_type": "code",
   "execution_count": null,
   "id": "63a066bf-326f-43d1-8e84-a1b519409d8d",
   "metadata": {},
   "outputs": [],
   "source": [
    "pd.DataFrame(history_02.history).plot()"
   ]
  },
  {
   "cell_type": "code",
   "execution_count": null,
   "id": "736ea296-6b71-4c8e-9b92-ea9faa2f110f",
   "metadata": {},
   "outputs": [],
   "source": [
    "new_model = keras.models.load_model('../data/models/two_instruments/3conv2d.h5')"
   ]
  },
  {
   "cell_type": "code",
   "execution_count": null,
   "id": "bfffbee4-9deb-4123-90e5-32fd1011228e",
   "metadata": {},
   "outputs": [],
   "source": [
    "new_model.summary()"
   ]
  },
  {
   "cell_type": "code",
   "execution_count": null,
   "id": "407e4749-e3b7-415b-ae73-33c15136c508",
   "metadata": {},
   "outputs": [],
   "source": [
    "print(new_model.history)"
   ]
  },
  {
   "cell_type": "markdown",
   "id": "b8dcc2d7-bb70-4202-bf36-d3b6981dd383",
   "metadata": {},
   "source": [
    "FINAL MODEL FOR 2-Instrumention: 3 Conv2D with batch norm & dropout"
   ]
  },
  {
   "cell_type": "code",
   "execution_count": null,
   "id": "67b35142-df44-4441-ac59-752d51f331cc",
   "metadata": {},
   "outputs": [],
   "source": [
    "# model 2B\n",
    "# 3 Conv2D with batch norm & dropout"
   ]
  },
  {
   "cell_type": "code",
   "execution_count": null,
   "id": "70854d9c-58d5-4abd-90ce-dfc18fe25c1b",
   "metadata": {},
   "outputs": [],
   "source": [
    "# model 2B\n",
    "# Clear session and build above model:\n",
    "K.clear_session()\n",
    "\n",
    "model_2B = Sequential([\n",
    "    Conv2D(filters = 16, kernel_size = (3,3), strides = (1,1), padding = 'valid',\n",
    "           activation = 'relu' ,input_shape = (129,129,1)),\n",
    "    \n",
    "    BatchNormalization(),\n",
    "    \n",
    "    MaxPooling2D(pool_size = (2,2),strides=(2,2),padding = 'valid'),\n",
    "    \n",
    "    Dropout(0.2),\n",
    "    \n",
    "    Conv2D(filters = 16, kernel_size = (3,3), strides = (1,1), padding = 'valid', activation = 'tanh'),\n",
    "    \n",
    "    BatchNormalization(),\n",
    "    \n",
    "    MaxPooling2D(pool_size = (2,2),strides=(2,2),padding = 'valid'),\n",
    "    \n",
    "    Dropout(0.2),\n",
    "    \n",
    "    Conv2D(filters = 16, kernel_size = (3,3), strides = (1,1), padding = 'valid', activation = 'tanh'),\n",
    "    \n",
    "    BatchNormalization(),\n",
    "    \n",
    "    MaxPooling2D(pool_size = (2,2),strides=(2,2),padding = 'valid'),\n",
    "    \n",
    "    Dropout(0.2),\n",
    "    \n",
    "    Flatten(),\n",
    "    #Fully connected layers:\n",
    "    Dense(100,activation='relu'),\n",
    "    Dropout(0.2),\n",
    "    Dense(3,activation= 'softmax')   \n",
    "])"
   ]
  },
  {
   "cell_type": "code",
   "execution_count": null,
   "id": "80ab7686-1b30-4f2d-b19b-7bddf770f1c0",
   "metadata": {},
   "outputs": [],
   "source": [
    "# Check the summary:\n",
    "model_2B.summary()"
   ]
  },
  {
   "cell_type": "code",
   "execution_count": null,
   "id": "70c371db-9adf-492c-a297-03f9d7217fb2",
   "metadata": {},
   "outputs": [],
   "source": [
    "# compile model\n",
    "model_2B.compile(optimizer='Adam',loss='binary_crossentropy',metrics=['accuracy'])"
   ]
  },
  {
   "cell_type": "code",
   "execution_count": null,
   "id": "1a2d088c-51e7-4135-8157-0217ba052921",
   "metadata": {
    "tags": []
   },
   "outputs": [],
   "source": [
    "# fit the model\n",
    "history_2B = model_2B.fit(X_train,y_train,batch_size=700, epochs=40,validation_data=(X_val,y_val))"
   ]
  },
  {
   "cell_type": "code",
   "execution_count": null,
   "id": "0bcf001d-8c38-4487-b517-f8ccbae1b6c9",
   "metadata": {
    "tags": []
   },
   "outputs": [],
   "source": [
    "model_2B.save('../data/models/two_instruments/3conv2d_2B.h5')"
   ]
  },
  {
   "cell_type": "code",
   "execution_count": null,
   "id": "a75888e3-6963-409b-a324-e126740e1d4f",
   "metadata": {},
   "outputs": [],
   "source": [
    "model_2b_loaded = keras.models.load_model('../data/models/two_instruments/3conv2d_2B.h5')"
   ]
  },
  {
   "cell_type": "code",
   "execution_count": null,
   "id": "b1975031-483e-4670-bfb4-89afe96adc96",
   "metadata": {},
   "outputs": [],
   "source": [
    "with open('../data/models/two_instruments/3conv2d_2B_hist.h5', 'wb') as file_pi:\n",
    "        pickle.dump(history_2B.history, file_pi)"
   ]
  },
  {
   "cell_type": "code",
   "execution_count": null,
   "id": "90778ca0-9f38-4e56-a4a9-9b3085a37237",
   "metadata": {},
   "outputs": [],
   "source": [
    "history_2B_loaded = pickle.load(open('../data/models/two_instruments/3conv2d_2B_hist.h5',\"rb\"))"
   ]
  },
  {
   "cell_type": "code",
   "execution_count": null,
   "id": "96a0f819-90d3-486d-ba1f-4481c38a4eb8",
   "metadata": {},
   "outputs": [],
   "source": [
    "history_2B_loaded"
   ]
  },
  {
   "cell_type": "code",
   "execution_count": null,
   "id": "288b3e81-0494-48d1-b115-4113f44ecb41",
   "metadata": {},
   "outputs": [],
   "source": [
    "history_2B"
   ]
  },
  {
   "cell_type": "code",
   "execution_count": null,
   "id": "b0ddb405-fc7a-4216-aa4c-adbf51e6c0e4",
   "metadata": {},
   "outputs": [],
   "source": [
    "history_2B.history"
   ]
  },
  {
   "cell_type": "code",
   "execution_count": null,
   "id": "e7a23767-46c2-49d5-b714-48a80689e9c5",
   "metadata": {},
   "outputs": [],
   "source": [
    "# examine the model"
   ]
  },
  {
   "cell_type": "code",
   "execution_count": null,
   "id": "67e440d9-7269-4246-b358-34f9f282a6a2",
   "metadata": {},
   "outputs": [],
   "source": [
    "plot_accuracy(history_2B)"
   ]
  },
  {
   "cell_type": "code",
   "execution_count": null,
   "id": "5487411b-a601-49cd-8744-b43531eb0260",
   "metadata": {},
   "outputs": [],
   "source": [
    "plot_loss(history_2B)"
   ]
  },
  {
   "cell_type": "code",
   "execution_count": null,
   "id": "380ecd84-d6ed-40fc-a270-c6d28debe4b1",
   "metadata": {},
   "outputs": [],
   "source": [
    "# f, (ax1,ax2) = plt.subplots(1,2)\n",
    "# ax1.plot.history_2B"
   ]
  },
  {
   "cell_type": "code",
   "execution_count": null,
   "id": "d950dc10-4a5e-4549-a387-48a916fc90d9",
   "metadata": {},
   "outputs": [],
   "source": [
    "pd.DataFrame(history_2B.history).plot()"
   ]
  },
  {
   "cell_type": "code",
   "execution_count": null,
   "id": "9774b211-850e-457c-9c6f-782980d71574",
   "metadata": {},
   "outputs": [],
   "source": [
    "# predictions:"
   ]
  },
  {
   "cell_type": "code",
   "execution_count": null,
   "id": "4f05dcc2-bf18-4634-bd78-26e4c94e7a8a",
   "metadata": {},
   "outputs": [],
   "source": [
    "y_val.shape"
   ]
  },
  {
   "cell_type": "code",
   "execution_count": null,
   "id": "d5a6e8fd-dd17-44e2-9642-87670390e47e",
   "metadata": {},
   "outputs": [],
   "source": [
    "X_val[0].reshape(1,129,129,1).shape"
   ]
  },
  {
   "cell_type": "code",
   "execution_count": null,
   "id": "7b01a1ce-7275-4032-9ad9-ad236d1852c4",
   "metadata": {},
   "outputs": [],
   "source": [
    "y_pred = model_2B.predict(X_val[1].reshape(1,129,129,1))"
   ]
  },
  {
   "cell_type": "code",
   "execution_count": null,
   "id": "09c3dd05-3c98-438b-9034-792934838d58",
   "metadata": {},
   "outputs": [],
   "source": [
    "y_pred"
   ]
  },
  {
   "cell_type": "code",
   "execution_count": null,
   "id": "f44feff4-21d0-4767-afa8-dd2f000fb5b6",
   "metadata": {},
   "outputs": [],
   "source": [
    "X_test_guitar, X_test_singer, X_clarinet"
   ]
  },
  {
   "cell_type": "code",
   "execution_count": null,
   "id": "b00b028d-97bc-4fdb-b987-9338dca5d853",
   "metadata": {},
   "outputs": [],
   "source": []
  },
  {
   "cell_type": "code",
   "execution_count": null,
   "id": "5c3146dc-4e9c-48d4-8852-6613bcf07e71",
   "metadata": {},
   "outputs": [],
   "source": [
    "# model 03: more filters"
   ]
  },
  {
   "cell_type": "code",
   "execution_count": null,
   "id": "3d14927c-ce75-437f-9fd4-a1ef46de63c3",
   "metadata": {},
   "outputs": [],
   "source": [
    "# model 03\n",
    "# Clear session and build above model:\n",
    "K.clear_session()\n",
    "\n",
    "model = Sequential([\n",
    "    Conv2D( filters = 20, kernel_size = (3,3), strides = (1,1), padding = 'valid',\n",
    "           activation = 'relu', input_shape = (129,129,1)),\n",
    "    \n",
    "    MaxPooling2D(pool_size = (2,2),strides=(2,2),padding = 'valid'),\n",
    "    \n",
    "    Conv2D(filters = 20, kernel_size = (3,3), strides = (1,1), padding = 'valid', activation = 'tanh'),\n",
    "    \n",
    "    MaxPooling2D(pool_size = (2,2),strides=(2,2),padding = 'valid'),\n",
    "    \n",
    "    Flatten(),\n",
    "    #Fully connected layers:\n",
    "    Dense(100,activation='relu'),\n",
    "    #Dropout(0.2), - optional\n",
    "    Dense(2,activation= 'sigmoid')   \n",
    "])"
   ]
  },
  {
   "cell_type": "code",
   "execution_count": null,
   "id": "32474694-ddac-4bd8-a646-0ef235d07e08",
   "metadata": {},
   "outputs": [],
   "source": [
    "# Check the summary:\n",
    "model.summary()"
   ]
  },
  {
   "cell_type": "code",
   "execution_count": null,
   "id": "7beb36a4-836a-483d-a79e-6b216a990e37",
   "metadata": {},
   "outputs": [],
   "source": [
    "# compile model\n",
    "model.compile(optimizer='Adam',loss='binary_crossentropy',metrics=['accuracy'])"
   ]
  },
  {
   "cell_type": "code",
   "execution_count": null,
   "id": "47557b6d-3040-473c-94ef-18151b64f630",
   "metadata": {
    "tags": []
   },
   "outputs": [],
   "source": [
    "# fit the model\n",
    "history = model.fit(X_train,y_train,batch_size=722, epochs=40,validation_data=(X_val,y_val))"
   ]
  },
  {
   "cell_type": "code",
   "execution_count": null,
   "id": "5b3aa71a-5792-40b6-8a7b-70dccf19e44b",
   "metadata": {},
   "outputs": [],
   "source": [
    "# examine the model"
   ]
  },
  {
   "cell_type": "code",
   "execution_count": null,
   "id": "578f6cc9-afd9-46cd-a1b3-0d8358116d2a",
   "metadata": {
    "scrolled": true,
    "tags": []
   },
   "outputs": [],
   "source": [
    "history.history;"
   ]
  },
  {
   "cell_type": "code",
   "execution_count": null,
   "id": "8a645f22-9c5f-4e10-a10a-137186051a20",
   "metadata": {},
   "outputs": [],
   "source": [
    "plot_accuracy(history)"
   ]
  },
  {
   "cell_type": "code",
   "execution_count": null,
   "id": "c03c8143-4518-4897-a63c-079e55ba685f",
   "metadata": {},
   "outputs": [],
   "source": [
    "plot_loss(history)"
   ]
  },
  {
   "cell_type": "code",
   "execution_count": null,
   "id": "77a0c428-5c77-4d0e-b9aa-68875ccb72f1",
   "metadata": {},
   "outputs": [],
   "source": [
    "pd.DataFrame(history.history).plot()"
   ]
  },
  {
   "cell_type": "code",
   "execution_count": null,
   "id": "29378159-0d53-4559-9d72-8c34564566a8",
   "metadata": {},
   "outputs": [],
   "source": []
  },
  {
   "cell_type": "code",
   "execution_count": null,
   "id": "89aad377-3614-4c15-ab39-1077c7143bfd",
   "metadata": {},
   "outputs": [],
   "source": [
    "# confusion matrix"
   ]
  },
  {
   "cell_type": "code",
   "execution_count": null,
   "id": "db4eaba2-8fc1-4aaf-891e-1cf3cb8c260a",
   "metadata": {},
   "outputs": [],
   "source": []
  },
  {
   "cell_type": "markdown",
   "id": "b2dbdc7c-210b-4a28-bf06-18aa6bdde19d",
   "metadata": {},
   "source": [
    "#### Pre trained CNN"
   ]
  },
  {
   "cell_type": "code",
   "execution_count": null,
   "id": "afcfc596-4e71-47ea-b0e4-f978c13aeb8f",
   "metadata": {},
   "outputs": [],
   "source": []
  },
  {
   "cell_type": "code",
   "execution_count": null,
   "id": "34531055-5452-43bb-b81a-3e6e317f65c7",
   "metadata": {},
   "outputs": [],
   "source": [
    "# bonus: shuffling an array"
   ]
  },
  {
   "cell_type": "code",
   "execution_count": null,
   "id": "d74ca756-2252-419e-bebf-e84720cb7114",
   "metadata": {},
   "outputs": [],
   "source": [
    "abc = np.array([[1,2],[3,4],[5,6],[7,8],[0,9]])"
   ]
  },
  {
   "cell_type": "code",
   "execution_count": null,
   "id": "9441eaf5-0bd9-4e64-8c4e-1ddc4a27ce86",
   "metadata": {},
   "outputs": [],
   "source": [
    "abc"
   ]
  },
  {
   "cell_type": "code",
   "execution_count": null,
   "id": "f5cbf12c-a291-46fb-8200-5d342a5b57b6",
   "metadata": {},
   "outputs": [],
   "source": [
    "abc.shape"
   ]
  },
  {
   "cell_type": "code",
   "execution_count": null,
   "id": "8fb6d6a2-1951-434b-96ac-bf04ed64b350",
   "metadata": {},
   "outputs": [],
   "source": [
    "np.random.shuffle(abc)\n",
    "abc"
   ]
  },
  {
   "cell_type": "code",
   "execution_count": null,
   "id": "99878f9f-3af8-4d35-9ee7-28a103b184c6",
   "metadata": {},
   "outputs": [],
   "source": [
    "np.arange(10)"
   ]
  },
  {
   "cell_type": "code",
   "execution_count": null,
   "id": "4c9ffccb-abb4-4bca-b087-c8794ab24466",
   "metadata": {},
   "outputs": [],
   "source": []
  }
 ],
 "metadata": {
  "kernelspec": {
   "display_name": "tensorflow_env",
   "language": "python",
   "name": "tensorflow_env"
  },
  "language_info": {
   "codemirror_mode": {
    "name": "ipython",
    "version": 3
   },
   "file_extension": ".py",
   "mimetype": "text/x-python",
   "name": "python",
   "nbconvert_exporter": "python",
   "pygments_lexer": "ipython3",
   "version": "3.6.13"
  }
 },
 "nbformat": 4,
 "nbformat_minor": 5
}
